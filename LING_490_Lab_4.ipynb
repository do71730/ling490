{
  "cells": [
    {
      "cell_type": "markdown",
      "metadata": {
        "id": "view-in-github",
        "colab_type": "text"
      },
      "source": [
        "<a href=\"https://colab.research.google.com/github/do71730/ling490/blob/main/LING_490_Lab_4.ipynb\" target=\"_parent\"><img src=\"https://colab.research.google.com/assets/colab-badge.svg\" alt=\"Open In Colab\"/></a>"
      ]
    },
    {
      "cell_type": "markdown",
      "metadata": {
        "id": "todGXUBqUJuW"
      },
      "source": [
        "Welcome to Lab #4"
      ]
    },
    {
      "cell_type": "markdown",
      "metadata": {
        "id": "v2aLxR0XUJuY"
      },
      "source": [
        "Lab #4 follows the format of chapter 3 in the NLTK book"
      ]
    },
    {
      "cell_type": "code",
      "execution_count": null,
      "metadata": {
        "id": "S4gbVcHoUJuY"
      },
      "outputs": [],
      "source": [
        "    # NLTK Book Chapter 3 available here: https://www.nltk.org/book/ch03.html\n",
        "# You can follow along with the book and run the code that it shows from this file\n",
        "# You can then modify the code so you can search for the items of your choice\n",
        "# There is a lot of extra material here, but you need to do the 5 EXERCISES to\n",
        "# complete the lab.\n",
        "# The EXERCISES are found throughout the lab. They appear in context.\n",
        "# I will also upload a video walk-through for the EXERCISES to provide a model."
      ]
    },
    {
      "cell_type": "markdown",
      "metadata": {
        "id": "A8mY2bkqUJuZ"
      },
      "source": [
        "Chapter 3 - Processing Raw Text"
      ]
    },
    {
      "cell_type": "markdown",
      "metadata": {
        "id": "Wm2tno7GUJua"
      },
      "source": [
        "The most important source of texts is undoubtedly the Web. It's convenient to have existing text collections<br>\n",
        "to explore, such as the corpora we saw in the previous chapters. However, you probably have your own text sources<br>\n",
        "in mind, and need to learn how to access them."
      ]
    },
    {
      "cell_type": "markdown",
      "metadata": {
        "id": "v4KDIxT9UJua"
      },
      "source": [
        "The goal of this chapter is to answer the following questions:"
      ]
    },
    {
      "cell_type": "code",
      "execution_count": null,
      "metadata": {
        "id": "_utHz-OTUJua"
      },
      "outputs": [],
      "source": [
        "    # 1. How can we write programs to access text from local files and from the web, in order to get hold\n",
        "        # of an unlimited range of language material?\n",
        "    # 2. How can we split documents up into individual words and punctuation symbols, so we can carry out\n",
        "        # the same kinds of analysis we did with text corpora in earlier chapters?\n",
        "    # 3. How can we search for parts of words?"
      ]
    },
    {
      "cell_type": "markdown",
      "metadata": {
        "id": "cL3VsM-dUJua"
      },
      "source": [
        "In order to address these questions, we will be covering key concepts in NLP, including tokenization,<br>\n",
        "stemming, lemmatization, and POS tagging."
      ]
    },
    {
      "cell_type": "markdown",
      "metadata": {
        "id": "zsZ6C1sHUJub"
      },
      "source": [
        "Chapter Outline"
      ]
    },
    {
      "cell_type": "markdown",
      "metadata": {
        "id": "Lw00nUKtUJub"
      },
      "source": [
        "3.1 Accessing Text from the Web and from Disk"
      ]
    },
    {
      "cell_type": "code",
      "execution_count": null,
      "metadata": {
        "id": "_ABBMbKNUJub"
      },
      "outputs": [],
      "source": [
        "    # Electronic books\n",
        "    # Dealing with HTML\n",
        "    # Reading Local Files"
      ]
    },
    {
      "cell_type": "markdown",
      "metadata": {
        "id": "mErPugNhUJub"
      },
      "source": [
        "3.4 Regular Expressions for Detecting Word Patterns"
      ]
    },
    {
      "cell_type": "code",
      "execution_count": null,
      "metadata": {
        "id": "TsW1aJOrUJuc"
      },
      "outputs": [],
      "source": [
        "    # Using Basic Meta-Characters"
      ]
    },
    {
      "cell_type": "markdown",
      "metadata": {
        "id": "iy9mpcDNUJuc"
      },
      "source": [
        "3.6 Normalizing Text"
      ]
    },
    {
      "cell_type": "code",
      "execution_count": null,
      "metadata": {
        "id": "PGozxQc2UJuc"
      },
      "outputs": [],
      "source": [
        "    # Stemmers\n",
        "    # Lemmatization\n",
        "    # POS tagging"
      ]
    },
    {
      "cell_type": "markdown",
      "metadata": {
        "id": "yVKvzX1AUJuc"
      },
      "source": [
        "3.1 Accessing Text from the Web and from Disk"
      ]
    },
    {
      "cell_type": "markdown",
      "metadata": {
        "id": "zg81wfgEUJuc"
      },
      "source": [
        "Electronic Books"
      ]
    },
    {
      "cell_type": "code",
      "execution_count": 2,
      "metadata": {
        "id": "K_VkgLZKUJuc"
      },
      "outputs": [],
      "source": [
        "import nltk, re, pprint\n",
        "#nltk.download()\n",
        "from nltk import word_tokenize"
      ]
    },
    {
      "cell_type": "markdown",
      "metadata": {
        "id": "Ag971cvXUJud"
      },
      "source": [
        "EXERCISE #1<br>\n",
        "Access a text of your choice at \"Project Gutenberg\"<br>\n",
        "You need the number of the text to access it<br>\n",
        "Perform some analyses on it. Include in your analyses at least the following things:"
      ]
    },
    {
      "cell_type": "code",
      "execution_count": null,
      "metadata": {
        "id": "Su09tvG2UJue"
      },
      "outputs": [],
      "source": [
        "    # Pre-processing\n",
        "        # Make all words lowercase\n",
        "        # Tokenize the text into words\n",
        "        # Tokenize the text into sentences\n",
        "        # Use the WordNet lemmatizer or a word stemmer in NLTK to get the lemmas or stems of the words in the text\n",
        "        # Use a POS tagger to tag words for POS (Parts of speech)\n",
        "\n",
        "    # Fun functions\n",
        "        # Get a set of 20 collocations\n",
        "        # With and without stopwords\n",
        "        # Get the frequency distribution of the 50 most frequent words in the text.\n",
        "        # Plot the distribution.\n",
        "        # Get the frequency distribution of the 50 most frequent lemmas or stems in the text.\n",
        "        # Get the lexical diversity of the text\n",
        "        # Get the lexical dispersion of a selection of words and plot the results."
      ]
    },
    {
      "cell_type": "markdown",
      "metadata": {
        "id": "bCbRJsR4UJue"
      },
      "source": [
        "The code below can be changed to help with your search"
      ]
    },
    {
      "cell_type": "code",
      "execution_count": 4,
      "metadata": {
        "colab": {
          "base_uri": "https://localhost:8080/"
        },
        "id": "Pnft9ykRUJue",
        "outputId": "c4ff2337-2994-4c92-e688-19c017d1d761"
      },
      "outputs": [
        {
          "output_type": "stream",
          "name": "stdout",
          "text": [
            "<class 'str'>\n",
            "276392\n",
            "﻿The Project Gutenberg eBook of The Cat, by Violet Hunt\r\n",
            "\r\n",
            "\n"
          ]
        }
      ],
      "source": [
        "from urllib import request\n",
        "url = \"https://www.gutenberg.org/cache/epub/67785/pg67785.txt\"\n",
        "response = request.urlopen(url)\n",
        "raw = response.read().decode('utf8')\n",
        "print(type(raw))\n",
        "print(len(raw))\n",
        "print(raw[:59])"
      ]
    },
    {
      "cell_type": "markdown",
      "metadata": {
        "id": "5oo1NmI5UJue"
      },
      "source": [
        "You will need NLTK and the word_tokenize and sent_tokenize functions from NLTK"
      ]
    },
    {
      "cell_type": "code",
      "execution_count": 5,
      "metadata": {
        "id": "Iwv_8MC_UJuf"
      },
      "outputs": [],
      "source": [
        "import nltk\n",
        "from nltk.tokenize import sent_tokenize, word_tokenize"
      ]
    },
    {
      "cell_type": "markdown",
      "metadata": {
        "id": "-rJGhY65UJuf"
      },
      "source": [
        "Pre-processing"
      ]
    },
    {
      "cell_type": "markdown",
      "metadata": {
        "id": "pof1Rn0LUJuf"
      },
      "source": [
        "Make all words lowercase"
      ]
    },
    {
      "cell_type": "code",
      "execution_count": 7,
      "metadata": {
        "colab": {
          "base_uri": "https://localhost:8080/"
        },
        "id": "6r_9Cx3qUJuf",
        "outputId": "4c734fef-15a5-47fe-c650-b3d138c2747a"
      },
      "outputs": [
        {
          "output_type": "stream",
          "name": "stdout",
          "text": [
            "﻿the project gutenberg ebook of the cat, by violet hunt\r\n",
            "\r\n",
            "\n",
            "276392\n"
          ]
        }
      ],
      "source": [
        "raw_lower = raw.lower()\n",
        "print(raw_lower[:59])\n",
        "print(len(raw))"
      ]
    },
    {
      "cell_type": "markdown",
      "metadata": {
        "id": "72xsWofbUJuf"
      },
      "source": [
        "Tokenize the lowercase text into words"
      ]
    },
    {
      "cell_type": "code",
      "execution_count": 10,
      "metadata": {
        "colab": {
          "base_uri": "https://localhost:8080/"
        },
        "id": "DjibNbxDUJuf",
        "outputId": "fce5d6a0-e8c9-47c2-c4a6-354bb442068c"
      },
      "outputs": [
        {
          "output_type": "stream",
          "name": "stdout",
          "text": [
            "[nltk_data] Downloading package punkt to /root/nltk_data...\n",
            "[nltk_data]   Unzipping tokenizers/punkt.zip.\n",
            "60052\n",
            "['\\ufeffthe', 'project', 'gutenberg', 'ebook', 'of', 'the', 'cat', ',', 'by', 'violet', 'hunt', 'this', 'ebook', 'is', 'for', 'the', 'use', 'of', 'anyone', 'anywhere']\n"
          ]
        }
      ],
      "source": [
        "nltk.download('punkt')\n",
        "words = word_tokenize(raw_lower)\n",
        "print(len(words))\n",
        "print(words[:20])"
      ]
    },
    {
      "cell_type": "markdown",
      "metadata": {
        "id": "hU8ahZxNUJuf"
      },
      "source": [
        "Tokenize the lowercase text into sentences"
      ]
    },
    {
      "cell_type": "code",
      "execution_count": 11,
      "metadata": {
        "colab": {
          "base_uri": "https://localhost:8080/"
        },
        "id": "BYO8HDkYUJug",
        "outputId": "f8dd728d-faaf-4d68-a9cb-1983c7c50446"
      },
      "outputs": [
        {
          "output_type": "stream",
          "name": "stdout",
          "text": [
            "['\\ufeffthe project gutenberg ebook of the cat, by violet hunt\\r\\n\\r\\nthis ebook is for the use of anyone anywhere in the united states and\\r\\nmost other parts of the world at no cost and with almost no restrictions\\r\\nwhatsoever.', 'you may copy it, give it away or re-use it under the terms\\r\\nof the project gutenberg license included with this ebook or online at\\r\\nwww.gutenberg.org.', 'if you are not located in the united states, you\\r\\nwill have to check the laws of the country where you are located before\\r\\nusing this ebook.', 'title: the cat\\r\\n       animal autobiographies\\r\\n\\r\\nauthor: violet hunt\\r\\n\\r\\nrelease date: april 6, 2022 [ebook #67785]\\r\\n\\r\\nlanguage: english\\r\\n\\r\\nproduced by: charlene taylor, mary meehan and the online distributed\\r\\n             proofreading team at https://www.pgdp.net (this file was\\r\\n             produced from images generously made available by the\\r\\n             internet archive/american libraries.)', \"*** start of the project gutenberg ebook the cat ***\\r\\n\\r\\n\\r\\n\\r\\n\\r\\n\\r\\n                        animal autobiographies\\r\\n\\r\\n                                the cat\\r\\n\\r\\n                            by violet hunt\\r\\n\\r\\n\\r\\n                                london\\r\\n                         adam & charles black\\r\\n                                 1905\\r\\n\\r\\n\\r\\n               'i had rather be a kitten and cry--mew!'\", 'shakespeare.', 'agents in america\\r\\n                         the macmillan company\\r\\n                    64 & 66 fifth avenue, new york\\r\\n\\r\\n                      _uniform with this volume._\\r\\n                           _price 6s.', 'each._\\r\\n\\r\\n                               the dog.', 'by g. e. mitton.', 'the black bear.']\n",
            "2955\n"
          ]
        }
      ],
      "source": [
        "sentences = sent_tokenize(raw_lower)\n",
        "print(sentences[:10])\n",
        "print(len(sentences))"
      ]
    },
    {
      "cell_type": "markdown",
      "metadata": {
        "id": "TgTLiL9BUJug"
      },
      "source": [
        "Use the WordNet Lemmatizer or a word stemmer in NLTK to get the lemmas or stems of the words in the text<br>\n",
        "Let's use the WordNet Lemmatizer first, then we can compare it to the Porter Stemmer and the Lancaster Stemmer<br>\n",
        "to see which works best for our objectives"
      ]
    },
    {
      "cell_type": "markdown",
      "metadata": {
        "id": "WsyRKl6qUJug"
      },
      "source": [
        "WordNet Lemmatizer"
      ]
    },
    {
      "cell_type": "code",
      "execution_count": 12,
      "metadata": {
        "colab": {
          "base_uri": "https://localhost:8080/"
        },
        "id": "gmkk2ATqUJug",
        "outputId": "06379b1a-d158-4940-baac-bb49da70de3f"
      },
      "outputs": [
        {
          "output_type": "stream",
          "name": "stdout",
          "text": [
            "[nltk_data] Downloading package wordnet to /root/nltk_data...\n",
            "[nltk_data]   Unzipping corpora/wordnet.zip.\n",
            "['\\ufeffthe', 'project', 'gutenberg', 'ebook', 'of', 'the', 'cat', ',', 'by', 'violet', 'hunt', 'this', 'ebook', 'is', 'for', 'the', 'use', 'of', 'anyone', 'anywhere', 'in', 'the', 'united', 'state', 'and', 'most', 'other', 'part', 'of', 'the', 'world', 'at', 'no', 'cost', 'and', 'with', 'almost', 'no', 'restriction', 'whatsoever', '.', 'you', 'may', 'copy', 'it', ',', 'give', 'it', 'away', 'or']\n"
          ]
        }
      ],
      "source": [
        "nltk.download('wordnet')\n",
        "word_net_lemmatizer = nltk.WordNetLemmatizer()\n",
        "words_lemmas_WordNet = [word_net_lemmatizer.lemmatize(t) for t in words]\n",
        "print(words_lemmas_WordNet[:50])"
      ]
    },
    {
      "cell_type": "markdown",
      "metadata": {
        "id": "HLCsetm2UJug"
      },
      "source": [
        "Now let's try to lemmatize the words with the PorterStemmer and compare the first 50 lemmas to those of<br>\n",
        "the WordNet Lemmatizer"
      ]
    },
    {
      "cell_type": "code",
      "execution_count": 13,
      "metadata": {
        "colab": {
          "base_uri": "https://localhost:8080/"
        },
        "id": "zt8CGlJJUJug",
        "outputId": "10f14517-8bb9-4a79-b63e-2fade65cab53"
      },
      "outputs": [
        {
          "output_type": "stream",
          "name": "stdout",
          "text": [
            "['\\ufeffthe', 'project', 'gutenberg', 'ebook', 'of', 'the', 'cat', ',', 'by', 'violet', 'hunt', 'thi', 'ebook', 'is', 'for', 'the', 'use', 'of', 'anyon', 'anywher', 'in', 'the', 'unit', 'state', 'and', 'most', 'other', 'part', 'of', 'the', 'world', 'at', 'no', 'cost', 'and', 'with', 'almost', 'no', 'restrict', 'whatsoev', '.', 'you', 'may', 'copi', 'it', ',', 'give', 'it', 'away', 'or']\n"
          ]
        }
      ],
      "source": [
        "porter_stemmer = nltk.PorterStemmer()\n",
        "words_lemmas_porter = [porter_stemmer.stem(t) for t in words]\n",
        "print(words_lemmas_porter[:50])"
      ]
    },
    {
      "cell_type": "markdown",
      "metadata": {
        "id": "MDtHekn9UJuh"
      },
      "source": [
        "And now with the LancasterStemmer"
      ]
    },
    {
      "cell_type": "code",
      "execution_count": 14,
      "metadata": {
        "colab": {
          "base_uri": "https://localhost:8080/"
        },
        "id": "6nyiSSyeUJuh",
        "outputId": "ff0a1dd2-305b-43b6-e95e-50e5083f599f"
      },
      "outputs": [
        {
          "output_type": "stream",
          "name": "stdout",
          "text": [
            "['\\ufeffthe', 'project', 'gutenberg', 'ebook', 'of', 'the', 'cat', ',', 'by', 'violet', 'hunt', 'thi', 'ebook', 'is', 'for', 'the', 'us', 'of', 'anyon', 'anywh', 'in', 'the', 'unit', 'stat', 'and', 'most', 'oth', 'part', 'of', 'the', 'world', 'at', 'no', 'cost', 'and', 'with', 'almost', 'no', 'restrict', 'whatsoev', '.', 'you', 'may', 'cop', 'it', ',', 'giv', 'it', 'away', 'or']\n"
          ]
        }
      ],
      "source": [
        "lancaster_stemmer = nltk.LancasterStemmer()\n",
        "words_lemmas_lancaster = [lancaster_stemmer.stem(t) for t in words]\n",
        "print(words_lemmas_lancaster[:50])"
      ]
    },
    {
      "cell_type": "markdown",
      "metadata": {
        "id": "K7i1dT5zUJuh"
      },
      "source": [
        "POS Taggers in NLTK"
      ]
    },
    {
      "cell_type": "code",
      "execution_count": 15,
      "metadata": {
        "colab": {
          "base_uri": "https://localhost:8080/"
        },
        "id": "RZk2ptPKUJuh",
        "outputId": "4492c71e-a0e0-4e69-ffa5-1d3f487dd1e0"
      },
      "outputs": [
        {
          "output_type": "stream",
          "name": "stdout",
          "text": [
            "[nltk_data] Downloading package averaged_perceptron_tagger to\n",
            "[nltk_data]     /root/nltk_data...\n",
            "[nltk_data]   Package averaged_perceptron_tagger is already up-to-\n",
            "[nltk_data]       date!\n",
            "[('\\ufeffthe', 'NN'), ('project', 'NN'), ('gutenberg', 'JJ'), ('ebook', 'NN'), ('of', 'IN'), ('the', 'DT'), ('cat', 'NN'), (',', ','), ('by', 'IN'), ('violet', 'NN'), ('hunt', 'NN'), ('this', 'DT'), ('ebook', 'NN'), ('is', 'VBZ'), ('for', 'IN'), ('the', 'DT'), ('use', 'NN'), ('of', 'IN'), ('anyone', 'NN'), ('anywhere', 'RB'), ('in', 'IN'), ('the', 'DT'), ('united', 'JJ'), ('states', 'NNS'), ('and', 'CC'), ('most', 'JJS'), ('other', 'JJ'), ('parts', 'NNS'), ('of', 'IN'), ('the', 'DT'), ('world', 'NN'), ('at', 'IN'), ('no', 'DT'), ('cost', 'NN'), ('and', 'CC'), ('with', 'IN'), ('almost', 'RB'), ('no', 'DT'), ('restrictions', 'NNS'), ('whatsoever', 'RB'), ('.', '.'), ('you', 'PRP'), ('may', 'MD'), ('copy', 'VB'), ('it', 'PRP'), (',', ','), ('give', 'VB'), ('it', 'PRP'), ('away', 'RB'), ('or', 'CC')]\n"
          ]
        }
      ],
      "source": [
        "nltk.download('averaged_perceptron_tagger')\n",
        "words_POS = nltk.pos_tag(words)\n",
        "print(words_POS[:50])"
      ]
    },
    {
      "cell_type": "markdown",
      "metadata": {
        "id": "J0-p03jQUJuh"
      },
      "source": [
        "Fun functions<br>\n",
        "Get a set of 20 collocations<br>\n",
        "With and without stopwords"
      ]
    },
    {
      "cell_type": "markdown",
      "metadata": {
        "id": "3IoQDZUbUJuh"
      },
      "source": [
        "Step 1<br>\n",
        "Import the collocation functions from nltk. The * means that we want everything in the 'collocations' functions"
      ]
    },
    {
      "cell_type": "code",
      "execution_count": 16,
      "metadata": {
        "id": "U98GmstyUJuh"
      },
      "outputs": [],
      "source": [
        "from nltk.collocations import *"
      ]
    },
    {
      "cell_type": "markdown",
      "metadata": {
        "id": "nl4_J19AUJuh"
      },
      "source": [
        "Import tools from NLTK to find bigrams and association measures between words"
      ]
    },
    {
      "cell_type": "code",
      "execution_count": 17,
      "metadata": {
        "id": "DBGNUCqcUJui"
      },
      "outputs": [],
      "source": [
        "from nltk.collocations import BigramCollocationFinder\n",
        "from nltk.metrics import BigramAssocMeasures"
      ]
    },
    {
      "cell_type": "markdown",
      "metadata": {
        "id": "P2vZA6IHUJui"
      },
      "source": [
        "Step 2<br>\n",
        "Find collocations in the text of your choice<br>\n",
        "Find bigrams, which are pairs of words, and ask for 20 collocations"
      ]
    },
    {
      "cell_type": "code",
      "execution_count": 18,
      "metadata": {
        "colab": {
          "base_uri": "https://localhost:8080/"
        },
        "id": "lkvDoPQYUJui",
        "outputId": "3d3ff4b3-2824-45de-9231-803d38bbd413"
      },
      "outputs": [
        {
          "output_type": "execute_result",
          "data": {
            "text/plain": [
              "[('auntie', 'may'),\n",
              " (',', 'and'),\n",
              " ('!', \"'\"),\n",
              " (',', 'but'),\n",
              " ('mr.', 'fox'),\n",
              " ('project', 'gutenberg-tm'),\n",
              " ('?', \"'\"),\n",
              " (\"'\", 'said'),\n",
              " ('do', \"n't\"),\n",
              " ('.', 'i'),\n",
              " ('in', 'the'),\n",
              " ('it', 'was'),\n",
              " ('did', \"n't\"),\n",
              " ('mrs.', 'gilmour'),\n",
              " ('of', 'the'),\n",
              " ('project', 'gutenberg'),\n",
              " ('i', 'am'),\n",
              " ('used', 'to'),\n",
              " ('.', \"'\"),\n",
              " ('had', 'been')]"
            ]
          },
          "metadata": {},
          "execution_count": 18
        }
      ],
      "source": [
        "finder = BigramCollocationFinder.from_words(words)\n",
        "finder.nbest(BigramAssocMeasures.likelihood_ratio, 20)"
      ]
    },
    {
      "cell_type": "code",
      "execution_count": 19,
      "metadata": {
        "colab": {
          "base_uri": "https://localhost:8080/"
        },
        "id": "WEOZkW3iUJui",
        "outputId": "6ee0b5b5-df86-4733-f8af-cc90c8510be8"
      },
      "outputs": [
        {
          "output_type": "stream",
          "name": "stdout",
          "text": [
            "[('auntie', 'may'), (',', 'and'), ('!', \"'\"), (',', 'but'), ('mr.', 'fox'), ('project', 'gutenberg-tm'), ('?', \"'\"), (\"'\", 'said'), ('do', \"n't\"), ('.', 'i'), ('in', 'the'), ('it', 'was'), ('did', \"n't\"), ('mrs.', 'gilmour'), ('of', 'the'), ('project', 'gutenberg'), ('i', 'am'), ('used', 'to'), ('.', \"'\"), ('had', 'been')]\n"
          ]
        }
      ],
      "source": [
        "print(finder.nbest(BigramAssocMeasures.likelihood_ratio, 20))"
      ]
    },
    {
      "cell_type": "markdown",
      "metadata": {
        "id": "LwS0AgXjUJui"
      },
      "source": [
        "Step 3<br>\n",
        "Let's eliminate the stopwords<br>\n",
        "The output looks much better and the collocations seem much more likely"
      ]
    },
    {
      "cell_type": "code",
      "execution_count": 20,
      "metadata": {
        "id": "sLN0gkh9UJui"
      },
      "outputs": [],
      "source": [
        "from nltk.corpus import stopwords"
      ]
    },
    {
      "cell_type": "code",
      "execution_count": 22,
      "metadata": {
        "colab": {
          "base_uri": "https://localhost:8080/"
        },
        "id": "1q3DqVlBUJui",
        "outputId": "6dde2cd8-2462-4983-8173-a049f396d635"
      },
      "outputs": [
        {
          "output_type": "stream",
          "name": "stdout",
          "text": [
            "[nltk_data] Downloading package stopwords to /root/nltk_data...\n",
            "[nltk_data]   Unzipping corpora/stopwords.zip.\n"
          ]
        },
        {
          "output_type": "execute_result",
          "data": {
            "text/plain": [
              "[('auntie', 'may'),\n",
              " ('mr.', 'fox'),\n",
              " ('project', 'gutenberg-tm'),\n",
              " ('mrs.', 'gilmour'),\n",
              " ('project', 'gutenberg'),\n",
              " ('united', 'states'),\n",
              " ('literary', 'archive'),\n",
              " ('gutenberg-tm', 'electronic'),\n",
              " ('electronic', 'works'),\n",
              " ('archive', 'foundation'),\n",
              " ('gutenberg', 'literary'),\n",
              " ('black', 'cat'),\n",
              " ('mr.', 'graham'),\n",
              " ('mrs.', 'jay'),\n",
              " ('admiral', 'togo'),\n",
              " ('hind', 'legs'),\n",
              " ('set', 'forth'),\n",
              " ('sure', 'enough'),\n",
              " ('said', 'auntie'),\n",
              " ('egerton', 'gardens')]"
            ]
          },
          "metadata": {},
          "execution_count": 22
        }
      ],
      "source": [
        "nltk.download('stopwords')\n",
        "stopset = set(stopwords.words('english'))\n",
        "filter_stops = lambda w: len(w) < 3 or w in stopset\n",
        "finder.apply_word_filter(filter_stops)\n",
        "finder.nbest(BigramAssocMeasures.likelihood_ratio, 20)"
      ]
    },
    {
      "cell_type": "code",
      "execution_count": 23,
      "metadata": {
        "colab": {
          "base_uri": "https://localhost:8080/"
        },
        "id": "SPz4QLIoUJuj",
        "outputId": "3c322f86-c623-4d6d-ff3d-1aecdc61aaea"
      },
      "outputs": [
        {
          "output_type": "stream",
          "name": "stdout",
          "text": [
            "[('auntie', 'may'), ('mr.', 'fox'), ('project', 'gutenberg-tm'), ('mrs.', 'gilmour'), ('project', 'gutenberg'), ('united', 'states'), ('literary', 'archive'), ('gutenberg-tm', 'electronic'), ('electronic', 'works'), ('archive', 'foundation'), ('gutenberg', 'literary'), ('black', 'cat'), ('mr.', 'graham'), ('mrs.', 'jay'), ('admiral', 'togo'), ('hind', 'legs'), ('set', 'forth'), ('sure', 'enough'), ('said', 'auntie'), ('egerton', 'gardens')]\n"
          ]
        }
      ],
      "source": [
        "print(finder.nbest(BigramAssocMeasures.likelihood_ratio, 20))"
      ]
    },
    {
      "cell_type": "markdown",
      "metadata": {
        "id": "2LHwD56RUJuj"
      },
      "source": [
        "Get the frequency distribution of the 50 most frequent words in the text."
      ]
    },
    {
      "cell_type": "code",
      "execution_count": 24,
      "metadata": {
        "colab": {
          "base_uri": "https://localhost:8080/"
        },
        "id": "I5h_erPJUJuj",
        "outputId": "fcca35b4-af03-4179-aa3c-a51af4c4cc75"
      },
      "outputs": [
        {
          "output_type": "stream",
          "name": "stdout",
          "text": [
            "[(',', 3797), ('.', 2339), ('and', 1922), ('the', 1889), ('to', 1488), ('i', 1243), ('a', 1083), ('of', 1035), ('she', 852), ('was', 806), ('it', 797), (\"'\", 782), ('in', 713), ('that', 683), ('her', 641), ('you', 549), ('he', 468), ('had', 436), ('for', 432), ('!', 416), ('may', 412), ('said', 406), ('me', 390), ('is', 378), ('not', 366), (\"n't\", 366), ('auntie', 360), ('with', 359), ('as', 357), ('but', 341), ('on', 335), ('all', 313), ('they', 304), ('at', 287), ('--', 275), ('have', 268), ('we', 265), ('do', 265), ('my', 263), ('so', 255), (\"'s\", 241), ('out', 239), ('him', 231), ('up', 229), ('or', 223), ('when', 223), ('?', 223), ('be', 218), ('mother', 214), ('if', 202)]\n"
          ]
        }
      ],
      "source": [
        "fdist1 = nltk.FreqDist(words)\n",
        "#print(fdist1)\n",
        "print(fdist1.most_common(50))"
      ]
    },
    {
      "cell_type": "markdown",
      "metadata": {
        "id": "p8R6n3XvUJuj"
      },
      "source": [
        "Plot the distribution."
      ]
    },
    {
      "cell_type": "code",
      "execution_count": 25,
      "metadata": {
        "colab": {
          "base_uri": "https://localhost:8080/",
          "height": 322
        },
        "id": "xrYjaPjzUJuj",
        "outputId": "d815d439-8bc4-476d-e23c-b5031904f506"
      },
      "outputs": [
        {
          "output_type": "display_data",
          "data": {
            "text/plain": [
              "<Figure size 432x288 with 1 Axes>"
            ],
            "image/png": "[encoded data removed]"
          },
          "metadata": {
            "needs_background": "light"
          }
        },
        {
          "output_type": "stream",
          "name": "stdout",
          "text": [
            "None\n"
          ]
        }
      ],
      "source": [
        "print(fdist1.plot(50, cumulative=True))"
      ]
    },
    {
      "cell_type": "markdown",
      "metadata": {
        "id": "zPBSxtWnUJuj"
      },
      "source": [
        "Get the frequency distribution of the 50 most frequent lemmas or stems in the text."
      ]
    },
    {
      "cell_type": "code",
      "execution_count": 26,
      "metadata": {
        "colab": {
          "base_uri": "https://localhost:8080/"
        },
        "id": "zW1TXmmxUJuk",
        "outputId": "ff041acd-05de-4355-f7b9-1375622b15bf"
      },
      "outputs": [
        {
          "output_type": "stream",
          "name": "stdout",
          "text": [
            "[(',', 3797), ('.', 2339), ('and', 1922), ('the', 1889), ('to', 1488), ('a', 1440), ('i', 1243), ('of', 1035), ('she', 852), ('it', 825), ('wa', 806), (\"'\", 782), ('in', 713), ('that', 683), ('her', 641), ('you', 549), ('he', 468), ('had', 436), ('for', 432), ('!', 416), ('may', 412), ('said', 406), ('me', 390), ('is', 378), ('not', 366), (\"n't\", 366), ('auntie', 360), ('with', 359), ('but', 341), ('on', 335), ('all', 313), ('they', 304), ('at', 287), ('--', 275), ('have', 268), ('we', 265), ('do', 265), ('my', 263), ('so', 255), ('cat', 250), (\"'s\", 241), ('out', 239), ('him', 231), ('up', 229), ('or', 223), ('when', 223), ('?', 223), ('be', 218), ('mother', 216), ('if', 202)]\n"
          ]
        }
      ],
      "source": [
        "fdist2 = nltk.FreqDist(words_lemmas_WordNet)\n",
        "#print(fdist2)\n",
        "print(fdist2.most_common(50))"
      ]
    },
    {
      "cell_type": "markdown",
      "metadata": {
        "id": "wW8TElFYUJuk"
      },
      "source": [
        "Plot the distribution."
      ]
    },
    {
      "cell_type": "code",
      "execution_count": 27,
      "metadata": {
        "colab": {
          "base_uri": "https://localhost:8080/",
          "height": 322
        },
        "id": "K52ATihlUJuk",
        "outputId": "0aad737d-241e-4c60-fbfc-6fb35a62602e"
      },
      "outputs": [
        {
          "output_type": "display_data",
          "data": {
            "text/plain": [
              "<Figure size 432x288 with 1 Axes>"
            ],
            "image/png": "[encoded data removed]"
          },
          "metadata": {
            "needs_background": "light"
          }
        },
        {
          "output_type": "stream",
          "name": "stdout",
          "text": [
            "None\n"
          ]
        }
      ],
      "source": [
        "print(fdist2.plot(50, cumulative=True))"
      ]
    },
    {
      "cell_type": "markdown",
      "metadata": {
        "id": "Cj4QqsobUJuk"
      },
      "source": [
        "Get the lexical diversity of the text"
      ]
    },
    {
      "cell_type": "code",
      "execution_count": 28,
      "metadata": {
        "id": "zqLK5DTVUJuk"
      },
      "outputs": [],
      "source": [
        "def lexical_diversity(text):\n",
        "    return len(text) / len(set(text))"
      ]
    },
    {
      "cell_type": "markdown",
      "metadata": {
        "id": "igQ4FjYpUJuk"
      },
      "source": [
        "Try your function out on \"words\""
      ]
    },
    {
      "cell_type": "code",
      "execution_count": 29,
      "metadata": {
        "colab": {
          "base_uri": "https://localhost:8080/"
        },
        "id": "GD9ZU-WvUJuk",
        "outputId": "23239547-9c02-40df-f2b3-f26927e1f96b"
      },
      "outputs": [
        {
          "output_type": "stream",
          "name": "stdout",
          "text": [
            "11.451563691838292\n"
          ]
        }
      ],
      "source": [
        "print(lexical_diversity(words))"
      ]
    },
    {
      "cell_type": "markdown",
      "metadata": {
        "id": "1_9oZzxYUJul"
      },
      "source": [
        "Get the lexical dispersion of a selection of words and plot the results.<br>\n",
        "Create an NLTK text from the list of words<br>\n",
        "This allows us to perform all the functions we saw in Chapter 1 and Lab #2"
      ]
    },
    {
      "cell_type": "code",
      "execution_count": 30,
      "metadata": {
        "colab": {
          "base_uri": "https://localhost:8080/",
          "height": 312
        },
        "id": "JScsGBR6UJul",
        "outputId": "c65692f9-c301-4e7b-cf90-972931548968"
      },
      "outputs": [
        {
          "output_type": "display_data",
          "data": {
            "text/plain": [
              "<Figure size 432x288 with 1 Axes>"
            ],
            "image/png": "[encoded data removed]"
          },
          "metadata": {
            "needs_background": "light"
          }
        },
        {
          "output_type": "stream",
          "name": "stdout",
          "text": [
            "None\n"
          ]
        }
      ],
      "source": [
        "words = nltk.Text(words)\n",
        "print(words.dispersion_plot([\"money\", \"kill\", \"poverty\", \"guilt\", \"freedom\"]))"
      ]
    },
    {
      "cell_type": "markdown",
      "metadata": {
        "id": "_6qKAufCUJul"
      },
      "source": [
        "Dealing with HTML<br>\n",
        "We need to know about this if we get text from websites"
      ]
    },
    {
      "cell_type": "markdown",
      "metadata": {
        "id": "P0-XswyqUJum"
      },
      "source": [
        "EXERCISE #2<br>\n",
        "Access a website of your choice and try to extract the text from it"
      ]
    },
    {
      "cell_type": "code",
      "execution_count": 35,
      "metadata": {
        "id": "X0sBG2nMUJum"
      },
      "outputs": [],
      "source": [
        "    # Do this manually first by finding a website to go to in your browser. Sometimes it helps to see\n",
        "    # the source of the text you are looking for\n",
        "    # The code below can be changed to help with your search\n",
        "# Access the webpage and get the content\n",
        "from bs4 import BeautifulSoup\n",
        "from urllib import request\n",
        "url = \"http://www.balloon-party.it/it/873-palloncini-12-30cm\"\n",
        "response = request.urlopen(url).read().decode('utf8')\n",
        "raw = BeautifulSoup(response, 'html.parser')\n"
      ]
    },
    {
      "cell_type": "markdown",
      "metadata": {
        "id": "C5x871BoUJum"
      },
      "source": [
        "Use BeautifulSoup to extract text from html"
      ]
    },
    {
      "cell_type": "code",
      "execution_count": 36,
      "metadata": {
        "id": "JYIIxlFjUJum"
      },
      "outputs": [],
      "source": [
        "name = []\n",
        "price = []\n",
        "for i in raw.find_all('h2',class_ = \"h3 product-title\"):\n",
        "  m = i.getText()\n",
        "  name.append(m)\n",
        "\n",
        "for p in raw.find_all('span',class_=\"price\"):\n",
        "  n = p.getText().replace('\\xa0','')\n",
        "  price.append(n)\n",
        "\n"
      ]
    },
    {
      "cell_type": "code",
      "source": [
        "import pandas as pd\n",
        "df = pd.DataFrame(list(zip(name, price)),columns =['Name', 'Price'])\n",
        "df"
      ],
      "metadata": {
        "colab": {
          "base_uri": "https://localhost:8080/",
          "height": 1000
        },
        "id": "T7AGz4CTfGEu",
        "outputId": "88c84a34-6089-4ac1-d488-12e6e314ce18"
      },
      "execution_count": 38,
      "outputs": [
        {
          "output_type": "execute_result",
          "data": {
            "text/plain": [
              "                                                 Name   Price\n",
              "0   Palloncino 11\" Colori Pastello \"Balloons Paste...   8,37€\n",
              "1   Palloncino 12\" G110 Macaron Assortito \"Assorte...   8,10€\n",
              "2      Palloncino 12\" G110 Assortito \"Naturals\" 100pz   8,10€\n",
              "3     Palloncino 12\" G110 Neon Assortito \"Neon\" 100pz   8,18€\n",
              "4   Palloncino 12\" G110 Crystal Assortito \"Crystal...   8,18€\n",
              "5   Palloncino 11\" Bianco Pastello \"Balloons White...   8,37€\n",
              "6        Palloncino 12\" G110 Bianco \"White 001\" 100pz   8,10€\n",
              "7          Palloncino 12\" G110 Latte \"Milk 084\" 100pz   8,10€\n",
              "8   Palloncino 12\" G110 Giallo Mostarda \"Yellow 04...   8,10€\n",
              "9       Palloncino 12\" G110 Giallo \"Yellow 002\" 100pz   8,10€\n",
              "10  Palloncino 12\" G110 Giallo Mais \"Yellow 003\" 1...   8,10€\n",
              "11   Palloncino 11\" Arancione \"Balloons Orange\" 100pz   8,37€\n",
              "12   Palloncino 12\" G110 Arancione \"Orange 004\" 100pz   8,10€\n",
              "13        Palloncino 12\" G110 Pesca \"Peach 060\" 100pz   8,10€\n",
              "14    Palloncino 12\" G110 Corallo \"Corallo 078\" 100pz   8,10€\n",
              "15  Palloncino 12\" Rosso Papavero \"Balloons Poppy ...  10,93€\n",
              "16          Palloncino 12\" G110 Rosso \"Red 045\" 100pz   8,10€\n",
              "17       Palloncino 12\" G110 Cipria \"Blush 069\" 100pz   8,10€\n",
              "18  Palloncino 12\" G110 Rosa Brumoso \"Misty Rose 0...   8,10€\n",
              "19  Palloncino 12\" G110 Rosa Baby \"Baby Pink 073\" ...   8,10€\n",
              "20   Palloncino 12\" G110 Rosa Chiaro \"Pink 057\" 100pz   8,10€\n",
              "21         Palloncino 12\" G110 Rosa  \"Rose 006\" 100pz   8,10€\n",
              "22     Palloncino 12\" G110 Fucsia \"Fuchsia 007\" 100pz   8,10€\n",
              "23        Palloncino 12\" G110 Lilla \"Lilac 079\" 100pz   8,10€\n",
              "24  Palloncino 11\" Lilla Pastello \"Balloons Light ...   8,37€\n",
              "25   Palloncino 12\" G110 Lavanda \"Lavender 049\" 100pz   8,10€\n",
              "26  Palloncino 12\" G110 Pervinca \"Periwinkle 075\" ...   8,10€\n",
              "27           Palloncino 12\" G110 Blu \"Blue 046\" 100pz   8,10€\n",
              "28       Palloncino 12\" G110 Azzurro \"Blue 010\" 100pz   8,10€\n",
              "29  Palloncino 12\" G110 Azzurro Baby \"Baby Blue 07...   8,10€\n",
              "30  Palloncino 12\" G110 Celeste \"Light Blue 009\" 1...   8,10€\n",
              "31  Palloncino 12\" G110 Turchese \"Turquoise 068\" 1...   8,10€\n",
              "32  Palloncino 12\" G110 Acquamarina \"Aquamarine 05...   8,10€\n",
              "33  Palloncino 12\" G110 Verde Menta \"Mint Green 07...   8,10€\n",
              "34  Palloncino 12\" G110 Verde Lime \"Light Green 01...   8,10€\n",
              "35        Palloncino 12\" G110 Verde \"Green 012\" 100pz   8,10€\n",
              "36  Palloncino 12\" G110 Verde Scuro \"Dark Green 01...   8,10€\n",
              "37  Palloncino 12\" G110 Verde Oliva \"Green Olive 0...   8,10€\n",
              "38   Palloncino 12\" G110 Cappuccino \"Mocha 0762 100pz   8,10€\n",
              "39    Palloncino 12\" G110 Chocolate \"Brown 048\" 100pz   8,10€\n",
              "40        Palloncino 12\" G110 Grigio \"Grey 070\" 100pz   8,10€\n",
              "41         Palloncino 12\" G110 Nero \"Black 014\" 100pz   8,10€"
            ],
            "text/html": [
              "\n",
              "  <div id=\"df-5bc9b178-81fc-4ab0-93ba-1fddd41fcf9d\">\n",
              "    <div class=\"colab-df-container\">\n",
              "      <div>\n",
              "<style scoped>\n",
              "    .dataframe tbody tr th:only-of-type {\n",
              "        vertical-align: middle;\n",
              "    }\n",
              "\n",
              "    .dataframe tbody tr th {\n",
              "        vertical-align: top;\n",
              "    }\n",
              "\n",
              "    .dataframe thead th {\n",
              "        text-align: right;\n",
              "    }\n",
              "</style>\n",
              "<table border=\"1\" class=\"dataframe\">\n",
              "  <thead>\n",
              "    <tr style=\"text-align: right;\">\n",
              "      <th></th>\n",
              "      <th>Name</th>\n",
              "      <th>Price</th>\n",
              "    </tr>\n",
              "  </thead>\n",
              "  <tbody>\n",
              "    <tr>\n",
              "      <th>0</th>\n",
              "      <td>Palloncino 11\" Colori Pastello \"Balloons Paste...</td>\n",
              "      <td>8,37€</td>\n",
              "    </tr>\n",
              "    <tr>\n",
              "      <th>1</th>\n",
              "      <td>Palloncino 12\" G110 Macaron Assortito \"Assorte...</td>\n",
              "      <td>8,10€</td>\n",
              "    </tr>\n",
              "    <tr>\n",
              "      <th>2</th>\n",
              "      <td>Palloncino 12\" G110 Assortito \"Naturals\" 100pz</td>\n",
              "      <td>8,10€</td>\n",
              "    </tr>\n",
              "    <tr>\n",
              "      <th>3</th>\n",
              "      <td>Palloncino 12\" G110 Neon Assortito \"Neon\" 100pz</td>\n",
              "      <td>8,18€</td>\n",
              "    </tr>\n",
              "    <tr>\n",
              "      <th>4</th>\n",
              "      <td>Palloncino 12\" G110 Crystal Assortito \"Crystal...</td>\n",
              "      <td>8,18€</td>\n",
              "    </tr>\n",
              "    <tr>\n",
              "      <th>5</th>\n",
              "      <td>Palloncino 11\" Bianco Pastello \"Balloons White...</td>\n",
              "      <td>8,37€</td>\n",
              "    </tr>\n",
              "    <tr>\n",
              "      <th>6</th>\n",
              "      <td>Palloncino 12\" G110 Bianco \"White 001\" 100pz</td>\n",
              "      <td>8,10€</td>\n",
              "    </tr>\n",
              "    <tr>\n",
              "      <th>7</th>\n",
              "      <td>Palloncino 12\" G110 Latte \"Milk 084\" 100pz</td>\n",
              "      <td>8,10€</td>\n",
              "    </tr>\n",
              "    <tr>\n",
              "      <th>8</th>\n",
              "      <td>Palloncino 12\" G110 Giallo Mostarda \"Yellow 04...</td>\n",
              "      <td>8,10€</td>\n",
              "    </tr>\n",
              "    <tr>\n",
              "      <th>9</th>\n",
              "      <td>Palloncino 12\" G110 Giallo \"Yellow 002\" 100pz</td>\n",
              "      <td>8,10€</td>\n",
              "    </tr>\n",
              "    <tr>\n",
              "      <th>10</th>\n",
              "      <td>Palloncino 12\" G110 Giallo Mais \"Yellow 003\" 1...</td>\n",
              "      <td>8,10€</td>\n",
              "    </tr>\n",
              "    <tr>\n",
              "      <th>11</th>\n",
              "      <td>Palloncino 11\" Arancione \"Balloons Orange\" 100pz</td>\n",
              "      <td>8,37€</td>\n",
              "    </tr>\n",
              "    <tr>\n",
              "      <th>12</th>\n",
              "      <td>Palloncino 12\" G110 Arancione \"Orange 004\" 100pz</td>\n",
              "      <td>8,10€</td>\n",
              "    </tr>\n",
              "    <tr>\n",
              "      <th>13</th>\n",
              "      <td>Palloncino 12\" G110 Pesca \"Peach 060\" 100pz</td>\n",
              "      <td>8,10€</td>\n",
              "    </tr>\n",
              "    <tr>\n",
              "      <th>14</th>\n",
              "      <td>Palloncino 12\" G110 Corallo \"Corallo 078\" 100pz</td>\n",
              "      <td>8,10€</td>\n",
              "    </tr>\n",
              "    <tr>\n",
              "      <th>15</th>\n",
              "      <td>Palloncino 12\" Rosso Papavero \"Balloons Poppy ...</td>\n",
              "      <td>10,93€</td>\n",
              "    </tr>\n",
              "    <tr>\n",
              "      <th>16</th>\n",
              "      <td>Palloncino 12\" G110 Rosso \"Red 045\" 100pz</td>\n",
              "      <td>8,10€</td>\n",
              "    </tr>\n",
              "    <tr>\n",
              "      <th>17</th>\n",
              "      <td>Palloncino 12\" G110 Cipria \"Blush 069\" 100pz</td>\n",
              "      <td>8,10€</td>\n",
              "    </tr>\n",
              "    <tr>\n",
              "      <th>18</th>\n",
              "      <td>Palloncino 12\" G110 Rosa Brumoso \"Misty Rose 0...</td>\n",
              "      <td>8,10€</td>\n",
              "    </tr>\n",
              "    <tr>\n",
              "      <th>19</th>\n",
              "      <td>Palloncino 12\" G110 Rosa Baby \"Baby Pink 073\" ...</td>\n",
              "      <td>8,10€</td>\n",
              "    </tr>\n",
              "    <tr>\n",
              "      <th>20</th>\n",
              "      <td>Palloncino 12\" G110 Rosa Chiaro \"Pink 057\" 100pz</td>\n",
              "      <td>8,10€</td>\n",
              "    </tr>\n",
              "    <tr>\n",
              "      <th>21</th>\n",
              "      <td>Palloncino 12\" G110 Rosa  \"Rose 006\" 100pz</td>\n",
              "      <td>8,10€</td>\n",
              "    </tr>\n",
              "    <tr>\n",
              "      <th>22</th>\n",
              "      <td>Palloncino 12\" G110 Fucsia \"Fuchsia 007\" 100pz</td>\n",
              "      <td>8,10€</td>\n",
              "    </tr>\n",
              "    <tr>\n",
              "      <th>23</th>\n",
              "      <td>Palloncino 12\" G110 Lilla \"Lilac 079\" 100pz</td>\n",
              "      <td>8,10€</td>\n",
              "    </tr>\n",
              "    <tr>\n",
              "      <th>24</th>\n",
              "      <td>Palloncino 11\" Lilla Pastello \"Balloons Light ...</td>\n",
              "      <td>8,37€</td>\n",
              "    </tr>\n",
              "    <tr>\n",
              "      <th>25</th>\n",
              "      <td>Palloncino 12\" G110 Lavanda \"Lavender 049\" 100pz</td>\n",
              "      <td>8,10€</td>\n",
              "    </tr>\n",
              "    <tr>\n",
              "      <th>26</th>\n",
              "      <td>Palloncino 12\" G110 Pervinca \"Periwinkle 075\" ...</td>\n",
              "      <td>8,10€</td>\n",
              "    </tr>\n",
              "    <tr>\n",
              "      <th>27</th>\n",
              "      <td>Palloncino 12\" G110 Blu \"Blue 046\" 100pz</td>\n",
              "      <td>8,10€</td>\n",
              "    </tr>\n",
              "    <tr>\n",
              "      <th>28</th>\n",
              "      <td>Palloncino 12\" G110 Azzurro \"Blue 010\" 100pz</td>\n",
              "      <td>8,10€</td>\n",
              "    </tr>\n",
              "    <tr>\n",
              "      <th>29</th>\n",
              "      <td>Palloncino 12\" G110 Azzurro Baby \"Baby Blue 07...</td>\n",
              "      <td>8,10€</td>\n",
              "    </tr>\n",
              "    <tr>\n",
              "      <th>30</th>\n",
              "      <td>Palloncino 12\" G110 Celeste \"Light Blue 009\" 1...</td>\n",
              "      <td>8,10€</td>\n",
              "    </tr>\n",
              "    <tr>\n",
              "      <th>31</th>\n",
              "      <td>Palloncino 12\" G110 Turchese \"Turquoise 068\" 1...</td>\n",
              "      <td>8,10€</td>\n",
              "    </tr>\n",
              "    <tr>\n",
              "      <th>32</th>\n",
              "      <td>Palloncino 12\" G110 Acquamarina \"Aquamarine 05...</td>\n",
              "      <td>8,10€</td>\n",
              "    </tr>\n",
              "    <tr>\n",
              "      <th>33</th>\n",
              "      <td>Palloncino 12\" G110 Verde Menta \"Mint Green 07...</td>\n",
              "      <td>8,10€</td>\n",
              "    </tr>\n",
              "    <tr>\n",
              "      <th>34</th>\n",
              "      <td>Palloncino 12\" G110 Verde Lime \"Light Green 01...</td>\n",
              "      <td>8,10€</td>\n",
              "    </tr>\n",
              "    <tr>\n",
              "      <th>35</th>\n",
              "      <td>Palloncino 12\" G110 Verde \"Green 012\" 100pz</td>\n",
              "      <td>8,10€</td>\n",
              "    </tr>\n",
              "    <tr>\n",
              "      <th>36</th>\n",
              "      <td>Palloncino 12\" G110 Verde Scuro \"Dark Green 01...</td>\n",
              "      <td>8,10€</td>\n",
              "    </tr>\n",
              "    <tr>\n",
              "      <th>37</th>\n",
              "      <td>Palloncino 12\" G110 Verde Oliva \"Green Olive 0...</td>\n",
              "      <td>8,10€</td>\n",
              "    </tr>\n",
              "    <tr>\n",
              "      <th>38</th>\n",
              "      <td>Palloncino 12\" G110 Cappuccino \"Mocha 0762 100pz</td>\n",
              "      <td>8,10€</td>\n",
              "    </tr>\n",
              "    <tr>\n",
              "      <th>39</th>\n",
              "      <td>Palloncino 12\" G110 Chocolate \"Brown 048\" 100pz</td>\n",
              "      <td>8,10€</td>\n",
              "    </tr>\n",
              "    <tr>\n",
              "      <th>40</th>\n",
              "      <td>Palloncino 12\" G110 Grigio \"Grey 070\" 100pz</td>\n",
              "      <td>8,10€</td>\n",
              "    </tr>\n",
              "    <tr>\n",
              "      <th>41</th>\n",
              "      <td>Palloncino 12\" G110 Nero \"Black 014\" 100pz</td>\n",
              "      <td>8,10€</td>\n",
              "    </tr>\n",
              "  </tbody>\n",
              "</table>\n",
              "</div>\n",
              "      <button class=\"colab-df-convert\" onclick=\"convertToInteractive('df-5bc9b178-81fc-4ab0-93ba-1fddd41fcf9d')\"\n",
              "              title=\"Convert this dataframe to an interactive table.\"\n",
              "              style=\"display:none;\">\n",
              "        \n",
              "  <svg xmlns=\"http://www.w3.org/2000/svg\" height=\"24px\"viewBox=\"0 0 24 24\"\n",
              "       width=\"24px\">\n",
              "    <path d=\"M0 0h24v24H0V0z\" fill=\"none\"/>\n",
              "    <path d=\"M18.56 5.44l.94 2.06.94-2.06 2.06-.94-2.06-.94-.94-2.06-.94 2.06-2.06.94zm-11 1L8.5 8.5l.94-2.06 2.06-.94-2.06-.94L8.5 2.5l-.94 2.06-2.06.94zm10 10l.94 2.06.94-2.06 2.06-.94-2.06-.94-.94-2.06-.94 2.06-2.06.94z\"/><path d=\"M17.41 7.96l-1.37-1.37c-.4-.4-.92-.59-1.43-.59-.52 0-1.04.2-1.43.59L10.3 9.45l-7.72 7.72c-.78.78-.78 2.05 0 2.83L4 21.41c.39.39.9.59 1.41.59.51 0 1.02-.2 1.41-.59l7.78-7.78 2.81-2.81c.8-.78.8-2.07 0-2.86zM5.41 20L4 18.59l7.72-7.72 1.47 1.35L5.41 20z\"/>\n",
              "  </svg>\n",
              "      </button>\n",
              "      \n",
              "  <style>\n",
              "    .colab-df-container {\n",
              "      display:flex;\n",
              "      flex-wrap:wrap;\n",
              "      gap: 12px;\n",
              "    }\n",
              "\n",
              "    .colab-df-convert {\n",
              "      background-color: #E8F0FE;\n",
              "      border: none;\n",
              "      border-radius: 50%;\n",
              "      cursor: pointer;\n",
              "      display: none;\n",
              "      fill: #1967D2;\n",
              "      height: 32px;\n",
              "      padding: 0 0 0 0;\n",
              "      width: 32px;\n",
              "    }\n",
              "\n",
              "    .colab-df-convert:hover {\n",
              "      background-color: #E2EBFA;\n",
              "      box-shadow: 0px 1px 2px rgba(60, 64, 67, 0.3), 0px 1px 3px 1px rgba(60, 64, 67, 0.15);\n",
              "      fill: #174EA6;\n",
              "    }\n",
              "\n",
              "    [theme=dark] .colab-df-convert {\n",
              "      background-color: #3B4455;\n",
              "      fill: #D2E3FC;\n",
              "    }\n",
              "\n",
              "    [theme=dark] .colab-df-convert:hover {\n",
              "      background-color: #434B5C;\n",
              "      box-shadow: 0px 1px 3px 1px rgba(0, 0, 0, 0.15);\n",
              "      filter: drop-shadow(0px 1px 2px rgba(0, 0, 0, 0.3));\n",
              "      fill: #FFFFFF;\n",
              "    }\n",
              "  </style>\n",
              "\n",
              "      <script>\n",
              "        const buttonEl =\n",
              "          document.querySelector('#df-5bc9b178-81fc-4ab0-93ba-1fddd41fcf9d button.colab-df-convert');\n",
              "        buttonEl.style.display =\n",
              "          google.colab.kernel.accessAllowed ? 'block' : 'none';\n",
              "\n",
              "        async function convertToInteractive(key) {\n",
              "          const element = document.querySelector('#df-5bc9b178-81fc-4ab0-93ba-1fddd41fcf9d');\n",
              "          const dataTable =\n",
              "            await google.colab.kernel.invokeFunction('convertToInteractive',\n",
              "                                                     [key], {});\n",
              "          if (!dataTable) return;\n",
              "\n",
              "          const docLinkHtml = 'Like what you see? Visit the ' +\n",
              "            '<a target=\"_blank\" href=https://colab.research.google.com/notebooks/data_table.ipynb>data table notebook</a>'\n",
              "            + ' to learn more about interactive tables.';\n",
              "          element.innerHTML = '';\n",
              "          dataTable['output_type'] = 'display_data';\n",
              "          await google.colab.output.renderOutput(dataTable, element);\n",
              "          const docLink = document.createElement('div');\n",
              "          docLink.innerHTML = docLinkHtml;\n",
              "          element.appendChild(docLink);\n",
              "        }\n",
              "      </script>\n",
              "    </div>\n",
              "  </div>\n",
              "  "
            ]
          },
          "metadata": {},
          "execution_count": 38
        }
      ]
    },
    {
      "cell_type": "markdown",
      "metadata": {
        "id": "rnIZqBCnUJun"
      },
      "source": [
        "Reading Local Files"
      ]
    },
    {
      "cell_type": "markdown",
      "metadata": {
        "id": "9IoiNgSsUJun"
      },
      "source": [
        "In order to read a local file, we need to use Python's built-in open() function,<br>\n",
        "followed by the read() method. Suppose you have a file document.txt, you can load<br>\n",
        "its contents like this:"
      ]
    },
    {
      "cell_type": "markdown",
      "metadata": {
        "id": "3QYx7bMUUJun"
      },
      "source": [
        "HEADS UP!<br>\n",
        "There are two files you can load here, both are tweets about COVID-19 that I downloaded in March.<br>\n",
        "HOWEVER, the file \"lotta_tweets.csv\" is a large file containing some 1.8 million tweets. It will take<br>\n",
        "time for Python to process the text. For example, to run the code below this line with the 1.8 million tweets,<br>\n",
        "which is about 61 million words, took my computer about 1 hour.<br>\n",
        "You can try it with either file or both, but I just wanted to let you know about the time required to<br>\n",
        "process the large file, tokenize it, stem it, lemmatize it, etc.<br>\n",
        "If you run the code as you find it here, you can see that the \"few_tweets.rtf\" file will be opened and the<br>\n",
        "100 tweets containing the word \"rona\""
      ]
    },
    {
      "cell_type": "code",
      "execution_count": 39,
      "metadata": {
        "id": "3DZvyhuqUJun"
      },
      "outputs": [],
      "source": [
        "My_file = open(\"few_tweets.csv\")\n",
        "raw = My_file.read()"
      ]
    },
    {
      "cell_type": "markdown",
      "metadata": {
        "id": "SsFkVEsFUJun"
      },
      "source": [
        "NOTE:"
      ]
    },
    {
      "cell_type": "markdown",
      "metadata": {
        "id": "0z3g8vw9UJun"
      },
      "source": [
        "EXERCISE #3<br>\n",
        "Accessing local files from your computer<br>\n",
        "Access the file \"few_tweets.csv\"<br>\n",
        "Perform some analyses on it. Include in your analyses at least the following things:"
      ]
    },
    {
      "cell_type": "code",
      "execution_count": null,
      "metadata": {
        "id": "Rg5oGHUiUJuo"
      },
      "outputs": [],
      "source": [
        "    # Pre-processing\n",
        "        # Make all words lowercase\n",
        "        # Tokenize the text into words\n",
        "        # Remove punctuation\n",
        "        # Remove stopwords\n",
        "        # Tokenize the text into sentences\n",
        "        # Use the WordNet lemmatizer or a word stemmer in NLTK to get the lemmas or stems of the words in the text\n",
        "        # Use a POS tagger to tag words for POS (Parts of speech)\n",
        "    # Fun functions\n",
        "        # Get a set of 20 collocations\n",
        "        # With and without stopwords\n",
        "        # Get the frequency distribution of the 50 most frequent words in the text.\n",
        "        # Plot the distribution.\n",
        "        # Get the frequency distribution of the 50 most frequent lemmas or stems in the text.\n",
        "        # Get the lexical diversity of the text\n",
        "        # Get the lexical dispersion of a selection of words and plot the results."
      ]
    },
    {
      "cell_type": "markdown",
      "metadata": {
        "id": "SgGf7cIjUJuo"
      },
      "source": [
        "You can do the work for EXERCISE #3 below"
      ]
    },
    {
      "cell_type": "markdown",
      "metadata": {
        "id": "8PI4PX2gUJuo"
      },
      "source": [
        "You will need NLTK and the word_tokenize and sent_tokenize functions from NLTK"
      ]
    },
    {
      "cell_type": "markdown",
      "metadata": {
        "id": "Yc5Hy14sUJuo"
      },
      "source": [
        "Pre-processing"
      ]
    },
    {
      "cell_type": "markdown",
      "metadata": {
        "id": "UFu5L8sdUJuo"
      },
      "source": [
        "Make all words lowercase"
      ]
    },
    {
      "cell_type": "code",
      "execution_count": 40,
      "metadata": {
        "colab": {
          "base_uri": "https://localhost:8080/"
        },
        "id": "7lx19zo3UJuo",
        "outputId": "6e44ac1b-660c-41aa-f8b6-e068bf805f3e"
      },
      "outputs": [
        {
          "output_type": "stream",
          "name": "stdout",
          "text": [
            ",text,,\n",
            "1,\"staring: rona... action, drama, and suspense 🎬 https://t.co/jrnphgphx3\",,\n",
            "2,if my driving test gets cancelled because miss rona wants to move mad i’m actually gonna drive anyway. the police will be busy dealing with the revolution anyway so.... https://t.co/dss0p4ujml,\n",
            "9079\n"
          ]
        }
      ],
      "source": [
        "raw = raw.lower()\n",
        "print(raw[:280])\n",
        "print(len(raw))"
      ]
    },
    {
      "cell_type": "markdown",
      "metadata": {
        "id": "6X4_62wGUJup"
      },
      "source": [
        "Tokenize the lowercase text into words"
      ]
    },
    {
      "cell_type": "code",
      "execution_count": 41,
      "metadata": {
        "colab": {
          "base_uri": "https://localhost:8080/"
        },
        "id": "MHpSkxDxUJup",
        "outputId": "9bc98f87-f885-44d6-9fa5-5e00b7be89e2"
      },
      "outputs": [
        {
          "output_type": "stream",
          "name": "stdout",
          "text": [
            "[',', 'text', ',', ',', '1', ',', \"''\", 'staring', ':', 'rona', '...', 'action', ',', 'drama', ',', 'and', 'suspense', '🎬', 'https', ':', '//t.co/jrnphgphx3', \"''\", ',', ',', '2', ',', 'if', 'my', 'driving', 'test', 'gets', 'cancelled', 'because', 'miss', 'rona', 'wants', 'to', 'move', 'mad', 'i', '’', 'm', 'actually', 'gon', 'na', 'drive', 'anyway', '.', 'the', 'police', 'will', 'be', 'busy', 'dealing', 'with', 'the', 'revolution', 'anyway', 'so', '...', '.', 'https', ':', '//t.co/dss0p4ujml', ',', ',', '3', ',', 'aaron', 'rodgers', 'get', 'that', 'rona', 'i', '’', 'm', 'dropping', '81', 'on', 'his', 'head', 'nigga', ',', ',', '4', ',', 'good', 'old', 'rona', 'sorted', 'me', 'right', 'out', 'here', 'https', ':', '//t.co/xadli1cnhp', ',', ',', '5', ',', 'on', 'top', 'of', 'rona', 'the', 'pollen', 'out', 'here', 'like', 'https', ':', '//t.co/s6jynjr1tg', ',', ',', '6', ',', 'after', 'reading', 'this', 'i', 'think', 'i', 'may', 'have', 'had', 'that', 'rona', 'back', 'in', 'january', '.', 'same', 'symptoms', 'as', 'here', 'but', 'it', 'ended', 'with', 'whatever', 'was', 'infecting', 'me', 'dissolving', 'a', 'benign', 'breast', 'tumor', 'i', '’', 'd', 'had', 'for', 'months', 'that', 'doctors', 'said', 'i', '’', 'd', 'have', 'to', 'get', 'surgically', 'removed', '...', 'medical', 'twitter', 'can', 'u', 'explain', '?', 'https', ':', '//t.co/jvyemqunz3', ',', ',', '7', ',', \"''\", '12,000', 'confirmed', 'rona', 'cases', '.', 'it', 'will', 'reach', 'abt', '30,000', \"''\", ',', ',', '8', ',', '@', 'ramosmelissaaa', 'yeah', 'you', 'getting', 'the', 'rona', ',', ',', '9', ',', 'sierra', 'leone', 'has', '0', 'rona', 'cases', '?', '?', '?', 'https', ':', '//t.co/mn8npnqwuy', ',', ',', '10', ',', 'big', 'rona', 'do', \"n't\", 'stop', 'the', 'tea', 'https', ':', '//t.co/wrv4ey4qtq', ',', ',', '11', ',', 'theses', 'kids', 'look', 'like', 'busted', 'trailer', 'trash', '...', 'big', 'rona', 'can', 'take', 'them', '¯\\\\_', '(', 'ツ', ')', '_/¯', 'https', ':', '//t.co/usjzoyndk3', ',', ',', '12', ',', \"''\", 'white', 'people', ':', 'covid-19', 'black', 'folks', ':', 'the', 'rona', 'gay', 'people', ':', 'miss', 'rona', '😭☠️', \"''\", ',']\n",
            "2186\n"
          ]
        }
      ],
      "source": [
        "Tweets_words = word_tokenize(raw)\n",
        "print(Tweets_words[:280])\n",
        "print(len(Tweets_words))"
      ]
    },
    {
      "cell_type": "markdown",
      "metadata": {
        "id": "NSiIHErcUJup"
      },
      "source": [
        "Remove punctuation"
      ]
    },
    {
      "cell_type": "code",
      "execution_count": 44,
      "metadata": {
        "id": "iEGtKzBOUJup",
        "colab": {
          "base_uri": "https://localhost:8080/"
        },
        "outputId": "fcd6e7c0-c4ad-45d3-e540-6257d35dcb54"
      },
      "outputs": [
        {
          "output_type": "stream",
          "name": "stdout",
          "text": [
            "['text', '1', \"''\", 'staring', 'rona', '...', 'action', 'drama', 'suspense', '🎬', 'https', '//t.co/jrnphgphx3', \"''\", '2', 'driving', 'test', 'gets', 'cancelled', 'miss', 'rona', 'wants', 'move', 'mad', '’', 'actually', 'gon', 'na', 'drive', 'anyway', 'police', 'busy', 'dealing', 'revolution', 'anyway', '...', 'https', '//t.co/dss0p4ujml', '3', 'aaron', 'rodgers', 'get', 'rona', '’', 'dropping', '81', 'head', 'nigga', '4', 'good', 'old', 'rona', 'sorted', 'right', 'https', '//t.co/xadli1cnhp', '5', 'top', 'rona', 'pollen', 'like', 'https', '//t.co/s6jynjr1tg', '6', 'reading', 'think', 'may', 'rona', 'back', 'january', 'symptoms', 'ended', 'whatever', 'infecting', 'dissolving', 'benign', 'breast', 'tumor', '’', 'months', 'doctors', 'said', '’', 'get', 'surgically', 'removed', '...', 'medical', 'twitter', 'u', 'explain', 'https', '//t.co/jvyemqunz3', '7', \"''\", '12,000', 'confirmed', 'rona', 'cases', 'reach', 'abt', '30,000', \"''\", '8', 'ramosmelissaaa', 'yeah', 'getting', 'rona', '9', 'sierra', 'leone', '0', 'rona', 'cases', 'https', '//t.co/mn8npnqwuy', '10', 'big', 'rona', \"n't\", 'stop', 'tea', 'https', '//t.co/wrv4ey4qtq', '11', 'theses', 'kids', 'look', 'like', 'busted', 'trailer', 'trash', '...', 'big', 'rona', 'take', '¯\\\\_', 'ツ', '_/¯', 'https', '//t.co/usjzoyndk3', '12', \"''\", 'white', 'people', 'covid-19', 'black', 'folks', 'rona', 'gay', 'people', 'miss', 'rona', '😭☠️', \"''\", '13', 'rona', 'pulling', 'spring', 'break', 'https', '//t.co/rhwbnuwcxo', '14', \"''\", 'johnny', 'gat', 'gah', 'damn', \"'rona\", '...', 'https', '//t.co/cistpf1vfo', \"''\", '15', \"''\", 'crissles', 'probably', 'mom', 'got', 'sick', 'time', 'mid', 'january', 'told', 'flu', 'unlike', 'flu', 'either', 'us', 'experienced', 'though', 'pretty', 'sure', 'rona', 'thee', 'virus', '``', '16', 'jocin', 'bout', 'big', 'rona', 'til', 'start', 'fuckin', 'bag', '😭🚮', '17', 'pour', 'milk', 'cereal', 'ca', \"n't\", 'trusted', 'got', 'rona', '18', 'sean', 'payton', 'got', 'rona', '😞', '19', 'rather', 'rona', 'https', '//t.co/u5nx0ypetl', '20', 'know', 'living', 'post', 'rona.', '21', 'miss', 'rona', 'sliding', 'right', 'thru', 'chile', 'https', '//t.co/zue0y5eb4k', '22', 'bitch', '’', 'never', 'excited', '6pm', 'like', 'fucking', 'rona', 'hard', 'work', 'give', 'fuck', 'anything', '’', 'eating', 'next', '23', 'ms', 'rona', 'got', 'fucked', '24', 'rona', 'pulling', 'spring', 'break', 'https', '//t.co/rhwbnuwcxo', '25', 'teamkinfolk', 'rona', 'rona2020', 'memphis', 'kinfolk', 'knowledgeispower', 'positivevibes', 'musicmatters', 'https', '//t.co/naagn6c5lb', '26', 'papoose', '‘', 'rona', '’', 'freestyle', '🦠', 'https', '//t.co/vfhwiskk9w', '27', \"''\", 'one', 'even', 'rona', 'celebrity', 'ig', 'live', 'https', '//t.co/ionzwq2ul3', \"''\", '28', 'patrick', 'mahomes', 'catch', 'rona', '’', 'rolling', 'shit', 'right', 'backwood', '’', 'sick', 'nigga', 'https', '//t.co/x2qvbm9uke', '29', 'dak', 'get', 'rona', 'imma', 'break', 'dance', 'living', 'room', '30', 'shacuhsky', 'got', 'rona', '...', 'dying', 'now.', '31', '2nae2', 'missnarles', '😂😂', 'nah', 'got', 'rona', '32', 'é', 'gente', 'depois', 'que', 'c*rona', 'acabar', 'eu', 'vo', 'viver', 'como', 'se', 'não', 'housesse', 'amanhã', 'https', '//t.co/l1a9ooianz', '33', 'barbershoppod', 'root', 'amp', 'rona', \"n't\", 'mix🙃😂', '34', \"y'all\", 'hc', 'got', 'rona', 'ca', \"n't\", 'relate', '35', 'quarantine', 'got', 'niggas', 'making', 'skits', '...', '“', 'whispers', '”', 'thank', 'ms.rona', 'https', '//t.co/vjeeec73fl', '36', '...', 'rona', 'must', 'stopped', 'social', 'media', 'going', 'drop', 'hell', 'https', '//t.co/fzmzmy42ys', '37', 'best', 'get', 'mucus', 'levels', 'low', 'possible', 'rona', 'going', 'around', '38', 'xotic16', 'livin', 'rona', 'free', 'brudda', '39', 'papoose', '‘', 'rona', '’', 'freestyle', '🦠', 'https', '//t.co/vfhwiskk9w', '40', '’', 'believe', 'rona', 'believe', '’', 'distraction', 'tbh', 'shit', 'getting', 'ridiculous', 'every', 'year', '’', 'sumn', 'new', 'around', 'election', 'time', '🤔😶👋🏾', 'ask', '’', 'bs', '41', 'collectivelyysd', 'nah', 'bruh', 'miss', 'rona', 'laughing', '42', '’', 'respond', 'text', 'call', 'rona', '...', 'lose', 'number..', 'https', '//t.co/4yw9yqo3qg', '43', 'good', 'show', 'get', 'us', 'rona', '44', '’', 'miss', 'rona', '’', 'world', '’', 'living', '😔', '45', \"''\", 'since', 'want', 'life', 'stop', 'due', 'corona', 'tlogelang', 'goya', 'mmerekong', 'le', 'nne', 'gae', 'rona', 'retlabereka', '``', '46', \"''\", 'got', 'super', 'fucking', 'sick', 'essence', 'last', 'year', '``', \"''\", 'chest', 'cold', \"''\", \"''\", 'would', 'die', '...', 'fucking', 'rona', \"n't\", '``', '47', 'neve', 'wont', 'come', 'house', 'coz', 'thinks', 'rona', 'miss', '🥺', '48', 'tg3ii', 'better', 'getting', 'rona', '49', \"''\", 'hum', 'sari', 'zindgi', 'rona', 'rotay', 'hyn', 'k', 'hmein', 'us', 'shakhs', 'ne', 'dhoka', 'dia', '...', '...', 'main', 'thing', 'k', 'hmne', 'hud', 'jn', 'bhuj', 'k', 'logo', 'ko', 'yh', 'moka', 'dia', 'hota', 'hai', 'k', 'wo', 'hmein', 'dhoka', 'dyn', \"''\", '50', \"''\", 'sean', 'payton', 'rona', 'chris', 'sale', 'needs', 'tj', 'sweet', \"''\", '51', 'never', 'spent', 'much', 'time', 'bed/in', 'house', 'please', 'ms', 'rona', 'go.', '52', 'sean', 'payton', 'rona', 'https', '//t.co/2kis8ssytx', '53', 'isit', 'ok', 'call', 'u', 'rona', 'bae', '54', 'ginger', 'ale', 'crackers', 'stomach', 'rona', 'try', '’', 'infect', 'https', '//t.co/dbh7xfaeq2', '55', 'thank', 'u', 'miss', 'rona', 'ruining', 'first', 'year', 'senior', '💓', '56', 'themiskyras1881', '10ureser', 'rona___1', 'puu', 'hepinize', 'bi', 'akimi', 'devam', 'ettiremediniz', '😂', '57', 'prenses_sirrona', 'sır.rona', \"çin'de\", 'karantina', 'sonrası', 'kafesten', 'çıkan', 'kuşlar', 'bosanma', 'kararı', 'almış', 'çoğunlukla..bence', 'kapalı', 'kısıtlı', 'ortam', 'kafesteki', 'kuşları', 'da', 'aşktan', 'sogutabilir..tüm', 'güzel', 'duygular', 'özgürlükte', 'hayat', 'buluyor', 'galiba..karar', 'sabır', 'cesaret', '🙏🏹🐎', '58', 'aaron', 'rodgers', 'get', 'rona', '’', 'dropping', '81', 'head', 'nigga', '59', 'shannadejenee', 'joselieee', 'ms.', 'rona', 'said', 'sentencing', '’', 'yet', '😭', 'https', '//t.co/o82sbsoeh3', '60', \"'re\", 'black', 'queer', 'person', 'slash', 'freelancer', 'going', 'rona-related', 'hardship', 'send', 'ya', 'cash', 'app/venmo', 'tryna', 'help', 'folks', 'today.', '61', 'bro', 'want', 'one', 'vital', 'tweet', 'rona', 'catches', 'coronavirusupdate', 'coronaviruschallenge', '62', 'matt', 'ryan', 'julio', 'get', 'da', 'rona', 'oooweeee', 'https', '//t.co/smzpw7n2t5', '63', 'suck', 'every', 'drop', 'rona', '’', 'problem', 'https', '//t.co/zjuqy22gme', '64', 'saw', 'aaron', 'gordon', 'trending', 'got', 'scared', 'got', '‘', 'rona', 'https', '//t.co/urypnjfien', '65', 'erin_niicole', 'got', 'ta', 'hit', 'stores', 'early', 'lol', 'tito', '’', 'gone', 'keep', 'safe', 'ms', 'rona', '66', '’', 'heat', 'kill', 'rona', 'misinformed', 'hopefully', 'warm', 'weather', 'knocks', 'shit', '’', '67', '’', 'anymore', 'rona', 'tests', 'erie', 'county', '’', 'stay', 'safe', '🤟🏼', '68', 'need', 'rona', 'hurry', 'leave', 'take', 'trip', '216', '😏😉', '69', \"''\", 'refuse', 'sit', 'around', 'damn', 'house', 'get', 'fat', 'rona', 'got', 'fucked', '``', '70', 'packlightluv', 'big', 'rona', 'bout', 'take', 'folks', '71', 'patrick', 'mahomes', 'catch', 'rona', '’', 'rolling', 'shit', 'right', 'backwood', '’', 'sick', 'nigga', 'https', '//t.co/x2qvbm9uke', '72', 'papoose', '‘', 'rona', '’', 'freestyle', '🦠', 'https', '//t.co/vfhwiskk9w', '73', 'ms', 'rona', 'got', 'fucked', '74', 'rona', 'pulling', 'spring', 'break', 'https', '//t.co/rhwbnuwcxo', '75', 'rona', 'pulling', 'spring', 'break', 'https', '//t.co/rhwbnuwcxo', '76', 'aunt', 'rona', 'got', 'yall', 'spicy', 'https', '//t.co/t6vrbgcdpj', '77', \"''\", 'oh', 'baby', 'coach', 'got', 'rona', '...', '.you', 'muthafuckas', 'better', 'find', 'solution', '...', 'right', 'fuck', '``', '78', \"''\", 'staring', 'rona', '...', 'action', 'drama', 'suspense', '🎬', 'https', '//t.co/jrnphgphx3', \"''\", '79', 'matter', 'time', 'fuggin', 'rona', 'infiltrated', 'nfl', 'talk', '80', 'never', 'bored', 'life', 'rona', 'leave', 'us', 'alone', '😂', '81', \"''\", 'sunvic101', 'akurehowfar', 'sarnchos', 'lol', '😁', 'scared', 'na', \"n't\", 'heard', 'wicked', 'rona', '``', '82', 'thebrandonvick', 'rona', 'making', 'introverted', '83', \"''\", 'monicaperezshow', 'marco_caz', 'yep', 'guessing', 'lot', 'companies', '’', 'bring', 'back', '100', 'staff', 'rona', 'leaving', 'remaining', 'get', 'mmt', 'welfare', 'state', '✋———————🤚', \"''\", '84', \"''\", '*forgets', 'take', 'allergy', 'medicine', 'two', 'days*', 'thinking', 'rona', 'https', '//t.co/cosmqob7fe', \"''\", '85', 'teachers', 'better', 'act', 'surprised', 'april', '7th', '’', 'sipping', 'bottle', 'henny', 'zoom', 'session.😭rona', 'messin', '21st', 'birthday', 'antics', '...', 'point', 'run', 'a+', '’', 'catch', '’', 'fall', '2020', '😂', '86', 'rona', 'pulling', 'spring', 'break', 'https', '//t.co/rhwbnuwcxo', '87', 'miami', 'playing', 'ring', 'around', 'rona', '88', 'popcrave', 'miss', 'rona', 'giving', 'us', 'equal', 'rights', 'fair', 'wages', 'cost', 'https', '//t.co/yttj3nlezk', '89', \"''\", 'galib', 'tera', 'rona', 'ٹھیک', 'tha.😥', 'bachiya', 'kise', 'aur', 'se', 'پٹتی', 'hai', 'aur', 'ga', '--', 'hamari', 'پھٹتی', 'hai', '😔💔', \"''\", '90', 'rona', 'took', 'black', 'forreal', '91', 'rona', 'fuckin', 'plans', '😒🤦🏾\\u200d♂️', '92', 'neeklane', 'outside', 'summer', 'fuck', 'rona', '93', 'thank', 'youu', '💋💋', 'got', 'ta', 'show', 'rona', '’', 'really', 'bihhhh', 'https', '//t.co/vmm7pvxyfb', '94', 'big', 'rona', \"n't\", 'stop', 'tea', 'https', '//t.co/wrv4ey4qtq', '95', 'portufricana', 'lulusityy', '_vvvanya', 'lives', 'different', 'post', 'rona', '96', \"''\", 'olivia', \"'re\", 'supposed', 'hang', 'friends', 'post', 'pictures', 'insta', 'caption', '``', \"''\", 'rona', 'szn', '🤪', \"''\", \"''\", \"''\", '97', \"''\", 'kalp', 'krizi', 'sonucu', 'ebediyete', 'irtihal', 'eden', 'değerli', 'gönüldaşımız', 'dava', 'arkadaşımız', 'bbp', 'mkyk', 'üyemiz', 'murat', 'rona', '’', 'ya', 'allah', '’', 'tan', 'sonsuz', 'rahmet', 'acılı', 'ailesi', 'camiamıza', 'sabırlar', 'diliyorum', 'ruhu', 'şâd', 'mekanı', 'cennet', 'olsun', 'https', '//t.co/emzgjwgdqp', \"''\", '98', \"''\", 'white', 'people', 'covid-19', 'black', 'folks', 'rona', 'gay', 'people', 'miss', 'rona', '😭☠️', \"''\", '99', 'fact', 'everyone', 'else', 'suffer', 'idea', '...', '.honestly', 'shoutout', 'miss', 'rona', 'girl', '’', 'feel', 'like', 'fat', 'loser', 'https', '//t.co/zrk4imyrdc', '100', '’', 'caling', 'rona', 'like', '’', 'chick', 'hood', '🤣']\n"
          ]
        }
      ],
      "source": [
        "import string\n",
        "def remove_punctuation(text):\n",
        "    text_nopunct = [c for c in text if c not in string.punctuation]\n",
        "    return text_nopunct\n",
        "# Call the function on a specific text\n",
        "Tweets_words = remove_punctuation(Tweets_words)\n",
        "print(Tweets_words)"
      ]
    },
    {
      "cell_type": "markdown",
      "metadata": {
        "id": "JjVIOrm3UJup"
      },
      "source": [
        "Remove stopwords"
      ]
    },
    {
      "cell_type": "code",
      "execution_count": 45,
      "metadata": {
        "id": "DO4n0F0lUJup",
        "colab": {
          "base_uri": "https://localhost:8080/"
        },
        "outputId": "2ef4425c-e987-4702-8811-d7a3e4d0bb6f"
      },
      "outputs": [
        {
          "output_type": "stream",
          "name": "stdout",
          "text": [
            "['text', '1', \"''\", 'staring', 'rona', '...', 'action', 'drama', 'suspense', '🎬', 'https', '//t.co/jrnphgphx3', \"''\", '2', 'driving', 'test', 'gets', 'cancelled', 'miss', 'rona', 'wants', 'move', 'mad', '’', 'actually', 'gon', 'na', 'drive', 'anyway', 'police', 'busy', 'dealing', 'revolution', 'anyway', '...', 'https', '//t.co/dss0p4ujml', '3', 'aaron', 'rodgers', 'get', 'rona', '’', 'dropping', '81', 'head', 'nigga', '4', 'good', 'old', 'rona', 'sorted', 'right', 'https', '//t.co/xadli1cnhp', '5', 'top', 'rona', 'pollen', 'like', 'https', '//t.co/s6jynjr1tg', '6', 'reading', 'think', 'may', 'rona', 'back', 'january', 'symptoms', 'ended', 'whatever', 'infecting', 'dissolving', 'benign', 'breast', 'tumor', '’', 'months', 'doctors', 'said', '’', 'get', 'surgically', 'removed', '...', 'medical', 'twitter', 'u', 'explain', 'https', '//t.co/jvyemqunz3', '7', \"''\", '12,000', 'confirmed', 'rona', 'cases', 'reach', 'abt', '30,000', \"''\", '8', 'ramosmelissaaa', 'yeah', 'getting', 'rona', '9', 'sierra', 'leone', '0', 'rona', 'cases', 'https', '//t.co/mn8npnqwuy', '10', 'big', 'rona', \"n't\", 'stop', 'tea', 'https', '//t.co/wrv4ey4qtq', '11', 'theses', 'kids', 'look', 'like', 'busted', 'trailer', 'trash', '...', 'big', 'rona', 'take', '¯\\\\_', 'ツ', '_/¯', 'https', '//t.co/usjzoyndk3', '12', \"''\", 'white', 'people', 'covid-19', 'black', 'folks', 'rona', 'gay', 'people', 'miss', 'rona', '😭☠️', \"''\", '13', 'rona', 'pulling', 'spring', 'break', 'https', '//t.co/rhwbnuwcxo', '14', \"''\", 'johnny', 'gat', 'gah', 'damn', \"'rona\", '...', 'https', '//t.co/cistpf1vfo', \"''\", '15', \"''\", 'crissles', 'probably', 'mom', 'got', 'sick', 'time', 'mid', 'january', 'told', 'flu', 'unlike', 'flu', 'either', 'us', 'experienced', 'though', 'pretty', 'sure', 'rona', 'thee', 'virus', '``', '16', 'jocin', 'bout', 'big', 'rona', 'til', 'start', 'fuckin', 'bag', '😭🚮', '17', 'pour', 'milk', 'cereal', 'ca', \"n't\", 'trusted', 'got', 'rona', '18', 'sean', 'payton', 'got', 'rona', '😞', '19', 'rather', 'rona', 'https', '//t.co/u5nx0ypetl', '20', 'know', 'living', 'post', 'rona.', '21', 'miss', 'rona', 'sliding', 'right', 'thru', 'chile', 'https', '//t.co/zue0y5eb4k', '22', 'bitch', '’', 'never', 'excited', '6pm', 'like', 'fucking', 'rona', 'hard', 'work', 'give', 'fuck', 'anything', '’', 'eating', 'next', '23', 'ms', 'rona', 'got', 'fucked', '24', 'rona', 'pulling', 'spring', 'break', 'https', '//t.co/rhwbnuwcxo', '25', 'teamkinfolk', 'rona', 'rona2020', 'memphis', 'kinfolk', 'knowledgeispower', 'positivevibes', 'musicmatters', 'https', '//t.co/naagn6c5lb', '26', 'papoose', '‘', 'rona', '’', 'freestyle', '🦠', 'https', '//t.co/vfhwiskk9w', '27', \"''\", 'one', 'even', 'rona', 'celebrity', 'ig', 'live', 'https', '//t.co/ionzwq2ul3', \"''\", '28', 'patrick', 'mahomes', 'catch', 'rona', '’', 'rolling', 'shit', 'right', 'backwood', '’', 'sick', 'nigga', 'https', '//t.co/x2qvbm9uke', '29', 'dak', 'get', 'rona', 'imma', 'break', 'dance', 'living', 'room', '30', 'shacuhsky', 'got', 'rona', '...', 'dying', 'now.', '31', '2nae2', 'missnarles', '😂😂', 'nah', 'got', 'rona', '32', 'é', 'gente', 'depois', 'que', 'c*rona', 'acabar', 'eu', 'vo', 'viver', 'como', 'se', 'não', 'housesse', 'amanhã', 'https', '//t.co/l1a9ooianz', '33', 'barbershoppod', 'root', 'amp', 'rona', \"n't\", 'mix🙃😂', '34', \"y'all\", 'hc', 'got', 'rona', 'ca', \"n't\", 'relate', '35', 'quarantine', 'got', 'niggas', 'making', 'skits', '...', '“', 'whispers', '”', 'thank', 'ms.rona', 'https', '//t.co/vjeeec73fl', '36', '...', 'rona', 'must', 'stopped', 'social', 'media', 'going', 'drop', 'hell', 'https', '//t.co/fzmzmy42ys', '37', 'best', 'get', 'mucus', 'levels', 'low', 'possible', 'rona', 'going', 'around', '38', 'xotic16', 'livin', 'rona', 'free', 'brudda', '39', 'papoose', '‘', 'rona', '’', 'freestyle', '🦠', 'https', '//t.co/vfhwiskk9w', '40', '’', 'believe', 'rona', 'believe', '’', 'distraction', 'tbh', 'shit', 'getting', 'ridiculous', 'every', 'year', '’', 'sumn', 'new', 'around', 'election', 'time', '🤔😶👋🏾', 'ask', '’', 'bs', '41', 'collectivelyysd', 'nah', 'bruh', 'miss', 'rona', 'laughing', '42', '’', 'respond', 'text', 'call', 'rona', '...', 'lose', 'number..', 'https', '//t.co/4yw9yqo3qg', '43', 'good', 'show', 'get', 'us', 'rona', '44', '’', 'miss', 'rona', '’', 'world', '’', 'living', '😔', '45', \"''\", 'since', 'want', 'life', 'stop', 'due', 'corona', 'tlogelang', 'goya', 'mmerekong', 'le', 'nne', 'gae', 'rona', 'retlabereka', '``', '46', \"''\", 'got', 'super', 'fucking', 'sick', 'essence', 'last', 'year', '``', \"''\", 'chest', 'cold', \"''\", \"''\", 'would', 'die', '...', 'fucking', 'rona', \"n't\", '``', '47', 'neve', 'wont', 'come', 'house', 'coz', 'thinks', 'rona', 'miss', '🥺', '48', 'tg3ii', 'better', 'getting', 'rona', '49', \"''\", 'hum', 'sari', 'zindgi', 'rona', 'rotay', 'hyn', 'k', 'hmein', 'us', 'shakhs', 'ne', 'dhoka', 'dia', '...', '...', 'main', 'thing', 'k', 'hmne', 'hud', 'jn', 'bhuj', 'k', 'logo', 'ko', 'yh', 'moka', 'dia', 'hota', 'hai', 'k', 'wo', 'hmein', 'dhoka', 'dyn', \"''\", '50', \"''\", 'sean', 'payton', 'rona', 'chris', 'sale', 'needs', 'tj', 'sweet', \"''\", '51', 'never', 'spent', 'much', 'time', 'bed/in', 'house', 'please', 'ms', 'rona', 'go.', '52', 'sean', 'payton', 'rona', 'https', '//t.co/2kis8ssytx', '53', 'isit', 'ok', 'call', 'u', 'rona', 'bae', '54', 'ginger', 'ale', 'crackers', 'stomach', 'rona', 'try', '’', 'infect', 'https', '//t.co/dbh7xfaeq2', '55', 'thank', 'u', 'miss', 'rona', 'ruining', 'first', 'year', 'senior', '💓', '56', 'themiskyras1881', '10ureser', 'rona___1', 'puu', 'hepinize', 'bi', 'akimi', 'devam', 'ettiremediniz', '😂', '57', 'prenses_sirrona', 'sır.rona', \"çin'de\", 'karantina', 'sonrası', 'kafesten', 'çıkan', 'kuşlar', 'bosanma', 'kararı', 'almış', 'çoğunlukla..bence', 'kapalı', 'kısıtlı', 'ortam', 'kafesteki', 'kuşları', 'da', 'aşktan', 'sogutabilir..tüm', 'güzel', 'duygular', 'özgürlükte', 'hayat', 'buluyor', 'galiba..karar', 'sabır', 'cesaret', '🙏🏹🐎', '58', 'aaron', 'rodgers', 'get', 'rona', '’', 'dropping', '81', 'head', 'nigga', '59', 'shannadejenee', 'joselieee', 'ms.', 'rona', 'said', 'sentencing', '’', 'yet', '😭', 'https', '//t.co/o82sbsoeh3', '60', \"'re\", 'black', 'queer', 'person', 'slash', 'freelancer', 'going', 'rona-related', 'hardship', 'send', 'ya', 'cash', 'app/venmo', 'tryna', 'help', 'folks', 'today.', '61', 'bro', 'want', 'one', 'vital', 'tweet', 'rona', 'catches', 'coronavirusupdate', 'coronaviruschallenge', '62', 'matt', 'ryan', 'julio', 'get', 'da', 'rona', 'oooweeee', 'https', '//t.co/smzpw7n2t5', '63', 'suck', 'every', 'drop', 'rona', '’', 'problem', 'https', '//t.co/zjuqy22gme', '64', 'saw', 'aaron', 'gordon', 'trending', 'got', 'scared', 'got', '‘', 'rona', 'https', '//t.co/urypnjfien', '65', 'erin_niicole', 'got', 'ta', 'hit', 'stores', 'early', 'lol', 'tito', '’', 'gone', 'keep', 'safe', 'ms', 'rona', '66', '’', 'heat', 'kill', 'rona', 'misinformed', 'hopefully', 'warm', 'weather', 'knocks', 'shit', '’', '67', '’', 'anymore', 'rona', 'tests', 'erie', 'county', '’', 'stay', 'safe', '🤟🏼', '68', 'need', 'rona', 'hurry', 'leave', 'take', 'trip', '216', '😏😉', '69', \"''\", 'refuse', 'sit', 'around', 'damn', 'house', 'get', 'fat', 'rona', 'got', 'fucked', '``', '70', 'packlightluv', 'big', 'rona', 'bout', 'take', 'folks', '71', 'patrick', 'mahomes', 'catch', 'rona', '’', 'rolling', 'shit', 'right', 'backwood', '’', 'sick', 'nigga', 'https', '//t.co/x2qvbm9uke', '72', 'papoose', '‘', 'rona', '’', 'freestyle', '🦠', 'https', '//t.co/vfhwiskk9w', '73', 'ms', 'rona', 'got', 'fucked', '74', 'rona', 'pulling', 'spring', 'break', 'https', '//t.co/rhwbnuwcxo', '75', 'rona', 'pulling', 'spring', 'break', 'https', '//t.co/rhwbnuwcxo', '76', 'aunt', 'rona', 'got', 'yall', 'spicy', 'https', '//t.co/t6vrbgcdpj', '77', \"''\", 'oh', 'baby', 'coach', 'got', 'rona', '...', '.you', 'muthafuckas', 'better', 'find', 'solution', '...', 'right', 'fuck', '``', '78', \"''\", 'staring', 'rona', '...', 'action', 'drama', 'suspense', '🎬', 'https', '//t.co/jrnphgphx3', \"''\", '79', 'matter', 'time', 'fuggin', 'rona', 'infiltrated', 'nfl', 'talk', '80', 'never', 'bored', 'life', 'rona', 'leave', 'us', 'alone', '😂', '81', \"''\", 'sunvic101', 'akurehowfar', 'sarnchos', 'lol', '😁', 'scared', 'na', \"n't\", 'heard', 'wicked', 'rona', '``', '82', 'thebrandonvick', 'rona', 'making', 'introverted', '83', \"''\", 'monicaperezshow', 'marco_caz', 'yep', 'guessing', 'lot', 'companies', '’', 'bring', 'back', '100', 'staff', 'rona', 'leaving', 'remaining', 'get', 'mmt', 'welfare', 'state', '✋———————🤚', \"''\", '84', \"''\", '*forgets', 'take', 'allergy', 'medicine', 'two', 'days*', 'thinking', 'rona', 'https', '//t.co/cosmqob7fe', \"''\", '85', 'teachers', 'better', 'act', 'surprised', 'april', '7th', '’', 'sipping', 'bottle', 'henny', 'zoom', 'session.😭rona', 'messin', '21st', 'birthday', 'antics', '...', 'point', 'run', 'a+', '’', 'catch', '’', 'fall', '2020', '😂', '86', 'rona', 'pulling', 'spring', 'break', 'https', '//t.co/rhwbnuwcxo', '87', 'miami', 'playing', 'ring', 'around', 'rona', '88', 'popcrave', 'miss', 'rona', 'giving', 'us', 'equal', 'rights', 'fair', 'wages', 'cost', 'https', '//t.co/yttj3nlezk', '89', \"''\", 'galib', 'tera', 'rona', 'ٹھیک', 'tha.😥', 'bachiya', 'kise', 'aur', 'se', 'پٹتی', 'hai', 'aur', 'ga', '--', 'hamari', 'پھٹتی', 'hai', '😔💔', \"''\", '90', 'rona', 'took', 'black', 'forreal', '91', 'rona', 'fuckin', 'plans', '😒🤦🏾\\u200d♂️', '92', 'neeklane', 'outside', 'summer', 'fuck', 'rona', '93', 'thank', 'youu', '💋💋', 'got', 'ta', 'show', 'rona', '’', 'really', 'bihhhh', 'https', '//t.co/vmm7pvxyfb', '94', 'big', 'rona', \"n't\", 'stop', 'tea', 'https', '//t.co/wrv4ey4qtq', '95', 'portufricana', 'lulusityy', '_vvvanya', 'lives', 'different', 'post', 'rona', '96', \"''\", 'olivia', \"'re\", 'supposed', 'hang', 'friends', 'post', 'pictures', 'insta', 'caption', '``', \"''\", 'rona', 'szn', '🤪', \"''\", \"''\", \"''\", '97', \"''\", 'kalp', 'krizi', 'sonucu', 'ebediyete', 'irtihal', 'eden', 'değerli', 'gönüldaşımız', 'dava', 'arkadaşımız', 'bbp', 'mkyk', 'üyemiz', 'murat', 'rona', '’', 'ya', 'allah', '’', 'tan', 'sonsuz', 'rahmet', 'acılı', 'ailesi', 'camiamıza', 'sabırlar', 'diliyorum', 'ruhu', 'şâd', 'mekanı', 'cennet', 'olsun', 'https', '//t.co/emzgjwgdqp', \"''\", '98', \"''\", 'white', 'people', 'covid-19', 'black', 'folks', 'rona', 'gay', 'people', 'miss', 'rona', '😭☠️', \"''\", '99', 'fact', 'everyone', 'else', 'suffer', 'idea', '...', '.honestly', 'shoutout', 'miss', 'rona', 'girl', '’', 'feel', 'like', 'fat', 'loser', 'https', '//t.co/zrk4imyrdc', '100', '’', 'caling', 'rona', 'like', '’', 'chick', 'hood', '🤣']\n"
          ]
        }
      ],
      "source": [
        "from nltk.corpus import stopwords\n",
        "stop_words = set(stopwords.words(\"english\"))\n",
        "Tweets_words = [w for w in Tweets_words if not w in stop_words]\n",
        "print(Tweets_words)"
      ]
    },
    {
      "cell_type": "markdown",
      "metadata": {
        "id": "2NmAqK7dUJup"
      },
      "source": [
        "Tokenize the lowercase text into sentences"
      ]
    },
    {
      "cell_type": "code",
      "execution_count": 46,
      "metadata": {
        "colab": {
          "base_uri": "https://localhost:8080/"
        },
        "id": "LAJTj1Z5UJuq",
        "outputId": "3c9b6d5f-934b-4b5e-a25b-8e3a942936da"
      },
      "outputs": [
        {
          "output_type": "stream",
          "name": "stdout",
          "text": [
            "[',text,,\\n1,\"staring: rona... action, drama, and suspense 🎬 https://t.co/jrnphgphx3\",,\\n2,if my driving test gets cancelled because miss rona wants to move mad i’m actually gonna drive anyway.', 'the police will be busy dealing with the revolution anyway so.... https://t.co/dss0p4ujml,,\\n3,aaron rodgers get that rona i’m dropping 81 on his head nigga,,\\n4,good old rona sorted me right out here https://t.co/xadli1cnhp,,\\n5,on top of rona the pollen out here like https://t.co/s6jynjr1tg,,\\n6,after reading this i think i may have had that rona back in january.', 'same symptoms as here but it ended with whatever was infecting me dissolving a benign breast tumor i’d had for months that doctors said i’d have to get surgically removed... medical twitter can u explain?', 'https://t.co/jvyemqunz3,,\\n7,\"12,000 confirmed rona cases.', 'it will reach abt 30,000\",,\\n8,@ramosmelissaaa yeah you getting the rona,,\\n9,sierra leone has 0 rona cases???', 'https://t.co/mn8npnqwuy,,\\n10,big rona don\\'t stop the tea https://t.co/wrv4ey4qtq,,\\n11,theses kids look like busted trailer trash... big rona can take them ¯\\\\_(ツ)_/¯ https://t.co/usjzoyndk3,,\\n12,\"white people: covid-19\\n\\nblack folks: the rona \\n\\ngay people : miss rona \\n\\n😭☠️\",,\\n13,how the rona pulling up to spring break  https://t.co/rhwbnuwcxo,,\\n14,\"no!', 'not johnny gat!', 'gah damn \\'rona... https://t.co/cistpf1vfo\",,\\n15,\"@crissles probably, my mom and i got sick at the same time mid january and was told it was a flu.', 'it was unlike any flu either of us had experienced though.', 'pretty sure it was rona thee virus.', '\",,\\n16,i was jocin bout big rona til she start fuckin up my bag too 😭🚮,,\\n17,if you pour milk before the cereal you can\\'t be trusted and you got the rona,,\\n18,sean payton got the rona.', '😞,,\\n19,rather have the rona https://t.co/u5nx0ypetl,,\\n20,just know i am living post rona.,,\\n21,miss rona will be sliding right thru that chile https://t.co/zue0y5eb4k,,\\n22,bitch i’ve never been so excited for 6pm like i have through this fucking rona!!', 'so hard to work or give a fuck about anything but what i’m eating next,,\\n23,ms rona got me fucked up,,\\n24,how the rona pulling up to spring break  https://t.co/rhwbnuwcxo,,\\n25,#teamkinfolk #rona #rona2020 #memphis #kinfolk #knowledgeispower  #positivevibes #musicmatters https://t.co/naagn6c5lb,,\\n26,papoose with a ‘the rona’ freestyle 🦠 https://t.co/vfhwiskk9w,,\\n27,\"no one:\\n\\nnot even rona: \\n\\na celebrity on ig live: https://t.co/ionzwq2ul3\",,\\n28,if patrick mahomes catch that rona i’m rolling that shit right up in the backwood i’m sick of that nigga https://t.co/x2qvbm9uke,,\\n29,dak get that rona imma break dance in my living room,,\\n30,@shacuhsky they got the rona... they dying from that now.,,\\n31,@2nae2 @missnarles 😂😂 nah but i got the rona,,\\n32,é gente depois que o c*rona acabar eu vo viver como se não housesse amanhã.', \"https://t.co/l1a9ooianz,,\\n33,@barbershoppod root &amp; rona don't mix🙃😂,,\\n34,y'all hc got the rona?\", \"can't relate,,\\n35,quarantine got these niggas making skits again ... “whispers” thank you ms.rona https://t.co/vjeeec73fl,,\\n36,...the rona must be stopped.\", 'social media is only going to drop further into hell from here.', 'https://t.co/fzmzmy42ys,,\\n37,best to get those mucus levels as low as possible as this rona is going around,,\\n38,@xotic16 just livin rona free brudda,,\\n39,papoose with a ‘the rona’ freestyle 🦠 https://t.co/vfhwiskk9w,,\\n40,i don’t believe in the (rona) no more i believe it’s a distraction tbh shit is getting ridiculous every year it’sumn new around election time 🤔😶👋🏾  if you ask me it’s bs,,\\n41,@collectivelyysd nah bruh miss rona is laughing at me!,,\\n42,if you couldn’t respond to my text nor call during rona... lose my number.. https://t.co/4yw9yqo3qg,,\\n43,good show to get us through the #rona,,\\n44,it’s miss rona’s world and we’re just living in it 😔,,\\n45,\"since you all want life to stop due to corona, tlogelang goya mmerekong le nne gae.', 'rona retlabereka.', '\",,\\n46,\"when i got super fucking sick at essence last year and had a \"\"chest cold\"\" that would not die... it was the fucking rona wasn\\'t it.', '\",,\\n47,neve wont come to my house coz she thinks we have the rona but i miss her 🥺,,\\n48,@tg3ii better than getting that rona,,\\n49,\"hum sari zindgi rona rotay hyn k hmein us shakhs ne dhoka dia......\\nbut main thing is that k hmne hud jn bhuj k logo ko yh moka dia hota hai k wo hmein dhoka dyn\",,\\n50,\"sean payton has the rona and chris sale needs tj, sweet\",,\\n51,i have never spent this much time in the bed/in the house please ms rona go.,,\\n52,sean payton has the rona!?']\n",
            "35\n"
          ]
        }
      ],
      "source": [
        "Tweets_sentences = sent_tokenize(raw)\n",
        "print(Tweets_sentences[:20])\n",
        "print(len(Tweets_sentences))"
      ]
    },
    {
      "cell_type": "markdown",
      "metadata": {
        "id": "i1mW7fP_UJuq"
      },
      "source": [
        "Use the WordNet Lemmatizer or a word stemmer in NLTK to get the lemmas or stems of the words in the text<br>\n",
        "Let's use the WordNet Lemmatizer first, then we can compare it to the Porter Stemmer and the Lancaster Stemmer<br>\n",
        "to see which works best for our objectives"
      ]
    },
    {
      "cell_type": "markdown",
      "metadata": {
        "id": "MFrBOW0cUJuq"
      },
      "source": [
        "WordNet Lemmatizer"
      ]
    },
    {
      "cell_type": "code",
      "execution_count": 47,
      "metadata": {
        "colab": {
          "base_uri": "https://localhost:8080/"
        },
        "id": "Rq_N-8nzUJuq",
        "outputId": "6ee018aa-9128-4c85-ca2d-47f300fd3524"
      },
      "outputs": [
        {
          "output_type": "stream",
          "name": "stdout",
          "text": [
            "['text', '1', \"''\", 'staring', 'rona', '...', 'action', 'drama', 'suspense', '🎬', 'http', '//t.co/jrnphgphx3', \"''\", '2', 'driving', 'test', 'get', 'cancelled', 'miss', 'rona', 'want', 'move', 'mad', '’', 'actually', 'gon', 'na', 'drive', 'anyway', 'police', 'busy', 'dealing', 'revolution', 'anyway', '...', 'http', '//t.co/dss0p4ujml', '3', 'aaron', 'rodgers', 'get', 'rona', '’', 'dropping', '81', 'head', 'nigga', '4', 'good', 'old']\n"
          ]
        }
      ],
      "source": [
        "word_net_lemmatizer = nltk.WordNetLemmatizer()\n",
        "Tweets_lemmas_WordNet = [word_net_lemmatizer.lemmatize(t) for t in Tweets_words]\n",
        "print(Tweets_lemmas_WordNet[:50])"
      ]
    },
    {
      "cell_type": "markdown",
      "metadata": {
        "id": "frIyzlZCUJuq"
      },
      "source": [
        "Now let's try to lemmatize the tweets with the PorterStemmer and compare the first 50 lemmas to those of<br>\n",
        "the WordNet Lemmatizer"
      ]
    },
    {
      "cell_type": "code",
      "execution_count": 48,
      "metadata": {
        "colab": {
          "base_uri": "https://localhost:8080/"
        },
        "id": "9lWOp0-hUJuq",
        "outputId": "20a559b1-8e14-406c-a7d5-08d60ad53ee5"
      },
      "outputs": [
        {
          "output_type": "stream",
          "name": "stdout",
          "text": [
            "['text', '1', \"''\", 'stare', 'rona', '...', 'action', 'drama', 'suspens', '🎬', 'http', '//t.co/jrnphgphx3', \"''\", '2', 'drive', 'test', 'get', 'cancel', 'miss', 'rona', 'want', 'move', 'mad', '’', 'actual', 'gon', 'na', 'drive', 'anyway', 'polic', 'busi', 'deal', 'revolut', 'anyway', '...', 'http', '//t.co/dss0p4ujml', '3', 'aaron', 'rodger', 'get', 'rona', '’', 'drop', '81', 'head', 'nigga', '4', 'good', 'old']\n"
          ]
        }
      ],
      "source": [
        "porter_stemmer = nltk.PorterStemmer()\n",
        "Tweets_lemmas_porter = [porter_stemmer.stem(t) for t in Tweets_words]\n",
        "print(Tweets_lemmas_porter[:50])"
      ]
    },
    {
      "cell_type": "markdown",
      "metadata": {
        "id": "5nOngog0UJuq"
      },
      "source": [
        "And now with the LancasterStemmer"
      ]
    },
    {
      "cell_type": "code",
      "execution_count": 49,
      "metadata": {
        "colab": {
          "base_uri": "https://localhost:8080/"
        },
        "id": "Jo9bYYSPUJur",
        "outputId": "71f2dca2-380b-4181-9b21-a9a5db7cde27"
      },
      "outputs": [
        {
          "output_type": "stream",
          "name": "stdout",
          "text": [
            "['text', '1', \"''\", 'star', 'ron', '...', 'act', 'dram', 'suspens', '🎬', 'https', '//t.co/jrnphgphx3', \"''\", '2', 'driv', 'test', 'get', 'cancel', 'miss', 'ron', 'want', 'mov', 'mad', '’', 'act', 'gon', 'na', 'driv', 'anyway', 'pol', 'busy', 'deal', 'revolv', 'anyway', '...', 'https', '//t.co/dss0p4ujml', '3', 'aaron', 'rodg', 'get', 'ron', '’', 'drop', '81', 'head', 'nigg', '4', 'good', 'old']\n"
          ]
        }
      ],
      "source": [
        "lancaster_stemmer = nltk.LancasterStemmer()\n",
        "Tweets_lemmas_lancaster = [lancaster_stemmer.stem(t) for t in Tweets_words]\n",
        "print(Tweets_lemmas_lancaster[:50])"
      ]
    },
    {
      "cell_type": "markdown",
      "metadata": {
        "id": "A0qU8lj2UJur"
      },
      "source": [
        "Fun functions<br>\n",
        "Get a set of 20 collocations<br>\n",
        "With and without stopwords"
      ]
    },
    {
      "cell_type": "markdown",
      "metadata": {
        "id": "t4rMjInqUJur"
      },
      "source": [
        "Step 1<br>\n",
        "Import the collocation functions from nltk. The * means that we want everything in the 'collocations' functions"
      ]
    },
    {
      "cell_type": "code",
      "execution_count": 50,
      "metadata": {
        "id": "hBCDrAySUJur"
      },
      "outputs": [],
      "source": [
        "from nltk.collocations import *"
      ]
    },
    {
      "cell_type": "markdown",
      "metadata": {
        "id": "RdOckRSeUJur"
      },
      "source": [
        "Import tools from NLTK to find bigrams and association measures between words"
      ]
    },
    {
      "cell_type": "code",
      "execution_count": 51,
      "metadata": {
        "id": "-dyZC8yoUJur"
      },
      "outputs": [],
      "source": [
        "from nltk.collocations import BigramCollocationFinder\n",
        "from nltk.metrics import BigramAssocMeasures"
      ]
    },
    {
      "cell_type": "markdown",
      "metadata": {
        "id": "g7rPwm9LUJur"
      },
      "source": [
        "Step 2<br>\n",
        "Find collocations in the text Tweets_words<br>\n",
        "Find bigrams, which are pairs of words, and ask for 20 collocations"
      ]
    },
    {
      "cell_type": "code",
      "execution_count": 52,
      "metadata": {
        "colab": {
          "base_uri": "https://localhost:8080/"
        },
        "id": "FXDMazhKUJus",
        "outputId": "8515c6e5-829a-4d9d-9e78-0312bdd78c70"
      },
      "outputs": [
        {
          "output_type": "execute_result",
          "data": {
            "text/plain": [
              "[('pulling', 'spring'),\n",
              " ('spring', 'break'),\n",
              " ('freestyle', '🦠'),\n",
              " ('sean', 'payton'),\n",
              " ('miss', 'rona'),\n",
              " ('papoose', '‘'),\n",
              " ('https', '//t.co/rhwbnuwcxo'),\n",
              " ('action', 'drama'),\n",
              " ('drama', 'suspense'),\n",
              " ('patrick', 'mahomes'),\n",
              " ('suspense', '🎬'),\n",
              " ('break', 'https'),\n",
              " ('got', 'fucked'),\n",
              " ('81', 'head'),\n",
              " ('aaron', 'rodgers'),\n",
              " ('dropping', '81'),\n",
              " ('mahomes', 'catch'),\n",
              " ('stop', 'tea'),\n",
              " ('big', 'rona'),\n",
              " ('rona', 'pulling')]"
            ]
          },
          "metadata": {},
          "execution_count": 52
        }
      ],
      "source": [
        "finder = BigramCollocationFinder.from_words(Tweets_words)\n",
        "finder.nbest(BigramAssocMeasures.likelihood_ratio, 20)"
      ]
    },
    {
      "cell_type": "code",
      "execution_count": 53,
      "metadata": {
        "colab": {
          "base_uri": "https://localhost:8080/"
        },
        "id": "YLijI8luUJus",
        "outputId": "6bdd3db6-b77a-43d6-d126-9a01a222558a"
      },
      "outputs": [
        {
          "output_type": "stream",
          "name": "stdout",
          "text": [
            "[('pulling', 'spring'), ('spring', 'break'), ('freestyle', '🦠'), ('sean', 'payton'), ('miss', 'rona'), ('papoose', '‘'), ('https', '//t.co/rhwbnuwcxo'), ('action', 'drama'), ('drama', 'suspense'), ('patrick', 'mahomes'), ('suspense', '🎬'), ('break', 'https'), ('got', 'fucked'), ('81', 'head'), ('aaron', 'rodgers'), ('dropping', '81'), ('mahomes', 'catch'), ('stop', 'tea'), ('big', 'rona'), ('rona', 'pulling')]\n"
          ]
        }
      ],
      "source": [
        "print(finder.nbest(BigramAssocMeasures.likelihood_ratio, 20))"
      ]
    },
    {
      "cell_type": "markdown",
      "metadata": {
        "id": "M9UYCi9LUJus"
      },
      "source": [
        "Step 3<br>\n",
        "Let's eliminate the stopwords<br>\n",
        "The output looks much better and the collocations seem much more likely"
      ]
    },
    {
      "cell_type": "code",
      "execution_count": 54,
      "metadata": {
        "colab": {
          "base_uri": "https://localhost:8080/"
        },
        "id": "hGNusWgqUJus",
        "outputId": "b736de06-4240-4519-b823-4072937f8a70"
      },
      "outputs": [
        {
          "output_type": "execute_result",
          "data": {
            "text/plain": [
              "[('pulling', 'spring'),\n",
              " ('spring', 'break'),\n",
              " ('sean', 'payton'),\n",
              " ('miss', 'rona'),\n",
              " ('https', '//t.co/rhwbnuwcxo'),\n",
              " ('action', 'drama'),\n",
              " ('drama', 'suspense'),\n",
              " ('patrick', 'mahomes'),\n",
              " ('break', 'https'),\n",
              " ('got', 'fucked'),\n",
              " ('aaron', 'rodgers'),\n",
              " ('mahomes', 'catch'),\n",
              " ('stop', 'tea'),\n",
              " ('big', 'rona'),\n",
              " ('rona', 'pulling'),\n",
              " ('covid-19', 'black'),\n",
              " ('gay', 'people'),\n",
              " ('head', 'nigga'),\n",
              " ('people', 'covid-19'),\n",
              " ('rolling', 'shit')]"
            ]
          },
          "metadata": {},
          "execution_count": 54
        }
      ],
      "source": [
        "stopset = set(stopwords.words('english'))\n",
        "filter_stops = lambda w: len(w) < 3 or w in stopset\n",
        "finder.apply_word_filter(filter_stops)\n",
        "finder.nbest(BigramAssocMeasures.likelihood_ratio, 20)"
      ]
    },
    {
      "cell_type": "code",
      "execution_count": 55,
      "metadata": {
        "colab": {
          "base_uri": "https://localhost:8080/"
        },
        "id": "jIK9bftgUJus",
        "outputId": "dd387596-729f-4db2-c47a-82dae4d5de9e"
      },
      "outputs": [
        {
          "output_type": "stream",
          "name": "stdout",
          "text": [
            "[('pulling', 'spring'), ('spring', 'break'), ('sean', 'payton'), ('miss', 'rona'), ('https', '//t.co/rhwbnuwcxo'), ('action', 'drama'), ('drama', 'suspense'), ('patrick', 'mahomes'), ('break', 'https'), ('got', 'fucked'), ('aaron', 'rodgers'), ('mahomes', 'catch'), ('stop', 'tea'), ('big', 'rona'), ('rona', 'pulling'), ('covid-19', 'black'), ('gay', 'people'), ('head', 'nigga'), ('people', 'covid-19'), ('rolling', 'shit')]\n"
          ]
        }
      ],
      "source": [
        "print(finder.nbest(BigramAssocMeasures.likelihood_ratio, 20))"
      ]
    },
    {
      "cell_type": "markdown",
      "metadata": {
        "id": "DZeCPl5zUJus"
      },
      "source": [
        "Get the frequency distribution of the 50 most frequent words in the text."
      ]
    },
    {
      "cell_type": "code",
      "execution_count": 56,
      "metadata": {
        "colab": {
          "base_uri": "https://localhost:8080/"
        },
        "id": "jed9No1FUJus",
        "outputId": "9fccb61c-4279-4946-9a16-c62e0afded76"
      },
      "outputs": [
        {
          "output_type": "stream",
          "name": "stdout",
          "text": [
            "[('rona', 94), ('https', 41), (\"''\", 40), ('’', 40), ('...', 17), ('got', 17), ('miss', 10), ('get', 9), ('``', 8), (\"n't\", 7), ('break', 6), ('right', 5), ('like', 5), ('big', 5), ('pulling', 5), ('spring', 5), ('//t.co/rhwbnuwcxo', 5), ('us', 5), ('nigga', 4), ('take', 4), ('people', 4), ('black', 4), ('folks', 4), ('sick', 4), ('time', 4), ('ms', 4), ('‘', 4), ('shit', 4), ('around', 4), ('k', 4), ('aaron', 3), ('81', 3), ('u', 3), ('getting', 3), ('stop', 3), ('sean', 3), ('payton', 3), ('living', 3), ('post', 3), ('never', 3), ('fucking', 3), ('fuck', 3), ('fucked', 3), ('papoose', 3), ('freestyle', 3), ('🦠', 3), ('//t.co/vfhwiskk9w', 3), ('catch', 3), ('thank', 3), ('going', 3)]\n"
          ]
        }
      ],
      "source": [
        "fdist1 = nltk.FreqDist(Tweets_words)\n",
        "#print(fdist1)\n",
        "print(fdist1.most_common(50))"
      ]
    },
    {
      "cell_type": "markdown",
      "metadata": {
        "id": "vfdG_pNTUJut"
      },
      "source": [
        "Plot the distribution."
      ]
    },
    {
      "cell_type": "code",
      "execution_count": 57,
      "metadata": {
        "colab": {
          "base_uri": "https://localhost:8080/",
          "height": 448
        },
        "id": "W6NHsFyRUJut",
        "outputId": "ac737e16-2ca7-4f0b-9275-17b194b31d28"
      },
      "outputs": [
        {
          "output_type": "stream",
          "name": "stderr",
          "text": [
            "/usr/local/lib/python3.7/dist-packages/matplotlib/backends/backend_agg.py:214: RuntimeWarning: Glyph 129440 missing from current font.\n",
            "  font.set_text(s, 0.0, flags=flags)\n",
            "/usr/local/lib/python3.7/dist-packages/matplotlib/backends/backend_agg.py:183: RuntimeWarning: Glyph 129440 missing from current font.\n",
            "  font.set_text(s, 0, flags=flags)\n"
          ]
        },
        {
          "output_type": "display_data",
          "data": {
            "text/plain": [
              "<Figure size 432x288 with 1 Axes>"
            ],
            "image/png": "[encoded data removed]"
          },
          "metadata": {
            "needs_background": "light"
          }
        },
        {
          "output_type": "stream",
          "name": "stdout",
          "text": [
            "None\n"
          ]
        }
      ],
      "source": [
        "print(fdist1.plot(50, cumulative=True))"
      ]
    },
    {
      "cell_type": "markdown",
      "metadata": {
        "id": "pdFelRPaUJut"
      },
      "source": [
        "Get the frequency distribution of the 50 most frequent lemmas or stems in the text."
      ]
    },
    {
      "cell_type": "code",
      "execution_count": 58,
      "metadata": {
        "colab": {
          "base_uri": "https://localhost:8080/"
        },
        "id": "Y1DuZOW8UJut",
        "outputId": "2b760ef6-c093-43b2-fcb6-95c61816ed36"
      },
      "outputs": [
        {
          "output_type": "stream",
          "name": "stdout",
          "text": [
            "[('rona', 94), ('http', 41), (\"''\", 40), ('’', 40), ('...', 17), ('got', 17), ('get', 10), ('miss', 10), ('u', 8), ('``', 8), (\"n't\", 7), ('right', 6), ('break', 6), ('nigga', 5), ('like', 5), ('big', 5), ('pulling', 5), ('spring', 5), ('//t.co/rhwbnuwcxo', 5), ('take', 4), ('people', 4), ('black', 4), ('folk', 4), ('sick', 4), ('time', 4), ('m', 4), ('‘', 4), ('catch', 4), ('shit', 4), ('around', 4), ('k', 4), ('want', 3), ('aaron', 3), ('81', 3), ('getting', 3), ('stop', 3), ('sean', 3), ('payton', 3), ('living', 3), ('post', 3), ('never', 3), ('fucking', 3), ('fuck', 3), ('fucked', 3), ('papoose', 3), ('freestyle', 3), ('🦠', 3), ('//t.co/vfhwiskk9w', 3), ('thank', 3), ('going', 3)]\n"
          ]
        }
      ],
      "source": [
        "fdist2 = nltk.FreqDist(Tweets_lemmas_WordNet)\n",
        "#print(fdist2)\n",
        "print(fdist2.most_common(50))"
      ]
    },
    {
      "cell_type": "markdown",
      "metadata": {
        "id": "GoMRlr6xUJut"
      },
      "source": [
        "Plot the distribution."
      ]
    },
    {
      "cell_type": "code",
      "execution_count": 59,
      "metadata": {
        "colab": {
          "base_uri": "https://localhost:8080/",
          "height": 448
        },
        "id": "6vy03OhUUJut",
        "outputId": "df616967-c2be-4bb7-b482-486f7816426a"
      },
      "outputs": [
        {
          "output_type": "stream",
          "name": "stderr",
          "text": [
            "/usr/local/lib/python3.7/dist-packages/matplotlib/backends/backend_agg.py:214: RuntimeWarning: Glyph 129440 missing from current font.\n",
            "  font.set_text(s, 0.0, flags=flags)\n",
            "/usr/local/lib/python3.7/dist-packages/matplotlib/backends/backend_agg.py:183: RuntimeWarning: Glyph 129440 missing from current font.\n",
            "  font.set_text(s, 0, flags=flags)\n"
          ]
        },
        {
          "output_type": "display_data",
          "data": {
            "text/plain": [
              "<Figure size 432x288 with 1 Axes>"
            ],
            "image/png": "[encoded data removed]"
          },
          "metadata": {
            "needs_background": "light"
          }
        },
        {
          "output_type": "stream",
          "name": "stdout",
          "text": [
            "None\n"
          ]
        }
      ],
      "source": [
        "print(fdist2.plot(50, cumulative=True))"
      ]
    },
    {
      "cell_type": "markdown",
      "metadata": {
        "id": "1D-TDIsFUJut"
      },
      "source": [
        "Get the lexical diversity of the text"
      ]
    },
    {
      "cell_type": "code",
      "execution_count": 60,
      "metadata": {
        "id": "tgNlXldmUJut"
      },
      "outputs": [],
      "source": [
        "def lexical_diversity(text):\n",
        "    return len(text) / len(set(text))"
      ]
    },
    {
      "cell_type": "markdown",
      "metadata": {
        "id": "c9mlk-48UJuu"
      },
      "source": [
        "Try your function out on \"Tweets_words\""
      ]
    },
    {
      "cell_type": "code",
      "execution_count": 61,
      "metadata": {
        "colab": {
          "base_uri": "https://localhost:8080/"
        },
        "id": "jMyE0k6fUJuu",
        "outputId": "7a0fd7e9-a1f6-4b89-be4c-3cc218265a65"
      },
      "outputs": [
        {
          "output_type": "stream",
          "name": "stdout",
          "text": [
            "1.6147540983606556\n"
          ]
        }
      ],
      "source": [
        "print(lexical_diversity(Tweets_words))"
      ]
    },
    {
      "cell_type": "markdown",
      "metadata": {
        "id": "302aoGg1UJuu"
      },
      "source": [
        "Get the lexical dispersion of a selection of words and plot the results.<br>\n",
        "This doesn't make much sense with 1.8 million tweets that are connected together as a list,<br>\n",
        "but if you are analyzing one text or a series of texts like in the Inaugural Address Corpus,<br>\n",
        "this function makes more sense<br>\n",
        "rint(Tweets_words.dispersion_plot([\"citizens\", \"democracy\", \"freedom\", \"duties\", \"America\"]))"
      ]
    },
    {
      "cell_type": "markdown",
      "metadata": {
        "id": "jwIiJERWUJuu"
      },
      "source": [
        "3.4 Regular Expressions for Detecting Word Patterns - Searching for parts of words"
      ]
    },
    {
      "cell_type": "markdown",
      "metadata": {
        "id": "CmmJWJfvUJuu"
      },
      "source": [
        "Many linguistic processing tasks involve pattern matching. For example, we can find words<br>\n",
        "ending with ed using endswith('ed'). We saw a variety of such \"word tests\" in 4.2.<br>\n",
        "Regular expressions give us a more powerful and flexible method for describing the character<br>\n",
        "patterns we are interested in."
      ]
    },
    {
      "cell_type": "markdown",
      "metadata": {
        "id": "dGP3424JUJuu"
      },
      "source": [
        "To use regular expressions in Python we need to import the re library using: import re.<br>\n",
        "We also need a list of words to search; we'll use the Words Corpus again (4).<br>\n",
        "We will preprocess it to remove any proper names."
      ]
    },
    {
      "cell_type": "code",
      "execution_count": 62,
      "metadata": {
        "id": "KlOewv7NUJuu",
        "colab": {
          "base_uri": "https://localhost:8080/"
        },
        "outputId": "637c96f6-2d6d-4124-c522-74889880f74c"
      },
      "outputs": [
        {
          "output_type": "stream",
          "name": "stdout",
          "text": [
            "[nltk_data] Downloading package words to /root/nltk_data...\n",
            "[nltk_data]   Unzipping corpora/words.zip.\n"
          ]
        }
      ],
      "source": [
        "import re\n",
        "nltk.download('words')\n",
        "wordlist = [w for w in nltk.corpus.words.words('en') if w.islower()]"
      ]
    },
    {
      "cell_type": "markdown",
      "metadata": {
        "id": "87_z4yk-UJuu"
      },
      "source": [
        "Let's find words ending with ed using the regular expression «ed$».<br>\n",
        "We will use the re.search(p, s) function to check whether the pattern p can be found<br>\n",
        "somewhere inside the string s. We need to specify the characters of interest, and use<br>\n",
        "the dollar sign which has a special behavior in the context of regular expressions<br>\n",
        "in that it matches the end of the word:"
      ]
    },
    {
      "cell_type": "code",
      "execution_count": 63,
      "metadata": {
        "colab": {
          "base_uri": "https://localhost:8080/"
        },
        "id": "6GJizsV-UJuv",
        "outputId": "c2d6403d-c9ca-424c-8f14-252a0057629e"
      },
      "outputs": [
        {
          "output_type": "stream",
          "name": "stdout",
          "text": [
            "['abaissed', 'abandoned', 'abased', 'abashed', 'abatised', 'abed', 'aborted', 'abridged', 'abscessed', 'absconded', 'absorbed', 'abstracted', 'abstricted', 'accelerated', 'accepted', 'accidented', 'accoladed', 'accolated', 'accomplished', 'accosted', 'accredited', 'accursed', 'accused', 'accustomed', 'acetated', 'acheweed', 'aciculated', 'aciliated', 'acknowledged', 'acorned', 'acquainted', 'acquired', 'acquisited', 'acred', 'aculeated', 'addebted', 'added', 'addicted', 'addlebrained', 'addleheaded', 'addlepated', 'addorsed', 'adempted', 'adfected', 'adjoined', 'admired', 'admitted', 'adnexed', 'adopted', 'adossed', 'adreamed', 'adscripted', 'aduncated', 'advanced', 'advised', 'aeried', 'aethered', 'afeared', 'affected', 'affectioned', 'affined', 'afflicted', 'affricated', 'affrighted', 'affronted', 'aforenamed', 'afterfeed', 'aftershafted', 'afterthoughted', 'afterwitted', 'agazed', 'aged', 'agglomerated', 'aggrieved', 'agminated', 'agnamed', 'agonied', 'agreed', 'agueweed', 'ahungered', 'aiguilletted', 'ailweed', 'airbrained', 'airified', 'aiseweed', 'aisled', 'alarmed', 'alated', 'alimonied', 'aliped', 'alleyed', 'allied', 'alligatored', 'allseed', 'almsdeed', 'aloed', 'altared', 'alveolated', 'amazed', 'ameed', 'amiced', 'amphitheatered', 'ampullated', 'amused', 'anchored', 'angled', 'anguiped', 'anguished', 'angulated', 'angulinerved', 'anhungered', 'animated', 'aniseed', 'annodated', 'annulated', 'anomaliped', 'anserated', 'anteflected', 'anteflexed', 'antimoniated', 'antimoniureted', 'antimoniuretted', 'antiquated', 'antired', 'antiweed', 'antlered', 'apertured', 'apexed', 'apicifixed', 'apiculated', 'apocopated', 'apostrophied', 'appearanced', 'appellatived', 'appendaged', 'appendiculated', 'applied', 'appressed', 'aralkylated', 'arbored', 'arched', 'architraved', 'arcked', 'arcuated', 'ared', 'areolated', 'ariled', 'arillated', 'armchaired', 'armed', 'armied', 'armillated', 'armored', 'armoried', 'arpeggiated', 'arpeggioed', 'arrased', 'arrowed', 'arrowheaded', 'arrowweed', 'arseneted', 'arsenetted', 'arseniureted', 'articled', 'articulated', 'ashamed', 'ashlared', 'ashweed', 'aspersed', 'asphyxied', 'assented', 'assessed', 'assigned', 'assistanted', 'associated', 'assonanced', 'assorted', 'assumed', 'assured', 'asteriated', 'astonied', 'aswooned', 'atrophiated', 'atrophied', 'attached', 'attired', 'attrited', 'augmented', 'aurated', 'auricled', 'auriculated', 'authorized', 'autoinhibited', 'autosensitized', 'autosled', 'averted', 'avowed', 'awearied', 'awned', 'awninged', 'axed', 'axhammered', 'axised', 'axled', 'axseed', 'axweed', 'azoted', 'azured', 'babied', 'babished', 'babyfied', 'baccated', 'backboned', 'backed', 'backhanded', 'backwatered', 'baconweed', 'badgerweed', 'bagged', 'bagwigged', 'baked', 'balanced', 'balconied', 'baldachined', 'baldricked', 'balled', 'ballweed', 'balsamweed', 'balustered', 'balustraded', 'bandannaed', 'banded', 'bandoleered', 'bangled', 'banked', 'bankweed', 'bannered', 'barbated', 'barbed', 'barebacked', 'bareboned', 'barefaced', 'barefooted', 'barehanded', 'bareheaded', 'barelegged', 'barenecked', 'barmybrained', 'barred', 'barreled', 'bartizaned', 'basebred', 'based', 'basehearted', 'basifixed', 'basilweed', 'basined', 'basinerved', 'basqued', 'bastioned', 'bated', 'bathroomed', 'battered', 'batteried', 'battled', 'battlemented', 'bayed', 'bayoneted', 'beached', 'beaded', 'beaked', 'bealtared', 'beamed', 'beanweed', 'beaproned', 'bearded', 'beautied', 'beavered', 'beballed', 'bebannered', 'bebed', 'bebelted', 'bebled', 'bebothered', 'bebouldered', 'bebuttoned', 'becassocked', 'bechained', 'bechignoned', 'becircled', 'becoiffed', 'becombed', 'becousined', 'becrinolined', 'becuffed', 'becurtained', 'becushioned', 'bed', 'bedaggered', 'bedangled', 'bedded', 'bediademed', 'bediamonded', 'beedged', 'beefheaded', 'beeheaded', 'beeswinged', 'beetled', 'beetleheaded', 'beetleweed', 'beeweed', 'befamilied', 'befanned', 'befathered', 'beferned', 'befetished', 'befezzed', 'befilleted', 'befilmed', 'beforested', 'befountained', 'befrocked', 'befrogged', 'befurbelowed', 'befurred', 'begabled', 'begarlanded', 'begartered', 'beggarweed', 'beglobed', 'begoggled', 'begowned', 'behatted', 'behaviored', 'beheadlined', 'behooped', 'beinked', 'bekilted', 'beknived', 'beknotted', 'belaced', 'belated', 'belatticed', 'belavendered', 'beledgered', 'belfried', 'beliked', 'belimousined', 'belled', 'bellied', 'bellmouthed', 'bellweed', 'beloved', 'belozenged', 'belted', 'bemazed', 'bemedaled', 'bemedalled', 'bemitered', 'bemitred', 'bemused', 'bemuslined', 'bended', 'beneaped', 'beneficed', 'beneighbored', 'benempted', 'benighted', 'bennetweed', 'benumbed', 'benweed', 'benzoated', 'benzoinated', 'bepastured', 'bepatched', 'beperiwigged', 'bepewed', 'bepillared', 'bepistoled', 'beplaided', 'beplumed', 'beribanded', 'beribboned', 'beringed', 'beringleted', 'berobed', 'berouged', 'berried', 'berthed', 'beruffed', 'beruffled', 'beshawled', 'besieged', 'beslushed', 'besotted', 'bespecked', 'bespectacled', 'besped', 'bespeed', 'bespelled', 'bespurred', 'bestatued', 'bestayed', 'bestrapped', 'bestubbled', 'besweatered', 'betattered', 'betaxed', 'betowered', 'betrothed', 'betrousered', 'betted', 'betuckered', 'beturbaned', 'betusked', 'betutored', 'betwattled', 'beuniformed', 'beveled', 'bevelled', 'bevesseled', 'bevesselled', 'bevined', 'bevoiled', 'bewaitered', 'bewhiskered', 'bewigged', 'bewildered', 'bewinged', 'bewired', 'bewrathed', 'biangulated', 'biarcuated', 'biarticulated', 'bicarbureted', 'biciliated', 'bicolored', 'bicorned', 'bidented', 'bifanged', 'bifidated', 'biflected', 'biforked', 'biformed', 'bifronted', 'bifurcated', 'bigeminated', 'bighearted', 'bigmouthed', 'bigoted', 'bigwigged', 'bilamellated', 'bilaminated', 'billed', 'bilobated', 'bilobed', 'bilsted', 'bimaculated', 'bimotored', 'bindweed', 'bineweed', 'binominated', 'binucleated', 'biparted', 'bipectinated', 'biped', 'bipennated', 'bipinnated', 'bipinnatiparted', 'bipinnatisected', 'biradiated', 'birdmouthed', 'birdseed', 'birdweed', 'birostrated', 'birthbed', 'bisexed', 'bishopweed', 'bistered', 'bistipuled', 'bisubstituted', 'bitted', 'bitterhearted', 'bitterweed', 'bituberculated', 'bitumed', 'bivalved', 'bivaulted', 'bivocalized', 'blackhearted', 'blackseed', 'blackshirted', 'bladderseed', 'bladderweed', 'bladed', 'blakeberyed', 'blamed', 'blanked', 'blanketed', 'blanketweed', 'blasted', 'bleached', 'bleared', 'bleed', 'blended', 'blessed', 'blighted', 'blinded', 'blindfolded', 'blindweed', 'blinked', 'blinkered', 'blistered', 'blisterweed', 'blithehearted', 'bloated', 'blobbed', 'blocked', 'blockheaded', 'blooded', 'bloodied', 'bloodshed', 'bloodstained', 'bloodweed', 'blossomed', 'blotched', 'bloused', 'blowzed', 'bludgeoned', 'bluebelled', 'bluehearted', 'blueweed', 'blunderheaded', 'blunthearted', 'blurred', 'bobbed', 'bobsled', 'bobtailed', 'bodiced', 'bodied', 'boiled', 'boldhearted', 'bolectioned', 'boled', 'boleweed', 'bolled', 'bombed', 'bonded', 'boned', 'boneheaded', 'bonneted', 'booked', 'booted', 'bootied', 'boozed', 'bordered', 'bordured', 'bosomed', 'bossed', 'bosselated', 'botched', 'botherheaded', 'bothsided', 'bottled', 'bottomed', 'boughed', 'bounded', 'bountied', 'bowed', 'boweled', 'bowlegged', 'bowstringed', 'braced', 'braceleted', 'brackened', 'bracted', 'braided', 'brambled', 'branched', 'branded', 'brandied', 'brangled', 'bravehearted', 'brawned', 'brazenfaced', 'breasted', 'breastweed', 'breathed', 'brecciated', 'bred', 'breeched', 'breed', 'breviped', 'bridebed', 'brideweed', 'bridged', 'bridled', 'briered', 'brimmed', 'bristled', 'broadhearted', 'brocaded', 'brocked', 'brokenhearted', 'bromoiodized', 'bronzed', 'brooked', 'brookweed', 'broomweed', 'broozled', 'browed', 'brownweed', 'bruckled', 'brushed', 'buboed', 'bucked', 'buckled', 'buckskinned', 'buffed', 'bugled', 'bugleweed', 'bugseed', 'bugweed', 'bulbed', 'bulked', 'bulkheaded', 'bullated', 'bulldogged', 'bulleted', 'bulletheaded', 'bullheaded', 'bullweed', 'bummed', 'bundlerooted', 'bundweed', 'bunted', 'buried', 'burled', 'burned', 'burnoosed', 'burntweed', 'burred', 'burroweed', 'burseed', 'burweed', 'bushed', 'busied', 'busked', 'buskined', 'busted', 'bustled', 'busybodied', 'buttered', 'butterfingered', 'butterweed', 'butteryfingered', 'buttocked', 'buttoned', 'buttonweed', 'cabled', 'caboshed', 'caddiced', 'caddised', 'cadenced', 'cadweed', 'caftaned', 'caged', 'cairned', 'caissoned', 'calced', 'calcified', 'calcined', 'calculated', 'calibered', 'calicoed', 'caligated', 'calpacked', 'calved', 'calycled', 'calyculated', 'camailed', 'camerated', 'cammed', 'campanulated', 'campshed', 'camused', 'canaliculated', 'cancellated', 'cancered', 'cancerweed', 'candied', 'candlelighted', 'candlesticked', 'candyweed', 'canioned', 'cankered', 'cankerweed', 'canned', 'cannelated', 'cannelured', 'cannoned', 'cannulated', 'canted', 'cantilevered', 'cantoned', 'cantred', 'caped', 'capernoited', 'capeweed', 'capitaled', 'capitated', 'capped', 'capriped', 'capsulated', 'capuched', 'carapaced', 'carbolated', 'carboyed', 'carbuncled', 'carcaneted', 'carded', 'carinated', 'carkled', 'carnaged', 'carnationed', 'carpetweed', 'carried', 'carrotweed', 'carucated', 'carunculated', 'cased', 'casemated', 'casemented', 'caseweed', 'casqued', 'castellated', 'castled', 'castorized', 'catamited', 'cataracted', 'catarrhed', 'catchweed', 'catenated', 'caterpillared', 'catfaced', 'catfooted', 'cathedraled', 'caudated', 'caverned', 'cavitied', 'cayenned', 'cedared', 'ceilinged', 'celebrated', 'cellated', 'celled', 'cellulated', 'celluloided', 'centered', 'centriffed', 'centuried', 'cerated', 'cered', 'certified', 'chafeweed', 'chaffseed', 'chaffweed', 'chafted', 'chained', 'chaliced', 'chambered', 'chamberleted', 'chamberletted', 'chanceled', 'channeled', 'channelled', 'chaped', 'chapleted', 'chapournetted', 'chapped', 'charioted', 'charqued', 'chartered', 'chasmed', 'chasteweed', 'chasubled', 'checked', 'checkered', 'checkrowed', 'cheered', 'cheliped', 'cherried', 'chickenbreasted', 'chickenhearted', 'chickenweed', 'chickweed', 'chicqued', 'chiggerweed', 'chignoned', 'childbed', 'childed', 'chilled', 'chined', 'chinned', 'chipped', 'chiseled', 'chitinized', 'chokered', 'chokeweed', 'cholterheaded', 'chopped', 'choppered', 'chorded', 'chowderheaded', 'christened', 'chubbed', 'chuckleheaded', 'churchified', 'churled', 'ciliated', 'cingulated', 'cinnamoned', 'cinquefoiled', 'circled', 'circumscribed', 'circumstanced', 'cirrated', 'cirrhosed', 'cirriped', 'cisted', 'citied', 'citified', 'citrated', 'civilized', 'clammed', 'clammyweed', 'clanned', 'clapped', 'classed', 'classified', 'clavated', 'clavellated', 'clawed', 'claybrained', 'clayweed', 'cleaded', 'cleanhanded', 'cleanhearted', 'clearheaded', 'clearhearted', 'clearweed', 'cled', 'cleeked', 'clefted', 'clerestoried', 'cliented', 'cliffed', 'cliffweed', 'clipped', 'cloaked', 'clocked', 'clodpated', 'cloistered', 'closed', 'closefisted', 'closehanded', 'closehearted', 'closemouthed', 'clotweed', 'clouded', 'clouted', 'clovered', 'clubbed', 'clubfisted', 'clubfooted', 'clubweed', 'clustered', 'coaged', 'coaggregated', 'coated', 'coattailed', 'cobbed', 'cocashweed', 'cochleated', 'cockaded', 'cocked', 'cockeyed', 'cockled', 'cockneybred', 'cockscombed', 'cockweed', 'codheaded', 'coed', 'coelongated', 'coembedded', 'coequated', 'coexpanded', 'coffeeweed', 'cogged', 'coifed', 'coiled', 'coldhearted', 'coleseed', 'colicweed', 'collared', 'collected', 'collied', 'colloped', 'colonnaded', 'colored', 'columnated', 'columned', 'combed', 'combined', 'compacted', 'complected', 'complexioned', 'complicated', 'componed', 'componented', 'composed', 'compressed', 'comprised', 'compulsed', 'conamed', 'concamerated', 'concealed', 'conceded', 'conceited', 'concentrated', 'concerned', 'concerted', 'conched', 'conchyliated', 'condemned', 'condensed', 'conditioned', 'conduplicated', 'coned', 'confated', 'conferted', 'confined', 'confirmed', 'conflated', 'confounded', 'confused', 'congested', 'conjoined', 'conjugated', 'connected', 'conred', 'consecrated', 'considered', 'consolidated', 'constrained', 'constricted', 'consumpted', 'contagioned', 'contented', 'contextured', 'continued', 'contorted', 'contortioned', 'contracted', 'contractured', 'contusioned', 'converted', 'convexed', 'convinced', 'convoluted', 'coolheaded', 'coolweed', 'copied', 'copleased', 'copped', 'coppernosed', 'copperytailed', 'coppiced', 'coppled', 'copsewooded', 'copygraphed', 'coraled', 'corded', 'corduroyed', 'cored', 'coreflexed', 'corked', 'cornered', 'cornified', 'cornuated', 'cornuted', 'corollated', 'coronaled', 'coronated', 'coroneted', 'coronetted', 'corpusculated', 'corrected', 'correlated', 'corridored', 'corrugated', 'corrupted', 'corticated', 'corymbed', 'corymbiated', 'cosphered', 'costated', 'cothurned', 'cottaged', 'cotted', 'cottonseed', 'cottonweed', 'cotwinned', 'couched', 'coughweed', 'counterattired', 'counterchanged', 'countercolored', 'counterdigged', 'counterembattled', 'counterembowed', 'counterfessed', 'countergirded', 'counterindented', 'counterpaled', 'counterpaned', 'counterpointed', 'counterquartered', 'counterreflected', 'counterscalloped', 'counterturned', 'counterweighted', 'countrified', 'couped', 'coupled', 'couponed', 'coursed', 'courtbred', 'coved', 'covenanted', 'covered', 'coversed', 'cowhearted', 'cowled', 'cowshed', 'cowslipped', 'cowweed', 'crabbed', 'crabweed', 'crackbrained', 'cracked', 'crackled', 'cragged', 'cramped', 'cranked', 'crannied', 'cratered', 'cravenhearted', 'crazed', 'crazyweed', 'creed', 'creeded', 'creepered', 'crenated', 'crenelated', 'creneled', 'crenulated', 'cressed', 'cressweed', 'crested', 'creviced', 'cried', 'crinated', 'crined', 'crispated', 'crisped', 'crocketed', 'crocused', 'crookbacked', 'crookbilled', 'crooked', 'crookfingered', 'crookheaded', 'crookkneed', 'crooklegged', 'crooknecked', 'crooknosed', 'crookshouldered', 'crooksided', 'crooksterned', 'crooktoothed', 'cropweed', 'crosiered', 'crossbolted', 'crossbred', 'crossbreed', 'crosscurrented', 'crossed', 'crossleted', 'crosslighted', 'crosstied', 'crossweed', 'crotched', 'crouched', 'crowded', 'crowdweed', 'crowfooted', 'crowned', 'crowstepped', 'crucified', 'cruelhearted', 'crumpled', 'crunchweed', 'crushed', 'crustated', 'crusted', 'crutched', 'crypted', 'crystallized', 'cubited', 'cudweed', 'cuirassed', 'cultivated', 'cultrated', 'cultured', 'cuminseed', 'cupolated', 'cupped', 'cupseed', 'curled', 'curried', 'cursed', 'curtailed', 'curved', 'curvinerved', 'cushioned', 'cusped', 'cussed', 'cutted', 'cutweed', 'cyanosed', 'cylindered', 'cypressed', 'cysted', 'daggered', 'daggletailed', 'daisied', 'damascened', 'damned', 'damped', 'dappled', 'darkhearted', 'darned', 'dashed', 'dazed', 'deadhearted', 'dealated', 'deathbed', 'deathweed', 'debauched', 'debentured', 'debilitated', 'deboshed', 'decahydrated', 'decarbonized', 'decarnated', 'decayed', 'deceased', 'decided', 'decked', 'declared', 'declined', 'decollated', 'decomposed', 'decorated', 'decried', 'decussated', 'deed', 'deedeed', 'deepmouthed', 'deerweed', 'defamed', 'defeasanced', 'deferred', 'defiled', 'defined', 'deflected', 'defoliated', 'deformed', 'degged', 'degraded', 'dejected', 'deligated', 'delighted', 'demented', 'demersed', 'demibastioned', 'demicivilized', 'demidigested', 'demikindred', 'deminatured', 'demiturned', 'demoded', 'dentated', 'dentelated', 'dentilated', 'departed', 'dephlogisticated', 'deplored', 'deplumated', 'depraved', 'depressed', 'deranged', 'derived', 'deseed', 'desegmented', 'deserted', 'deserved', 'designed', 'desired', 'detached', 'detailed', 'determined', 'detrited', 'deuced', 'devertebrated', 'deviled', 'devitalized', 'devoted', 'dewclawed', 'dewlapped', 'diamonded', 'difformed', 'diffused', 'digammated', 'digested', 'digitated', 'digitinerved', 'dignified', 'dihydrated', 'dilapidated', 'dilated', 'dillseed', 'dillweed', 'diluted', 'dimensioned', 'dimmed', 'dipped', 'directed', 'disabled', 'disaccustomed', 'disaffected', 'disagreed', 'disappointed', 'disaproned', 'disarmed', 'discalced', 'disclosed', 'discolored', 'discomposed', 'disconcerted', 'disconnected', 'discontented', 'discovered', 'discrested', 'diseased', 'disembed', 'disengaged', 'disguised', 'disgusted', 'dished', 'disheveled', 'disimpassioned', 'disinterested', 'disjasked', 'disjointed', 'dislocated', 'dismayed', 'dismembered', 'dismoded', 'disnosed', 'disordained', 'disordered', 'disordinated', 'dispassioned', 'dispatriated', 'dispersed', 'dispirited', 'displayed', 'displeased', 'disposed', 'dispositioned', 'disprivacied', 'disquieted', 'disrelated', 'dissatisfied', 'dissected', 'dissipated', 'dissuited', 'distasted', 'distempered', 'distilled', 'distinguished', 'distorted', 'distracted', 'distressed', 'distributed', 'disturbed', 'disubstituted', 'dittied', 'diversicolored', 'diversified', 'divided', 'doated', 'dobbed', 'dodded', 'doddered', 'dodecahydrated', 'dogged', 'doggoned', 'doghearted', 'doiled', 'doited', 'doitrified', 'dominated', 'donated', 'donnered', 'doored', 'doorweed', 'dormered', 'dorsifixed', 'doted', 'dotted', 'doubled', 'doublehanded', 'doublehearted', 'doublehorned', 'doublelunged', 'doubleted', 'dovetailed', 'doveweed', 'dowed', 'downcurved', 'downfeed', 'downfolded', 'downheaded', 'downhearted', 'downlooked', 'downweed', 'downweighted', 'dozed', 'dozzled', 'drabbletailed', 'dragged', 'draggletailed', 'drained', 'drammed', 'draperied', 'dratted', 'dressed', 'dried', 'driftweed', 'dropseed', 'dropsied', 'drybrained', 'duckhearted', 'duckweed', 'ducted', 'dullbrained', 'dullhearted', 'dummered', 'dummyweed', 'dunderheaded', 'dungbred', 'dutied', 'dwelled', 'dyeweed', 'dynamometamorphosed', 'eared', 'earringed', 'earthbred', 'earthed', 'earthenhearted', 'earthquaked', 'eaved', 'eburated', 'eburnated', 'echinulated', 'edged', 'edgeweed', 'educated', 'elated', 'elbowed', 'electrofused', 'elevated', 'elongated', 'embannered', 'embarrassed', 'embastioned', 'embattled', 'embed', 'embowed', 'embryonated', 'emerited', 'emersed', 'emotioned', 'employed', 'emptyhearted', 'enamored', 'enarched', 'encuirassed', 'endeared', 'ended', 'endorsed', 'enfiled', 'enfonced', 'enforced', 'engaged', 'enghosted', 'engouled', 'engrailed', 'engrained', 'engraved', 'engrossed', 'enhanced', 'enjambed', 'enlarged', 'enlightened', 'enlisted', 'enraged', 'enrolled', 'entablatured', 'entangled', 'envied', 'enworthed', 'epauleted', 'epauletted', 'equiaxed', 'equilobed', 'equiped', 'equisegmented', 'equisided', 'equisized', 'equispaced', 'equivalenced', 'equivalved', 'erased', 'ergoted', 'ermined', 'eroded', 'escaloped', 'escutcheoned', 'essed', 'established', 'estafetted', 'ethered', 'euchred', 'evenhanded', 'evenminded', 'eveweed', 'evilhearted', 'evilmouthed', 'exaggerated', 'exalted', 'exasperated', 'exceed', 'excited', 'excurvated', 'excurved', 'excysted', 'executed', 'exhausted', 'exostosed', 'expanded', 'expedited', 'experienced', 'experimented', 'exploded', 'exposed', 'expressed', 'exserted', 'extended', 'extinguished', 'extraconstellated', 'extracted', 'extradosed', 'extrared', 'extricated', 'eyebridled', 'eyed', 'eyeseed', 'fabled', 'faced', 'faceted', 'facultied', 'faded', 'fainthearted', 'falcated', 'falsehearted', 'fancied', 'fanged', 'fangled', 'fanioned', 'fantasied', 'fanweed', 'farcied', 'farfetched', 'farsighted', 'farweltered', 'fasciated', 'fascicled', 'fasciculated', 'fascinated', 'fashioned', 'fastigated', 'fatbrained', 'fated', 'fatheaded', 'fathearted', 'fathered', 'faunated', 'faussebrayed', 'favored', 'feared', 'featherbed', 'featherbrained', 'feathered', 'featheredged', 'featherheaded', 'featherpated', 'featherweed', 'featured', 'fed', 'feeblebrained', 'feeblehearted', 'feed', 'feigned', 'felonweed', 'felted', 'fenestrated', 'ferned', 'ferntickled', 'ferrated', 'fetched', 'fetlocked', 'feued', 'feverweed', 'fezzed', 'fibered', 'fibrillated', 'fibrilled', 'fibronucleated', 'ficklehearted', 'fiddlebrained', 'fiddlefaced', 'fiddleheaded', 'fielded', 'fiercehearted', 'figged', 'figulated', 'figured', 'filamented', 'filiformed', 'filled', 'fimbriated', 'fimbricated', 'finchbacked', 'finched', 'fingered', 'fingerparted', 'finialed', 'finished', 'finned', 'fiorded', 'firearmed', 'firebolted', 'fired', 'firefanged', 'fireweed', 'firmhearted', 'fishbed', 'fished', 'fishweed', 'fissiped', 'fisted', 'fistulated', 'fitched', 'fitted', 'fittyfied', 'fitweed', 'fixed', 'flabellinerved', 'flacked', 'flagellated', 'flamed', 'flammulated', 'flanched', 'flanked', 'flanneled', 'flannelmouthed', 'flapmouthed', 'flated', 'flatweed', 'flavored', 'flawed', 'flaxseed', 'flaxweed', 'fleaseed', 'fleaweed', 'fleckled', 'fled', 'fleeced', 'fleshed', 'flewed', 'flexed', 'flexured', 'flighted', 'flinthearted', 'flixweed', 'flooded', 'floreted', 'floriated', 'flowered', 'flued', 'fluked', 'flurried', 'fluted', 'fluxweed', 'fogged', 'folded', 'foliaged', 'foliated', 'folliculated', 'fonted', 'footed', 'footnoted', 'foraminated', 'forbled', 'forced', 'forcipated', 'forebemoaned', 'forecited', 'foredefeated', 'foredeserved', 'foredevised', 'forehanded', 'foreheaded', 'foreimpressed', 'foreinclined', 'forementioned', 'forenamed', 'forenoted', 'forepassed', 'forepossessed', 'forepretended', 'forepromised', 'foreprovided', 'forequoted', 'forerecited', 'forerehearsed', 'foreremembered', 'foresettled', 'foresighted', 'forespecified', 'forespeed', 'forested', 'forethoughted', 'foretimed', 'foretypified', 'forevouched', 'forewonted', 'forficated', 'forged', 'forked', 'formed', 'fornicated', 'forthfigured', 'fortuned', 'fossed', 'fossilated', 'fossiled', 'foulmouthed', 'foundationed', 'fountained', 'foveated', 'foveolated', 'foxtailed', 'fracted', 'fragmented', 'framed', 'frankhearted', 'frankincensed', 'fratched', 'frayed', 'freckened', 'freckled', 'freed', 'freehanded', 'freehearted', 'frenched', 'frenzied', 'freshhearted', 'fretted', 'fretworked', 'fried', 'friended', 'frightened', 'frilled', 'fringed', 'frogged', 'fronded', 'fronted', 'frosted', 'frostweed', 'frowzled', 'frozenhearted', 'fructed', 'fruited', 'fullhearted', 'fullmouthed', 'funded', 'fungused', 'funneled', 'furied', 'furnished', 'furred', 'furriered', 'furzed', 'fused', 'gabelled', 'gabioned', 'gadded', 'gaited', 'galeated', 'galled', 'galleried', 'gallooned', 'gallweed', 'galvanized', 'gamboised', 'gambreled', 'gangliated', 'gapeseed', 'gardened', 'gargoyled', 'garnished', 'garreted', 'gartered', 'gaslighted', 'gated', 'gauffered', 'gaunted', 'gauntleted', 'geared', 'ged', 'gelatined', 'gemeled', 'geminated', 'generalized', 'geniculated', 'gentlehearted', 'gentlemouthed', 'gerated', 'gested', 'gewgawed', 'ghostified', 'ghostweed', 'gibbed', 'gied', 'gifted', 'gilded', 'gilled', 'gimbaled', 'gimbaljawed', 'gimberjawed', 'gimleteyed', 'gimped', 'ginghamed', 'ginned', 'gipsyweed', 'glaceed', 'glaciered', 'gladhearted', 'glaived', 'glaked', 'glandered', 'glassweed', 'glazed', 'gleed', 'globated', 'globed', 'glossed', 'glued', 'gnarled', 'gnomed', 'goateed', 'goatweed', 'gobleted', 'gobmouthed', 'gobonated', 'godded', 'goffered', 'goggled', 'goitered', 'goldenmouthed', 'goldseed', 'goldweed', 'goodhearted', 'goosenecked', 'gooserumped', 'gooseweed', 'goosewinged', 'gorbellied', 'gorged', 'gorgeted', 'gormed', 'gossamered', 'gossipred', 'goutweed', 'gowked', 'graded', 'graduated', 'grafted', 'grained', 'granulated', 'graped', 'grassed', 'grassweed', 'gratified', 'graved', 'gravelweed', 'greatcoated', 'greathearted', 'greatmouthed', 'greaved', 'greed', 'greenheaded', 'greenhearted', 'greenswarded', 'greenweed', 'grieced', 'grieved', 'grilled', 'grizzled', 'groined', 'grosgrained', 'grottoed', 'grounded', 'grouped', 'groved', 'growed', 'grubbed', 'grufted', 'gruntled', 'guarded', 'guernseyed', 'gulfweed', 'gummed', 'gumweed', 'guttated', 'gutweed', 'gweed', 'gypsyweed', 'habilimented', 'habited', 'hacked', 'hackneyed', 'hagged', 'hagseed', 'hagweed', 'hailweed', 'haired', 'hairweed', 'halfheaded', 'halfhearted', 'halfpaced', 'hallmarked', 'hallowed', 'hallucined', 'halved', 'hamated', 'hamleted', 'hammerheaded', 'hanced', 'handed', 'handicapped', 'handled', 'hardfisted', 'hardhanded', 'hardheaded', 'hardhearted', 'hardmouthed', 'harebrained', 'harefooted', 'harehearted', 'harelipped', 'harshweed', 'hatred', 'hatted', 'haunched', 'haustellated', 'hawked', 'hawkweed', 'hawthorned', 'hayseed', 'hayweed', 'hazeled', 'headed', 'hearted', 'heartseed', 'heartweed', 'heathered', 'heavyhanded', 'heavyheaded', 'heavyhearted', 'hecatomped', 'hederated', 'hedgeweed', 'heed', 'heeled', 'heliced', 'hellbred', 'hellweed', 'helmed', 'helmeted', 'hemihydrated', 'hemisphered', 'hempseed', 'hempweed', 'henhearted', 'heptahydrated', 'herbaged', 'herniated', 'hersed', 'heterochromatized', 'heterostyled', 'hexahydrated', 'hexaped', 'hidated', 'hided', 'highbred', 'highhanded', 'highhearted', 'hillocked', 'hipped', 'hired', 'historiated', 'historied', 'hoarheaded', 'hoaryheaded', 'hobnailed', 'hogged', 'hogweed', 'hollowfaced', 'hollowhearted', 'holstered', 'homebred', 'homostyled', 'honeycombed', 'honeydewed', 'honeyed', 'honeyhearted', 'honeylipped', 'honeymouthed', 'honeysuckled', 'honied', 'hooded', 'hoofed', 'hooked', 'hookweed', 'hooped', 'hoped', 'hopped', 'horned', 'hornyhanded', 'horsehaired', 'horseweed', 'hosed', 'hotbed', 'hotbrained', 'hotheaded', 'hothearted', 'hotmouthed', 'hotspurred', 'hucklebacked', 'hued', 'hulverheaded', 'humblehearted', 'humblemouthed', 'humpbacked', 'humped', 'hunchbacked', 'hundred', 'hungerweed', 'hurled', 'hurried', 'hurted', 'husked', 'huskened', 'huttonweed', 'hydrated', 'hydraulicked', 'hydrosulphurated', 'hydrosulphureted', 'hypercarbureted', 'hypercarburetted', 'hypercivilized', 'hyperpigmented', 'hypersophisticated', 'hypertrophied', 'hyphenated', 'hyporhined', 'iced', 'ichneumoned', 'ichneumonized', 'ichthyized', 'icicled', 'ideaed', 'idleheaded', 'illimited', 'illoricated', 'illuminated', 'illusioned', 'imbannered', 'imbased', 'imbed', 'imbricated', 'immatured', 'immeasured', 'immerited', 'immodulated', 'immonastered', 'immortified', 'immotioned', 'impacted', 'imparalleled', 'impassioned', 'imperceived', 'imperfected', 'imperforated', 'impermeated', 'imperturbed', 'implumed', 'impolished', 'inaccentuated', 'inanimated', 'inarticulated', 'inbred', 'inbreed', 'incarmined', 'incavated', 'inched', 'included', 'incompensated', 'incompleted', 'incomposed', 'incomprehended', 'inconditioned', 'inconfused', 'inconnected', 'inconsidered', 'inconsumed', 'incontracted', 'incontrolled', 'inconvinced', 'incoronated', 'incorporated', 'incorrupted', 'incrassated', 'incredited', 'incrossbred', 'indebted', 'indeed', 'indented', 'indentured', 'indetermined', 'indevoted', 'indexed', 'indigested', 'indirected', 'indisciplined', 'indiscovered', 'indiscriminated', 'indisposed', 'indistinguished', 'indisturbed', 'induced', 'indulgenced', 'indusiated', 'inedited', 'inelaborated', 'inequilobed', 'inexhausted', 'inexpected', 'inexperienced', 'inextended', 'infarcted', 'infected', 'infeed', 'inflamed', 'inflated', 'inflected', 'inflexed', 'informed', 'infrared', 'infumated', 'ingrained', 'inhabited', 'injured', 'inkshed', 'inkweed', 'inorganized', 'inrigged', 'inrighted', 'inrooted', 'insatiated', 'inscriptioned', 'inscriptured', 'insected', 'inserted', 'inspired', 'instratified', 'instressed', 'instructed', 'insulated', 'insured', 'intagliated', 'intellected', 'intelligenced', 'intended', 'intentioned', 'interallied', 'interbanded', 'interbedded', 'interbreed', 'intercatenated', 'intercontorted', 'interested', 'interfretted', 'interlaced', 'intermewed', 'intermitted', 'internetted', 'interrelated', 'interrupted', 'interseamed', 'intersticed', 'interthreaded', 'intertissued', 'interwed', 'intoed', 'intolerated', 'intoothed', 'intoxicated', 'intrabred', 'introverted', 'inturned', 'inured', 'inutilized', 'invalued', 'invaried', 'invecked', 'invected', 'inversed', 'invertebrated', 'inverted', 'inviolated', 'invised', 'involucellated', 'involucred', 'involuted', 'involved', 'inwedged', 'inweed', 'irisated', 'irised', 'ironfisted', 'ironhanded', 'ironheaded', 'ironhearted', 'ironsided', 'ironweed', 'ironworked', 'irradiated', 'irreclaimed', 'irredeemed', 'irregulated', 'irrelated', 'irresolved', 'isleted', 'isolated', 'itchreed', 'itchweed', 'ivied', 'ivoried', 'ivyweed', 'jabbed', 'jacketed', 'jackweed', 'jaded', 'jagged', 'jalloped', 'jalousied', 'japanned', 'jaseyed', 'jasmined', 'jasperated', 'jaspered', 'jawed', 'jawfooted', 'jed', 'jellied', 'jereed', 'jerkined', 'jerseyed', 'jessakeed', 'jessed', 'jetted', 'jettied', 'jewelweed', 'jimberjawed', 'jingled', 'jointed', 'jointweed', 'jolloped', 'jolterheaded', 'jossakeed', 'joyweed', 'jugated', 'jumpseed', 'jungled', 'justiceweed', 'ked', 'keeled', 'keened', 'kellupweed', 'kerchiefed', 'kerneled', 'keyed', 'keystoned', 'khakied', 'killweed', 'kimonoed', 'kindhearted', 'kindred', 'kingdomed', 'kingweed', 'kinkled', 'kirtled', 'kittenhearted', 'knagged', 'knapsacked', 'knapweed', 'knarred', 'kneed', 'knickerbockered', 'knickered', 'knickknacked', 'knitted', 'knitweed', 'knived', 'knobbed', 'knobweed', 'knopped', 'knopweed', 'knosped', 'knotted', 'knotweed', 'knowledged', 'knuckled', 'knurled', 'labiated', 'labored', 'laced', 'lacerated', 'laciniated', 'lackeyed', 'laddered', 'lagged', 'lakeweed', 'lamellated', 'lamented', 'laminated', 'lamplighted', 'lanated', 'lanced', 'lanceolated', 'lanceted', 'landed', 'landlocked', 'languaged', 'langued', 'lapelled', 'lapped', 'lappeted', 'lapsed', 'lapstreaked', 'largebrained', 'largehanded', 'largehearted', 'largemouthed', 'lated', 'laterinerved', 'latticed', 'laureated', 'laureled', 'lawned', 'layered', 'leaded', 'leadenhearted', 'leadenpated', 'leafed', 'learned', 'leaved', 'led', 'ledged', 'leed', 'legged', 'legginged', 'legioned', 'leisured', 'lemonweed', 'lensed', 'lenticulated', 'lepered', 'leprosied', 'lettered', 'levelheaded', 'licensed', 'lichened', 'lidded', 'lied', 'lightbrained', 'lightheaded', 'lighthearted', 'lightmouthed', 'ligulated', 'lilied', 'lilyhanded', 'limbed', 'limited', 'linchpinned', 'lineaged', 'lineated', 'lined', 'lineolated', 'lingulated', 'linked', 'linseed', 'linteled', 'lintseed', 'lionhearted', 'lipped', 'listed', 'listred', 'literalminded', 'lived', 'livered', 'liverhearted', 'liveried', 'loaded', 'lobated', 'lobed', 'lobefooted', 'lobellated', 'lobiped', 'lobulated', 'locked', 'locoweed', 'loculated', 'lodged', 'logged', 'loggerheaded', 'logheaded', 'loined', 'longheaded', 'longmouthed', 'loosemouthed', 'lopseed', 'lopsided', 'lored', 'loudmouthed', 'louvered', 'lovered', 'lowbred', 'lozenged', 'lugged', 'lunged', 'lunulated', 'lyrated', 'macled', 'maculated', 'madbrained', 'madweed', 'magged', 'magicked', 'magpied', 'maidenweed', 'mailed', 'maimed', 'maladjusted', 'malandered', 'malconceived', 'malcontented', 'malcreated', 'maldeveloped', 'malfed', 'malformed', 'malleableized', 'malnourished', 'maloccluded', 'malorganized', 'malplaced', 'malposed', 'malproportioned', 'malturned', 'mammillated', 'mandibulated', 'maned', 'manifested', 'mannered', 'manred', 'mansarded', 'mansioned', 'mantled', 'manubriated', 'manweed', 'marbled', 'marblehearted', 'marginated', 'margined', 'marinated', 'marked', 'markweed', 'marled', 'marmorated', 'married', 'marrowed', 'mascled', 'masked', 'masoned', 'masted', 'matreed', 'matted', 'matweed', 'maxilliped', 'maximed', 'mayweed', 'mazed', 'meadowed', 'mealmouthed', 'mealymouthed', 'meaned', 'measled', 'measured', 'meated', 'medaled', 'medifixed', 'mediodepressed', 'medullated', 'meed', 'meekhearted', 'meered', 'melamed', 'melanosed', 'melted', 'membered', 'membraned', 'memoried', 'mentholated', 'meringued', 'merited', 'mermithized', 'meshed', 'metalined', 'metamerized', 'mettled', 'midribbed', 'midstyled', 'mightyhearted', 'mildhearted', 'milkshed', 'milkweed', 'milled', 'millfeed', 'millioersted', 'millioned', 'mimmouthed', 'minareted', 'minded', 'mirrored', 'misadvised', 'misaffected', 'miscredited', 'miscreed', 'miscultivated', 'misdeed', 'misdeformed', 'misdevoted', 'miserected', 'misfortuned', 'misguided', 'misincensed', 'misinspired', 'misleared', 'misled', 'misminded', 'misnatured', 'misnomed', 'mispossessed', 'misprejudiced', 'misprincipled', 'misreposed', 'misresolved', 'misted', 'mistempered', 'misusurped', 'miswed', 'mitered', 'mittened', 'mixed', 'mobed', 'mohnseed', 'molassied', 'moneyed', 'monilated', 'monobromated', 'monobrominated', 'monobromized', 'monochlorinated', 'monociliated', 'monocled', 'monogrammed', 'monohydrated', 'monomethylated', 'mononitrated', 'mononucleated', 'monorhymed', 'monospored', 'monosubstituted', 'mooned', 'moonfaced', 'moonlighted', 'moonseed', 'mopheaded', 'morassweed', 'morcellated', 'morned', 'mortified', 'mossed', 'moted', 'mothed', 'mothered', 'motored', 'mottled', 'mottoed', 'moulded', 'mountained', 'mounted', 'mouthed', 'muckweed', 'muddlebrained', 'muddleheaded', 'muddybrained', 'muddyheaded', 'mudweed', 'muffed', 'muffled', 'mugweed', 'mulefooted', 'multiarticulated', 'multibladed', 'multibranched', 'multicarinated', 'multiciliated', 'multicolored', 'multicylindered', 'multidenticulated', 'multiengined', 'multifaced', 'multifaceted', 'multifibered', 'multiflagellated', 'multifoiled', 'multiformed', 'multigranulated', 'multihued', 'multilaminated', 'multilighted', 'multilobed', 'multilobulated', 'multiloculated', 'multimotored', 'multinucleated', 'multinucleolated', 'multiped', 'multiperforated', 'multipointed', 'multiported', 'multiradiated', 'multiramified', 'multirooted', 'multisacculated', 'multiseated', 'multisegmented', 'multispeed', 'multispired', 'multistoried', 'multistratified', 'multisulcated', 'multithreaded', 'multitoed', 'multitoned', 'multituberculated', 'multivalved', 'multivoiced', 'multivolumed', 'mummied', 'muraled', 'muriated', 'muscled', 'mused', 'mushed', 'mushheaded', 'muslined', 'musquashweed', 'musseled', 'mustached', 'mustachioed', 'muttonheaded', 'myelinated', 'myriaded', 'myrrhed', 'nacred', 'naked', 'nakedweed', 'napped', 'narrowhearted', 'nattered', 'naveled', 'neaped', 'nearsighted', 'nebbed', 'nebulated', 'necked', 'necklaced', 'necklaceweed', 'neckweed', 'nectared', 'nectaried', 'need', 'needled', 'needleworked', 'neighbored', 'neighborstained', 'netted', 'nettlebed', 'newfangled', 'newlywed', 'newspaperized', 'nibbed', 'nicotined', 'niellated', 'nielled', 'niggerweed', 'nightcapped', 'nighted', 'nigrified', 'nimbated', 'nimbed', 'nimblebrained', 'nimbused', 'nineted', 'nitered', 'noblehearted', 'nodated', 'noded', 'nodulated', 'noduled', 'nogheaded', 'nominated', 'nonaccredited', 'nonadmitted', 'nonaffiliated', 'nonalliterated', 'nonanalyzed', 'nonanesthetized', 'nonarticulated', 'nonassented', 'nonattached', 'nonazotized', 'nonbearded', 'nonblended', 'nonblockaded', 'nonblooded', 'nonbranded', 'noncalcified', 'noncartelized', 'noncensored', 'noncertified', 'nonchurched', 'noncivilized', 'noncommissioned', 'nonconditioned', 'noncontrolled', 'noncrystallized', 'noncultivated', 'nondecalcified', 'nondegreased', 'nondeported', 'nondepressed', 'nondesigned', 'nondesulphurized', 'nondetailed', 'nondisbursed', 'nondisfranchised', 'nondisinterested', 'nondomesticated', 'nonelectrified', 'nonelectrized', 'nonenrolled', 'nonentailed', 'nonenumerated', 'nonexcepted', 'nonexperienced', 'nonextended', 'nonextracted', 'nonfeatured', 'nonfederated', 'nonfenestrated', 'nonforested', 'nonfrosted', 'nongalvanized', 'nonglandered', 'nongraduated', 'nonimmunized', 'nonimpregnated', 'nonincarnated', 'nonindurated', 'noninfected', 'noninherited', 'noninterrupted', 'noninverted', 'noniodized', 'nonionized', 'nonirradiated', 'nonirrigated', 'nonlaminated', 'nonleaded', 'nonlicensed', 'nonlixiviated', 'nonlocalized', 'nonmanufactured', 'nonmedullated', 'nonmulched', 'nonnitrogenized', 'nonnucleated', 'nonoxygenated', 'nonpatented', 'nonpeaked', 'nonpenalized', 'nonperforated', 'nonphosphorized', 'nonpigmented', 'nonplushed', 'nonpreformed', 'nonprescribed', 'nonprincipled', 'nonprofessed', 'nonprovided', 'nonrated', 'nonrationalized', 'nonrayed', 'nonrecognized', 'nonrectified', 'nonregimented', 'nonregistered', 'nonrelapsed', 'nonrestricted', 'nonreversed', 'nonrhymed', 'nonsacred', 'nonsalaried', 'nonsaturated', 'nonschematized', 'nonsegmented', 'nonselected', 'nonsensitized', 'nonsilicated', 'nonsolidified', 'nonspecialized', 'nonspecified', 'nonspored', 'nonstandardized', 'nonstriated', 'nonstriped', 'nonstylized', 'nonsuppressed', 'nonsynthesized', 'nonthreaded', 'nontimbered', 'nontolerated', 'nontreated', 'nontrunked', 'nontuned', 'nonturbinated', 'nonumbrellaed', 'nonunited', 'nonupholstered', 'nonutilized', 'nonvisaed', 'nonvisualized', 'nonvitrified', 'nonvolatilized', 'nonwetted', 'nonwinged', 'nooked', 'normated', 'nosebanded', 'nosebleed', 'nosed', 'nostriled', 'notched', 'notchweed', 'noted', 'notified', 'notioned', 'nowed', 'nucleolated', 'nudiped', 'nummulated', 'numskulled', 'nunnated', 'nutmegged', 'nutseed', 'nutted', 'oared', 'oarweed', 'oathed', 'oatseed', 'obcompressed', 'obliged', 'oblongated', 'obtected', 'obvoluted', 'oceaned', 'ocellated', 'ocreated', 'octahydrated', 'octofoiled', 'octoped', 'octoradiated', 'oculated', 'odored', 'oersted', 'offended', 'offhanded', 'ogeed', 'ogived', 'oiled', 'oilseed', 'oilskinned', 'oldfangled', 'oldhearted', 'olived', 'omened', 'onehearted', 'onesigned', 'onflemed', 'onionized', 'opaled', 'openhanded', 'openhearted', 'openmouthed', 'opercled', 'operculated', 'opinionated', 'opinioned', 'opposed', 'oppressed', 'orbed', 'orbiculated', 'ordered', 'oreweed', 'organized', 'origanized', 'orphreyed', 'orthosubstituted', 'osiered', 'ossified', 'outbleed', 'outbowed', 'outbred', 'outbreed', 'outdated', 'outed', 'outeyed', 'outlined', 'outlipped', 'outmoded', 'outplayed', 'outriggered', 'outsided', 'outsized', 'outspeed', 'outturned', 'outweed', 'ovated', 'overalled', 'overambitioned', 'overappareled', 'overapprehended', 'overattached', 'overbanded', 'overbanked', 'overbepatched', 'overblessed', 'overbowed', 'overbrained', 'overbred', 'overbreed', 'overburned', 'overcoached', 'overcoated', 'overconcerned', 'overcontented', 'overcorned', 'overcreed', 'overcrowded', 'overcultured', 'overcured', 'overdazed', 'overdelighted', 'overdetermined', 'overdevoted', 'overdignified', 'overdistempered', 'overdrifted', 'overdrowsed', 'overdubbed', 'overdunged', 'overeducated', 'overempired', 'overexerted', 'overeyebrowed', 'overfagged', 'overfamed', 'overfeatured', 'overfed', 'overfeed', 'overfinished', 'overfleshed', 'overforged', 'overformed', 'overfranchised', 'overfrighted', 'overfruited', 'overgalled', 'overgifted', 'overgilted', 'overgirded', 'overgreed', 'overhanded', 'overhatted', 'overinclined', 'overinterested', 'overinventoried', 'overjaded', 'overjawed', 'overlanguaged', 'overlearned', 'overleisured', 'overlettered', 'overlighted', 'overlightheaded', 'overlinked', 'overlisted', 'overmelodied', 'overmettled', 'overnoveled', 'overofficered', 'overornamented', 'overpained', 'overparted', 'overpitched', 'overplaced', 'overpointed', 'overpronounced', 'overproportionated', 'overproportioned', 'overrefined', 'overreserved', 'overrigged', 'overrooted', 'oversanded', 'oversated', 'overscented', 'overscutched', 'overseasoned', 'overseated', 'overseed', 'oversettled', 'overshowered', 'oversized', 'oversophisticated', 'oversorrowed', 'overspangled', 'oversparred', 'overspeed', 'overstalled', 'overstowed', 'overstudied', 'oversweated', 'overtapped', 'overtimbered', 'overtinseled', 'overtongued', 'overtrailed', 'overunionized', 'overwasted', 'overweaponed', 'overwhipped', 'overwiped', 'overwithered', 'overwooded', 'overwrested', 'oviculated', 'oxidulated', 'oystered', 'oysterseed', 'ozoned', 'paced', 'paddled', 'pageanted', 'pailletted', 'pained', 'painted', 'paired', 'pajamaed', 'palaced', 'palated', 'paled', 'palehearted', 'palfreyed', 'palled', 'palmated', 'palmatilobed', 'palmatiparted', 'palmatisected', 'palmed', 'palmilobated', 'palmilobed', 'palminerved', 'palmiped', 'palmiveined', 'palped', 'palsied', 'pampered', 'panached', 'pandurated', 'paned', 'panheaded', 'panicked', 'panicled', 'paniculated', 'panniered', 'panoplied', 'pansied', 'pantaletted', 'pantalooned', 'pantiled', 'papered', 'papillated', 'papulated', 'parallelepiped', 'parallelinerved', 'parallelopiped', 'parapeted', 'parasoled', 'parasubstituted', 'parded', 'parished', 'parricided', 'parsoned', 'partanhanded', 'parted', 'parterred', 'particled', 'partimembered', 'partitioned', 'passioned', 'pasted', 'pasterned', 'pathed', 'pathwayed', 'patined', 'patriarched', 'pattened', 'patterned', 'pauciarticulated', 'pauciradiated', 'paucispirated', 'paunched', 'pavonated', 'payed', 'peaked', 'pearled', 'pearlweed', 'pebbled', 'pebblehearted', 'pecked', 'peckled', 'pectinated', 'ped', 'pedated', 'pedatilobed', 'pedatinerved', 'pedatisected', 'pediceled', 'pedicellated', 'pedicelled', 'pediculated', 'pedimented', 'peduncled', 'pedunculated', 'peed', 'peeled', 'peeved', 'pegged', 'pelleted', 'peltated', 'peltinerved', 'penciled', 'pencilled', 'pendanted', 'penicillated', 'pennated', 'pennatisected', 'pennied', 'penninerved', 'penniveined', 'pennoned', 'pensived', 'pentadecahydrated', 'pentahydrated', 'peplosed', 'pepperweed', 'percentaged', 'perfected', 'perforated', 'perfumed', 'perished', 'periwigpated', 'periwinkled', 'perjured', 'permissioned', 'permitted', 'perplexed', 'personed', 'perspectived', 'persuaded', 'perturbed', 'pertused', 'perverted', 'pestilenceweed', 'petaled', 'petalled', 'petiolated', 'petioled', 'petrified', 'petted', 'petticoated', 'phalanxed', 'phalerated', 'phimosed', 'phlogosed', 'phosphated', 'phosphoreted', 'phylacteried', 'physicianed', 'physicked', 'physiqued', 'piazzaed', 'picked', 'pickerelweed', 'pickleweed', 'picrated', 'pictured', 'pied', 'pierced', 'pigeonhearted', 'pigeonweed', 'pigheaded', 'pigweed', 'piked', 'pilastered', 'pilastraded', 'pilaued', 'pileated', 'piled', 'pileolated', 'pileweed', 'pillared', 'pilled', 'pilotweed', 'pimpled', 'pincerweed', 'pinched', 'pinchfisted', 'pined', 'pineweed', 'pinfeathered', 'pinheaded', 'pinioned', 'pinked', 'pinkweed', 'pinnated', 'pinnatilobed', 'pinnatiped', 'pinnatisected', 'pinned', 'pinninerved', 'pinniped', 'pinnisected', 'pinnulated', 'pinrowed', 'pinweed', 'pioted', 'piped', 'pipped', 'pissabed', 'pitchered', 'pitted', 'pixilated', 'plagued', 'plaided', 'plainhearted', 'plainsoled', 'plaited', 'planeted', 'plated', 'platformed', 'platted', 'pleached', 'pled', 'plicated', 'plicatocontorted', 'plied', 'plighted', 'plotted', 'plouked', 'plucked', 'plugged', 'plumaged', 'plumed', 'plumiped', 'plummeted', 'pluriseriated', 'plushed', 'pneumatized', 'pocketed', 'pockweed', 'podded', 'pointed', 'pointleted', 'poised', 'poisonweed', 'poked', 'pokeweed', 'policed', 'polished', 'politied', 'polled', 'pollened', 'polluted', 'poltfooted', 'polyaffectioned', 'polybuttoned', 'polyglotted', 'polygrooved', 'polylaminated', 'polynucleated', 'polypaged', 'polyped', 'polyphoned', 'polysided', 'polyspored', 'pommeled', 'ponchoed', 'pondweed', 'pooped', 'poorweed', 'popeyed', 'poplared', 'poppied', 'popweed', 'porcated', 'porched', 'pored', 'portaled', 'portalled', 'ported', 'porticoed', 'portiered', 'positioned', 'possessed', 'possessioned', 'postaspirated', 'postdetermined', 'postdisapproved', 'posted', 'postfixed', 'postilioned', 'postposited', 'potbellied', 'potted', 'pottled', 'pouched', 'pounced', 'povertyweed', 'powdered', 'powered', 'practiced', 'prairied', 'prairieweed', 'pranked', 'preaccustomed', 'preachieved', 'preacquired', 'preaged', 'preallied', 'preambled', 'preassigned', 'prebeloved', 'precedented', 'prechampioned', 'precipiced', 'precipitated', 'precited', 'preclassified', 'preconceived', 'preconcentrated', 'preconcerted', 'preconditioned', 'precongested', 'preconsolidated', 'precontained', 'precontrolled', 'precreed', 'predilected', 'prediscontented', 'predisordered', 'predisposed', 'preferred', 'prefixed', 'preformed', 'prehatred', 'prehaunted', 'preheated', 'preindebted', 'prejudiced', 'preoccasioned', 'preoccupied', 'preopinionated', 'prepared', 'prepossessed', 'prerogatived', 'presanctified', 'presbyterated', 'prescored', 'presenced', 'pretended', 'preterdetermined', 'pretexted', 'priced', 'pricked', 'prickled', 'prideweed', 'pried', 'primaried', 'primrosed', 'princified', 'printed', 'prismed', 'privileged', 'probosciformed', 'proceed', 'procurved', 'produced', 'producted', 'professed', 'proflated', 'promontoried', 'pronged', 'pronounced', 'propertied', 'proportioned', 'proptosed', 'propugnacled', 'protracted', 'proudhearted', 'proved', 'provided', 'prowed', 'prowessed', 'prunted', 'pseudocultivated', 'pseudolaminated', 'pseudoreformed', 'pseudosacred', 'publichearted', 'puddingheaded', 'puddled', 'puffed', 'pugged', 'pukeweed', 'pulmonated', 'pulvinated', 'pumiced', 'punctated', 'punctulated', 'punctured', 'pungled', 'pupiled', 'purebred', 'pured', 'purehearted', 'purfled', 'pursed', 'pussyfooted', 'pustulated', 'pustuled', 'putrifacted', 'puttyhearted', 'puzzled', 'puzzleheaded', 'puzzlepated', 'pygmyweed', 'pygostyled', 'pyjamaed', 'quadded', 'quadrangled', 'quadrated', 'quadriarticulated', 'quadridentated', 'quadrifurcated', 'quadrigabled', 'quadrilled', 'quadrilobed', 'quadriplicated', 'quadrisulcated', 'quadruped', 'qualified', 'qualitied', 'quantitied', 'quarred', 'quarreled', 'quarried', 'quartered', 'quartersawed', 'quatrefoiled', 'quatrefoliated', 'queenweed', 'quesited', 'quickhearted', 'quilled', 'quilleted', 'quilted', 'quinquedentated', 'quinquefoliated', 'quinquelobated', 'quinquelobed', 'quinquenerved', 'quinsied', 'quintiped', 'quintuplinerved', 'quintupliribbed', 'quitted', 'quivered', 'quoined', 'rabbithearted', 'rabbitweed', 'racemed', 'radiated', 'radicated', 'ragged', 'raggled', 'ragweed', 'rainbowweed', 'raised', 'ramed', 'ramfeezled', 'ramified', 'ramososubdivided', 'ramped', 'ramshackled', 'ranged', 'ranked', 'rapeseed', 'rapiered', 'raptured', 'rasped', 'rated', 'rathed', 'rattlebrained', 'rattled', 'rattleheaded', 'rattlepated', 'rattleskulled', 'rattleweed', 'ravined', 'rawboned', 'rayed', 'reasoned', 'reassured', 'rebed', 'rebreed', 'received', 'reclinated', 'recollected', 'reconstructed', 'rectangled', 'rectified', 'rectinerved', 'red', 'redeed', 'redheaded', 'redhearted', 'redoubted', 'reduced', 'redweed', 'reed', 'reeded', 'reeled', 'refathered', 'refeed', 'refined', 'reflected', 'reflexed', 'refluxed', 'reformed', 'refracted', 'regimentaled', 'regimentalled', 'regioned', 'registered', 'reglorified', 'regulated', 'reindebted', 'reiterated', 'related', 'relaxed', 'relicted', 'relieved', 'remiped', 'removed', 'renowned', 'rented', 'repeated', 'replicated', 'reposed', 'repped', 'repressed', 'reproceed', 'reputed', 'reseed', 'reserved', 'resigned', 'resolved', 'respiratored', 'restrained', 'restricted', 'resucceed', 'resupinated', 'retarded', 'reticulated', 'reticuled', 'retinerved', 'retiracied', 'retired', 'retorted', 'retracted', 'retricked', 'retrocurved', 'retroflected', 'retroflexed', 'retrofracted', 'retromorphosed', 'retroplexed', 'retroposed', 'retted', 'returned', 'revealed', 'revenued', 'revered', 'reversed', 'revoluted', 'revulsed', 'rewed', 'reworked', 'rheumed', 'ribaudred', 'ribbed', 'ribbonweed', 'richweed', 'ridered', 'ridged', 'ridgepoled', 'rightheaded', 'righthearted', 'rimmed', 'rinded', 'ringboned', 'ringed', 'ringleted', 'rivered', 'riverweed', 'rizzomed', 'roadbed', 'roaded', 'roadweed', 'rocheted', 'rockhearted', 'rockweed', 'roed', 'rolled', 'rookeried', 'roomed', 'roosted', 'rooted', 'rosated', 'rosed', 'rosetted', 'rosied', 'rosinweed', 'rostrated', 'rotated', 'roughhearted', 'roughtailed', 'rounded', 'roundheaded', 'roundmouthed', 'roundnosed', 'rowed', 'rubbed', 'rubiconed', 'rubied', 'ruddied', 'rudented', 'ruffed', 'ruffled', 'rugged', 'rugheaded', 'ruined', 'runchweed', 'runed', 'runted', 'ruptured', 'rushed', 'rushlighted', 'rustred', 'rutilated', 'sabered', 'saboted', 'saccated', 'saccharated', 'saccharinated', 'sacculated', 'sackclothed', 'sacked', 'sacred', 'saddled', 'sadhearted', 'saffroned', 'sailed', 'sainted', 'salaried', 'salited', 'salted', 'saltweed', 'sanctified', 'sanctuaried', 'sandaled', 'sanded', 'sandweed', 'sapheaded', 'sapphired', 'satcheled', 'satellited', 'satined', 'satisfied', 'saturated', 'saved', 'savored', 'savoyed', 'sawed', 'scabbed', 'scalded', 'scaldweed', 'scaled', 'scalled', 'scantlinged', 'scapulated', 'scarfed', 'scarletseed', 'scarred', 'scarved', 'scatterbrained', 'scattered', 'scented', 'sceptered', 'schapped', 'schooled', 'scienced', 'scimitared', 'sclerized', 'sclerosed', 'sclerotized', 'scooped', 'scopiped', 'scopuliped', 'scorched', 'scored', 'scorned', 'scorpionweed', 'scoured', 'scourweed', 'scrabbled', 'scragged', 'scraggled', 'scraped', 'scrapped', 'scratchweed', 'screed', 'screened', 'screeved', 'screwed', 'scribbled', 'scrimped', 'scriptured', 'scrobiculated', 'scrofulaweed', 'scrolled', 'scrubbed', 'scuffed', 'sculptured', 'scummed', 'scurvied', 'scurvyweed', 'scutated', 'scutcheoned', 'scutellated', 'scutiped', 'scutulated', 'sealed', 'seamed', 'seared', 'seasoned', 'seated', 'seaweed', 'secluded', 'secondhanded', 'sectored', 'sedged', 'sedigitated', 'seed', 'seedbed', 'seeded', 'seeped', 'seepweed', 'segged', 'segmented', 'sejoined', 'selected', 'selvaged', 'semeed', 'semiabstracted', 'semiacidified', 'semianimated', 'semiannealed', 'semiappressed', 'semiattached', 'semibalked', 'semibelted', 'semibleached', 'semiboiled', 'semibolshevized', 'semicalcined', 'semicircled', 'semicivilized', 'semiclosed', 'semicoagulated', 'semicombined', 'semicompacted', 'semicomplicated', 'semicordated', 'semicoronated', 'semicured', 'semidemented', 'semidenatured', 'semidetached', 'semideveloped', 'semidigested', 'semidisabled', 'semidivided', 'semidomed', 'semidomesticated', 'semidried', 'semieducated', 'semienclosed', 'semiengaged', 'semiexpanded', 'semiexposed', 'semifasciated', 'semifinished', 'semifixed', 'semiflexed', 'semiformed', 'semifossilized', 'semifused', 'semiglazed', 'semihumanized', 'semilined', 'semimanufactured', 'semimercerized', 'semimineralized', 'seminaked', 'semiopened', 'semiorganized', 'semioxidated', 'semioxidized', 'semioxygenated', 'semioxygenized', 'semipalmated', 'semipectinated', 'semiped', 'semipetrified', 'semiphlogisticated', 'semiprofessionalized', 'semirefined', 'semisacred', 'semiskilled', 'semistarved', 'semistratified', 'semistriated', 'semisupinated', 'semitailored', 'semitrained', 'semitrimmed', 'semiundressed', 'semivitrified', 'semivulcanized', 'sensed', 'sepaled', 'sepalled', 'septangled', 'septated', 'septicolored', 'sequestered', 'sericated', 'serrated', 'serried', 'serriped', 'serrulated', 'sesquihydrated', 'settled', 'sevenfolded', 'sewed', 'sewered', 'sexangled', 'sexdigitated', 'sexed', 'sexiped', 'shabbed', 'shaded', 'shadowed', 'shafted', 'shagged', 'shagreened', 'shallowbrained', 'shallowhearted', 'shallowpated', 'shamed', 'shamefaced', 'shammed', 'shanked', 'shaped', 'sharded', 'shatterbrained', 'shatterheaded', 'shatterpated', 'shaved', 'shaveweed', 'shawled', 'sheathed', 'sheaved', 'shed', 'shedded', 'sheepfaced', 'sheepheaded', 'sheephearted', 'sheepshed', 'sheepweed', 'sheered', 'sheeted', 'shelled', 'sheltered', 'sheveled', 'shickered', 'shied', 'shielded', 'shingled', 'shipped', 'shiverweed', 'shockheaded', 'shored', 'shoreweed', 'shorthanded', 'shortsighted', 'shotted', 'shouldered', 'shovelweed', 'shred', 'shrouded', 'shrubbed', 'shuttleheaded', 'sibbed', 'sickbed', 'sickhearted', 'sickled', 'sickleweed', 'sicklied', 'sided', 'sifted', 'sighted', 'sigillated', 'silenced', 'siliciuretted', 'silked', 'silkweed', 'silvered', 'silverweed', 'simplehearted', 'simplexed', 'simplified', 'sinewed', 'singed', 'singled', 'singlehanded', 'singlehearted', 'sinuated', 'sinuatocontorted', 'sinuatodentated', 'sinuatoserrated', 'siphuncled', 'siphunculated', 'siruped', 'situated', 'sized', 'skeed', 'skeered', 'skeletonweed', 'skewbacked', 'skewed', 'skidded', 'skied', 'skilled', 'skimmed', 'skinned', 'skippered', 'skirted', 'skittled', 'skulled', 'skunkweed', 'slabbed', 'slacked', 'slashed', 'slatted', 'slaved', 'sleaved', 'sled', 'sledded', 'sleepered', 'sleeved', 'slewed', 'sliced', 'slickered', 'slided', 'slighted', 'slinkweed', 'slipped', 'slippered', 'slipperweed', 'sliptopped', 'slitted', 'sloped', 'slopped', 'sloted', 'slotted', 'slowbellied', 'slowheaded', 'slowhearted', 'slowmouthed', 'sludged', 'slugabed', 'slugged', 'smallhearted', 'smallmouthed', 'smartweed', 'smeared', 'smelled', 'smoked', 'smoothbored', 'smoothmouthed', 'smothered', 'smudged', 'smutted', 'snagged', 'snaggled', 'snakeweed', 'snapped', 'snapweed', 'snatched', 'sned', 'sneezeweed', 'snibbled', 'sniveled', 'snooded', 'snookered', 'snouted', 'snowshed', 'snowshoed', 'snubbed', 'snuffcolored', 'soaked', 'soapweed', 'sobersided', 'societified', 'sodded', 'softbrained', 'softheaded', 'softhearted', 'soiled', 'soldierhearted', 'solicited', 'soliped', 'sombreroed', 'sonantized', 'sophisticated', 'soreheaded', 'sorehearted', 'sorryhearted', 'sorted', 'soshed', 'sotted', 'souffleed', 'souled', 'soundheaded', 'soundhearted', 'soured', 'sourhearted', 'sourweed', 'sowbacked', 'spaced', 'spaded', 'spangled', 'sparked', 'sparred', 'spasmed', 'spathed', 'spatted', 'spatterdashed', 'spavied', 'spavined', 'specialized', 'specked', 'speckled', 'spectacled', 'spectered', 'sped', 'speed', 'sphacelated', 'spicated', 'spiced', 'spiculated', 'spidered', 'spied', 'spiffed', 'spiflicated', 'spiked', 'spikeweed', 'spindled', 'spined', 'spiraled', 'spirated', 'spired', 'spirited', 'spiritweed', 'spissated', 'spitscocked', 'spitted', 'splashed', 'splatterfaced', 'splayed', 'splayfooted', 'splaymouthed', 'spoiled', 'sponged', 'spored', 'spotted', 'spreaded', 'spried', 'sprigged', 'sprinkled', 'sprinklered', 'spurred', 'spurwinged', 'squabbed', 'squadroned', 'squamated', 'squamosodentated', 'squamosoimbricated', 'squared', 'squatted', 'squawweed', 'squiffed', 'squinted', 'stackfreed', 'staffed', 'staged', 'staggerweed', 'staired', 'stalactited', 'stalked', 'stamened', 'stampweed', 'stancheled', 'standardbred', 'standardized', 'stanzaed', 'stapled', 'starched', 'starlighted', 'starred', 'starved', 'stated', 'statued', 'statured', 'stayed', 'stealed', 'steed', 'steelhearted', 'steepled', 'steepweed', 'stellated', 'stemmed', 'stenosed', 'stepped', 'stereotyped', 'sterned', 'stewed', 'stibiated', 'sticked', 'stickseed', 'stickweed', 'stiffhearted', 'stilted', 'stinkweed', 'stinted', 'stiped', 'stippled', 'stipuled', 'stoled', 'stoned', 'stonehearted', 'stoneseed', 'stoneweed', 'stonied', 'stonyhearted', 'stooded', 'stopped', 'storied', 'stouthearted', 'strained', 'straked', 'strangleweed', 'strapped', 'stratified', 'streaked', 'streamlined', 'striated', 'strictured', 'stringed', 'stringhalted', 'striolated', 'striped', 'stripped', 'strived', 'strongbrained', 'stronghearted', 'strophiolated', 'structured', 'stubbed', 'stubbled', 'stubbornhearted', 'studied', 'stuffed', 'stunted', 'stupefied', 'sturdied', 'sturdyhearted', 'stylopized', 'subangled', 'subangulated', 'subappressed', 'subarcuated', 'subattenuated', 'subbranched', 'subbreed', 'subcarbureted', 'subcarburetted', 'subcommended', 'subcompressed', 'subcontained', 'subcontinued', 'subcontracted', 'subdentated', 'subdented', 'subdepressed', 'subdilated', 'subdistinguished', 'subdued', 'subhooked', 'subimbricated', 'subimposed', 'subimpressed', 'subinvoluted', 'subjected', 'sublighted', 'sublimed', 'submargined', 'submerged', 'submersed', 'subnitrated', 'suborbiculated', 'subovated', 'subpartitioned', 'subpeltated', 'subsaturated', 'substituted', 'subtriplicated', 'subturriculated', 'subtwined', 'subulated', 'suburbed', 'subventioned', 'subversed', 'subvitalized', 'succeed', 'sucivilized', 'suffused', 'sugared', 'sulcated', 'sullenhearted', 'sulphated', 'sulphonated', 'sulphureosuffused', 'sulphureted', 'sulphurweed', 'summed', 'sunbeamed', 'sunbonneted', 'sunburned', 'sunlighted', 'sunnyhearted', 'sunspotted', 'sunweed', 'superaccomplished', 'superacidulated', 'superbeloved', 'superblessed', 'supercarbureted', 'supercharged', 'supercivilized', 'superclassified', 'superconsecrated', 'supercrowned', 'supercultivated', 'superelated', 'superelevated', 'superexceed', 'superexcited', 'superfructified', 'superimposed', 'superimpregnated', 'superimproved', 'superinsaniated', 'superposed', 'superpowered', 'superrefined', 'superrheumatized', 'supersacred', 'supersublimated', 'supersubtilized', 'supersulphureted', 'superultrafrostified', 'supposed', 'suppressed', 'surbased', 'surbed', 'surfaced', 'surmised', 'surmounted', 'surpeopled', 'surpliced', 'surrounded', 'suspected', 'suspended', 'sustained', 'swagbellied', 'swampweed', 'swannecked', 'swanweed', 'swastikaed', 'swayed', 'sweated', 'sweatweed', 'sweered', 'sweethearted', 'sweetmouthed', 'sweetweed', 'swelled', 'switched', 'swiveled', 'swiveleyed', 'swooned', 'swordweed', 'syllabled', 'synchronized', 'syncopated', 'syruped', 'systemed', 'systolated', 'tabarded', 'tabled', 'tabulated', 'tackled', 'tagged', 'tailed', 'taled', 'talented', 'taliped', 'tallowweed', 'taloned', 'tamehearted', 'tampioned', 'tanged', 'tanked', 'tanned', 'tannined', 'tapered', 'taprooted', 'tarantulated', 'tarbooshed', 'targeted', 'tarlataned', 'tarmined', 'tarred', 'tartarated', 'tartrated', 'tarweed', 'tasted', 'tattered', 'tattied', 'tauted', 'tawdered', 'taxed', 'taximetered', 'teated', 'ted', 'tegulated', 'tellureted', 'telluretted', 'temperamented', 'tempered', 'templed', 'tenchweed', 'tenderhearted', 'tendriled', 'tentacled', 'tentaculated', 'tented', 'terminalized', 'terreted', 'territoried', 'tessellated', 'tesserated', 'tested', 'testiculated', 'testudinated', 'tetrahydrated', 'tetrasubstituted', 'thecaspored', 'theopneusted', 'thewed', 'thickbrained', 'thicketed', 'thickheaded', 'thickskulled', 'thighed', 'thimbled', 'thimbleweed', 'thinbrained', 'thistled', 'thonged', 'thorned', 'thoroughbred', 'thoroughpaced', 'thoroughsped', 'thoroughstitched', 'thoughted', 'threaded', 'threadweed', 'threefolded', 'throated', 'throughbred', 'thumbed', 'thunderheaded', 'ticked', 'tickled', 'tickleweed', 'tickseed', 'tickseeded', 'tickweed', 'tided', 'tied', 'tierced', 'tiered', 'tiewigged', 'tigerhearted', 'tightfisted', 'tiled', 'tileseed', 'timbered', 'timbertuned', 'timbreled', 'timed', 'tindered', 'tined', 'tineweed', 'tinged', 'tinned', 'tinnified', 'tinted', 'tipped', 'tired', 'tiresomeweed', 'tissued', 'titled', 'tobaccofied', 'tobaccoweed', 'toecapped', 'toed', 'togaed', 'togated', 'toiled', 'toileted', 'toiletted', 'tokened', 'toned', 'tongued', 'tonneaued', 'tonsured', 'toothchiseled', 'toothed', 'toothleted', 'topknotted', 'toplighted', 'topped', 'torchlighted', 'torchweed', 'tored', 'tormented', 'torquated', 'torqued', 'tortured', 'toryweed', 'tossicated', 'touched', 'toughhearted', 'toupeed', 'towered', 'towheaded', 'towned', 'trabeated', 'trabeculated', 'traceried', 'tracked', 'tragicolored', 'trained', 'trammeled', 'trammelled', 'tranced', 'transferred', 'transomed', 'transported', 'trapped', 'travated', 'traveled', 'travelled', 'traversed', 'treed', 'trefoiled', 'trellised', 'trenched', 'tressed', 'tressured', 'triangled', 'triarcuated', 'tribarred', 'tricarinated', 'trichinosed', 'tricolored', 'tricornered', 'tricuspidated', 'tridentated', 'tridimensioned', 'tried', 'trifasciated', 'trifoliated', 'triformed', 'triggered', 'triglyphed', 'trihydrated', 'trilamellated', 'trilineated', 'trilobated', 'trilobed', 'trimotored', 'trinerved', 'triparted', 'triphenylated', 'tripinnated', 'triplinerved', 'tripointed', 'triradiated', 'trisected', 'trisinuated', 'trisubstituted', 'trisulcated', 'triunsaturated', 'trophied', 'trottoired', 'trousered', 'truebred', 'truehearted', 'truffled', 'trumpetweed', 'truncated', 'trunched', 'truncheoned', 'trunked', 'trunnioned', 'trussed', 'tubehearted', 'tubercled', 'tuberculated', 'tuberculed', 'tuberculosed', 'tubulated', 'tufted', 'tumbled', 'tumbleweed', 'tumored', 'tunbellied', 'tuned', 'tunicated', 'tunicked', 'tunneled', 'turbaned', 'turbinated', 'turbined', 'turfed', 'turned', 'turnipweed', 'turpantineweed', 'turpentineweed', 'turreted', 'tushed', 'tusked', 'tussocked', 'tweed', 'tweeded', 'twibilled', 'twigged', 'twilled', 'twinned', 'twisted', 'twistened', 'twitterboned', 'twizzened', 'uddered', 'ulcered', 'ullaged', 'ulstered', 'ultradignified', 'ultrainvolved', 'ultrared', 'ultrarefined', 'umbeled', 'umbellated', 'umbilicated', 'umbonated', 'umbrellaed', 'unabandoned', 'unabased', 'unabashed', 'unabated', 'unabbreviated', 'unabetted', 'unabhorred', 'unabjured', 'unabolished', 'unabraded', 'unabrased', 'unabridged', 'unabrogated', 'unabsolved', 'unabsorbed', 'unabused', 'unaccelerated', 'unaccented', 'unaccentuated', 'unaccepted', 'unaccidented', 'unacclimated', 'unacclimatized', 'unaccommodated', 'unaccompanied', 'unaccomplished', 'unaccorded', 'unaccosted', 'unaccounted', 'unaccoutered', 'unaccoutred', 'unaccreditated', 'unaccredited', 'unaccrued', 'unaccumulated', 'unaccursed', 'unaccustomed', 'unachieved', 'unacidulated', 'unacknowledged', 'unacquainted', 'unacquired', 'unacquitted', 'unacted', 'unactivated', 'unactuated', 'unadapted', 'unadded', 'unaddicted', 'unaddressed', 'unadjectived', 'unadjourned', 'unadjudged', 'unadjusted', 'unadministered', 'unadmired', 'unadmitted', 'unadmonished', 'unadopted', 'unadored', 'unadorned', 'unadulterated', 'unadvanced', 'unadvantaged', 'unadventured', 'unadvertised', 'unadvised', 'unadvocated', 'unaerated', 'unafeared', 'unaffected', 'unaffectioned', 'unaffianced', 'unaffied', 'unaffiliated', 'unaffirmed', 'unaffixed', 'unafflicted', 'unafforded', 'unaffranchised', 'unaffrighted', 'unaffronted', 'unaged', 'unaggravated', 'unaggregated', 'unagitated', 'unagreed', 'unaided', 'unaimed', 'unaired', 'unaisled', 'unalarmed', 'unalcoholized', 'unalienated', 'unaligned', 'unallayed', 'unalleged', 'unalleviated', 'unallied', 'unallotted', 'unallowed', 'unalloyed', 'unallured', 'unalmsed', 'unalphabeted', 'unaltered', 'unalternated', 'unamalgamated', 'unamassed', 'unamazed', 'unamended', 'unamerced', 'unamortized', 'unamplified', 'unamputated', 'unamused', 'unanalyzed', 'unanatomized', 'unancestored', 'unancestried', 'unanchored', 'unanchylosed', 'unaneled', 'unanimalized', 'unanimated', 'unannealed', 'unannexed', 'unannihilated', 'unannotated', 'unannounced', 'unannoyed', 'unannulled', 'unanointed', 'unanswered', 'unantagonized', 'unanticipated', 'unantiquated', 'unapostatized', 'unapostrophized', 'unappalled', 'unappareled', 'unappealed', 'unappeased', 'unappendaged', 'unapperceived', 'unapplauded', 'unapplianced', 'unapplied', 'unappointed', 'unapportioned', 'unappraised', 'unappreciated', 'unapprehended', 'unapprenticed', 'unapprised', 'unapproached', 'unappropriated', 'unapproved', 'unaproned', 'unarbitrated', 'unarched', 'unargued', 'unarmed', 'unarmored', 'unaromatized', 'unaroused', 'unarraigned', 'unarranged', 'unarrayed', 'unarrested', 'unarrived', 'unarted', 'unarticled', 'unarticulated', 'unascended', 'unascertained', 'unashamed', 'unasked', 'unaspersed', 'unasphalted', 'unaspirated', 'unassailed', 'unassassinated', 'unassaulted', 'unassayed', 'unassembled', 'unassented', 'unasserted', 'unassessed', 'unassibilated', 'unassigned', 'unassimilated', 'unassisted', 'unassociated', 'unassoiled', 'unassorted', 'unassuaged', 'unassumed', 'unassured', 'unastonished', 'unatoned', 'unattached', 'unattacked', 'unattained', 'unattainted', 'unattempered', 'unattempted', 'unattended', 'unattenuated', 'unattested', 'unattired', 'unattracted', 'unattributed', 'unattuned', 'unauctioned', 'unaudienced', 'unaudited', 'unaugmented', 'unauthenticated', 'unauthoritied', 'unauthorized', 'unavailed', 'unavenged', 'unavenued', 'unaveraged', 'unaverred', 'unaverted', 'unavoided', 'unavouched', 'unavowed', 'unawaked', 'unawakened', 'unawarded', 'unawared', 'unawed', 'unawned', 'unaxled', 'unazotized', 'unbackboarded', 'unbacked', 'unbadged', 'unbaffled', 'unbagged', 'unbailed', 'unbaited', 'unbaized', 'unbaked', 'unbalanced', 'unbalconied', 'unbalked', 'unballasted', 'unballoted', 'unbandaged', 'unbanded', 'unbanished', 'unbanked', 'unbannered', 'unbaptized', 'unbarbed', 'unbarbered', 'unbargained', 'unbarred', 'unbarreled', 'unbarricaded', 'unbarricadoed', 'unbased', 'unbastardized', 'unbasted', 'unbastilled', 'unbastinadoed', 'unbated', 'unbathed', 'unbatted', 'unbattered', 'unbeached', 'unbeaconed', 'unbeaded', 'unbearded', 'unbeaued', 'unbeautified', 'unbeavered', 'unbeclogged', 'unbeclouded', 'unbed', 'unbedabbled', 'unbedaggled', 'unbedashed', 'unbedaubed', 'unbedded', 'unbedecked', 'unbedewed', 'unbedimmed', 'unbedinned', 'unbedizened', 'unbedraggled', 'unbefriended', 'unbefringed', 'unbegged', 'unbegirded', 'unbegreased', 'unbegrimed', 'unbegrudged', 'unbeguiled', 'unbeheaded', 'unbejuggled', 'unbelied', 'unbelieved', 'unbeloved', 'unbemoaned', 'unbemourned', 'unbended', 'unbeneficed', 'unbenefited', 'unbenetted', 'unbenighted', 'unbenumbed', 'unbequeathed', 'unbereaved', 'unberouged', 'unbesieged', 'unbesmeared', 'unbesmirched', 'unbesmutted', 'unbesprinkled', 'unbestarred', 'unbestowed', 'unbeteared', 'unbetrayed', 'unbetrothed', 'unbettered', 'unbeveled', 'unbewailed', 'unbewildered', 'unbewilled', 'unbewitched', 'unbewrayed', 'unbiased', 'unbickered', 'unbigged', 'unbigoted', 'unbilled', 'unbilleted', 'unbirdlimed', 'unbitted', 'unblacked', 'unblackened', 'unblamed', 'unblanched', 'unblanketed', 'unblasphemed', 'unblasted', 'unblazoned', 'unbleached', 'unbled', 'unblemished', 'unblenched', 'unblended', 'unblessed', 'unblighted', 'unblistered', 'unblockaded', 'unblocked', 'unblooded', 'unbloodied', 'unbloomed', 'unblossomed', 'unblotted', 'unbloused', 'unblued', 'unbluffed', 'unblundered', 'unblunted', 'unblurred', 'unboarded', 'unboasted', 'unbodied', 'unbodkined', 'unboiled', 'unbolled', 'unbolstered', 'unbolted', 'unbonded', 'unboned', 'unbonneted', 'unbooked', 'unbooklearned', 'unbooted', 'unboraxed', 'unbordered', 'unbored', 'unborrowed', 'unbossed', 'unbothered', 'unbottomed', 'unbounded', 'unbowdlerized', 'unbowed', 'unboweled', 'unbowered', 'unbowled', 'unboxed', 'unbraced', 'unbraceleted', 'unbragged', 'unbraided', 'unbrailed', 'unbrained', 'unbranched', 'unbranded', 'unbrandied', 'unbraved', 'unbreached', 'unbreaded', 'unbreakfasted', 'unbreathed', 'unbred', 'unbreeched', 'unbrewed', 'unbribed', 'unbridged', 'unbridled', 'unbriefed', 'unbrightened', 'unbrined', 'unbroached', 'unbroadcasted', 'unbroidered', 'unbroiled', 'unbronzed', 'unbrooded', 'unbrothered', 'unbrowned', 'unbruised', 'unbrushed', 'unbrutalized', 'unbuckramed', 'unbudded', 'unbudged', 'unbudgeted', 'unbuffed', 'unbuffered', 'unbuffeted', 'unbuilded', 'unbulled', 'unbulletined', 'unbumped', 'unbunched', 'unbundled', 'unbuoyed', 'unburdened', 'unburgessed', 'unburied', 'unburlesqued', 'unburned', 'unburnished', 'unburrowed', 'unbusied', 'unbuskined', 'unbutchered', 'unbuttered', 'unbuttoned', 'unbuttressed', 'uncabined', 'uncabled', 'uncadenced', 'uncaged', 'uncalcified', 'uncalcined', 'uncalculated', 'uncalendered', 'uncalked', 'uncalled', 'uncalmed', 'uncalumniated', 'uncambered', 'uncamerated', 'uncamouflaged', 'uncanceled', 'uncancelled', 'uncandied', 'uncaned', 'uncankered', 'uncanned', 'uncanonized', 'uncanopied', 'uncantoned', 'uncantonized', 'uncanvassed', 'uncaparisoned', 'uncapitalized', 'uncapped', 'uncapsized', 'uncaptained', 'uncaptioned', 'uncaptivated', 'uncaptived', 'uncaptured', 'uncarbonated', 'uncarboned', 'uncarbureted', 'uncarded', 'uncaressed', 'uncargoed', 'uncaricatured', 'uncaroled', 'uncarpentered', 'uncarpeted', 'uncarried', 'uncarted', 'uncartooned', 'uncarved', 'uncased', 'uncasemated', 'uncasked', 'uncasketed', 'uncastigated', 'uncastled', 'uncastrated', 'uncatalogued', 'uncatechised', 'uncatechized', 'uncategorized', 'uncathedraled', 'uncaused', 'uncauterized', 'unceased', 'unceded', 'unceiled', 'unceilinged', 'uncelebrated', 'uncelestialized', 'uncemented', 'uncensored', 'uncensured', 'uncentered', 'uncentred', 'uncereclothed', 'unceremented', 'uncertificated', 'uncertified', 'unchafed', 'unchained', 'unchaired', 'unchalked', 'unchallenged', 'unchambered', 'unchamfered', 'unchampioned', 'unchanged', 'unchanneled', 'unchannelled', 'unchanted', 'unchaperoned', 'unchapleted', 'unchaptered', 'uncharactered', 'uncharacterized', 'uncharged', 'uncharmed', 'uncharred', 'uncharted', 'unchartered', 'unchased', 'unchastened', 'unchastised', 'unchatteled', 'unchauffeured', 'unchawed', 'uncheated', 'unchecked', 'uncheckered', 'uncheered', 'uncherished', 'unchested', 'unchevroned', 'unchewed', 'unchided', 'unchilled', 'unchinked', 'unchipped', 'unchiseled', 'unchiselled', 'unchloridized', 'unchoked', 'unchopped', 'unchorded', 'unchristened', 'unchristianized', 'unchronicled', 'unchurched', 'uncicatrized', 'unciliated', 'uncinated', 'uncinctured', 'uncircularized', 'uncirculated', 'uncircumcised', 'uncircumscribed', 'uncircumstanced', 'uncited', 'uncitied', 'uncivilized', 'unclaimed', 'unclamped', 'unclarified', 'unclasped', 'unclassed', 'unclassified', 'unclawed', 'unclayed', 'uncleaned', 'uncleansed', 'uncleared', 'uncliented', 'unclimaxed', 'unclimbed', 'unclipped', 'uncloaked', 'unclogged', 'uncloistered', 'unclosed', 'uncloseted', 'unclothed', 'unclotted', 'unclouded', 'uncloyed', 'unclustered', 'unclutched', 'uncluttered', 'uncoached', 'uncoacted', 'uncoagulated', 'uncoated', 'uncoaxed', 'uncocked', 'uncocted', 'uncodded', 'uncoddled', 'uncoded', 'uncodified', 'uncoerced', 'uncoffined', 'uncogged', 'uncognized', 'uncoifed', 'uncoiled', 'uncoined', 'uncoked', 'uncollapsed', 'uncollared', 'uncollated', 'uncollected', 'uncolleged', 'uncolonized', 'uncolored', 'uncoloured', 'uncombated', 'uncombed', 'uncombined', 'uncomforted', 'uncommanded', 'uncommemorated', 'uncommenced', 'uncommended', 'uncommented', 'uncommingled', 'uncomminuted', 'uncommiserated', 'uncommissioned', 'uncommitted', 'uncommixed', 'uncommunicated', 'uncommuted', 'uncompacted', 'uncompanied', 'uncompanioned', 'uncompared', 'uncompassed', 'uncompassionated', 'uncompassioned', 'uncompelled', 'uncompensated', 'uncompiled', 'uncomplained', 'uncompleted', 'uncomplicated', 'uncomplimented', 'uncomposed', 'uncompounded', 'uncomprehended', 'uncompressed', 'uncomprised', 'uncompromised', 'uncomputed', 'uncomraded', 'unconcatenated', 'unconcealed', 'unconceded', 'unconceited', 'unconceived', 'unconcerned', 'unconcerted', 'unconciliated', 'unconcluded', 'unconcocted', 'unconcreted', 'uncondemned', 'uncondensed', 'unconditionated', 'unconditioned', 'uncondoled', 'unconducted', 'unconfected', 'unconfederated', 'unconferred', 'unconfessed', 'unconfided', 'unconfined', 'unconfirmed', 'unconfiscated', 'unconformed', 'unconfounded', 'unconfronted', 'unconfused', 'unconfuted', 'uncongealed', 'uncongested', 'unconglobated', 'unconglomerated', 'unconglutinated', 'uncongratulated', 'uncongregated', 'unconjectured', 'unconjoined', 'unconjugated', 'unconjured', 'unconnected', 'unconned', 'unconnived', 'unconquered', 'unconscienced', 'unconsecrated', 'unconsented', 'unconserved', 'unconsidered', 'unconsigned', 'unconsociated', 'unconsoled', 'unconsolidated', 'unconspired', 'unconstellated', 'unconstipated', 'unconstituted', 'unconstrained', 'unconstricted', 'unconstructed', 'unconstrued', 'unconsulted', 'unconsumed', 'unconsummated', 'uncontained', 'uncontaminated', 'uncontemned', 'uncontemplated', 'uncontended', 'uncontented', 'uncontested', 'uncontinented', 'uncontinued', 'uncontorted', 'uncontracted', 'uncontradicted', 'uncontrasted', 'uncontributed', 'uncontrived', 'uncontrolled', 'uncontroverted', 'unconvened', 'unconventioned', 'unconverted', 'unconveyed', 'unconvicted', 'unconvinced', 'unconvoluted', 'unconvoyed', 'unconvulsed', 'uncooked', 'uncooled', 'uncooped', 'uncoopered', 'uncopied', 'uncopyrighted', 'uncorded', 'uncored', 'uncorked', 'uncorned', 'uncoronated', 'uncoroneted', 'uncorrected', 'uncorrelated', 'uncorroborated', 'uncorroded', 'uncorrugated', 'uncorrupted', 'uncorseted', 'uncosseted', 'uncostumed', 'uncottoned', 'uncouched', 'uncounseled', 'uncounselled', 'uncounted', 'uncountenanced', 'uncounteracted', 'uncounterbalanced', 'uncounterfeited', 'uncountermanded', 'uncountervailed', 'uncountrified', 'uncoupled', 'uncoursed', 'uncourted', 'uncovenanted', 'uncovered', 'uncoveted', 'uncowed', 'uncracked', 'uncradled', 'uncramped', 'uncranked', 'uncrannied', 'uncrated', 'uncravatted', 'uncrazed', 'uncreased', 'uncreated', 'uncredentialed', 'uncredentialled', 'uncredited', 'uncreosoted', 'uncrested', 'uncrevassed', 'uncried', 'uncrinkled', 'uncrippled', 'uncriticised', 'uncriticized', 'uncrooked', 'uncropped', 'uncrossed', 'uncrossexamined', 'uncrowded', 'uncrowned', 'uncrucified', 'uncrudded', 'uncrumbled', 'uncrushed', 'uncrusted', 'uncrystaled', 'uncrystalled', 'uncrystallized', 'uncubbed', 'uncuckolded', 'uncudgelled', 'uncuffed', 'unculled', 'uncultivated', 'uncultured', 'uncumbered', 'uncupped', 'uncurbed', 'uncurdled', 'uncured', 'uncurled', 'uncurricularized', 'uncurried', 'uncursed', 'uncurtailed', 'uncurtained', 'uncushioned', 'uncusped', 'uncustomed', 'undabbled', 'undaggled', 'undamaged', 'undamasked', 'undammed', 'undamped', 'undandled', 'undangered', 'undared', 'undarkened', 'undarned', 'undashed', 'undated', 'undaubed', 'undaunted', 'undawned', 'undazed', 'undazzled', 'undeadened', 'undebarred', 'undebased', 'undebated', 'undebauched', 'undebilitated', 'undecayed', 'undeceased', 'undeceived', 'undecided', 'undeciphered', 'undecked', 'undeclaimed', 'undeclared', 'undeclined', 'undecocted', 'undecomposed', 'undecompounded', 'undecorated', 'undecorticated', 'undecoyed', 'undecreased', 'undecreed', 'undecried', 'undedicated', 'undeducted', 'undeeded', 'undeemed', 'undefaced', 'undefalcated', 'undefamed', 'undefaulted', 'undefeated', 'undefecated', 'undefended', 'undefensed', 'undeferred', 'undefied', 'undefiled', 'undefined', 'undeflected', 'undeflowered', 'undeformed', 'undefrauded', 'undefrayed', 'undegenerated', 'undegraded', 'undeified', 'undejected', 'undelated', 'undelayed', 'undelegated', 'undeleted', 'undeliberated', 'undelighted', 'undelimited', 'undelineated', 'undelivered', 'undeluded', 'undeluged', 'undelved', 'undemanded', 'undemised', 'undemolished', 'undemonstrated', 'undenied', 'undenizened', 'undenominated', 'undenoted', 'undenounced', 'undenuded', 'undeparted', 'undephlegmated', 'undepicted', 'undepleted', 'undeplored', 'undeported', 'undeposed', 'undeposited', 'undepraved', 'undeprecated', 'undepreciated', 'undepressed', 'undeprived', 'undepurated', 'undeputed', 'underaccommodated', 'underacted', 'underanged', 'underbed', 'underbitted', 'underboated', 'underbowed', 'underbraced', 'underbred', 'underburned', 'undercapitaled', 'undercarved', 'undercharged', 'underchurched', 'underclothed', 'undercoated', 'undercolored', 'undercompounded', 'underconcerned', 'underdressed', 'underdunged', 'undereducated', 'underexcited', 'underfed', 'underfeed', 'underfolded', 'underhanded', 'underhorsed', 'underided', 'underived', 'underjawed', 'underlanguaged', 'underlimbed', 'underlunged', 'undermanned', 'undermasted', 'undermatched', 'undermentioned', 'undermoated', 'undernoted', 'undernourished', 'underoccupied', 'underofficered', 'underpeopled', 'underpetticoated', 'underpitched', 'underprivileged', 'underproportioned', 'underpropped', 'underqualified', 'underrented', 'underrespected', 'underrigged', 'underripened', 'underrooted', 'undersailed', 'underseated', 'underseeded', 'undersighted', 'undersized', 'undersparred', 'underspecified', 'undertaxed', 'underteamed', 'undertided', 'undertimed', 'undertoned', 'undertrained', 'undervaulted', 'undervitalized', 'undervocabularied', 'underweighted', 'underwitted', 'underwooded', 'undescended', 'undescribed', 'undescried', 'undeserted', 'undeserved', 'undesignated', 'undesigned', 'undesired', 'undespaired', 'undespatched', 'undespised', 'undespoiled', 'undestined', 'undestroyed', 'undetached', 'undetailed', 'undetained', 'undetected', 'undeteriorated', 'undetermined', 'undeterred', 'undetested', 'undethroned', 'undeveloped', 'undeviated', 'undevised', 'undevoted', 'undevoured', 'undewed', 'undiademed', 'undiagnosed', 'undialed', 'undialyzed', 'undiamonded', 'undiapered', 'undictated', 'undieted', 'undifferenced', 'undifferentiated', 'undiffracted', 'undiffused', 'undigested', 'undigged', 'undighted', 'undigitated', 'undignified', 'undiked', 'undilapidated', 'undilated', 'undiluted', 'undimensioned', 'undiminished', 'undimmed', 'undimpled', 'undined', 'undinted', 'undiocesed', 'undiplomaed', 'undipped', 'undirected', 'undisabled', 'undisappointed', 'undisarmed', 'undisbanded', 'undisbarred', 'undisburdened', 'undisbursed', 'undiscarded', 'undiscerned', 'undischarged', 'undiscipled', 'undisciplined', 'undisclaimed', 'undisclosed', 'undiscolored', 'undiscomfited', 'undiscomposed', 'undisconcerted', 'undisconnected', 'undiscontinued', 'undiscounted', 'undiscouraged', 'undiscoursed', 'undiscovered', 'undiscredited', 'undiscriminated', 'undiscussed', 'undisdained', 'undiseased', 'undisestablished', 'undisfigured', 'undisfranchised', 'undisfulfilled', 'undisgorged', 'undisgraced', 'undisguised', 'undisgusted', 'undisheartened', 'undished', 'undisheveled', 'undishonored', 'undisillusioned', 'undisinfected', 'undisinherited', 'undisintegrated', 'undisinterested', 'undisjoined', 'undisjointed', 'undisliked', 'undislocated', 'undislodged', 'undismantled', 'undismayed', 'undismembered', 'undismissed', 'undismounted', 'undisobeyed', 'undisordered', 'undisorganized', 'undisowned', 'undisparaged', 'undispatched', 'undispelled', 'undispensed', 'undispersed', 'undisplaced', 'undisplanted', 'undisplayed', 'undispleased', 'undisposed', 'undisprivacied', 'undisproved', 'undisputed', 'undisqualified', 'undisquieted', 'undisrobed', 'undisrupted', 'undissected', 'undissembled', 'undisseminated', 'undissevered', 'undissimulated', 'undissipated', 'undissociated', 'undissolved', 'undistanced', 'undistasted', 'undistempered', 'undistended', 'undistilled', 'undistinguished', 'undistorted', 'undistracted', 'undistrained', 'undistressed', 'undistributed', 'undistrusted', 'undisturbed', 'unditched', 'undittoed', 'undiversified', 'undiverted', 'undivested', 'undivided', 'undivined', 'undivorced', 'undivulged', 'undizened', 'undizzied', 'undocked', 'undoctored', 'undoctrined', 'undocumented', 'undodged', 'undoffed', 'undolled', 'undomed', 'undomesticated', 'undomiciled', 'undominated', 'undominoed', 'undonated', 'undoomed', 'undoped', 'undosed', 'undotted', 'undoubled', 'undoubted', 'undouched', 'undoweled', 'undowered', 'undowned', 'undrafted', 'undragoned', 'undragooned', 'undrained', 'undramatized', 'undraped', 'undraperied', 'undreaded', 'undreamed', 'undredged', 'undrenched', 'undressed', 'undried', 'undrilled', 'undropped', 'undrowned', 'undrubbed', 'undrugged', 'undubbed', 'undulated', 'undulled', 'undumped', 'undunged', 'unduped', 'undusted', 'undwarfed', 'undyed', 'uneagled', 'unearned', 'unearthed', 'unebbed', 'unechoed', 'uneclipsed', 'unedged', 'unedified', 'unedited', 'uneducated', 'uneduced', 'uneffaced', 'uneffected', 'uneffectuated', 'uneffeminated', 'uneffigiated', 'uneffused', 'unejaculated', 'unejected', 'unelaborated', 'unelapsed', 'unelated', 'unelbowed', 'unelected', 'unelectrified', 'unelectrized', 'unelevated', 'unelicited', 'unelided', 'uneliminated', 'unelongated', 'uneloped', 'unelucidated', 'uneluded', 'unemaciated', 'unemancipated', 'unemasculated', 'unembalmed', 'unembanked', 'unembarrassed', 'unembased', 'unembattled', 'unembayed', 'unembellished', 'unembezzled', 'unembittered', 'unemblazoned', 'unembodied', 'unembossed', 'unembowelled', 'unembowered', 'unembraced', 'unembroidered', 'unembroiled', 'unemended', 'unemerged', 'unemitted', 'unemolumented', 'unemotioned', 'unempaneled', 'unemployed', 'unempoisoned', 'unempowered', 'unemptied', 'unemulsified', 'unenabled', 'unenacted', 'unenameled', 'unenamored', 'unencamped', 'unenchafed', 'unenchanted', 'unencircled', 'unenclosed', 'unencompassed', 'unencored', 'unencountered', 'unencouraged', 'unencroached', 'unencumbered', 'unencysted', 'unendamaged', 'unendangered', 'unendeared', 'unendeavored', 'unended', 'unendorsed', 'unendowed', 'unendued', 'unendured', 'unenergized', 'unenervated', 'unenfeebled', 'unenfiladed', 'unenforced', 'unenfranchised', 'unengaged', 'unengendered', 'unengineered', 'unengraved', 'unengrossed', 'unenhanced', 'unenjoined', 'unenjoyed', 'unenkindled', 'unenlarged', 'unenlightened', 'unenlisted', 'unenlivened', 'unennobled', 'unenounced', 'unenquired', 'unenraged', 'unenraptured', 'unenriched', 'unenrobed', 'unenrolled', 'unenshrined', 'unenslaved', 'unensnared', 'unensouled', 'unensured', 'unentailed', 'unentangled', 'unentered', 'unenterprised', 'unentertained', 'unenthralled', 'unenthroned', 'unenticed', 'unentitled', 'unentombed', 'unentranced', 'unentrapped', 'unentreated', 'unentrenched', 'unentwined', 'unenumerated', 'unenveloped', 'unenvenomed', 'unenvied', 'unenvironed', 'unepauleted', 'unepilogued', 'unepitaphed', 'unepitomized', 'unequaled', 'unequalized', 'unequated', 'unequiaxed', 'unequilibrated', 'unequipped', 'unequivalved', 'uneradicated', 'unerased', 'unerected', 'unermined', 'uneroded', 'unerupted', 'unescaladed', 'unescalloped', 'unescaped', 'unescheated', 'uneschewed', 'unescorted', 'unescutcheoned', 'unespied', 'unespoused', 'unessayed', 'unestablished', 'unesteemed', 'unestimated', 'unestopped', 'unestranged', 'unetched', 'uneternized', 'unethylated', 'uneulogized', 'unevacuated', 'unevaded', 'unevaluated', 'unevangelized', 'unevaporated', 'uneverted', 'unevicted', 'unevidenced', 'unevinced', 'unevirated', 'uneviscerated', 'unevoked', 'unevolved', 'unexacerbated', 'unexacted', 'unexaggerated', 'unexalted', 'unexamined', 'unexampled', 'unexasperated', 'unexcavated', 'unexceeded', 'unexcelled', 'unexcepted', 'unexcerpted', 'unexchanged', 'unexcised', 'unexcited', 'unexcluded', 'unexcogitated', 'unexcommunicated', 'unexcoriated', 'unexcorticated', 'unexcreted', 'unexculpated', 'unexcused', 'unexecrated', 'unexecuted', 'unexemplified', 'unexempted', 'unexercised', 'unexerted', 'unexhaled', 'unexhausted', 'unexhibited', 'unexhilarated', 'unexhorted', 'unexhumed', 'unexiled', 'unexonerated', 'unexorcised', 'unexpanded', 'unexpected', 'unexpectorated', 'unexpeditated', 'unexpedited', 'unexpelled', 'unexpended', 'unexperienced', 'unexperimented', 'unexpiated', 'unexpired', 'unexplained', 'unexplicated', 'unexploded', 'unexploited', 'unexplored', 'unexported', 'unexposed', 'unexpounded', 'unexpressed', 'unexpropriated', 'unexpunged', 'unexpurgated', 'unextended', 'unextenuated', 'unexterminated', 'unextinguished', 'unextirpated', 'unextolled', 'unextorted', 'unextracted', 'unextradited', 'unextravasated', 'unextricated', 'unextruded', 'unexuded', 'uneyed', 'unfabled', 'unfabricated', 'unfacaded', 'unfaced', 'unfaceted', 'unfacilitated', 'unfactored', 'unfaded', 'unfagged', 'unfagoted', 'unfailed', 'unfairminded', 'unfaked', 'unfallowed', 'unfalsified', 'unfamed', 'unfamiliarized', 'unfancied', 'unfanged', 'unfanned', 'unfarced', 'unfarewelled', 'unfarmed', 'unfarrowed', 'unfarsighted', 'unfasciated', 'unfascinated', 'unfashioned', 'unfastened', 'unfathered', 'unfathomed', 'unfatigued', 'unfatted', 'unfauceted', 'unfavored', 'unfeared', 'unfeasted', 'unfeathered', 'unfeatured', 'unfecundated', 'unfed', 'unfederated', 'unfeed', 'unfeigned', 'unfelicitated', 'unfelled', 'unfellied', 'unfellowed', 'unfellowshiped', 'unfelted', 'unfenced', 'unfendered', 'unfenestrated', 'unfeoffed', 'unfermented', 'unferreted', 'unferried', 'unfertilized', 'unfestered', 'unfestooned', 'unfetched', 'unfeted', 'unfettered', 'unfettled', 'unfeudalized', 'unfeued', 'unfevered', 'unfibbed', 'unfibered', 'unfielded', 'unfigured', 'unfilched', 'unfiled', 'unfilled', 'unfilleted', 'unfilmed', 'unfiltered', 'unfiltrated', 'unfined', 'unfinessed', 'unfingered', 'unfinished', 'unfired', 'unfirmamented', 'unfished', 'unfitted', 'unfixated', 'unfixed', 'unflagged', 'unflanged', 'unflanked', 'unflated', 'unflattened', 'unflattered', 'unflaunted', 'unflavored', 'unflawed', 'unflayed', 'unflecked', 'unfledged', 'unfleeced', 'unfleshed', 'unfletched', 'unflexed', 'unflitched', 'unflogged', 'unflooded', 'unfloored', 'unflounced', 'unfloured', 'unflourished', 'unflouted', 'unflowered', 'unfluked', 'unflunked', 'unflurried', 'unflushed', 'unflustered', 'unfluted', 'unfluttered', 'unfoaled', 'unfocused', 'unfoiled', 'unfoisted', 'unfolded', 'unfoliaged', 'unfoliated', 'unfollowed', 'unfomented', 'unfondled', 'unfooled', 'unfooted', 'unforaged', 'unforced', 'unforded', 'unforeboded', 'unforecasted', 'unforeordained', 'unforeshortened', 'unforestalled', 'unforested', 'unforewarned', 'unforfeited', 'unforged', 'unforked', 'unformalized', 'unformed', 'unformulated', 'unfortified', 'unforwarded', 'unfossilized', 'unfostered', 'unfouled', 'unfounded', 'unfoundered', 'unfountained', 'unfractured', 'unframed', 'unfranchised', 'unfranked', 'unfrayed', 'unfreckled', 'unfreed', 'unfreighted', 'unfrenchified', 'unfrenzied', 'unfrequented', 'unfrictioned', 'unfried', 'unfriended', 'unfrighted', 'unfrightened', 'unfrilled', 'unfringed', 'unfrizzled', 'unfrocked', 'unfronted', 'unfrosted', 'unfrounced', 'unfructed', 'unfructified', 'unfrustrated', 'unfuddled', 'unfueled', 'unfulfilled', 'unfulled', 'unfulminated', 'unfumbled', 'unfumed', 'unfumigated', 'unfunded', 'unfurbelowed', 'unfurbished', 'unfurnished', 'unfurnitured', 'unfurred', 'unfurrowed', 'unfused', 'unfussed', 'ungabled', 'ungaged', 'ungagged', 'ungained', 'ungalvanized', 'unganged', 'ungangrened', 'ungarbed', 'ungarbled', 'ungardened', 'ungargled', 'ungarlanded', 'ungarmented', 'ungarnered', 'ungarnished', 'ungarrisoned', 'ungartered', 'ungashed', 'ungassed', 'ungathered', 'ungauged', 'ungauntleted', 'ungazetted', 'ungeared', 'ungelatinized', 'ungelded', 'ungeminated', 'ungeneraled', 'ungeneralized', 'ungenerated', 'ungenitured', 'ungentled', 'ungerminated', 'ungifted', 'ungilded', 'ungingled', 'unginned', 'ungirded', 'ungirdled', 'ungirthed', 'unglaciated', 'ungladdened', 'unglassed', 'unglazed', 'ungleaned', 'unglimpsed', 'ungloomed', 'unglorified', 'unglosed', 'unglossaried', 'unglossed', 'ungloved', 'unglozed', 'unglued', 'unglutted', 'ungnarred', 'ungoaded', 'ungodmothered', 'ungored', 'ungorged', 'ungospelized', 'ungospelled', 'ungouged', 'ungoverned', 'ungowned', 'ungraced', 'ungradated', 'ungraded', 'ungraduated', 'ungrafted', 'ungrained', 'ungrammared', 'ungranted', 'ungranulated', 'ungraphitized', 'ungrappled', 'ungrasped', 'ungrassed', 'ungrated', 'ungratified', 'ungraved', 'ungraveled', 'ungrayed', 'ungrazed', 'ungreased', 'ungreened', 'ungreeted', 'ungrieved', 'ungrilled', 'ungrimed', 'ungrizzled', 'ungroined', 'ungroomed', 'ungrooved', 'ungrounded', 'ungrouped', 'ungrubbed', 'ungrudged', 'unguaranteed', 'unguarded', 'unguerdoned', 'unguessed', 'unguiculated', 'unguided', 'unguiled', 'unguillotined', 'ungulated', 'unguled', 'ungummed', 'ungutted', 'unguyed', 'unguzzled', 'ungyved', 'unhabited', 'unhabituated', 'unhacked', 'unhackled', 'unhackneyed', 'unhafted', 'unhaggled', 'unhailed', 'unhaired', 'unhallooed', 'unhallowed', 'unhaloed', 'unhalsed', 'unhalted', 'unhaltered', 'unhalved', 'unhammered', 'unhampered', 'unhandcuffed', 'unhandicapped', 'unhandled', 'unhandseled', 'unhanged', 'unharangued', 'unharassed', 'unharbored', 'unhardened', 'unharked', 'unharmed', 'unharmonized', 'unharnessed', 'unharped', 'unharried', 'unharrowed', 'unharvested', 'unhashed', 'unhasped', 'unhasted', 'unhastened', 'unhatched', 'unhatcheled', 'unhated', 'unhatted', 'unhauled', 'unhaunted', 'unhawked', 'unhayed', 'unhazarded', 'unhazed', 'unheaded', 'unhealed', 'unheaped', 'unhearsed', 'unheated', 'unheaved', 'unhectored', 'unhedged', 'unheed', 'unheeded', 'unheeled', 'unheelpieced', 'unhefted', 'unheightened', 'unheired', 'unhelmed', 'unhelmeted', 'unhelped', 'unhelved', 'unhemmed', 'unheralded', 'unherded', 'unhewed', 'unhidated', 'unhindered', 'unhinted', 'unhipped', 'unhired', 'unhissed', 'unhitched', 'unhoarded', 'unhoaxed', 'unhocked', 'unhoed', 'unhogged', 'unhoisted', 'unhollowed', 'unhoned', 'unhoneyed', 'unhonied', 'unhonored', 'unhonoured', 'unhooded', 'unhoodwinked', 'unhoofed', 'unhooked', 'unhooped', 'unhooted', 'unhoped', 'unhopped', 'unhoppled', 'unhorizoned', 'unhorned', 'unhosed', 'unhoused', 'unhouseled', 'unhugged', 'unhulled', 'unhumanized', 'unhumbled', 'unhumbugged', 'unhumiliated', 'unhumored', 'unhumoured', 'unhunted', 'unhurdled', 'unhurled', 'unhurried', 'unhurted', 'unhusbanded', 'unhushed', 'unhusked', 'unhustled', 'unhutched', 'unhuzzaed', 'unhydrolyzed', 'unhymned', 'unhyphenated', 'unhyphened', 'unhypothecated', 'uniauriculated', 'unicarinated', 'uniced', 'unicelled', 'unicolored', 'unicornuted', 'unideaed', 'unidealized', 'unidentated', 'unidentified', 'unidirected', 'unidolized', 'unifaced', 'unified', 'uniflowered', 'uniformed', 'unignited', 'unignored', 'unilabiated', 'unillumed', 'unilluminated', 'unillumined', 'unillusioned', 'unillustrated', 'unilobed', 'unimaged', 'unimagined', 'unimbanked', 'unimbellished', 'unimbezzled', 'unimbibed', 'unimbittered', 'unimbodied', 'unimboldened', 'unimbordered', 'unimbosomed', 'unimbowed', 'unimbowered', 'unimbroiled', 'unimbrowned', 'unimbrued', 'unimbued', 'unimitated', 'unimmerged', 'unimmersed', 'unimmolated', 'unimmortalized', 'unimmured', 'unimpaired', 'unimparted', 'unimpassioned', 'unimpawned', 'unimpeached', 'unimpearled', 'unimped', 'unimpeded', 'unimpelled', 'unimplanted', 'unimplicated', 'unimplied', 'unimplored', 'unimpoisoned', 'unimported', 'unimportuned', 'unimposed', 'unimpounded', 'unimpoverished', 'unimpowered', 'unimprecated', 'unimpregnated', 'unimpressed', 'unimprinted', 'unimprisoned', 'unimpropriated', 'unimproved', 'unimprovised', 'unimpugned', 'unimpurpled', 'unimputed', 'uninaugurated', 'unincantoned', 'unincarcerated', 'unincarnated', 'unincensed', 'unincised', 'unincited', 'uninclined', 'uninclosed', 'unincluded', 'uninconvenienced', 'unincorporated', 'unincreased', 'unincubated', 'uninculcated', 'unincumbered', 'unindebted', 'unindemnified', 'unindented', 'unindentured', 'unindexed', 'unindicated', 'unindicted', 'unindividualized', 'unindividuated', 'unindorsed', 'uninduced', 'unindulged', 'unindurated', 'unindustrialized', 'uninebriated', 'uninerved', 'uninfatuated', 'uninfected', 'uninferred', 'uninfested', 'uninfiltrated', 'uninfixed', 'uninflamed', 'uninflated', 'uninflected', 'uninflicted', 'uninfluenced', 'uninfolded', 'uninformed', 'uninfracted', 'uninfringed', 'uninfuriated', 'uninfused', 'uningested', 'uningrafted', 'uningrained', 'uninhabited', 'uninhaled', 'uninherited', 'uninhibited', 'uninhumed', 'uninitialed', 'uninitialled', 'uninitiated', 'uninjected', 'uninjured', 'uninked', 'uninoculated', 'uninquired', 'uninscribed', 'uninserted', 'uninshrined', 'uninsinuated', 'uninspected', 'uninspired', 'uninspirited', 'uninspissated', 'uninstalled', 'uninstanced', 'uninstated', 'uninstigated', 'uninstilled', 'uninstituted', 'uninstructed', 'uninsulated', 'uninsulted', 'uninsured', 'unintegrated', 'unintended', 'unintercalated', 'unintercepted', 'uninterdicted', 'uninterested', 'uninterjected', 'uninterlaced', 'uninterlarded', 'uninterleaved', 'uninterlined', 'uninterlinked', 'uninterlocked', 'unintermingled', 'unintermitted', 'unintermixed', 'uninterpleaded', 'uninterpolated', 'uninterposed', 'uninterpreted', 'uninterred', 'uninterrogated', 'uninterrupted', 'unintersected', 'uninterspersed', 'uninterviewed', 'unintervolved', 'uninthroned', 'unintimated', 'unintimidated', 'unintitled', 'unintombed', 'unintoned', 'unintoxicated', 'unintrenched', 'unintrigued', 'unintroduced', 'unintromitted', 'unintruded', 'unintrusted', 'unintwined', 'uninucleated', 'uninundated', 'uninured', 'uninurned', 'uninvaded', 'uninvaginated', 'uninvalidated', 'uninveigled', 'uninvented', 'uninverted', 'uninvested', 'uninvestigated', 'uninvigorated', 'uninvited', 'uninvoiced', 'uninvoked', 'uninvolved', 'uninweaved', 'uninwrapped', 'uninwreathed', 'unioned', 'uniped', 'uniradiated', 'unironed', 'unirradiated', 'unirrigated', 'unirritated', 'unisexed', 'unisolated', 'unissued', 'unitalicized', 'united', 'unitemized', 'univied', 'univocalized', 'unjacketed', 'unjaded', 'unjagged', 'unjailed', 'unjapanned', 'unjarred', 'unjaundiced', 'unjealoused', 'unjellied', 'unjesuited', 'unjeweled', 'unjewelled', 'unjilted', 'unjogged', 'unjointed', 'unjointured', 'unjolted', 'unjostled', 'unjournalized', 'unjoyed', 'unjudged', 'unjuggled', 'unjuiced', 'unjumbled', 'unjustified', 'unjustled', 'unkamed', 'unked', 'unkeeled', 'unkembed', 'unkenned', 'unkenneled', 'unkerchiefed', 'unkeyed', 'unkicked', 'unkilled', 'unkilned', 'unkindhearted', 'unkindled', 'unkindred', 'unkinged', 'unkissed', 'unkneaded', 'unknelled', 'unknighted', 'unknitted', 'unknocked', 'unknotted', 'unkodaked', 'unkoshered', 'unlabeled', 'unlabored', 'unlaced', 'unlacerated', 'unlackeyed', 'unlacquered', 'unladled', 'unladyfied', 'unlamed', 'unlamented', 'unlampooned', 'unlanced', 'unlanded', 'unlandmarked', 'unlanguaged', 'unlanterned', 'unlapped', 'unlapsed', 'unlarded', 'unlashed', 'unlassoed', 'unlathed', 'unlathered', 'unlatinized', 'unlatticed', 'unlauded', 'unlaunched', 'unlaundered', 'unlaureled', 'unlaved', 'unlavished', 'unlawed', 'unlawlearned', 'unlawyered', 'unleached', 'unleaded', 'unleafed', 'unleagued', 'unleared', 'unlearned', 'unleased', 'unleashed', 'unleathered', 'unleaved', 'unleavened', 'unlectured', 'unled', 'unlegacied', 'unlegalized', 'unleisured', 'unlensed', 'unlessened', 'unlessoned', 'unletted', 'unlettered', 'unleveled', 'unlevied', 'unlevigated', 'unlibeled', 'unliberalized', 'unliberated', 'unlicensed', 'unlicentiated', 'unlichened', 'unlicked', 'unlidded', 'unlifted', 'unligatured', 'unlighted', 'unlightened', 'unlignified', 'unliked', 'unlimed', 'unlimited', 'unlimned', 'unlined', 'unlinked', 'unliquefied', 'unliquidated', 'unliquored', 'unlisted', 'unlistened', 'unlitigated', 'unlittered', 'unliveried', 'unloaded', 'unloaned', 'unloathed', 'unlobed', 'unlocalized', 'unlocated', 'unlocked', 'unlodged', 'unlogged', 'unlooked', 'unlooped', 'unlooted', 'unlopped', 'unlorded', 'unlotted', 'unloved', 'unlowered', 'unlubricated', 'unluffed', 'unlugged', 'unlumped', 'unlured', 'unluted', 'unluxated', 'unmacadamized', 'unmacerated', 'unmadded', 'unmaddened', 'unmagnetized', 'unmagnified', 'unmailed', 'unmaimed', 'unmaintained', 'unmaligned', 'unmalled', 'unmalted', 'unmammonized', 'unmanacled', 'unmanaged', 'unmancipated', 'unmandated', 'unmanducated', 'unmaned', 'unmaneged', 'unmangled', 'unmanicured', 'unmanifested', 'unmanipulated', 'unmanned', 'unmannered', 'unmanored', 'unmantled', 'unmanufactured', 'unmanumitted', 'unmanured', 'unmapped', 'unmarbled', 'unmarginated', 'unmarked', 'unmarketed', 'unmarled', 'unmarred', 'unmarried', 'unmarshaled', 'unmartyred', 'unmashed', 'unmasked', 'unmassacred', 'unmassed', 'unmastered', 'unmasticated', 'unmatched', 'unmated', 'unmatriculated', 'unmatted', 'unmatured', 'unmauled', 'unmeasured', 'unmeated', 'unmechanized', 'unmedaled', 'unmedalled', 'unmeddled', 'unmediated', 'unmediatized', 'unmedicated', 'unmeditated', 'unmedullated', 'unmeliorated', 'unmellowed', 'unmelodized', 'unmelted', 'unmemoired', 'unmemorialized', 'unmemoried', 'unmemorized', 'unmenaced', 'unmended', 'unmentioned', 'unmercerized', 'unmerged', 'unmerited', 'unmesmerized', 'unmetaled', 'unmetalized', 'unmetalled', 'unmetamorphosed', 'unmeted', 'unmetered', 'unmethodized', 'unmethylated', 'unmewed', 'unmidwifed', 'unmildewed', 'unmilitarized', 'unmilked', 'unmilled', 'unmillinered', 'unmilted', 'unmimicked', 'unminced', 'unminded', 'unmined', 'unmineralized', 'unmingled', 'unminimized', 'unminished', 'unministered', 'unminted', 'unminuted', 'unmiracled', 'unmired', 'unmirrored', 'unmisguided', 'unmisled', 'unmissed', 'unmissionized', 'unmistressed', 'unmistrusted', 'unmitigated', 'unmittened', 'unmixed', 'unmoaned', 'unmoated', 'unmobbed', 'unmobilized', 'unmocked', 'unmodeled', 'unmodelled', 'unmodernized', 'unmodified', 'unmodulated', 'unmoiled', 'unmolded', 'unmoldered', 'unmolested', 'unmollified', 'unmoneyed', 'unmonitored', 'unmonopolized', 'unmonumented', 'unmoored', 'unmooted', 'unmopped', 'unmoralized', 'unmordanted', 'unmortared', 'unmortgaged', 'unmortified', 'unmortised', 'unmossed', 'unmothered', 'unmotivated', 'unmotived', 'unmotorized', 'unmottled', 'unmounded', 'unmounted', 'unmourned', 'unmouthed', 'unmouthpieced', 'unmoved', 'unmowed', 'unmucilaged', 'unmudded', 'unmuddied', 'unmuddled', 'unmuffled', 'unmulcted', 'unmulled', 'unmullioned', 'unmultiplied', 'unmummied', 'unmunched', 'unmundified', 'unmunicipalized', 'unmunitioned', 'unmurmured', 'unmuscled', 'unmusked', 'unmussed', 'unmusted', 'unmustered', 'unmutated', 'unmuted', 'unmutilated', 'unmuttered', 'unmutualized', 'unmuzzled', 'unmyelinated', 'unmystified', 'unnabbed', 'unnagged', 'unnailed', 'unnaked', 'unnamed', 'unnapkined', 'unnapped', 'unnarrated', 'unnationalized', 'unnaturalized', 'unnavigated', 'unneaped', 'unneared', 'unnecessitated', 'unneeded', 'unnegated', 'unneglected', 'unnegotiated', 'unneighbored', 'unnerved', 'unnestled', 'unnetted', 'unnettled', 'unneutralized', 'unnibbed', 'unnibbied', 'unniched', 'unnicked', 'unnickeled', 'unnickelled', 'unnicknamed', 'unnimbed', 'unnipped', 'unnitrogenized', 'unnobilitated', 'unnoised', 'unnominated', 'unnoosed', 'unnosed', 'unnotched', 'unnoted', 'unnoticed', 'unnotified', 'unnourished', 'unnucleated', 'unnullified', 'unnumbered', 'unnurtured', 'unnuzzled', 'unoared', 'unobeyed', 'unobjected', 'unobligated', 'unobliged', 'unobliterated', 'unobscured', 'unobserved', 'unobsessed', 'unobstructed', 'unobtained', 'unobtruded', 'unobtunded', 'unobumbrated', 'unobverted', 'unobviated', 'unoccasioned', 'unoccluded', 'unoccupied', 'unoffended', 'unoffered', 'unofficed', 'unofficered', 'unogled', 'unoiled', 'unomened', 'unomitted', 'unoped', 'unopened', 'unoperated', 'unoperculated', 'unopined', 'unopinionated', 'unoppignorated', 'unopposed', 'unoppressed', 'unoppugned', 'unorbed', 'unorchestrated', 'unordained', 'unordered', 'unordnanced', 'unorganized', 'unoriented', 'unoriginated', 'unornamented', 'unorphaned', 'unosculated', 'unossified', 'unoutlawed', 'unoutraged', 'unoverclouded', 'unoverhauled', 'unoverleaped', 'unoverlooked', 'unoverpowered', 'unoverruled', 'unovervalued', 'unoverwhelmed', 'unowed', 'unowned', 'unoxidated', 'unoxidized', 'unoxygenated', 'unoxygenized', 'unpaced', 'unpacified', 'unpacked', 'unpadded', 'unpadlocked', 'unpaged', 'unpained', 'unpainted', 'unpaired', 'unpaled', 'unpalisaded', 'unpalisadoed', 'unpalled', 'unpalliated', 'unpalped', 'unpalsied', 'unpampered', 'unpanegyrized', 'unpaneled', 'unpanelled', 'unpanged', 'unpanniered', 'unpanoplied', 'unpapered', 'unparaded', 'unparagoned', 'unparagonized', 'unparagraphed', 'unparalleled', 'unparalyzed', 'unparaphrased', 'unparceled', 'unparcelled', 'unparched', 'unpardoned', 'unpared', 'unparented', 'unpargeted', 'unparked', 'unparliamented', 'unparodied', 'unparried', 'unparroted', 'unparsed', 'unparted', 'unparticipated', 'unparticularized', 'unpartitioned', 'unpartnered', 'unpassed', 'unpassioned', 'unpasted', 'unpasteurized', 'unpastured', 'unpatched', 'unpatented', 'unpathed', 'unpathwayed', 'unpatrolled', 'unpatronized', 'unpatted', 'unpatterned', 'unpaunched', 'unpauperized', 'unpaved', 'unpavilioned', 'unpawed', 'unpawned', 'unpealed', 'unpearled', 'unpebbled', 'unpecked', 'unpeddled', 'unpedigreed', 'unpeeled', 'unpeered', 'unpelted', 'unpenalized', 'unpenanced', 'unpenciled', 'unpencilled', 'unpenetrated', 'unpenned', 'unpennied', 'unpennoned', 'unpensioned', 'unpeopled', 'unperceived', 'unperched', 'unpercolated', 'unpercussed', 'unperfected', 'unperflated', 'unperforated', 'unperformed', 'unperfumed', 'unperiphrased', 'unperished', 'unperjured', 'unpermeated', 'unpermitted', 'unpermixed', 'unperpetrated', 'unperpetuated', 'unperplexed', 'unpersecuted', 'unpersonified', 'unpersuaded', 'unperturbed', 'unperuked', 'unperused', 'unpervaded', 'unperverted', 'unpestered', 'unpetitioned', 'unpetrified', 'unpetticoated', 'unphased', 'unphilosophized', 'unphonographed', 'unphosphatized', 'unphotographed', 'unphrased', 'unphysicked', 'unpicked', 'unpicketed', 'unpickled', 'unpictured', 'unpieced', 'unpierced', 'unpigmented', 'unpiled', 'unpilfered', 'unpillaged', 'unpillared', 'unpilled', 'unpilloried', 'unpillowed', 'unpiloted', 'unpimpled', 'unpinched', 'unpinioned', 'unpinked', 'unpinned', 'unpiped', 'unpiqued', 'unpirated', 'unpitched', 'unpitied', 'unpitted', 'unplacated', 'unplaced', 'unplagiarized', 'unplagued', 'unplained', 'unplaited', 'unplaned', 'unplanished', 'unplanked', 'unplanned', 'unplanted', 'unplashed', 'unplastered', 'unplated', 'unplatted', 'unplayed', 'unpleached', 'unpleaded', 'unpleased', 'unpleated', 'unpledged', 'unplenished', 'unplied', 'unplighted', 'unplotted', 'unploughed', 'unplowed', 'unplucked', 'unplugged', 'unplumbed', 'unplumed', 'unplummeted', 'unplundered', 'unplunged', 'unpoached', 'unpocketed', 'unpodded', 'unpoeticized', 'unpoetized', 'unpointed', 'unpoised', 'unpoisoned', 'unpolarized', 'unpoled', 'unpoliced', 'unpolicied', 'unpolished', 'unpollarded', 'unpolled', 'unpolluted', 'unpolymerized', 'unpondered', 'unpooled', 'unpopulated', 'unportended', 'unportioned', 'unportmanteaued', 'unportraited', 'unportrayed', 'unposed', 'unpossessed', 'unposted', 'unpostered', 'unpostmarked', 'unpostponed', 'unpostulated', 'unpotted', 'unpouched', 'unpoulticed', 'unpounced', 'unpounded', 'unpoured', 'unpowdered', 'unpracticed', 'unpraised', 'unpranked', 'unprayed', 'unpreached', 'unprecautioned', 'unpreceded', 'unprecedented', 'unprecipitated', 'unprecluded', 'unpredestinated', 'unpredestined', 'unpredicated', 'unpredicted', 'unpredisposed', 'unpreened', 'unprefaced', 'unpreferred', 'unprefigured', 'unprefined', 'unprefixed', 'unprejudged', 'unprejudicated', 'unprejudiced', 'unpreluded', 'unpremeditated', 'unpremonished', 'unpremonstrated', 'unprenominated', 'unprenticed', 'unpreoccupied', 'unpreordained', 'unprepared', 'unpreponderated', 'unpresaged', 'unpresbyterated', 'unprescinded', 'unprescribed', 'unpresented', 'unpreserved', 'unpressed', 'unpresumed', 'unpresupposed', 'unpretended', 'unpretermitted', 'unprevented', 'unpriced', 'unpricked', 'unprickled', 'unprimed', 'unprimmed', 'unprincipled', 'unprinted', 'unprisoned', 'unprivileged', 'unprized', 'unprobated', 'unprobed', 'unprocessed', 'unproclaimed', 'unprocrastinated', 'unprocreated', 'unproctored', 'unprocured', 'unproded', 'unproduced', 'unprofaned', 'unprofessed', 'unproffered', 'unprofited', 'unprognosticated', 'unprogressed', 'unprohibited', 'unprojected', 'unprologued', 'unprolonged', 'unpromised', 'unpromoted', 'unprompted', 'unpromulgated', 'unpronounced', 'unpropagated', 'unpropelled', 'unpropertied', 'unprophesied', 'unpropitiated', 'unproportioned', 'unproposed', 'unpropounded', 'unpropped', 'unprorogued', 'unproscribed', 'unprosecuted', 'unproselyted', 'unprospected', 'unprospered', 'unprostituted', 'unprostrated', 'unprotected', 'unprotested', 'unprotruded', 'unproved', 'unprovided', 'unprovidenced', 'unprovisioned', 'unprovoked', 'unpruned', 'unpublished', 'unpuckered', 'unpuddled', 'unpuffed', 'unpulled', 'unpulleyed', 'unpulped', 'unpulverized', 'unpulvinated', 'unpumicated', 'unpummeled', 'unpummelled', 'unpumped', 'unpunched', 'unpunctated', 'unpunctuated', 'unpunished', 'unpurchased', 'unpurged', 'unpurified', 'unpurled', 'unpurloined', 'unpurpled', 'unpurported', 'unpurposed', 'unpursed', 'unpursued', 'unpurveyed', 'unpushed', 'unputrefied', 'unputtied', 'unquadded', 'unquaffed', 'unquailed', 'unqualified', 'unqualitied', 'unquantified', 'unquarantined', 'unquarreled', 'unquarrelled', 'unquarried', 'unquartered', 'unquashed', 'unquayed', 'unqueened', 'unquelled', 'unquenched', 'unqueried', 'unquested', 'unquestioned', 'unquibbled', 'unquickened', 'unquicksilvered', 'unquieted', 'unquilleted', 'unquilted', 'unquitted', 'unquivered', 'unquizzed', 'unquoted', 'unrabbeted', 'unraced', 'unracked', 'unradiated', 'unraffled', 'unraftered', 'unraided', 'unrailed', 'unrailroaded', 'unrailwayed', 'unraised', 'unraked', 'unrallied', 'unramified', 'unrammed', 'unramped', 'unranched', 'unrancored', 'unranked', 'unransacked', 'unransomed', 'unraped', 'unraptured', 'unrarefied', 'unrasped', 'unrated', 'unratified', 'unrattled', 'unravaged', 'unraveled', 'unravelled', 'unravished', 'unrayed', 'unrazed', 'unrazored', 'unreached', 'unrealized', 'unrealmed', 'unreaped', 'unreared', 'unreasoned', 'unrebated', 'unrebuked', 'unrebutted', 'unrecalled', 'unrecanted', 'unrecaptured', 'unreceipted', 'unreceived', 'unreciprocated', 'unrecited', 'unrecked', 'unreckoned', 'unreclaimed', 'unreclined', 'unrecognized', 'unrecoined', 'unrecollected', 'unrecompensed', 'unreconciled', 'unreconnoitered', 'unreconsidered', 'unreconstructed', 'unrecorded', 'unrecounted', 'unrecovered', 'unrecreated', 'unrecruited', 'unrectified', 'unrecuperated', 'unred', 'unredacted', 'unredeemed', 'unredressed', 'unreduced', 'unreefed', 'unreeled', 'unreferenced', 'unreferred', 'unrefilled', 'unrefined', 'unrefitted', 'unreflected', 'unreformed', 'unrefracted', 'unrefrained', 'unrefreshed', 'unrefrigerated', 'unrefunded', 'unrefused', 'unrefuted', 'unregained', 'unregaled', 'unregarded', 'unregimented', 'unregistered', 'unregretted', 'unregulated', 'unregurgitated', 'unrehabilitated', 'unrehearsed', 'unreimbodied', 'unreined', 'unreinstated', 'unreiterated', 'unrejoiced', 'unrejuvenated', 'unrelated', 'unrelaxed', 'unreleased', 'unrelegated', 'unrelented', 'unrelieved', 'unreligioned', 'unrelinquished', 'unrelished', 'unremanded', 'unremarked', 'unremarried', 'unremedied', 'unremembered', 'unreminded', 'unremitted', 'unremonstrated', 'unremounted', 'unremoved', 'unremunerated', 'unrendered', 'unrenewed', 'unrenounced', 'unrenovated', 'unrenowned', 'unrented', 'unreorganized', 'unrepaired', 'unreparted', 'unrepealed', 'unrepeated', 'unrepelled', 'unrepented', 'unrepined', 'unrepiqued', 'unreplaced', 'unreplenished', 'unreplevined', 'unreplied', 'unreported', 'unreposed', 'unrepossessed', 'unreprehended', 'unrepresented', 'unrepressed', 'unreprieved', 'unreprimanded', 'unreprinted', 'unreproached', 'unreprobated', 'unreproved', 'unrepudiated', 'unrepulsed', 'unreputed', 'unrequalified', 'unrequested', 'unrequickened', 'unrequired', 'unrequited', 'unrescinded', 'unrescued', 'unresented', 'unreserved', 'unresifted', 'unresigned', 'unresisted', 'unresolved', 'unresounded', 'unrespected', 'unrespired', 'unrespited', 'unrested', 'unrestored', 'unrestrained', 'unrestricted', 'unresumed', 'unretained', 'unretaliated', 'unretarded', 'unretinued', 'unretired', 'unretorted', 'unretouched', 'unretracted', 'unretrenched', 'unretrieved', 'unretted', 'unreturned', 'unrevealed', 'unrevenged', 'unrevenued', 'unreverberated', 'unrevered', 'unreverenced', 'unreversed', 'unreverted', 'unrevested', 'unrevetted', 'unreviewed', 'unreviled', 'unrevised', 'unrevived', 'unrevoked', 'unrevolted', 'unrevolutionized', 'unrevolved', 'unrewarded', 'unreworded', 'unrhymed', 'unribbed', 'unribboned', 'unriched', 'unricked', 'unriddled', 'unridered', 'unridged', 'unridiculed', 'unriffled', 'unrifled', 'unrifted', 'unrigged', 'unrighted', 'unrimpled', 'unringed', 'unrinsed', 'unrioted', 'unriped', 'unripened', 'unripped', 'unrippled', 'unrisked', 'unrivaled', 'unrived', 'unriveted', 'unroaded', 'unroasted', 'unrobbed', 'unrobed', 'unrocked', 'unrodded', 'unroiled', 'unrolled', 'unromanticized', 'unroofed', 'unroosted', 'unrooted', 'unroped', 'unrosed', 'unrosined', 'unrostrated', 'unrotated', 'unroted', 'unrotted', 'unrouged', 'unroughened', 'unrounded', 'unroused', 'unrouted', 'unroved', 'unrowed', 'unroweled', 'unroyalized', 'unrubbed', 'unrubified', 'unrubricated', 'unruddered', 'unruddled', 'unruffed', 'unruffled', 'unrugged', 'unruinated', 'unruined', 'unruled', 'unruminated', 'unrummaged', 'unrumored', 'unrumpled', 'unruptured', 'unrushed', 'unrusted', 'unrusticated', 'unsabered', 'unsabled', 'unsabred', 'unsacked', 'unsacred', 'unsacrificed', 'unsaddened', 'unsaddled', 'unsafeguarded', 'unsailed', 'unsainted', 'unsalaried', 'unsalivated', 'unsalted', 'unsaluted', 'unsalvaged', 'unsalved', 'unsampled', 'unsanctified', 'unsanctioned', 'unsanctuaried', 'unsandaled', 'unsanded', 'unsanitated', 'unsaponified', 'unsapped', 'unsashed', 'unsated', 'unsatiated', 'unsatirized', 'unsatisfied', 'unsaturated', 'unsauced', 'unsaved', 'unsavored', 'unsawed', 'unscabbarded', 'unscabbed', 'unscaffolded', 'unscaled', 'unscalloped', 'unscamped', 'unscandalized', 'unscanned', 'unscanted', 'unscared', 'unscarfed', 'unscarified', 'unscarred', 'unscathed', 'unscattered', 'unscavengered', 'unscented', 'unsceptered', 'unsceptred', 'unscheduled', 'unschematized', 'unschooled', 'unscienced', 'unscioned', 'unscissored', 'unscoffed', 'unscolded', 'unsconced', 'unscooped', 'unscorched', 'unscored', 'unscorified', 'unscorned', 'unscotched', 'unscoured', 'unscourged', 'unscraped', 'unscratched', 'unscrawled', 'unscreened', 'unscrewed', 'unscribbled', 'unscribed', 'unscrimped', 'unscrubbed', 'unscrupled', 'unscrutinized', 'unsculptured', 'unscummed', 'unscutcheoned', 'unsealed', 'unseamed', 'unsearched', 'unseared', 'unseasoned', 'unseated', 'unsecluded', 'unseconded', 'unsecreted', 'unsecularized', 'unsecured', 'unseduced', 'unseeded', 'unseethed', 'unsegmented', 'unsegregated', 'unseized', 'unselected', 'unsensed', 'unsensitized', 'unsensualized', 'unsentenced', 'unsentineled', 'unsentinelled', 'unseparated', 'unseptated', 'unsepulchered', 'unsepulchred', 'unsepultured', 'unsequenced', 'unsequestered', 'unserenaded', 'unserrated', 'unserried', 'unserved', 'unsettled', 'unsevered', 'unsewed', 'unsewered', 'unsexed', 'unshackled', 'unshaded', 'unshadowed', 'unshafted', 'unshaled', 'unshamed', 'unshamefaced', 'unshammed', 'unshanked', 'unshaped', 'unshared', 'unsharped', 'unsharpened', 'unshattered', 'unshaved', 'unsheared', 'unsheathed', 'unshed', 'unsheeted', 'unshelled', 'unsheltered', 'unshepherded', 'unshewed', 'unshielded', 'unshifted', 'unshingled', 'unshipped', 'unshipwrecked', 'unshirted', 'unshivered', 'unshocked', 'unshoed', 'unshored', 'unshortened', 'unshotted', 'unshouted', 'unshoved', 'unshoveled', 'unshowed', 'unshredded', 'unshrined', 'unshrived', 'unshriveled', 'unshrivelled', 'unshrouded', 'unshrubbed', 'unshuffled', 'unshunned', 'unshunted', 'unshuttered', 'unsiccated', 'unsickened', 'unsickled', 'unsided', 'unsifted', 'unsighted', 'unsignaled', 'unsignalized', 'unsignalled', 'unsignatured', 'unsigned', 'unsigneted', 'unsignified', 'unsilenced', 'unsilicified', 'unsilvered', 'unsimplified', 'unsimulated', 'unsinewed', 'unsinged', 'unsingled', 'unsipped', 'unsistered', 'unsized', 'unsketched', 'unskewed', 'unskewered', 'unskilled', 'unskimmed', 'unskinned', 'unskirted', 'unslacked', 'unslackened', 'unslagged', 'unslaked', 'unslammed', 'unslandered', 'unslapped', 'unslashed', 'unslated', 'unslaughtered', 'unsleaved', 'unsleeved', 'unsliced', 'unslighted', 'unslipped', 'unslockened', 'unsloped', 'unslopped', 'unslotted', 'unsloughed', 'unsluiced', 'unslurred', 'unsmacked', 'unsmeared', 'unsmelled', 'unsmelted', 'unsmiled', 'unsmirched', 'unsmoked', 'unsmokified', 'unsmoothed', 'unsmothered', 'unsmudged', 'unsmuggled', 'unsmutched', 'unsmutted', 'unsnaffled', 'unsnagged', 'unsnaggled', 'unsnapped', 'unsnared', 'unsnatched', 'unsnipped', 'unsnouted', 'unsnubbed', 'unsnuffed', 'unsoaked', 'unsoaped', 'unsocialized', 'unsoftened', 'unsoiled', 'unsolaced', 'unsoldered', 'unsoldiered', 'unsoled', 'unsolemnized', 'unsolicitated', 'unsolicited', 'unsolidified', 'unsolved', 'unsonneted', 'unsoothed', 'unsophisticated', 'unsorrowed', 'unsorted', 'unsotted', 'unsounded', 'unsoured', 'unsoused', 'unsowed', 'unspaced', 'unspaded', 'unspangled', 'unspanked', 'unspanned', 'unspared', 'unsparred', 'unspattered', 'unspawned', 'unspayed', 'unspeared', 'unspecialized', 'unspecified', 'unspecked', 'unspeckled', 'unspectacled', 'unsped', 'unspeed', 'unspeered', 'unspelled', 'unspewed', 'unsphered', 'unspiced', 'unspied', 'unspired', 'unspirited', 'unspiritualized', 'unspissated', 'unspited', 'unspitted', 'unsplashed', 'unsplattered', 'unsplayed', 'unspleened', 'unspliced', 'unsplinted', 'unsplintered', 'unspoiled', 'unsponged', 'unsponsored', 'unsported', 'unspotlighted', 'unspotted', 'unspoused', 'unspouted', 'unsprained', 'unsprayed', 'unsprinkled', 'unsprinklered', 'unsprouted', 'unspruced', 'unspurned', 'unspurred', 'unsquandered', 'unsquared', 'unsquashed', 'unsqueezed', 'unsquelched', 'unsquired', 'unsquirted', 'unstabbed', 'unstabled', 'unstablished', 'unstacked', 'unstaffed', 'unstaged', 'unstaggered', 'unstained', 'unstaled', 'unstalked', 'unstalled', 'unstamped', 'unstampeded', 'unstandardized', 'unstarched', 'unstarred', 'unstarted', 'unstartled', 'unstarved', 'unstated', 'unstationed', 'unstatued', 'unstaunched', 'unstaved', 'unstayed', 'unsteadied', 'unsteamed', 'unstecked', 'unsteeled', 'unsteeped', 'unsteepled', 'unsteered', 'unstemmed', 'unstercorated', 'unstereotyped', 'unsterilized', 'unstethoscoped', 'unstewed', 'unstiffened', 'unstifled', 'unstigmatized', 'unstilled', 'unstilted', 'unstimulated', 'unstinged', 'unstinted', 'unstippled', 'unstipulated', 'unstirred', 'unstitched', 'unstocked', 'unstockinged', 'unstoked', 'unstoned', 'unstopped', 'unstoppered', 'unstored', 'unstoried', 'unstormed', 'unstoved', 'unstowed', 'unstraddled', 'unstrafed', 'unstraightened', 'unstrained', 'unstraitened', 'unstranded', 'unstrangered', 'unstrangled', 'unstrapped', 'unstratified', 'unstreaked', 'unstrengthened', 'unstressed', 'unstretched', 'unstrewed', 'unstriated', 'unstrictured', 'unstringed', 'unstriped', 'unstripped', 'unstroked', 'unstubbed', 'unstuccoed', 'unstudded', 'unstudied', 'unstuffed', 'unstultified', 'unstunned', 'unstunted', 'unstupefied', 'unstuttered', 'unstyled', 'unsubdivided', 'unsubducted', 'unsubdued', 'unsubjected', 'unsubjugated', 'unsublimated', 'unsublimed', 'unsubmerged', 'unsubmitted', 'unsubordinated', 'unsuborned', 'unsubpoenaed', 'unsubscribed', 'unsubsided', 'unsubsidized', 'unsubstanced', 'unsubstantiated', 'unsubstituted', 'unsubtracted', 'unsubventioned', 'unsubventionized', 'unsubverted', 'unsucceeded', 'unsuccored', 'unsucked', 'unsuckled', 'unsued', 'unsuffered', 'unsufficed', 'unsufflated', 'unsuffocated', 'unsuffused', 'unsugared', 'unsuggested', 'unsuited', 'unsullied', 'unsulphonated', 'unsulphurized', 'unsummarized', 'unsummed', 'unsummered', 'unsummoned', 'unsunburned', 'unsundered', 'unsunned', 'unsuperannuated', 'unsupernaturalized', 'unsuperscribed', 'unsuperseded', 'unsupervised', 'unsupped', 'unsupplanted', 'unsuppled', 'unsupplemented', 'unsupplicated', 'unsupplied', 'unsupported', 'unsupposed', 'unsuppressed', 'unsuppurated', 'unsurcharged', 'unsurfaced', 'unsurfeited', 'unsurmised', 'unsurmounted', 'unsurnamed', 'unsurpassed', 'unsurpliced', 'unsurprised', 'unsurrendered', 'unsurrounded', 'unsurveyed', 'unsurvived', 'unsuspected', 'unsuspended', 'unsustained', 'unsutured', 'unswabbed', 'unswaddled', 'unswallowed', 'unswapped', 'unswathed', 'unswayed', 'unsweated', 'unsweetened', 'unswelled', 'unsweltered', 'unswerved', 'unswilled', 'unswingled', 'unswitched', 'unsyllabled', 'unsymbolized', 'unsymmetrized', 'unsympathized', 'unsynchronized', 'unsyncopated', 'unsyndicated', 'unsyringed', 'unsystematized', 'untabernacled', 'untabled', 'untabulated', 'untacked', 'untackled', 'untagged', 'untailed', 'untainted', 'untalented', 'untalked', 'untallied', 'untallowed', 'untamed', 'untampered', 'untangled', 'untanned', 'untantalized', 'untaped', 'untapered', 'untapestried', 'untapped', 'untarnished', 'untarred', 'untarried', 'untartarized', 'untasked', 'untasseled', 'untasted', 'untattered', 'untattooed', 'untaunted', 'untawed', 'untaxed', 'unteamed', 'unteased', 'unteasled', 'untedded', 'unteethed', 'untelegraphed', 'untempered', 'untempested', 'untempled', 'untempted', 'untenanted', 'untended', 'untendered', 'untented', 'untentered', 'unterminated', 'unterraced', 'unterrified', 'unterrorized', 'untessellated', 'untested', 'untethered', 'untewed', 'unthanked', 'unthatched', 'unthawed', 'unthickened', 'unthinned', 'unthoughted', 'unthralled', 'unthrashed', 'unthreaded', 'unthreatened', 'unthreshed', 'unthrilled', 'unthroned', 'unthronged', 'unthrottled', 'unthumbed', 'unthumped', 'unthundered', 'unthwacked', 'unthwarted', 'untiaraed', 'unticketed', 'untickled', 'untied', 'untiled', 'untilled', 'untilted', 'untimbered', 'untimed', 'untinctured', 'untinged', 'untinkered', 'untinned', 'untinseled', 'untinted', 'untipped', 'untippled', 'untired', 'untissued', 'untithed', 'untitled', 'untoasted', 'untogaed', 'untoiled', 'untoileted', 'untolerated', 'untombed', 'untoned', 'untongued', 'untonsured', 'untooled', 'untoothed', 'untopped', 'untormented', 'untorpedoed', 'untortured', 'untossed', 'untotaled', 'untotalled', 'untouched', 'untoured', 'untouristed', 'untowered', 'untraced', 'untraceried', 'untracked', 'untraded', 'untraduced', 'untrafficked', 'untrailed', 'untrained', 'untraitored', 'untrammed', 'untrammeled', 'untramped', 'untrampled', 'untranquilized', 'untranquillized', 'untransacted', 'untranscended', 'untranscribed', 'untransferred', 'untransfigured', 'untransfixed', 'untransformed', 'untransfused', 'untransgressed', 'untranslated', 'untransmigrated', 'untransmitted', 'untransmuted', 'untranspired', 'untransplanted', 'untransported', 'untransposed', 'untransubstantiated', 'untrapped', 'untrashed', 'untraveled', 'untraversed', 'untravestied', 'untreasured', 'untreated', 'untreed', 'untrekked', 'untrellised', 'untrenched', 'untrepanned', 'untrespassed', 'untressed', 'untriced', 'untricked', 'untried', 'untrimmed', 'untripped', 'untriturated', 'untriumphed', 'untrolled', 'untrophied', 'untrotted', 'untroubled', 'untrounced', 'untrowed', 'untruckled', 'untrumped', 'untrumpeted', 'untrundled', 'untrunked', 'untrussed', 'untrusted', 'untubbed', 'untucked', 'untuckered', 'untufted', 'untugged', 'untumbled', 'untumefied', 'untuned', 'untunneled', 'untupped', 'unturbaned', 'unturfed', 'unturned', 'unturpentined', 'unturreted', 'untusked', 'untutored', 'untwilled', 'untwined', 'untwinned', 'untwirled', 'untwisted', 'untwitched', 'unulcerated', 'unumpired', 'ununified', 'ununiformed', 'ununited', 'unupholstered', 'unurged', 'unurned', 'unused', 'unushered', 'unusurped', 'unuttered', 'unvaccinated', 'unvaleted', 'unvalidated', 'unvalued', 'unvamped', 'unvanquished', 'unvantaged', 'unvaporized', 'unvaried', 'unvariegated', 'unvarnished', 'unvatted', 'unvaulted', 'unvaunted', 'unveiled', 'unveined', 'unvended', 'unveneered', 'unvenerated', 'unvenged', 'unvenomed', 'unvented', 'unventilated', 'unventured', 'unvenued', 'unverbalized', 'unverdured', 'unverified', 'unvermiculated', 'unversed', 'unversified', 'unvesseled', 'unvested', 'unvetoed', 'unvexed', 'unvibrated', 'unvictimized', 'unvictualed', 'unvictualled', 'unviewed', 'unvilified', 'unvillaged', 'unvindicated', 'unvintaged', 'unviolated', 'unviolenced', 'unviolined', 'unvisioned', 'unvisited', 'unvisored', 'unvisualized', 'unvitalized', 'unvitiated', 'unvitrified', 'unvitriolized', 'unvituperated', 'unvivified', 'unvizarded', 'unvocalized', 'unvoiced', 'unvoided', 'unvolatilized', 'unvolitioned', 'unvomited', 'unvoted', 'unvouched', 'unvouchsafed', 'unvowed', 'unvoweled', 'unvulcanized', 'unvulgarized', 'unwadded', 'unwaded', 'unwafted', 'unwaged', 'unwagered', 'unwagged', 'unwailed', 'unwainscoted', 'unwaited', 'unwaked', 'unwakened', 'unwalked', 'unwalled', 'unwallowed', 'unwandered', 'unwanted', 'unwarbled', 'unwarmed', 'unwarned', 'unwarnished', 'unwarped', 'unwarranted', 'unwashed', 'unwasted', 'unwatched', 'unwatered', 'unwatermarked', 'unwattled', 'unwaved', 'unwavered', 'unwaxed', 'unwayed', 'unweakened', 'unweaned', 'unweaponed', 'unwearied', 'unweathered', 'unwebbed', 'unwed', 'unwedded', 'unwedged', 'unweeded', 'unweened', 'unweighed', 'unweighted', 'unwelcomed', 'unwelded', 'unwelted', 'unwesternized', 'unwetted', 'unwheedled', 'unwheeled', 'unwhelmed', 'unwhelped', 'unwhetted', 'unwhipped', 'unwhirled', 'unwhisked', 'unwhiskered', 'unwhispered', 'unwhistled', 'unwhited', 'unwhitened', 'unwhitewashed', 'unwidened', 'unwidowed', 'unwifed', 'unwigged', 'unwilled', 'unwilted', 'unwindowed', 'unwinged', 'unwinnowed', 'unwiped', 'unwired', 'unwished', 'unwitched', 'unwithered', 'unwitnessed', 'unwitted', 'unwived', 'unwomanized', 'unwonted', 'unwooded', 'unwooed', 'unworked', 'unwormed', 'unworried', 'unworshiped', 'unworshipped', 'unwounded', 'unwrapped', 'unwreaked', 'unwreathed', 'unwrecked', 'unwrenched', 'unwrested', 'unwrestled', 'unwretched', 'unwriggled', 'unwrinkled', 'unwronged', 'unyeaned', 'unyearned', 'unyielded', 'unyoked', 'unzoned', 'upbred', 'upbreed', 'upfeed', 'upfingered', 'uphearted', 'upholstered', 'uplifted', 'upsetted', 'upsighted', 'upspeed', 'uptwined', 'urled', 'used', 'vacanthearted', 'vacuolated', 'vaginated', 'valanced', 'vallated', 'valued', 'valved', 'vambraced', 'vamped', 'vaned', 'vanitied', 'vapored', 'vareheaded', 'varicated', 'varicolored', 'varicosed', 'varied', 'variegated', 'variformed', 'variotinted', 'varnished', 'varved', 'vasculated', 'vaulted', 'vaunted', 'veiled', 'veined', 'velated', 'velveted', 'velveteened', 'velvetseed', 'velvetweed', 'venomed', 'verandaed', 'verdured', 'vermiculated', 'verriculated', 'verrucated', 'versed', 'versicolored', 'vertebrated', 'verticillated', 'veruled', 'verveled', 'vesseled', 'vestibuled', 'vestmented', 'vexed', 'viduated', 'vilehearted', 'vinaigretted', 'vined', 'vinegarweed', 'vingerhoed', 'virgated', 'viroled', 'virtued', 'virulented', 'visaged', 'visioned', 'vistaed', 'vitiated', 'vitrailed', 'vizarded', 'vocabularied', 'voiced', 'voided', 'volumed', 'voluted', 'vowed', 'waged', 'waistcoated', 'waisted', 'waled', 'walled', 'walleyed', 'waned', 'warbled', 'warded', 'warehoused', 'warmed', 'warmhearted', 'warped', 'warranted', 'warted', 'wartweed', 'washed', 'washshed', 'wasted', 'watched', 'watered', 'waterlogged', 'watershed', 'waterweed', 'wattled', 'waved', 'waxhearted', 'waxweed', 'weakbrained', 'weakhanded', 'weakhearted', 'weakmouthed', 'weaponed', 'wearied', 'weathered', 'weatherheaded', 'weatherproofed', 'weaved', 'weazened', 'webbed', 'wed', 'wedbed', 'wedded', 'wedged', 'weed', 'weeded', 'weelfaured', 'weepered', 'weeviled', 'wefted', 'weighed', 'weighted', 'welted', 'wetched', 'wetted', 'whaleboned', 'wheateared', 'wheeled', 'whelked', 'wheyfaced', 'whimsied', 'whipped', 'whirled', 'whiskerandoed', 'whiskered', 'whiskied', 'whiskified', 'whiskyfied', 'whispered', 'whited', 'whitehanded', 'whitehearted', 'whiteweed', 'wholehearted', 'whorled', 'wicked', 'wickerworked', 'widehearted', 'widemouthed', 'widowed', 'widowered', 'wigged', 'wilded', 'willed', 'willinghearted', 'willowed', 'willowweed', 'windbagged', 'winded', 'windgalled', 'wined', 'winged', 'winghanded', 'wingseed', 'winkered', 'wintered', 'winterfeed', 'winterweed', 'wired', 'wireweed', 'wiseacred', 'wisehearted', 'wiseweed', 'wished', 'wistened', 'witched', 'witchweed', 'withered', 'witted', 'wittified', 'wizened', 'womanhearted', 'wombed', 'wonned', 'wonted', 'woodbined', 'wooded', 'woodenheaded', 'woodlocked', 'woodshed', 'woofed', 'wooled', 'woolshed', 'woolweed', 'worded', 'worked', 'workhoused', 'worlded', 'wormed', 'wormholed', 'wormseed', 'wormweed', 'worried', 'worsted', 'wounded', 'wrapped', 'wreathed', 'wrenched', 'wretched', 'wried', 'wrinkled', 'wristed', 'writhed', 'wrizzled', 'wronged', 'wrongheaded', 'wronghearted', 'yapped', 'yawweed', 'yed', 'yellowseed', 'yellowweed', 'yolked', 'younghearted', 'zagged', 'zed', 'zeed', 'zigzagged', 'zonated', 'zoned']\n"
          ]
        }
      ],
      "source": [
        "print([w for w in wordlist if re.search('ed$', w)])"
      ]
    },
    {
      "cell_type": "markdown",
      "metadata": {
        "id": "2xX80POfUJuv"
      },
      "source": [
        "The . wildcard symbol matches any single character. Suppose we have room in a crossword puzzle<br>\n",
        "for an 8-letter word with j as its third letter and t as its sixth letter. In place of each<br>\n",
        "blank cell we use a period:"
      ]
    },
    {
      "cell_type": "code",
      "execution_count": 64,
      "metadata": {
        "colab": {
          "base_uri": "https://localhost:8080/"
        },
        "id": "sYcB5IKWUJuv",
        "outputId": "6b7074cb-d6be-4536-ee67-5319dce59b1e"
      },
      "outputs": [
        {
          "output_type": "stream",
          "name": "stdout",
          "text": [
            "['abjectly', 'adjuster', 'dejected', 'dejectly', 'injector', 'majestic', 'objectee', 'objector', 'rejecter', 'rejector', 'unjilted', 'unjolted', 'unjustly']\n"
          ]
        }
      ],
      "source": [
        "print([w for w in wordlist if re.search('^..j..t..$', w)])"
      ]
    },
    {
      "cell_type": "markdown",
      "metadata": {
        "id": "z8mMM5jUUJuv"
      },
      "source": [
        "Finally, the ? symbol specifies that the previous character is optional. Thus «^e-?mail$» will match<br>\n",
        "both email and e-mail. We could count the total number of occurrences of this word (in either spelling)<br>\n",
        "in a text using"
      ]
    },
    {
      "cell_type": "code",
      "execution_count": 80,
      "metadata": {
        "colab": {
          "base_uri": "https://localhost:8080/"
        },
        "id": "ZpKYpaMwUJuv",
        "outputId": "456b04ad-afd8-4a2d-ea9d-6f7eceac0095"
      },
      "outputs": [
        {
          "output_type": "stream",
          "name": "stdout",
          "text": [
            "0\n"
          ]
        }
      ],
      "source": [
        "print(sum(1 for w in wordlist if re.search('^e-?mail$', w)))"
      ]
    },
    {
      "cell_type": "markdown",
      "metadata": {
        "id": "ccj_APHcUJuv"
      },
      "source": [
        "EXERCISE #4<br>\n",
        "Search for parts of words.<br>\n",
        "As a linguist think about prefixes and suffixes<br>\n",
        "Use Table 3.3 in this chapter for a list of options<br>\n",
        "Since we searched for the 'ed' suffix before, maybe you can try a prefix this time<br>\n",
        "Note that the code for matching some pattern at the beginning of a word is '^' as in '^pre' to look for<br>\n",
        "words that begin with 'pre'"
      ]
    },
    {
      "cell_type": "code",
      "execution_count": 66,
      "metadata": {
        "colab": {
          "base_uri": "https://localhost:8080/"
        },
        "id": "GPYtNQGIUJuw",
        "outputId": "f8ccdb85-1369-46a2-ddc6-784fbfbcb6c0"
      },
      "outputs": [
        {
          "output_type": "stream",
          "name": "stdout",
          "text": [
            "['preabdomen', 'preabsorb', 'preabsorbent', 'preabstract', 'preabundance', 'preabundant', 'preabundantly', 'preaccept', 'preacceptance', 'preaccess', 'preaccessible', 'preaccidental', 'preaccidentally', 'preaccommodate', 'preaccommodating', 'preaccommodatingly', 'preaccommodation', 'preaccomplish', 'preaccomplishment', 'preaccord', 'preaccordance', 'preaccount', 'preaccounting', 'preaccredit', 'preaccumulate', 'preaccumulation', 'preaccusation', 'preaccuse', 'preaccustom', 'preaccustomed', 'preacetabular', 'preach', 'preachable', 'preacher', 'preacherdom', 'preacheress', 'preacherize', 'preacherless', 'preacherling', 'preachership', 'preachieved', 'preachification', 'preachify', 'preachily', 'preachiness', 'preaching', 'preachingly', 'preachman', 'preachment', 'preachy', 'preacid', 'preacidity', 'preacidly', 'preacidness', 'preacknowledge', 'preacknowledgment', 'preacquaint', 'preacquaintance', 'preacquire', 'preacquired', 'preacquit', 'preacquittal', 'preact', 'preaction', 'preactive', 'preactively', 'preactivity', 'preacute', 'preacutely', 'preacuteness', 'preadamic', 'preadamite', 'preadamitic', 'preadamitical', 'preadamitism', 'preadapt', 'preadaptable', 'preadaptation', 'preaddition', 'preadditional', 'preaddress', 'preadequacy', 'preadequate', 'preadequately', 'preadhere', 'preadherence', 'preadherent', 'preadjectival', 'preadjective', 'preadjourn', 'preadjournment', 'preadjunct', 'preadjust', 'preadjustable', 'preadjustment', 'preadministration', 'preadministrative', 'preadministrator', 'preadmire', 'preadmirer', 'preadmission', 'preadmit', 'preadmonish', 'preadmonition', 'preadolescent', 'preadopt', 'preadoption', 'preadoration', 'preadore', 'preadorn', 'preadornment', 'preadult', 'preadulthood', 'preadvance', 'preadvancement', 'preadventure', 'preadvertency', 'preadvertent', 'preadvertise', 'preadvertisement', 'preadvice', 'preadvisable', 'preadvise', 'preadviser', 'preadvisory', 'preadvocacy', 'preadvocate', 'preaestival', 'preaffect', 'preaffection', 'preaffidavit', 'preaffiliate', 'preaffiliation', 'preaffirm', 'preaffirmation', 'preaffirmative', 'preafflict', 'preaffliction', 'preafternoon', 'preaged', 'preaggravate', 'preaggravation', 'preaggression', 'preaggressive', 'preagitate', 'preagitation', 'preagonal', 'preagony', 'preagree', 'preagreement', 'preagricultural', 'preagriculture', 'prealarm', 'prealcohol', 'prealcoholic', 'prealgebra', 'prealgebraic', 'prealkalic', 'preallable', 'preallably', 'preallegation', 'preallege', 'prealliance', 'preallied', 'preallot', 'preallotment', 'preallow', 'preallowable', 'preallowably', 'preallowance', 'preallude', 'preallusion', 'preally', 'prealphabet', 'prealphabetical', 'prealtar', 'prealteration', 'prealveolar', 'preamalgamation', 'preambassadorial', 'preambition', 'preambitious', 'preamble', 'preambled', 'preambling', 'preambular', 'preambulary', 'preambulate', 'preambulation', 'preambulatory', 'preanal', 'preanaphoral', 'preanesthetic', 'preanimism', 'preannex', 'preannounce', 'preannouncement', 'preannouncer', 'preantepenult', 'preantepenultimate', 'preanterior', 'preanticipate', 'preantiquity', 'preantiseptic', 'preaortic', 'preappearance', 'preapperception', 'preapplication', 'preappoint', 'preappointment', 'preapprehension', 'preapprise', 'preapprobation', 'preapproval', 'preapprove', 'preaptitude', 'prearm', 'prearrange', 'prearrangement', 'prearrest', 'prearrestment', 'prearticulate', 'preartistic', 'preascertain', 'preascertainment', 'preascitic', 'preaseptic', 'preassigned', 'preassume', 'preassurance', 'preassure', 'preataxic', 'preattachment', 'preattune', 'preaudience', 'preauditory', 'preaver', 'preavowal', 'preaxiad', 'preaxial', 'preaxially', 'prebachelor', 'prebacillary', 'prebake', 'prebalance', 'preballot', 'preballoting', 'prebankruptcy', 'prebaptismal', 'prebaptize', 'prebarbaric', 'prebarbarous', 'prebargain', 'prebasal', 'prebasilar', 'prebeleve', 'prebelief', 'prebeliever', 'prebelieving', 'prebellum', 'prebeloved', 'prebend', 'prebendal', 'prebendary', 'prebendaryship', 'prebendate', 'prebenediction', 'prebeneficiary', 'prebenefit', 'prebeset', 'prebestow', 'prebestowal', 'prebetray', 'prebetrayal', 'prebetrothal', 'prebid', 'prebidding', 'prebill', 'prebless', 'preblessing', 'preblockade', 'preblooming', 'preboast', 'preboding', 'preboil', 'preborn', 'preborrowing', 'preboyhood', 'prebrachial', 'prebrachium', 'prebreathe', 'prebridal', 'prebroadcasting', 'prebromidic', 'prebronchial', 'prebronze', 'prebrute', 'prebuccal', 'prebudget', 'prebudgetary', 'prebullying', 'preburlesque', 'preburn', 'precalculable', 'precalculate', 'precalculation', 'precampaign', 'precancel', 'precancellation', 'precancerous', 'precandidacy', 'precandidature', 'precanning', 'precanonical', 'precant', 'precantation', 'precanvass', 'precapillary', 'precapitalist', 'precapitalistic', 'precaptivity', 'precapture', 'precarcinomatous', 'precardiac', 'precaria', 'precarious', 'precariously', 'precariousness', 'precarium', 'precarnival', 'precartilage', 'precartilaginous', 'precary', 'precast', 'precation', 'precative', 'precatively', 'precatory', 'precaudal', 'precausation', 'precaution', 'precautional', 'precautionary', 'precautious', 'precautiously', 'precautiousness', 'precava', 'precaval', 'precedable', 'precede', 'precedence', 'precedency', 'precedent', 'precedentable', 'precedentary', 'precedented', 'precedential', 'precedentless', 'precedently', 'preceder', 'preceding', 'precelebrant', 'precelebrate', 'precelebration', 'precensure', 'precensus', 'precent', 'precentor', 'precentorial', 'precentorship', 'precentory', 'precentral', 'precentress', 'precentrix', 'precentrum', 'precept', 'preception', 'preceptist', 'preceptive', 'preceptively', 'preceptor', 'preceptoral', 'preceptorate', 'preceptorial', 'preceptorially', 'preceptorship', 'preceptory', 'preceptress', 'preceptual', 'preceptually', 'preceramic', 'precerebellar', 'precerebral', 'precerebroid', 'preceremonial', 'preceremony', 'precertification', 'precertify', 'preces', 'precess', 'precession', 'precessional', 'prechallenge', 'prechampioned', 'prechampionship', 'precharge', 'prechart', 'precheck', 'prechemical', 'precherish', 'prechildhood', 'prechill', 'prechloric', 'prechloroform', 'prechoice', 'prechoose', 'prechordal', 'prechoroid', 'preciation', 'precinct', 'precinction', 'precinctive', 'preciosity', 'precious', 'preciously', 'preciousness', 'precipe', 'precipice', 'precipiced', 'precipitability', 'precipitable', 'precipitance', 'precipitancy', 'precipitant', 'precipitantly', 'precipitantness', 'precipitate', 'precipitated', 'precipitatedly', 'precipitately', 'precipitation', 'precipitative', 'precipitator', 'precipitin', 'precipitinogen', 'precipitinogenic', 'precipitous', 'precipitously', 'precipitousness', 'precirculate', 'precirculation', 'precis', 'precise', 'precisely', 'preciseness', 'precisian', 'precisianism', 'precisianist', 'precision', 'precisional', 'precisioner', 'precisionism', 'precisionist', 'precisionize', 'precisive', 'precitation', 'precite', 'precited', 'precivilization', 'preclaim', 'preclaimant', 'preclaimer', 'preclassic', 'preclassical', 'preclassification', 'preclassified', 'preclassify', 'preclean', 'precleaner', 'precleaning', 'preclerical', 'preclimax', 'preclinical', 'preclival', 'precloacal', 'preclose', 'preclosure', 'preclothe', 'precludable', 'preclude', 'preclusion', 'preclusive', 'preclusively', 'precoagulation', 'precoccygeal', 'precocial', 'precocious', 'precociously', 'precociousness', 'precocity', 'precogitate', 'precogitation', 'precognition', 'precognitive', 'precognizable', 'precognizant', 'precognize', 'precognosce', 'precoil', 'precoiler', 'precoincidence', 'precoincident', 'precoincidently', 'precollapsable', 'precollapse', 'precollect', 'precollectable', 'precollection', 'precollector', 'precollege', 'precollegiate', 'precollude', 'precollusion', 'precollusive', 'precolor', 'precolorable', 'precoloration', 'precoloring', 'precombat', 'precombatant', 'precombination', 'precombine', 'precombustion', 'precommand', 'precommend', 'precomment', 'precommercial', 'precommissural', 'precommissure', 'precommit', 'precommune', 'precommunicate', 'precommunication', 'precommunion', 'precompare', 'precomparison', 'precompass', 'precompel', 'precompensate', 'precompensation', 'precompilation', 'precompile', 'precompiler', 'precompleteness', 'precompletion', 'precompliance', 'precompliant', 'precomplicate', 'precomplication', 'precompose', 'precomposition', 'precompound', 'precompounding', 'precompoundly', 'precomprehend', 'precomprehension', 'precomprehensive', 'precompress', 'precompulsion', 'precomradeship', 'preconceal', 'preconcealment', 'preconcede', 'preconceivable', 'preconceive', 'preconceived', 'preconcentrate', 'preconcentrated', 'preconcentratedly', 'preconcentration', 'preconcept', 'preconception', 'preconceptional', 'preconceptual', 'preconcern', 'preconcernment', 'preconcert', 'preconcerted', 'preconcertedly', 'preconcertedness', 'preconcertion', 'preconcertive', 'preconcession', 'preconcessive', 'preconclude', 'preconclusion', 'preconcur', 'preconcurrence', 'preconcurrent', 'preconcurrently', 'precondemn', 'precondemnation', 'precondensation', 'precondense', 'precondition', 'preconditioned', 'preconduct', 'preconduction', 'preconductor', 'precondylar', 'precondyloid', 'preconfer', 'preconference', 'preconfess', 'preconfession', 'preconfide', 'preconfiguration', 'preconfigure', 'preconfine', 'preconfinedly', 'preconfinemnt', 'preconfirm', 'preconfirmation', 'preconflict', 'preconform', 'preconformity', 'preconfound', 'preconfuse', 'preconfusedly', 'preconfusion', 'precongenial', 'precongested', 'precongestion', 'precongestive', 'precongratulate', 'precongratulation', 'precongressional', 'preconizance', 'preconization', 'preconize', 'preconizer', 'preconjecture', 'preconnection', 'preconnective', 'preconnubial', 'preconquer', 'preconquest', 'preconquestal', 'preconquestual', 'preconscious', 'preconsciously', 'preconsciousness', 'preconsecrate', 'preconsecration', 'preconsent', 'preconsider', 'preconsideration', 'preconsign', 'preconsolation', 'preconsole', 'preconsolidate', 'preconsolidated', 'preconsolidation', 'preconsonantal', 'preconspiracy', 'preconspirator', 'preconspire', 'preconstituent', 'preconstitute', 'preconstruct', 'preconstruction', 'preconsult', 'preconsultation', 'preconsultor', 'preconsume', 'preconsumer', 'preconsumption', 'precontact', 'precontain', 'precontained', 'precontemn', 'precontemplate', 'precontemplation', 'precontemporaneous', 'precontemporary', 'precontend', 'precontent', 'precontention', 'precontently', 'precontentment', 'precontest', 'precontinental', 'precontract', 'precontractive', 'precontractual', 'precontribute', 'precontribution', 'precontributive', 'precontrivance', 'precontrive', 'precontrol', 'precontrolled', 'precontroversial', 'precontroversy', 'preconvention', 'preconversation', 'preconversational', 'preconversion', 'preconvert', 'preconvey', 'preconveyal', 'preconveyance', 'preconvict', 'preconviction', 'preconvince', 'precook', 'precooker', 'precool', 'precooler', 'precooling', 'precopy', 'precoracoid', 'precordia', 'precordial', 'precordiality', 'precordially', 'precordium', 'precorneal', 'precornu', 'precoronation', 'precorrect', 'precorrection', 'precorrectly', 'precorrectness', 'precorrespond', 'precorrespondence', 'precorrespondent', 'precorridor', 'precorrupt', 'precorruption', 'precorruptive', 'precorruptly', 'precoruptness', 'precosmic', 'precosmical', 'precostal', 'precounsel', 'precounsellor', 'precourse', 'precover', 'precovering', 'precox', 'precreate', 'precreation', 'precreative', 'precredit', 'precreditor', 'precreed', 'precritical', 'precriticism', 'precriticize', 'precrucial', 'precrural', 'precrystalline', 'precultivate', 'precultivation', 'precultural', 'preculturally', 'preculture', 'precuneal', 'precuneate', 'precuneus', 'precure', 'precurrent', 'precurricular', 'precurriculum', 'precursal', 'precurse', 'precursive', 'precursor', 'precursory', 'precurtain', 'precut', 'precyclone', 'precyclonic', 'precynical', 'precyst', 'precystic', 'predable', 'predacean', 'predaceous', 'predaceousness', 'predacity', 'predamage', 'predamn', 'predamnation', 'predark', 'predarkness', 'predata', 'predate', 'predation', 'predatism', 'predative', 'predator', 'predatorily', 'predatoriness', 'predatory', 'predawn', 'preday', 'predaylight', 'predaytime', 'predazzite', 'predealer', 'predealing', 'predeath', 'predeathly', 'predebate', 'predebater', 'predebit', 'predebtor', 'predecay', 'predecease', 'predeceaser', 'predeceive', 'predeceiver', 'predeception', 'predecession', 'predecessor', 'predecessorship', 'predecide', 'predecision', 'predecisive', 'predeclaration', 'predeclare', 'predeclination', 'predecline', 'predecree', 'prededicate', 'prededuct', 'prededuction', 'predefault', 'predefeat', 'predefect', 'predefective', 'predefence', 'predefend', 'predefense', 'predefiance', 'predeficiency', 'predeficient', 'predefine', 'predefinite', 'predefinition', 'predefray', 'predefrayal', 'predefy', 'predegeneracy', 'predegenerate', 'predegree', 'predeication', 'predelay', 'predelegate', 'predelegation', 'predeliberate', 'predeliberately', 'predeliberation', 'predelineate', 'predelineation', 'predelinquency', 'predelinquent', 'predelinquently', 'predeliver', 'predelivery', 'predella', 'predelude', 'predelusion', 'predemand', 'predemocracy', 'predemocratic', 'predemonstrate', 'predemonstration', 'predemonstrative', 'predenial', 'predental', 'predentary', 'predentate', 'predeny', 'predepart', 'predepartmental', 'predeparture', 'predependable', 'predependence', 'predependent', 'predeplete', 'predepletion', 'predeposit', 'predepository', 'predepreciate', 'predepreciation', 'predepression', 'predeprivation', 'predeprive', 'prederivation', 'prederive', 'predescend', 'predescent', 'predescribe', 'predescription', 'predesert', 'predeserter', 'predesertion', 'predeserve', 'predeserving', 'predesign', 'predesignate', 'predesignation', 'predesignatory', 'predesirous', 'predesolate', 'predesolation', 'predespair', 'predesperate', 'predespicable', 'predespise', 'predespond', 'predespondency', 'predespondent', 'predestinable', 'predestinarian', 'predestinarianism', 'predestinate', 'predestinately', 'predestination', 'predestinational', 'predestinationism', 'predestinationist', 'predestinative', 'predestinator', 'predestine', 'predestiny', 'predestitute', 'predestitution', 'predestroy', 'predestruction', 'predetach', 'predetachment', 'predetail', 'predetain', 'predetainer', 'predetect', 'predetention', 'predeterminability', 'predeterminable', 'predeterminant', 'predeterminate', 'predeterminately', 'predetermination', 'predeterminative', 'predetermine', 'predeterminer', 'predeterminism', 'predeterministic', 'predetest', 'predetestation', 'predetrimental', 'predevelop', 'predevelopment', 'predevise', 'predevote', 'predevotion', 'predevour', 'prediagnosis', 'prediagnostic', 'predial', 'prediastolic', 'prediatory', 'predicability', 'predicable', 'predicableness', 'predicably', 'predicament', 'predicamental', 'predicamentally', 'predicant', 'predicate', 'predication', 'predicational', 'predicative', 'predicatively', 'predicator', 'predicatory', 'predicrotic', 'predict', 'predictability', 'predictable', 'predictably', 'predictate', 'predictation', 'prediction', 'predictional', 'predictive', 'predictively', 'predictiveness', 'predictor', 'predictory', 'prediet', 'predietary', 'predifferent', 'predifficulty', 'predigest', 'predigestion', 'predikant', 'predilect', 'predilected', 'predilection', 'prediligent', 'prediligently', 'prediluvial', 'prediluvian', 'prediminish', 'prediminishment', 'prediminution', 'predine', 'predinner', 'prediphtheritic', 'prediploma', 'prediplomacy', 'prediplomatic', 'predirect', 'predirection', 'predirector', 'predisability', 'predisable', 'predisadvantage', 'predisadvantageous', 'predisadvantageously', 'predisagree', 'predisagreeable', 'predisagreement', 'predisappointment', 'predisaster', 'predisastrous', 'prediscern', 'prediscernment', 'predischarge', 'prediscipline', 'predisclose', 'predisclosure', 'prediscontent', 'prediscontented', 'prediscontentment', 'prediscontinuance', 'prediscontinuation', 'prediscontinue', 'prediscount', 'prediscountable', 'prediscourage', 'prediscouragement', 'prediscourse', 'prediscover', 'prediscoverer', 'prediscovery', 'prediscreet', 'prediscretion', 'prediscretionary', 'prediscriminate', 'prediscrimination', 'prediscriminator', 'prediscuss', 'prediscussion', 'predisgrace', 'predisguise', 'predisgust', 'predislike', 'predismiss', 'predismissal', 'predismissory', 'predisorder', 'predisordered', 'predisorderly', 'predispatch', 'predispatcher', 'predisperse', 'predispersion', 'predisplace', 'predisplacement', 'predisplay', 'predisponency', 'predisponent', 'predisposable', 'predisposal', 'predispose', 'predisposed', 'predisposedly', 'predisposedness', 'predisposition', 'predispositional', 'predisputant', 'predisputation', 'predispute', 'predisregard', 'predisrupt', 'predisruption', 'predissatisfaction', 'predissolution', 'predissolve', 'predissuade', 'predistinct', 'predistinction', 'predistinguish', 'predistress', 'predistribute', 'predistribution', 'predistributor', 'predistrict', 'predistrust', 'predistrustful', 'predisturb', 'predisturbance', 'prediversion', 'predivert', 'predivide', 'predividend', 'predivider', 'predivinable', 'predivinity', 'predivision', 'predivorce', 'predivorcement', 'predoctorate', 'predocumentary', 'predomestic', 'predominance', 'predominancy', 'predominant', 'predominantly', 'predominate', 'predominately', 'predominatingly', 'predomination', 'predominator', 'predonate', 'predonation', 'predonor', 'predoom', 'predorsal', 'predoubt', 'predoubter', 'predoubtful', 'predraft', 'predrainage', 'predramatic', 'predraw', 'predrawer', 'predread', 'predreadnought', 'predrill', 'predriller', 'predrive', 'predriver', 'predry', 'preduplicate', 'preduplication', 'predusk', 'predwell', 'predynamite', 'predynastic', 'preen', 'preener', 'preeze', 'prefab', 'prefabricate', 'prefabrication', 'prefabricator', 'preface', 'prefaceable', 'prefacer', 'prefacial', 'prefacist', 'prefactor', 'prefactory', 'prefamiliar', 'prefamiliarity', 'prefamiliarly', 'prefamous', 'prefashion', 'prefatial', 'prefator', 'prefatorial', 'prefatorially', 'prefatorily', 'prefatory', 'prefavor', 'prefavorable', 'prefavorably', 'prefavorite', 'prefearful', 'prefearfully', 'prefeast', 'prefect', 'prefectly', 'prefectoral', 'prefectorial', 'prefectorially', 'prefectorian', 'prefectship', 'prefectual', 'prefectural', 'prefecture', 'prefecundation', 'prefecundatory', 'prefederal', 'prefelic', 'prefer', 'preferability', 'preferable', 'preferableness', 'preferably', 'preferee', 'preference', 'preferent', 'preferential', 'preferentialism', 'preferentialist', 'preferentially', 'preferment', 'prefermentation', 'preferred', 'preferredly', 'preferredness', 'preferrer', 'preferrous', 'prefertile', 'prefertility', 'prefertilization', 'prefertilize', 'prefervid', 'prefestival', 'prefeudal', 'prefeudalic', 'prefeudalism', 'prefiction', 'prefictional', 'prefigurate', 'prefiguration', 'prefigurative', 'prefiguratively', 'prefigurativeness', 'prefigure', 'prefigurement', 'prefiller', 'prefilter', 'prefinal', 'prefinance', 'prefinancial', 'prefine', 'prefinish', 'prefix', 'prefixable', 'prefixal', 'prefixally', 'prefixation', 'prefixed', 'prefixedly', 'prefixion', 'prefixture', 'preflagellate', 'preflatter', 'preflattery', 'preflavor', 'preflavoring', 'preflection', 'preflexion', 'preflight', 'preflood', 'prefloration', 'preflowering', 'prefoliation', 'prefool', 'preforbidden', 'preforceps', 'preforgive', 'preforgiveness', 'preforgotten', 'preform', 'preformant', 'preformation', 'preformationary', 'preformationism', 'preformationist', 'preformative', 'preformed', 'preformism', 'preformist', 'preformistic', 'preformulate', 'preformulation', 'prefortunate', 'prefortunately', 'prefortune', 'prefoundation', 'prefounder', 'prefragrance', 'prefragrant', 'prefrankness', 'prefraternal', 'prefraternally', 'prefraud', 'prefreeze', 'prefreshman', 'prefriendly', 'prefriendship', 'prefright', 'prefrighten', 'prefrontal', 'prefulfill', 'prefulfillment', 'prefulgence', 'prefulgency', 'prefulgent', 'prefunction', 'prefunctional', 'prefuneral', 'prefungoidal', 'prefurlough', 'prefurnish', 'pregain', 'pregainer', 'pregalvanize', 'preganglionic', 'pregather', 'pregathering', 'pregeminum', 'pregenerate', 'pregeneration', 'pregenerosity', 'pregenerous', 'pregenerously', 'pregenial', 'pregeniculatum', 'pregeniculum', 'pregenital', 'pregeological', 'pregirlhood', 'preglacial', 'pregladden', 'pregladness', 'preglenoid', 'preglenoidal', 'preglobulin', 'pregnability', 'pregnable', 'pregnance', 'pregnancy', 'pregnant', 'pregnantly', 'pregnantness', 'pregolden', 'pregolfing', 'pregracile', 'pregracious', 'pregrade', 'pregraduation', 'pregranite', 'pregranitic', 'pregratification', 'pregratify', 'pregreet', 'pregreeting', 'pregrievance', 'pregrowth', 'preguarantee', 'preguarantor', 'preguard', 'preguess', 'preguidance', 'preguide', 'preguilt', 'preguiltiness', 'preguilty', 'pregust', 'pregustant', 'pregustation', 'pregustator', 'pregustic', 'prehallux', 'prehalter', 'prehandicap', 'prehandle', 'prehaps', 'preharden', 'preharmonious', 'preharmoniousness', 'preharmony', 'preharsh', 'preharshness', 'preharvest', 'prehatred', 'prehaunt', 'prehaunted', 'prehaustorium', 'prehazard', 'prehazardous', 'preheal', 'prehearing', 'preheat', 'preheated', 'preheater', 'prehemiplegic', 'prehend', 'prehensible', 'prehensile', 'prehensility', 'prehension', 'prehensive', 'prehensiveness', 'prehensor', 'prehensorial', 'prehensory', 'prehepatic', 'prehepaticus', 'preheroic', 'prehesitancy', 'prehesitate', 'prehesitation', 'prehexameral', 'prehistorian', 'prehistoric', 'prehistorical', 'prehistorically', 'prehistorics', 'prehistory', 'prehnite', 'prehnitic', 'preholder', 'preholding', 'preholiday', 'prehorizon', 'prehorror', 'prehostile', 'prehostility', 'prehuman', 'prehumiliate', 'prehumiliation', 'prehumor', 'prehunger', 'prehydration', 'prehypophysis', 'preidea', 'preidentification', 'preidentify', 'preignition', 'preilluminate', 'preillumination', 'preillustrate', 'preillustration', 'preimage', 'preimaginary', 'preimagination', 'preimagine', 'preimbibe', 'preimbue', 'preimitate', 'preimitation', 'preimitative', 'preimmigration', 'preimpair', 'preimpairment', 'preimpart', 'preimperial', 'preimport', 'preimportance', 'preimportant', 'preimportantly', 'preimportation', 'preimposal', 'preimpose', 'preimposition', 'preimpress', 'preimpression', 'preimpressive', 'preimprove', 'preimprovement', 'preinaugural', 'preinaugurate', 'preincarnate', 'preincentive', 'preinclination', 'preincline', 'preinclude', 'preinclusion', 'preincorporate', 'preincorporation', 'preincrease', 'preindebted', 'preindebtedness', 'preindemnification', 'preindemnify', 'preindemnity', 'preindependence', 'preindependent', 'preindependently', 'preindesignate', 'preindicant', 'preindicate', 'preindication', 'preindispose', 'preindisposition', 'preinduce', 'preinducement', 'preinduction', 'preinductive', 'preindulge', 'preindulgence', 'preindulgent', 'preindustrial', 'preindustry', 'preinfect', 'preinfection', 'preinfer', 'preinference', 'preinflection', 'preinflectional', 'preinflict', 'preinfluence', 'preinform', 'preinformation', 'preinhabit', 'preinhabitant', 'preinhabitation', 'preinhere', 'preinherit', 'preinheritance', 'preinitial', 'preinitiate', 'preinitiation', 'preinjure', 'preinjurious', 'preinjury', 'preinquisition', 'preinscribe', 'preinscription', 'preinsert', 'preinsertion', 'preinsinuate', 'preinsinuating', 'preinsinuatingly', 'preinsinuation', 'preinsinuative', 'preinspect', 'preinspection', 'preinspector', 'preinspire', 'preinstall', 'preinstallation', 'preinstill', 'preinstillation', 'preinstruct', 'preinstruction', 'preinstructional', 'preinstructive', 'preinsula', 'preinsular', 'preinsulate', 'preinsulation', 'preinsult', 'preinsurance', 'preinsure', 'preintellectual', 'preintelligence', 'preintelligent', 'preintelligently', 'preintend', 'preintention', 'preintercede', 'preintercession', 'preinterchange', 'preintercourse', 'preinterest', 'preinterfere', 'preinterference', 'preinterpret', 'preinterpretation', 'preinterpretative', 'preinterview', 'preintone', 'preinvent', 'preinvention', 'preinventive', 'preinventory', 'preinvest', 'preinvestigate', 'preinvestigation', 'preinvestigator', 'preinvestment', 'preinvitation', 'preinvite', 'preinvocation', 'preinvolve', 'preinvolvement', 'preiotization', 'preiotize', 'preirrigation', 'preirrigational', 'preissuance', 'preissue', 'prejacent', 'prejournalistic', 'prejudge', 'prejudgement', 'prejudger', 'prejudgment', 'prejudication', 'prejudicative', 'prejudicator', 'prejudice', 'prejudiced', 'prejudicedly', 'prejudiceless', 'prejudiciable', 'prejudicial', 'prejudicially', 'prejudicialness', 'prejudicious', 'prejudiciously', 'prejunior', 'prejurisdiction', 'prejustification', 'prejustify', 'prejuvenile', 'prekindergarten', 'prekindle', 'preknit', 'preknow', 'preknowledge', 'prelabel', 'prelabial', 'prelabor', 'prelabrum', 'prelachrymal', 'prelacrimal', 'prelacteal', 'prelacy', 'prelanguage', 'prelapsarian', 'prelate', 'prelatehood', 'prelateship', 'prelatess', 'prelatial', 'prelatic', 'prelatical', 'prelatically', 'prelaticalness', 'prelation', 'prelatish', 'prelatism', 'prelatist', 'prelatize', 'prelatry', 'prelature', 'prelaunch', 'prelaunching', 'prelawful', 'prelawfully', 'prelawfulness', 'prelease', 'prelect', 'prelection', 'prelector', 'prelectorship', 'prelectress', 'prelecture', 'prelegacy', 'prelegal', 'prelegate', 'prelegatee', 'prelegend', 'prelegendary', 'prelegislative', 'preliability', 'preliable', 'prelibation', 'preliberal', 'preliberality', 'preliberally', 'preliberate', 'preliberation', 'prelicense', 'prelim', 'preliminarily', 'preliminary', 'prelimit', 'prelimitate', 'prelimitation', 'prelingual', 'prelinguistic', 'prelinpinpin', 'preliquidate', 'preliquidation', 'preliteral', 'preliterally', 'preliteralness', 'preliterary', 'preliterate', 'preliterature', 'prelithic', 'prelitigation', 'preloan', 'prelocalization', 'prelocate', 'prelogic', 'prelogical', 'preloral', 'preloreal', 'preloss', 'prelude', 'preluder', 'preludial', 'preludious', 'preludiously', 'preludium', 'preludize', 'prelumbar', 'prelusion', 'prelusive', 'prelusively', 'prelusorily', 'prelusory', 'preluxurious', 'premachine', 'premadness', 'premaintain', 'premaintenance', 'premake', 'premaker', 'premaking', 'premandibular', 'premanhood', 'premaniacal', 'premanifest', 'premanifestation', 'premankind', 'premanufacture', 'premanufacturer', 'premanufacturing', 'premarital', 'premarriage', 'premarry', 'premastery', 'prematch', 'premate', 'prematerial', 'prematernity', 'prematrimonial', 'prematuration', 'premature', 'prematurely', 'prematureness', 'prematurity', 'premaxilla', 'premaxillary', 'premeasure', 'premeasurement', 'premechanical', 'premedia', 'premedial', 'premedian', 'premedic', 'premedical', 'premedicate', 'premedication', 'premedieval', 'premedievalism', 'premeditate', 'premeditatedly', 'premeditatedness', 'premeditatingly', 'premeditation', 'premeditative', 'premeditator', 'premegalithic', 'prememorandum', 'premenace', 'premenstrual', 'premention', 'premeridian', 'premerit', 'premetallic', 'premethodical', 'premial', 'premiant', 'premiate', 'premidnight', 'premidsummer', 'premier', 'premieral', 'premiere', 'premieress', 'premierjus', 'premiership', 'premilitary', 'premillenarian', 'premillenarianism', 'premillennial', 'premillennialism', 'premillennialist', 'premillennialize', 'premillennially', 'premillennian', 'preminister', 'preministry', 'premious', 'premisal', 'premise', 'premisory', 'premisrepresent', 'premisrepresentation', 'premiss', 'premium', 'premix', 'premixer', 'premixture', 'premodel', 'premodern', 'premodification', 'premodify', 'premolar', 'premold', 'premolder', 'premolding', 'premonarchial', 'premonetary', 'premonish', 'premonishment', 'premonition', 'premonitive', 'premonitor', 'premonitorily', 'premonitory', 'premonopolize', 'premonopoly', 'premonumental', 'premoral', 'premorality', 'premorally', 'premorbid', 'premorbidly', 'premorbidness', 'premorning', 'premorse', 'premortal', 'premortification', 'premortify', 'premortuary', 'premosaic', 'premotion', 'premourn', 'premove', 'premovement', 'premover', 'premuddle', 'premultiplication', 'premultiplier', 'premultiply', 'premundane', 'premunicipal', 'premunition', 'premunitory', 'premusical', 'premuster', 'premutative', 'premutiny', 'premycotic', 'premyelocyte', 'premythical', 'prename', 'prenares', 'prenarial', 'prenaris', 'prenasal', 'prenatal', 'prenatalist', 'prenatally', 'prenational', 'prenative', 'prenatural', 'prenaval', 'prender', 'prendre', 'prenebular', 'prenecessitate', 'preneglect', 'preneglectful', 'prenegligence', 'prenegligent', 'prenegotiate', 'prenegotiation', 'preneolithic', 'prenephritic', 'preneural', 'preneuralgic', 'prenight', 'prenoble', 'prenodal', 'prenominal', 'prenominate', 'prenomination', 'prenominical', 'prenotation', 'prenotice', 'prenotification', 'prenotify', 'prenotion', 'prentice', 'prenticeship', 'prenumber', 'prenumbering', 'prenuncial', 'prenuptial', 'prenursery', 'preobedience', 'preobedient', 'preobject', 'preobjection', 'preobjective', 'preobligate', 'preobligation', 'preoblige', 'preobservance', 'preobservation', 'preobservational', 'preobserve', 'preobstruct', 'preobstruction', 'preobtain', 'preobtainable', 'preobtrude', 'preobtrusion', 'preobtrusive', 'preobviate', 'preobvious', 'preobviously', 'preobviousness', 'preoccasioned', 'preoccipital', 'preocclusion', 'preoccultation', 'preoccupancy', 'preoccupant', 'preoccupate', 'preoccupation', 'preoccupative', 'preoccupied', 'preoccupiedly', 'preoccupiedness', 'preoccupier', 'preoccupy', 'preoccur', 'preoccurrence', 'preoceanic', 'preocular', 'preodorous', 'preoffend', 'preoffense', 'preoffensive', 'preoffensively', 'preoffensiveness', 'preoffer', 'preoffering', 'preofficial', 'preofficially', 'preominate', 'preomission', 'preomit', 'preopen', 'preopening', 'preoperate', 'preoperation', 'preoperative', 'preoperatively', 'preoperator', 'preopercle', 'preopercular', 'preoperculum', 'preopinion', 'preopinionated', 'preoppose', 'preopposition', 'preoppress', 'preoppression', 'preoppressor', 'preoptic', 'preoptimistic', 'preoption', 'preoral', 'preorally', 'preorbital', 'preordain', 'preorder', 'preordination', 'preorganic', 'preorganization', 'preorganize', 'preoriginal', 'preoriginally', 'preornamental', 'preoutfit', 'preoutline', 'preoverthrow', 'prep', 'prepainful', 'prepalatal', 'prepalatine', 'prepaleolithic', 'prepanic', 'preparable', 'preparation', 'preparationist', 'preparative', 'preparatively', 'preparator', 'preparatorily', 'preparatory', 'prepardon', 'prepare', 'prepared', 'preparedly', 'preparedness', 'preparement', 'preparental', 'preparer', 'preparietal', 'preparingly', 'preparliamentary', 'preparoccipital', 'preparoxysmal', 'prepartake', 'preparticipation', 'prepartisan', 'prepartition', 'prepartnership', 'prepatellar', 'prepatent', 'prepatriotic', 'prepave', 'prepavement', 'prepay', 'prepayable', 'prepayment', 'prepeduncle', 'prepenetrate', 'prepenetration', 'prepenial', 'prepense', 'prepensely', 'prepeople', 'preperceive', 'preperception', 'preperceptive', 'preperitoneal', 'prepersuade', 'prepersuasion', 'prepersuasive', 'preperusal', 'preperuse', 'prepetition', 'prephragma', 'prephthisical', 'prepigmental', 'prepink', 'prepious', 'prepituitary', 'preplace', 'preplacement', 'preplacental', 'preplan', 'preplant', 'prepledge', 'preplot', 'prepoetic', 'prepoetical', 'prepoison', 'prepolice', 'prepolish', 'prepolitic', 'prepolitical', 'prepolitically', 'prepollence', 'prepollency', 'prepollent', 'prepollex', 'preponder', 'preponderance', 'preponderancy', 'preponderant', 'preponderantly', 'preponderate', 'preponderately', 'preponderating', 'preponderatingly', 'preponderation', 'preponderous', 'preponderously', 'prepontile', 'prepontine', 'preportray', 'preportrayal', 'prepose', 'preposition', 'prepositional', 'prepositionally', 'prepositive', 'prepositively', 'prepositor', 'prepositorial', 'prepositure', 'prepossess', 'prepossessed', 'prepossessing', 'prepossessingly', 'prepossessingness', 'prepossession', 'prepossessionary', 'prepossessor', 'preposterous', 'preposterously', 'preposterousness', 'prepostorship', 'prepotence', 'prepotency', 'prepotent', 'prepotential', 'prepotently', 'prepractical', 'prepractice', 'preprandial', 'prepreference', 'prepreparation', 'preprice', 'preprimary', 'preprimer', 'preprimitive', 'preprint', 'preprofess', 'preprofessional', 'preprohibition', 'prepromise', 'prepromote', 'prepromotion', 'prepronounce', 'prepronouncement', 'preprophetic', 'preprostatic', 'preprove', 'preprovide', 'preprovision', 'preprovocation', 'preprovoke', 'preprudent', 'preprudently', 'prepsychological', 'prepsychology', 'prepuberal', 'prepubertal', 'prepuberty', 'prepubescent', 'prepubic', 'prepubis', 'prepublication', 'prepublish', 'prepuce', 'prepunctual', 'prepunish', 'prepunishment', 'prepupa', 'prepupal', 'prepurchase', 'prepurchaser', 'prepurpose', 'preputial', 'preputium', 'prepyloric', 'prepyramidal', 'prequalification', 'prequalify', 'prequarantine', 'prequestion', 'prequotation', 'prequote', 'preracing', 'preradio', 'prerailroad', 'prerailroadite', 'prerailway', 'preramus', 'prerational', 'prereadiness', 'preready', 'prerealization', 'prerealize', 'prerebellion', 'prereceipt', 'prereceive', 'prereceiver', 'prerecital', 'prerecite', 'prereckon', 'prereckoning', 'prerecognition', 'prerecognize', 'prerecommend', 'prerecommendation', 'prereconcile', 'prereconcilement', 'prereconciliation', 'prerectal', 'preredeem', 'preredemption', 'prereduction', 'prerefer', 'prereference', 'prerefine', 'prerefinement', 'prereform', 'prereformation', 'prereformatory', 'prerefusal', 'prerefuse', 'preregal', 'preregister', 'preregistration', 'preregulate', 'preregulation', 'prereject', 'prerejection', 'prerejoice', 'prerelate', 'prerelation', 'prerelationship', 'prerelease', 'prereligious', 'prereluctation', 'preremit', 'preremittance', 'preremorse', 'preremote', 'preremoval', 'preremove', 'preremunerate', 'preremuneration', 'prerenal', 'prerent', 'prerental', 'prereport', 'prerepresent', 'prerepresentation', 'prereption', 'prerepublican', 'prerequest', 'prerequire', 'prerequirement', 'prerequisite', 'prerequisition', 'preresemblance', 'preresemble', 'preresolve', 'preresort', 'prerespectability', 'prerespectable', 'prerespiration', 'prerespire', 'preresponsibility', 'preresponsible', 'prerestoration', 'prerestrain', 'prerestraint', 'prerestrict', 'prerestriction', 'prereturn', 'prereveal', 'prerevelation', 'prerevenge', 'prereversal', 'prereverse', 'prereview', 'prerevise', 'prerevision', 'prerevival', 'prerevolutionary', 'prerheumatic', 'prerich', 'prerighteous', 'prerighteously', 'prerighteousness', 'prerogatival', 'prerogative', 'prerogatived', 'prerogatively', 'prerogativity', 'prerolandic', 'preromantic', 'preromanticism', 'preroute', 'preroutine', 'preroyal', 'preroyally', 'preroyalty', 'prerupt', 'preruption', 'presacral', 'presacrifice', 'presacrificial', 'presage', 'presageful', 'presagefully', 'presager', 'presagient', 'presaging', 'presagingly', 'presalvation', 'presanctification', 'presanctified', 'presanctify', 'presanguine', 'presanitary', 'presartorial', 'presatisfaction', 'presatisfactory', 'presatisfy', 'presavage', 'presavagery', 'presay', 'presbyacousia', 'presbyacusia', 'presbycousis', 'presbycusis', 'presbyope', 'presbyophrenia', 'presbyophrenic', 'presbyopia', 'presbyopic', 'presbyopy', 'presbyte', 'presbyter', 'presbyteral', 'presbyterate', 'presbyterated', 'presbyteress', 'presbyteria', 'presbyterial', 'presbyterially', 'presbyterium', 'presbytership', 'presbytery', 'presbytia', 'presbytic', 'presbytism', 'prescapula', 'prescapular', 'prescapularis', 'prescholastic', 'preschool', 'prescience', 'prescient', 'prescientific', 'presciently', 'prescind', 'prescindent', 'prescission', 'prescored', 'prescout', 'prescribable', 'prescribe', 'prescriber', 'prescript', 'prescriptibility', 'prescriptible', 'prescription', 'prescriptionist', 'prescriptive', 'prescriptively', 'prescriptiveness', 'prescriptorial', 'prescrive', 'prescutal', 'prescutum', 'preseal', 'presearch', 'preseason', 'preseasonal', 'presecular', 'presecure', 'presee', 'preselect', 'presell', 'preseminal', 'preseminary', 'presence', 'presenced', 'presenceless', 'presenile', 'presenility', 'presensation', 'presension', 'present', 'presentability', 'presentable', 'presentableness', 'presentably', 'presental', 'presentation', 'presentational', 'presentationism', 'presentationist', 'presentative', 'presentatively', 'presentee', 'presentence', 'presenter', 'presential', 'presentiality', 'presentially', 'presentialness', 'presentient', 'presentiment', 'presentimental', 'presentist', 'presentive', 'presentively', 'presentiveness', 'presently', 'presentment', 'presentness', 'presentor', 'preseparate', 'preseparation', 'preseparator', 'preservability', 'preservable', 'preserval', 'preservation', 'preservationist', 'preservative', 'preservatize', 'preservatory', 'preserve', 'preserver', 'preserveress', 'preses', 'presession', 'preset', 'presettle', 'presettlement', 'presexual', 'preshadow', 'preshape', 'preshare', 'presharpen', 'preshelter', 'preship', 'preshipment', 'preshortage', 'preshorten', 'preshow', 'preside', 'presidence', 'presidencia', 'presidency', 'president', 'presidente', 'presidentess', 'presidential', 'presidentially', 'presidentiary', 'presidentship', 'presider', 'presidial', 'presidially', 'presidiary', 'presidio', 'presidium', 'presift', 'presign', 'presignal', 'presignificance', 'presignificancy', 'presignificant', 'presignification', 'presignificative', 'presignificator', 'presignify', 'presimian', 'preslavery', 'presmooth', 'presocial', 'presocialism', 'presocialist', 'presolar', 'presolicit', 'presolicitation', 'presolution', 'presolve', 'presophomore', 'presound', 'prespecialist', 'prespecialize', 'prespecific', 'prespecifically', 'prespecification', 'prespecify', 'prespeculate', 'prespeculation', 'presphenoid', 'presphenoidal', 'presphygmic', 'prespinal', 'prespinous', 'prespiracular', 'presplendor', 'presplenomegalic', 'prespoil', 'prespontaneity', 'prespontaneous', 'prespontaneously', 'prespread', 'presprinkle', 'prespur', 'press', 'pressable', 'pressboard', 'pressdom', 'pressel', 'presser', 'pressfat', 'pressful', 'pressgang', 'pressible', 'pressing', 'pressingly', 'pressingness', 'pression', 'pressive', 'pressman', 'pressmanship', 'pressmark', 'pressor', 'presspack', 'pressroom', 'pressurage', 'pressural', 'pressure', 'pressureless', 'pressureproof', 'pressurize', 'pressurizer', 'presswoman', 'presswork', 'pressworker', 'prest', 'prestabilism', 'prestability', 'prestable', 'prestamp', 'prestandard', 'prestandardization', 'prestandardize', 'prestant', 'prestate', 'prestation', 'prestatistical', 'presteam', 'presteel', 'prester', 'presternal', 'presternum', 'prestidigital', 'prestidigitate', 'prestidigitation', 'prestidigitator', 'prestidigitatorial', 'prestige', 'prestigiate', 'prestigiation', 'prestigiator', 'prestigious', 'prestigiously', 'prestigiousness', 'prestimulate', 'prestimulation', 'prestimulus', 'prestissimo', 'presto', 'prestock', 'prestomial', 'prestomium', 'prestorage', 'prestore', 'prestraighten', 'prestrain', 'prestrengthen', 'prestress', 'prestretch', 'prestricken', 'prestruggle', 'prestubborn', 'prestudious', 'prestudiously', 'prestudiousness', 'prestudy', 'presubdue', 'presubiculum', 'presubject', 'presubjection', 'presubmission', 'presubmit', 'presubordinate', 'presubordination', 'presubscribe', 'presubscriber', 'presubscription', 'presubsist', 'presubsistence', 'presubsistent', 'presubstantial', 'presubstitute', 'presubstitution', 'presuccess', 'presuccessful', 'presuccessfully', 'presuffer', 'presuffering', 'presufficiency', 'presufficient', 'presufficiently', 'presuffrage', 'presuggest', 'presuggestion', 'presuggestive', 'presuitability', 'presuitable', 'presuitably', 'presumable', 'presumably', 'presume', 'presumedly', 'presumer', 'presuming', 'presumption', 'presumptious', 'presumptiously', 'presumptive', 'presumptively', 'presumptuous', 'presumptuously', 'presumptuousness', 'presuperficial', 'presuperficiality', 'presuperficially', 'presuperfluity', 'presuperfluous', 'presuperfluously', 'presuperintendence', 'presuperintendency', 'presupervise', 'presupervision', 'presupervisor', 'presupplemental', 'presupplementary', 'presupplicate', 'presupplication', 'presupply', 'presupport', 'presupposal', 'presuppose', 'presupposition', 'presuppositionless', 'presuppress', 'presuppression', 'presuppurative', 'presupremacy', 'presupreme', 'presurgery', 'presurgical', 'presurmise', 'presurprisal', 'presurprise', 'presurrender', 'presurround', 'presurvey', 'presusceptibility', 'presusceptible', 'presuspect', 'presuspend', 'presuspension', 'presuspicion', 'presuspicious', 'presuspiciously', 'presuspiciousness', 'presustain', 'presutural', 'preswallow', 'presylvian', 'presympathize', 'presympathy', 'presymphonic', 'presymphony', 'presymphysial', 'presymptom', 'presymptomatic', 'presynapsis', 'presynaptic', 'presystematic', 'presystematically', 'presystole', 'presystolic', 'pretabulate', 'pretabulation', 'pretan', 'pretangible', 'pretangibly', 'pretannage', 'pretardily', 'pretardiness', 'pretardy', 'pretariff', 'pretaste', 'preteach', 'pretechnical', 'pretechnically', 'pretelegraph', 'pretelegraphic', 'pretelephone', 'pretelephonic', 'pretell', 'pretemperate', 'pretemperately', 'pretemporal', 'pretend', 'pretendant', 'pretended', 'pretendedly', 'pretender', 'pretendership', 'pretendingly', 'pretendingness', 'pretense', 'pretenseful', 'pretenseless', 'pretension', 'pretensional', 'pretensionless', 'pretensive', 'pretensively', 'pretensiveness', 'pretentative', 'pretentious', 'pretentiously', 'pretentiousness', 'pretercanine', 'preterchristian', 'preterconventional', 'preterdetermined', 'preterdeterminedly', 'preterdiplomatic', 'preterdiplomatically', 'preterequine', 'preteressential', 'pretergress', 'pretergression', 'preterhuman', 'preterience', 'preterient', 'preterintentional', 'preterist', 'preterit', 'preteriteness', 'preterition', 'preteritive', 'preteritness', 'preterlabent', 'preterlegal', 'preterlethal', 'preterminal', 'pretermission', 'pretermit', 'pretermitter', 'preternative', 'preternatural', 'preternaturalism', 'preternaturalist', 'preternaturality', 'preternaturally', 'preternaturalness', 'preternormal', 'preternotorious', 'preternuptial', 'preterpluperfect', 'preterpolitical', 'preterrational', 'preterregular', 'preterrestrial', 'preterritorial', 'preterroyal', 'preterscriptural', 'preterseasonable', 'pretersensual', 'pretervection', 'pretest', 'pretestify', 'pretestimony', 'pretext', 'pretexted', 'pretextuous', 'pretheological', 'prethoracic', 'prethoughtful', 'prethoughtfully', 'prethoughtfulness', 'prethreaten', 'prethrill', 'prethrust', 'pretibial', 'pretimeliness', 'pretimely', 'pretincture', 'pretire', 'pretoken', 'pretone', 'pretonic', 'pretorial', 'pretorship', 'pretorsional', 'pretorture', 'pretournament', 'pretrace', 'pretracheal', 'pretraditional', 'pretrain', 'pretraining', 'pretransact', 'pretransaction', 'pretranscribe', 'pretranscription', 'pretranslate', 'pretranslation', 'pretransmission', 'pretransmit', 'pretransport', 'pretransportation', 'pretravel', 'pretreat', 'pretreatment', 'pretreaty', 'pretrematic', 'pretribal', 'pretry', 'prettification', 'prettifier', 'prettify', 'prettikin', 'prettily', 'prettiness', 'pretty', 'prettyface', 'prettyish', 'prettyism', 'pretubercular', 'pretuberculous', 'pretympanic', 'pretyphoid', 'pretypify', 'pretypographical', 'pretyrannical', 'pretyranny', 'pretzel', 'preultimate', 'preultimately', 'preumbonal', 'preunderstand', 'preundertake', 'preunion', 'preunite', 'preutilizable', 'preutilization', 'preutilize', 'prevacate', 'prevacation', 'prevaccinate', 'prevaccination', 'prevail', 'prevailance', 'prevailer', 'prevailingly', 'prevailingness', 'prevailment', 'prevalence', 'prevalency', 'prevalent', 'prevalently', 'prevalentness', 'prevalescence', 'prevalescent', 'prevalid', 'prevalidity', 'prevalidly', 'prevaluation', 'prevalue', 'prevariation', 'prevaricate', 'prevarication', 'prevaricator', 'prevaricatory', 'prevascular', 'prevegetation', 'prevelar', 'prevenance', 'prevenancy', 'prevene', 'prevenience', 'prevenient', 'preveniently', 'prevent', 'preventability', 'preventable', 'preventative', 'preventer', 'preventible', 'preventingly', 'prevention', 'preventionism', 'preventionist', 'preventive', 'preventively', 'preventiveness', 'preventorium', 'preventure', 'preverb', 'preverbal', 'preverification', 'preverify', 'prevernal', 'preversion', 'prevertebral', 'prevesical', 'preveto', 'previctorious', 'previde', 'previdence', 'preview', 'previgilance', 'previgilant', 'previgilantly', 'previolate', 'previolation', 'previous', 'previously', 'previousness', 'previse', 'previsibility', 'previsible', 'previsibly', 'prevision', 'previsional', 'previsit', 'previsitor', 'previsive', 'previsor', 'prevocal', 'prevocalic', 'prevocally', 'prevocational', 'prevogue', 'prevoid', 'prevoidance', 'prevolitional', 'prevolunteer', 'prevomer', 'prevotal', 'prevote', 'prevoyance', 'prevoyant', 'prevue', 'prewar', 'prewarn', 'prewarrant', 'prewash', 'preweigh', 'prewelcome', 'prewhip', 'prewilling', 'prewillingly', 'prewillingness', 'prewire', 'prewireless', 'prewitness', 'prewonder', 'prewonderment', 'preworldliness', 'preworldly', 'preworship', 'preworthily', 'preworthiness', 'preworthy', 'prewound', 'prewrap', 'prexy', 'prey', 'preyer', 'preyful', 'preyingly', 'preyouthful', 'prezonal', 'prezone', 'prezygapophysial', 'prezygapophysis', 'prezygomatic']\n"
          ]
        }
      ],
      "source": [
        "print([w for w in wordlist if re.search('^pre', w)])"
      ]
    },
    {
      "cell_type": "markdown",
      "metadata": {
        "id": "Gq_4tD5UUJuw"
      },
      "source": [
        "3.6 Normalizing Text"
      ]
    },
    {
      "cell_type": "code",
      "execution_count": null,
      "metadata": {
        "id": "QDJXMhaLUJuw"
      },
      "outputs": [],
      "source": [
        "    # Here we learn about stemmers, lemmatization, and POS taggers\n",
        "    # We will also learn the functions to tokenize a text for words and sentencs.\n",
        "    # In all cases, we will make use of the tools that NLTK provides"
      ]
    },
    {
      "cell_type": "markdown",
      "metadata": {
        "id": "JNqR7ALzUJuw"
      },
      "source": [
        "NLTK includes several off-the-shelf stemmers, and if you ever need a stemmer you should<br>\n",
        "use one of these in preference to crafting your own using regular expressions, since these<br>\n",
        "handle a wide range of irregular cases. The Porter and Lancaster stemmers follow their own<br>\n",
        "rules for stripping affixes. Observe that the Porter stemmer correctly handles the word<br>\n",
        "lying (mapping it to lie), while the Lancaster stemmer does not."
      ]
    },
    {
      "cell_type": "markdown",
      "metadata": {
        "id": "jltZs94wUJuw"
      },
      "source": [
        "EXERCISE #5<br>\n",
        "Use the WordNet Lemmatizer or a word stemmer in NLTK to get the lemmas or stems of the words in a text of your<br>\n",
        "choice."
      ]
    },
    {
      "cell_type": "code",
      "execution_count": 67,
      "metadata": {
        "id": "AsGOru_oUJux"
      },
      "outputs": [],
      "source": [
        "url = \"https://www.gutenberg.org/cache/epub/67792/pg67792.txt\"\n",
        "response = request.urlopen(url)\n",
        "Magic_raw = response.read().decode('utf8')"
      ]
    },
    {
      "cell_type": "markdown",
      "metadata": {
        "id": "wI2NEAxGUJux"
      },
      "source": [
        "Tokenize raw text into words"
      ]
    },
    {
      "cell_type": "code",
      "execution_count": 68,
      "metadata": {
        "colab": {
          "base_uri": "https://localhost:8080/"
        },
        "id": "HsMkyMhPUJux",
        "outputId": "777d7937-b1c9-40ac-bee9-574d3b06fd99"
      },
      "outputs": [
        {
          "output_type": "stream",
          "name": "stdout",
          "text": [
            "['\\ufeffThe', 'Project', 'Gutenberg', 'eBook', 'of', 'A', 'History', 'of', 'Magic', 'and', 'Experimental', 'Science', ',', 'Volume', '1', '(', 'of', '2', ')', ',', 'by', 'Lynn', 'Thorndike', 'This', 'eBook', 'is', 'for', 'the', 'use', 'of', 'anyone', 'anywhere', 'in', 'the', 'United', 'States', 'and', 'most', 'other', 'parts', 'of', 'the', 'world', 'at', 'no', 'cost', 'and', 'with', 'almost', 'no']\n"
          ]
        }
      ],
      "source": [
        "tokens = word_tokenize(Magic_raw)\n",
        "print(tokens[:50])"
      ]
    },
    {
      "cell_type": "markdown",
      "metadata": {
        "id": "qHdpTz7PUJux"
      },
      "source": [
        "WordNet Lemmatizer"
      ]
    },
    {
      "cell_type": "code",
      "execution_count": 70,
      "metadata": {
        "colab": {
          "base_uri": "https://localhost:8080/"
        },
        "id": "1Kw01CXPUJuy",
        "outputId": "074030e3-a5e3-4f81-87c9-cdbf9851f2d4"
      },
      "outputs": [
        {
          "output_type": "stream",
          "name": "stdout",
          "text": [
            "['\\ufeffThe', 'Project', 'Gutenberg', 'eBook', 'of', 'A', 'History', 'of', 'Magic', 'and', 'Experimental', 'Science', ',', 'Volume', '1', '(', 'of', '2', ')', ',', 'by', 'Lynn', 'Thorndike', 'This', 'eBook', 'is', 'for', 'the', 'use', 'of', 'anyone', 'anywhere', 'in', 'the', 'United', 'States', 'and', 'most', 'other', 'part', 'of', 'the', 'world', 'at', 'no', 'cost', 'and', 'with', 'almost', 'no']\n"
          ]
        }
      ],
      "source": [
        "word_net_lemmatizer = nltk.WordNetLemmatizer()\n",
        "Magic_lemmas_WordNet = [word_net_lemmatizer.lemmatize(t) for t in tokens]\n",
        "print(Magic_lemmas_WordNet[:50])"
      ]
    },
    {
      "cell_type": "markdown",
      "metadata": {
        "id": "I-R9FhUXUJuy"
      },
      "source": [
        "Now let's try to lemmatize the tweets with the PorterStemmer and compare the first 50 lemmas to those of<br>\n",
        "the WordNet Lemmatizer"
      ]
    },
    {
      "cell_type": "code",
      "execution_count": 71,
      "metadata": {
        "colab": {
          "base_uri": "https://localhost:8080/"
        },
        "id": "yM7hUUbCUJuy",
        "outputId": "b040121d-a4c9-4812-d406-2c7210f410f0"
      },
      "outputs": [
        {
          "output_type": "stream",
          "name": "stdout",
          "text": [
            "['\\ufeffthe', 'project', 'gutenberg', 'ebook', 'of', 'A', 'histori', 'of', 'magic', 'and', 'experiment', 'scienc', ',', 'volum', '1', '(', 'of', '2', ')', ',', 'by', 'lynn', 'thorndik', 'thi', 'ebook', 'is', 'for', 'the', 'use', 'of', 'anyon', 'anywher', 'in', 'the', 'unit', 'state', 'and', 'most', 'other', 'part', 'of', 'the', 'world', 'at', 'no', 'cost', 'and', 'with', 'almost', 'no']\n"
          ]
        }
      ],
      "source": [
        "porter_stemmer = nltk.PorterStemmer()\n",
        "Magic_lemmas_porter = [porter_stemmer.stem(t) for t in tokens]\n",
        "print(Magic_lemmas_porter[:50])"
      ]
    },
    {
      "cell_type": "markdown",
      "metadata": {
        "id": "edzXiIDaUJuy"
      },
      "source": [
        "And now with the LancasterStemmer"
      ]
    },
    {
      "cell_type": "code",
      "execution_count": 72,
      "metadata": {
        "colab": {
          "base_uri": "https://localhost:8080/"
        },
        "id": "8qczHAqdUJuy",
        "outputId": "d72866b0-22a7-4fb9-dda2-efbbad4474f3"
      },
      "outputs": [
        {
          "output_type": "stream",
          "name": "stdout",
          "text": [
            "['\\ufeffthe', 'project', 'gutenberg', 'ebook', 'of', 'a', 'hist', 'of', 'mag', 'and', 'expery', 'sci', ',', 'volum', '1', '(', 'of', '2', ')', ',', 'by', 'lyn', 'thorndik', 'thi', 'ebook', 'is', 'for', 'the', 'us', 'of', 'anyon', 'anywh', 'in', 'the', 'unit', 'stat', 'and', 'most', 'oth', 'part', 'of', 'the', 'world', 'at', 'no', 'cost', 'and', 'with', 'almost', 'no']\n"
          ]
        }
      ],
      "source": [
        "lancaster_stemmer = nltk.LancasterStemmer()\n",
        "Magic_lemmas_lancaster = [lancaster_stemmer.stem(t) for t in tokens]\n",
        "print(Magic_lemmas_lancaster[:50])"
      ]
    },
    {
      "cell_type": "markdown",
      "metadata": {
        "id": "AGOtynOcUJuy"
      },
      "source": [
        "Lab #4 Addendum"
      ]
    },
    {
      "cell_type": "markdown",
      "metadata": {
        "id": "rkhYya43UJuy"
      },
      "source": [
        "Word tokenizers in NLTK<br>\n",
        "Tokenize raw text into words<br>\n",
        "okens = word_tokenize(raw)<br>\n",
        "rint(tokens[:10])"
      ]
    },
    {
      "cell_type": "markdown",
      "metadata": {
        "id": "Wvw2UFEhUJuz"
      },
      "source": [
        "Sentence tokenizers in NLTK<br>\n",
        "Tokenize raw text into sentences<br>\n",
        "entences = nltk.sent_tokenize(raw)<br>\n",
        "print.pprint(sentences[3:10])"
      ]
    },
    {
      "cell_type": "markdown",
      "metadata": {
        "id": "dLlFEG6iUJuz"
      },
      "source": [
        "Remove punctuation from a text"
      ]
    },
    {
      "cell_type": "code",
      "execution_count": 73,
      "metadata": {
        "id": "_ocucv54UJuz"
      },
      "outputs": [],
      "source": [
        "import string\n",
        "def remove_punctuation(text):\n",
        "    text_nopunct = [c for c in text if c not in string.punctuation]\n",
        "    return text_nopunct\n",
        "# Call the function on a specific text\n",
        "#remove_punctuation(text)"
      ]
    },
    {
      "cell_type": "markdown",
      "metadata": {
        "id": "Cq96TyEZUJuz"
      },
      "source": [
        "POS Taggers in NLTK"
      ]
    },
    {
      "cell_type": "code",
      "execution_count": 74,
      "metadata": {
        "colab": {
          "base_uri": "https://localhost:8080/"
        },
        "id": "i40_clI0UJuz",
        "outputId": "65eba265-be38-42dd-daec-5996210c6aa2"
      },
      "outputs": [
        {
          "output_type": "stream",
          "name": "stdout",
          "text": [
            "['text', '1', \"''\", 'staring', 'rona', '...', 'action', 'drama', 'suspense', '🎬', 'https', '//t.co/jrnphgphx3', \"''\", '2', 'driving', 'test', 'gets', 'cancelled', 'miss', 'rona', 'wants', 'move', 'mad', '’', 'actually', 'gon', 'na', 'drive', 'anyway', 'police', 'busy', 'dealing', 'revolution', 'anyway', '...', 'https', '//t.co/dss0p4ujml', '3', 'aaron', 'rodgers', 'get', 'rona', '’', 'dropping', '81', 'head', 'nigga', '4', 'good', 'old']\n"
          ]
        }
      ],
      "source": [
        "Tweets_words_POS = nltk.pos_tag(Tweets_words)\n",
        "print(Tweets_words[:50])"
      ]
    },
    {
      "cell_type": "markdown",
      "metadata": {
        "id": "3wAHhZHDUJuz"
      },
      "source": [
        "Accessing all the 300+ languages in the Universal Declaration of Human Rights in NLTK"
      ]
    },
    {
      "cell_type": "markdown",
      "metadata": {
        "id": "vttzHIbNUJuz"
      },
      "source": [
        "Let's look at the languages available"
      ]
    },
    {
      "cell_type": "code",
      "execution_count": 75,
      "metadata": {
        "colab": {
          "base_uri": "https://localhost:8080/"
        },
        "id": "d3wwCxASUJuz",
        "outputId": "e9d2f49c-c369-4f99-8064-17e3d4de6fd8"
      },
      "outputs": [
        {
          "output_type": "stream",
          "name": "stdout",
          "text": [
            "[nltk_data] Downloading package udhr to /root/nltk_data...\n",
            "[nltk_data]   Unzipping corpora/udhr.zip.\n",
            "['Abkhaz-Cyrillic+Abkh', 'Abkhaz-UTF8', 'Achehnese-Latin1', 'Achuar-Shiwiar-Latin1', 'Adja-UTF8', 'Afaan_Oromo_Oromiffa-Latin1', 'Afrikaans-Latin1', 'Aguaruna-Latin1', 'Akuapem_Twi-UTF8', 'Albanian_Shqip-Latin1', 'Amahuaca', 'Amahuaca-Latin1', 'Amarakaeri-Latin1', 'Amuesha-Yanesha-UTF8', 'Arabela-Latin1', 'Arabic_Alarabia-Arabic', 'Asante-UTF8', 'Ashaninca-Latin1', 'Asheninca-Latin1', 'Asturian_Bable-Latin1', 'Aymara-Latin1', 'Balinese-Latin1', 'Bambara-UTF8', 'Baoule-UTF8', 'Basque_Euskara-Latin1', 'Batonu_Bariba-UTF8', 'Belorus_Belaruski-Cyrillic', 'Belorus_Belaruski-UTF8', 'Bemba-Latin1', 'Bengali-UTF8', 'Beti-UTF8', 'Bichelamar-Latin1', 'Bikol_Bicolano-Latin1', 'Bora-Latin1', 'Bosnian_Bosanski-Cyrillic', 'Bosnian_Bosanski-Latin2', 'Bosnian_Bosanski-UTF8', 'Breton-Latin1', 'Bugisnese-Latin1', 'Bulgarian_Balgarski-Cyrillic', 'Bulgarian_Balgarski-UTF8', 'Cakchiquel-Latin1', 'Campa_Pajonalino-Latin1', 'Candoshi-Shapra-Latin1', 'Caquinte-Latin1', 'Cashibo-Cacataibo-Latin1', 'Cashinahua-Latin1', 'Catalan-Latin1', 'Catalan_Catala-Latin1', 'Cebuano-Latin1', 'Chamorro-Latin1', 'Chayahuita-Latin1', 'Chechewa_Nyanja-Latin1', 'Chickasaw-Latin1', 'Chinanteco-Ajitlan-Latin1', 'Chinanteco-UTF8', 'Chinese_Mandarin-GB2312', 'Chuuk_Trukese-Latin1', 'Cokwe-Latin1', 'Corsican-Latin1', 'Croatian_Hrvatski-Latin2', 'Czech-Latin2', 'Czech-UTF8', 'Czech_Cesky-Latin2', 'Czech_Cesky-UTF8', 'Dagaare-UTF8', 'Dagbani-UTF8', 'Dangme-UTF8', 'Danish_Dansk-Latin1', 'Dendi-UTF8', 'Ditammari-UTF8', 'Dutch_Nederlands-Latin1', 'Edo-Latin1', 'English-Latin1', 'Esperanto-UTF8', 'Estonian_Eesti-Latin1', 'Ewe_Eve-UTF8', 'Fante-UTF8', 'Faroese-Latin1', 'Farsi_Persian-UTF8', 'Farsi_Persian-v2-UTF8', 'Fijian-Latin1', 'Filipino_Tagalog-Latin1', 'Finnish_Suomi-Latin1', 'Fon-UTF8', 'French_Francais-Latin1', 'Frisian-Latin1', 'Friulian_Friulano-Latin1', 'Ga-UTF8', 'Gagauz_Gagauzi-UTF8', 'Galician_Galego-Latin1', 'Garifuna_Garifuna-Latin1', 'German_Deutsch-Latin1', 'Gonja-UTF8', 'Greek_Ellinika-Greek', 'Greek_Ellinika-UTF8', 'Greenlandic_Inuktikut-Latin1', 'Guarani-Latin1', 'Guen_Mina-UTF8', 'HaitianCreole_Kreyol-Latin1', 'HaitianCreole_Popular-Latin1', 'Hani-Latin1', 'Hausa_Haoussa-Latin1', 'Hawaiian-UTF8', 'Hebrew_Ivrit-Hebrew', 'Hebrew_Ivrit-UTF8', 'Hiligaynon-Latin1', 'Hindi-UTF8', 'Hindi_web-UTF8', 'Hmong_Miao-Sichuan-Guizhou-Yunnan-Latin1', 'Hmong_Miao-SouthernEast-Guizhou-Latin1', 'Hmong_Miao_Northern-East-Guizhou-Latin1', 'Hrvatski_Croatian-Latin2', 'Huasteco-Latin1', 'Huitoto_Murui-Latin1', 'Hungarian_Magyar-Latin1', 'Hungarian_Magyar-Latin2', 'Hungarian_Magyar-UTF8', 'Ibibio_Efik-Latin1', 'Icelandic_Yslenska-Latin1', 'Ido-Latin1', 'Igbo-UTF8', 'Iloko_Ilocano-Latin1', 'Indonesian-Latin1', 'Interlingua-Latin1', 'Inuktikut_Greenlandic-Latin1', 'IrishGaelic_Gaeilge-Latin1', 'Italian-Latin1', 'Italian_Italiano-Latin1', 'Japanese_Nihongo-EUC', 'Japanese_Nihongo-SJIS', 'Japanese_Nihongo-UTF8', 'Javanese-Latin1', 'Jola-Fogny_Diola-UTF8', 'Kabye-UTF8', 'Kannada-UTF8', 'Kaonde-Latin1', 'Kapampangan-Latin1', 'Kasem-UTF8', 'Kazakh-Cyrillic', 'Kazakh-UTF8', 'Kiche_Quiche-Latin1', 'Kicongo-Latin1', 'Kimbundu_Mbundu-Latin1', 'Kinyamwezi_Nyamwezi-Latin1', 'Kinyarwanda-Latin1', 'Kituba-Latin1', 'Korean_Hankuko-UTF8', 'Kpelewo-UTF8', 'Krio-UTF8', 'Kurdish-UTF8', 'Lamnso_Lam-nso-UTF8', 'Latin_Latina-Latin1', 'Latin_Latina-v2-Latin1', 'Latvian-Latin1', 'Limba-UTF8', 'Lingala-Latin1', 'Lithuanian_Lietuviskai-Baltic', 'Lozi-Latin1', 'Luba-Kasai_Tshiluba-Latin1', 'Luganda_Ganda-Latin1', 'Lunda_Chokwe-lunda-Latin1', 'Luvale-Latin1', 'Luxembourgish_Letzebuergeusch-Latin1', 'Macedonian-UTF8', 'Madurese-Latin1', 'Makonde-Latin1', 'Malagasy-Latin1', 'Malay_BahasaMelayu-Latin1', 'Maltese-UTF8', 'Mam-Latin1', 'Maninka-UTF8', 'Maori-Latin1', 'Mapudungun_Mapuzgun-Latin1', 'Mapudungun_Mapuzgun-UTF8', 'Marshallese-Latin1', 'Matses-Latin1', 'Mayan_Yucateco-Latin1', 'Mazahua_Jnatrjo-UTF8', 'Mazateco-Latin1', 'Mende-UTF8', 'Mikmaq_Micmac-Mikmaq-Latin1', 'Minangkabau-Latin1', 'Miskito_Miskito-Latin1', 'Mixteco-Latin1', 'Mongolian_Khalkha-Cyrillic', 'Mongolian_Khalkha-UTF8', 'Moore_More-UTF8', 'Nahuatl-Latin1', 'Ndebele-Latin1', 'Nepali-UTF8', 'Ngangela_Nyemba-Latin1', 'NigerianPidginEnglish-Latin1', 'Nomatsiguenga-Latin1', 'NorthernSotho_Pedi-Sepedi-Latin1', 'Norwegian-Latin1', 'Norwegian_Norsk-Bokmal-Latin1', 'Norwegian_Norsk-Nynorsk-Latin1', 'Nyanja_Chechewa-Latin1', 'Nyanja_Chinyanja-Latin1', 'Nzema-UTF8', 'OccitanAuvergnat-Latin1', 'OccitanLanguedocien-Latin1', 'Oromiffa_AfaanOromo-Latin1', 'Osetin_Ossetian-UTF8', 'Oshiwambo_Ndonga-Latin1', 'Otomi_Nahnu-Latin1', 'Paez-Latin1', 'Palauan-Latin1', 'Peuhl-UTF8', 'Picard-Latin1', 'Pipil-Latin1', 'Polish-Latin2', 'Polish_Polski-Latin2', 'Ponapean-Latin1', 'Portuguese_Portugues-Latin1', 'Pulaar-UTF8', 'Punjabi_Panjabi-UTF8', 'Purhepecha-UTF8', 'Qechi_Kekchi-Latin1', 'Quechua-Latin1', 'Quichua-Latin1', 'Rarotongan_MaoriCookIslands-Latin1', 'Rhaeto-Romance_Rumantsch-Latin1', 'Romani-Latin1', 'Romani-UTF8', 'Romanian-Latin2', 'Romanian_Romana-Latin2', 'Rukonzo_Konjo-Latin1', 'Rundi_Kirundi-Latin1', 'Runyankore-rukiga_Nkore-kiga-Latin1', 'Russian-Cyrillic', 'Russian-UTF8', 'Russian_Russky-Cyrillic', 'Russian_Russky-UTF8', 'Sami_Lappish-UTF8', 'Sammarinese-Latin1', 'Samoan-Latin1', 'Sango_Sangho-Latin1', 'Sanskrit-UTF8', 'Saraiki-UTF8', 'Sardinian-Latin1', 'ScottishGaelic_GaidhligAlbanach-Latin1', 'Seereer-UTF8', 'Serbian_Srpski-Cyrillic', 'Serbian_Srpski-Latin2', 'Serbian_Srpski-UTF8', 'Sharanahua-Latin1', 'Shipibo-Conibo-Latin1', 'Shona-Latin1', 'Sinhala-UTF8', 'Siswati-Latin1', 'Slovak-Latin2', 'Slovak_Slovencina-Latin2', 'Slovenian_Slovenscina-Latin2', 'SolomonsPidgin_Pijin-Latin1', 'Somali-Latin1', 'Soninke_Soninkanxaane-UTF8', 'Sorbian-Latin2', 'SouthernSotho_Sotho-Sesotho-Sutu-Sesutu-Latin1', 'Spanish-Latin1', 'Spanish_Espanol-Latin1', 'Sukuma-Latin1', 'Sundanese-Latin1', 'Sussu_Soussou-Sosso-Soso-Susu-UTF8', 'Swaheli-Latin1', 'Swahili_Kiswahili-Latin1', 'Swedish_Svenska-Latin1', 'Tahitian-UTF8', 'Tenek_Huasteco-Latin1', 'Tetum-Latin1', 'Themne_Temne-UTF8', 'Tiv-Latin1', 'Toba-UTF8', 'Tojol-abal-Latin1', 'TokPisin-Latin1', 'Tonga-Latin1', 'Tongan_Tonga-Latin1', 'Totonaco-Latin1', 'Trukese_Chuuk-Latin1', 'Turkish_Turkce-Turkish', 'Turkish_Turkce-UTF8', 'Tzeltal-Latin1', 'Tzotzil-Latin1', 'Uighur_Uyghur-Latin1', 'Uighur_Uyghur-UTF8', 'Ukrainian-Cyrillic', 'Ukrainian-UTF8', 'Umbundu-Latin1', 'Urarina-Latin1', 'Uzbek-Latin1', 'Vietnamese-ALRN-UTF8', 'Vietnamese-UTF8', 'Vlach-Latin1', 'Walloon_Wallon-Latin1', 'Wama-UTF8', 'Waray-Latin1', 'Wayuu-Latin1', 'Welsh_Cymraeg-Latin1', 'WesternSotho_Tswana-Setswana-Latin1', 'Wolof-Latin1', 'Xhosa-Latin1', 'Yagua-Latin1', 'Yao-Latin1', 'Yapese-Latin1', 'Yoruba-UTF8', 'Zapoteco-Latin1', 'Zapoteco-SanLucasQuiavini-Latin1', 'Zhuang-Latin1', 'Zulu-Latin1']\n"
          ]
        }
      ],
      "source": [
        "nltk.download('udhr')\n",
        "print(nltk.corpus.udhr.fileids())"
      ]
    },
    {
      "cell_type": "markdown",
      "metadata": {
        "id": "QlOjyrNUUJu0"
      },
      "source": [
        "Let's use a conditional frequency distribution to examine the differences<br>\n",
        "in word lengths for a selection of languages<br>\n",
        "You can change the name of the languages to plot the results for the languages of your choice<br>\n",
        "Just make sure you include the exact filename for the language you want."
      ]
    },
    {
      "cell_type": "code",
      "execution_count": 76,
      "metadata": {
        "id": "FSup9AfWUJu0"
      },
      "outputs": [],
      "source": [
        "from nltk.corpus import udhr"
      ]
    },
    {
      "cell_type": "code",
      "execution_count": 78,
      "metadata": {
        "colab": {
          "base_uri": "https://localhost:8080/",
          "height": 282
        },
        "id": "yrz72BdQUJu0",
        "outputId": "0cf84c9b-d322-4064-8bb2-87b32bf912b1"
      },
      "outputs": [
        {
          "output_type": "display_data",
          "data": {
            "text/plain": [
              "<Figure size 432x288 with 1 Axes>"
            ],
            "image/png": "[encoded data removed]"
          },
          "metadata": {
            "needs_background": "light"
          }
        }
      ],
      "source": [
        "languages = ['Achehnese-Latin1', 'Afrikaans-Latin1', 'Danish_Dansk-Latin1', 'Filipino_Tagalog-Latin1', 'Galician_Galego-Latin1']\n",
        "cfd = nltk.ConditionalFreqDist(\n",
        "    (lang, len(word))\n",
        "    for lang in languages\n",
        "    for word in udhr.words(lang))\n",
        "cfd.plot(cumulative=True)"
      ]
    }
  ],
  "metadata": {
    "kernelspec": {
      "display_name": "Python 3",
      "language": "python",
      "name": "python3"
    },
    "language_info": {
      "codemirror_mode": {
        "name": "ipython",
        "version": 3
      },
      "file_extension": ".py",
      "mimetype": "text/x-python",
      "name": "python",
      "nbconvert_exporter": "python",
      "pygments_lexer": "ipython3",
      "version": "3.6.4"
    },
    "colab": {
      "name": "LING_490_Lab_4.ipynb",
      "provenance": [],
      "include_colab_link": true
    }
  },
  "nbformat": 4,
  "nbformat_minor": 0
}