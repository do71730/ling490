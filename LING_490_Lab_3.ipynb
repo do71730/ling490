{
  "cells": [
    {
      "cell_type": "markdown",
      "metadata": {
        "id": "view-in-github",
        "colab_type": "text"
      },
      "source": [
        "<a href=\"https://colab.research.google.com/github/do71730/ling490/blob/main/LING_490_Lab_3.ipynb\" target=\"_parent\"><img src=\"https://colab.research.google.com/assets/colab-badge.svg\" alt=\"Open In Colab\"/></a>"
      ]
    },
    {
      "cell_type": "markdown",
      "metadata": {
        "id": "cVRF2XQ5NsZs"
      },
      "source": [
        "Welcome to Lab #2<br>\n",
        "<br>\n",
        "Lab #2 follows the format of chapter 2 in the NLTK book"
      ]
    },
    {
      "cell_type": "code",
      "execution_count": null,
      "metadata": {
        "id": "BVL_SW3RNsZ3"
      },
      "outputs": [],
      "source": [
        "    # NLTK Book Chapter 2 available here: https://www.nltk.org/book/ch02.html\n",
        "# You can follow along with the book and run the code that it shows from this file\n",
        "# You can then modify the code so you can search for the items of your choice\n",
        "# There is a lot of extra material here, but you need to do the 7 EXERCISES to\n",
        "# complete the lab.\n",
        "# The EXERCISES are found throughout the lab. They appear in context with the corpus\n",
        "# or tool that you will be using\n",
        "# I will also upload a video walk-through for the EXERCISES and another for\n",
        "# the extra material to help contextualize everything\n",
        "#\n",
        "#\n",
        "# Chapter 2 - Accessing Text Corpora and Lexical Resources\n",
        "#\n",
        "# Main question that the chapter addresses is:\n",
        "# What are some useful text corpora and lexical resources, and how can we access them with Python?\n",
        "#\n",
        "# The text corpora and lexical resources are all inside NLTK. You can even find the specific texts and read them if you look\n",
        "# for them using Spotlight on mac or Windows 10, I hear. You can also look up the file names in Finder or Explorer.\n",
        "#\n",
        "# Structure of Chapter 2\n",
        "#\n",
        "# 1 Accessing text corpora\n",
        "# 1.1 Gutenberg corpus\n",
        "# 1.2 Web and chat text\n",
        "# 1.3 Brown corpus\n",
        "# 1.4 Reuters corpus\n",
        "# 1.5 Inaugural address corpus\n",
        "# 1.6 Annotated text corpora in NLTK\n",
        "# \tCheck out Table 1.2 for a list of available corpora\n",
        "# 1.7 Corpora in other languages\n",
        "# 1.8 Text corpus structure\n",
        "# \tCheck out Table 1.3 for a list of useful functions\n",
        "#\n",
        "# 2 Conditional frequency distributions\n",
        "# 2.1 Conditions and events\n",
        "# 2.2 Counting words by genre\n",
        "# 2.3 Plotting and tabulating distributions\n",
        "# \tCheck out Table 2.1 for a list of useful functions\n",
        "#\n",
        "# 4 Lexical Resources\n",
        "# 4.1 Wordlist corpora\n",
        "# \tstop words\n",
        "# 4.3 Comparative wordlists\n",
        "# 4.4 Shoebox and Toolbox Lexicons\n",
        "# 5 WordNet\n",
        "# 5.1 Sense and synonyms\n",
        "# 5.2 The WordNet Hierarchy\n",
        "# 5.3 More Lexical Relations\n",
        "# 5.4 Semantic similarity"
      ]
    },
    {
      "cell_type": "markdown",
      "metadata": {
        "id": "f3sQHoinNsZ8"
      },
      "source": [
        "1 Accessing text corpora"
      ]
    },
    {
      "cell_type": "markdown",
      "metadata": {
        "id": "GsvAH6JeNsZ9"
      },
      "source": [
        "EXERCISE 1<br>\n",
        "Access 2 of the following corpora found in 1-1.5<br>\n",
        "In doing so, access 2 texts in each corpus<br>\n",
        "Use 2 of the 16 functions we learned in Lab #2 to analyze the 2 texts in each corpus<br>\n",
        "I would definitely suggest trying the 4 functions I mentioned in class:<br>\n",
        "      Lexical dispersion<br>\n",
        "      Frequency distribution<br>\n",
        "      Lexical diversity<br>\n",
        "      Collocations"
      ]
    },
    {
      "cell_type": "markdown",
      "metadata": {
        "id": "ZMgpl1YcNsZ-"
      },
      "source": [
        "1.1 Gutenberg corpus"
      ]
    },
    {
      "cell_type": "markdown",
      "metadata": {
        "id": "chPCD5zhNsZ_"
      },
      "source": [
        "Import NLTK and ask for the NLTK corpus package with the gutenberg<br>\n",
        "corpus."
      ]
    },
    {
      "cell_type": "code",
      "execution_count": null,
      "metadata": {
        "id": "8lXwmMhMNsaA"
      },
      "outputs": [],
      "source": [
        "import nltk\n"
      ]
    },
    {
      "cell_type": "markdown",
      "metadata": {
        "id": "JbdirQNhNsaB"
      },
      "source": [
        "Print a list of the files in the gutenberg corpus<br>\n",
        "These are the texts available to analyze"
      ]
    },
    {
      "cell_type": "code",
      "execution_count": null,
      "metadata": {
        "colab": {
          "base_uri": "https://localhost:8080/"
        },
        "id": "ObrqCgUkNsaC",
        "outputId": "f73762a2-4a4f-48ea-a7c2-997b46ad8be9"
      },
      "outputs": [
        {
          "output_type": "stream",
          "name": "stdout",
          "text": [
            "['austen-emma.txt', 'austen-persuasion.txt', 'austen-sense.txt', 'bible-kjv.txt', 'blake-poems.txt', 'bryant-stories.txt', 'burgess-busterbrown.txt', 'carroll-alice.txt', 'chesterton-ball.txt', 'chesterton-brown.txt', 'chesterton-thursday.txt', 'edgeworth-parents.txt', 'melville-moby_dick.txt', 'milton-paradise.txt', 'shakespeare-caesar.txt', 'shakespeare-hamlet.txt', 'shakespeare-macbeth.txt', 'whitman-leaves.txt']\n"
          ]
        }
      ],
      "source": [
        "print(nltk.corpus.gutenberg.fileids())"
      ]
    },
    {
      "cell_type": "markdown",
      "metadata": {
        "id": "_ZjeZZzDNsaD"
      },
      "source": [
        "Import the gutenberg corpus<br>\n",
        "This gives us access to all of the files we asked to print above"
      ]
    },
    {
      "cell_type": "code",
      "execution_count": null,
      "metadata": {
        "id": "XmEaZKheNsaE"
      },
      "outputs": [],
      "source": [
        "from nltk.corpus import gutenberg"
      ]
    },
    {
      "cell_type": "markdown",
      "metadata": {
        "id": "FyUf-bYZNsaF"
      },
      "source": [
        "Select a text to work with<br>\n",
        "To do this we create a new object \"emma\" and we ask for the novel Emma by Jane Austen<br>\n",
        "Notice the \".words\" This asks for the text to be tokenized into words"
      ]
    },
    {
      "cell_type": "code",
      "execution_count": null,
      "metadata": {
        "id": "uP9ii6Y3NsaF"
      },
      "outputs": [],
      "source": [
        "emma = gutenberg.words('austen-emma.txt')\n",
        "alice = gutenberg.words('carroll-alice.txt')"
      ]
    },
    {
      "cell_type": "markdown",
      "metadata": {
        "id": "O68U-iNTNsaG"
      },
      "source": [
        "Check to see that your new object exists<br>\n",
        "This will print the text already separated into words"
      ]
    },
    {
      "cell_type": "code",
      "execution_count": null,
      "metadata": {
        "colab": {
          "base_uri": "https://localhost:8080/"
        },
        "id": "Nsn1b4ZYNsaG",
        "outputId": "c9429863-43ca-4cd3-880b-d6bebd9b0317"
      },
      "outputs": [
        {
          "output_type": "stream",
          "name": "stdout",
          "text": [
            "['[', 'Emma', 'by', 'Jane', 'Austen', '1816', ']', ...]\n",
            "['[', 'Alice', \"'\", 's', 'Adventures', 'in', ...]\n"
          ]
        }
      ],
      "source": [
        "print(emma)\n",
        "print(alice)"
      ]
    },
    {
      "cell_type": "markdown",
      "metadata": {
        "id": "lEGC1YbkNsaH"
      },
      "source": [
        "Write a function to calculate the lexical diversity of a text"
      ]
    },
    {
      "cell_type": "code",
      "execution_count": null,
      "metadata": {
        "id": "Ci3OjRluNsaH"
      },
      "outputs": [],
      "source": [
        "def lexical_diversity(text):\n",
        "    return len(text) / len(set(text))"
      ]
    },
    {
      "cell_type": "markdown",
      "metadata": {
        "id": "2eY8pUIyNsaH"
      },
      "source": [
        "Try your function out on \"emma\""
      ]
    },
    {
      "cell_type": "code",
      "execution_count": null,
      "metadata": {
        "colab": {
          "base_uri": "https://localhost:8080/"
        },
        "id": "2W6lyH9-NsaI",
        "outputId": "01cd65c7-d914-4c9a-a6c6-8cf3a259cb29"
      },
      "outputs": [
        {
          "output_type": "stream",
          "name": "stdout",
          "text": [
            "24.63538599411087\n"
          ]
        }
      ],
      "source": [
        "print(lexical_diversity(emma))"
      ]
    },
    {
      "cell_type": "markdown",
      "metadata": {
        "id": "CD8kWh45NsaI"
      },
      "source": [
        "Try your function out on \"alice\""
      ]
    },
    {
      "cell_type": "code",
      "execution_count": null,
      "metadata": {
        "colab": {
          "base_uri": "https://localhost:8080/"
        },
        "id": "YOJv0ZqZNsaI",
        "outputId": "76dc2599-1289-426a-f0ee-a75a9406ea30"
      },
      "outputs": [
        {
          "output_type": "stream",
          "name": "stdout",
          "text": [
            "11.309681697612731\n"
          ]
        }
      ],
      "source": [
        "print(lexical_diversity(alice))"
      ]
    },
    {
      "cell_type": "markdown",
      "metadata": {
        "id": "HCSCe_6bNsaL"
      },
      "source": [
        "Frequency distributions<br>\n",
        "Let's count how often each word occurs in a text and rank them by frequency. In other<br>\n",
        "words, let's get its frequency distribution<br>\n",
        "Let's do it with the object \"emma\""
      ]
    },
    {
      "cell_type": "code",
      "execution_count": null,
      "metadata": {
        "colab": {
          "base_uri": "https://localhost:8080/"
        },
        "id": "xxWQTtE3NsaL",
        "outputId": "9b9b6e9c-baa9-40b5-a35c-0e2ca25a0679"
      },
      "outputs": [
        {
          "output_type": "stream",
          "name": "stdout",
          "text": [
            "<FreqDist with 7811 samples and 192427 outcomes>\n"
          ]
        }
      ],
      "source": [
        "fdist1 = nltk.FreqDist(emma)\n",
        "print(fdist1)"
      ]
    },
    {
      "cell_type": "markdown",
      "metadata": {
        "id": "UIPHxWipNsaM"
      },
      "source": [
        "Let's get the 50 most frequent words and count how many times each appears in a text<br>\n",
        "NOTE: The textbook uses different code that produced an error for me in this section so<br>\n",
        "I replaced it with code that worked."
      ]
    },
    {
      "cell_type": "code",
      "execution_count": null,
      "metadata": {
        "colab": {
          "base_uri": "https://localhost:8080/",
          "height": 655
        },
        "id": "p_aB_yFeNsaN",
        "outputId": "352ccda4-7f11-41d7-c4a4-77e483a45b61"
      },
      "outputs": [
        {
          "output_type": "execute_result",
          "data": {
            "text/plain": [
              "        0      1\n",
              "0       ,  11454\n",
              "1       .   6928\n",
              "2      to   5183\n",
              "3     the   4844\n",
              "4     and   4672\n",
              "5      of   4279\n",
              "6       I   3178\n",
              "7       a   3004\n",
              "8     was   2385\n",
              "9     her   2381\n",
              "10      ;   2199\n",
              "11     it   2128\n",
              "12     in   2118\n",
              "13    not   2101\n",
              "14      \"   2004\n",
              "15     be   1970\n",
              "16    she   1778\n",
              "17   that   1730\n",
              "18    you   1677\n",
              "19    had   1606\n",
              "20     as   1387\n",
              "21     --   1382\n",
              "22     he   1365\n",
              "23    for   1321\n",
              "24   have   1301\n",
              "25     is   1220\n",
              "26   with   1187\n",
              "27     Mr   1153\n",
              "28   very   1151\n",
              "29    but   1148\n",
              "30     .\"   1138\n",
              "31    his   1088\n",
              "32      '   1007\n",
              "33     at    997\n",
              "34      s    933\n",
              "35     so    924\n",
              "36   Emma    865\n",
              "37    all    835\n",
              "38  could    825\n",
              "39  would    815\n",
              "40   been    759\n",
              "41    him    758\n",
              "42    Mrs    699\n",
              "43    .--    685\n",
              "44     on    677\n",
              "45    any    651\n",
              "46     my    619\n",
              "47     no    616\n",
              "48   Miss    592\n",
              "49   were    591"
            ],
            "text/html": [
              "\n",
              "  <div id=\"df-c0e6ef70-e955-4b75-9d6d-495e6f17aaa3\">\n",
              "    <div class=\"colab-df-container\">\n",
              "      <div>\n",
              "<style scoped>\n",
              "    .dataframe tbody tr th:only-of-type {\n",
              "        vertical-align: middle;\n",
              "    }\n",
              "\n",
              "    .dataframe tbody tr th {\n",
              "        vertical-align: top;\n",
              "    }\n",
              "\n",
              "    .dataframe thead th {\n",
              "        text-align: right;\n",
              "    }\n",
              "</style>\n",
              "<table border=\"1\" class=\"dataframe\">\n",
              "  <thead>\n",
              "    <tr style=\"text-align: right;\">\n",
              "      <th></th>\n",
              "      <th>0</th>\n",
              "      <th>1</th>\n",
              "    </tr>\n",
              "  </thead>\n",
              "  <tbody>\n",
              "    <tr>\n",
              "      <th>0</th>\n",
              "      <td>,</td>\n",
              "      <td>11454</td>\n",
              "    </tr>\n",
              "    <tr>\n",
              "      <th>1</th>\n",
              "      <td>.</td>\n",
              "      <td>6928</td>\n",
              "    </tr>\n",
              "    <tr>\n",
              "      <th>2</th>\n",
              "      <td>to</td>\n",
              "      <td>5183</td>\n",
              "    </tr>\n",
              "    <tr>\n",
              "      <th>3</th>\n",
              "      <td>the</td>\n",
              "      <td>4844</td>\n",
              "    </tr>\n",
              "    <tr>\n",
              "      <th>4</th>\n",
              "      <td>and</td>\n",
              "      <td>4672</td>\n",
              "    </tr>\n",
              "    <tr>\n",
              "      <th>5</th>\n",
              "      <td>of</td>\n",
              "      <td>4279</td>\n",
              "    </tr>\n",
              "    <tr>\n",
              "      <th>6</th>\n",
              "      <td>I</td>\n",
              "      <td>3178</td>\n",
              "    </tr>\n",
              "    <tr>\n",
              "      <th>7</th>\n",
              "      <td>a</td>\n",
              "      <td>3004</td>\n",
              "    </tr>\n",
              "    <tr>\n",
              "      <th>8</th>\n",
              "      <td>was</td>\n",
              "      <td>2385</td>\n",
              "    </tr>\n",
              "    <tr>\n",
              "      <th>9</th>\n",
              "      <td>her</td>\n",
              "      <td>2381</td>\n",
              "    </tr>\n",
              "    <tr>\n",
              "      <th>10</th>\n",
              "      <td>;</td>\n",
              "      <td>2199</td>\n",
              "    </tr>\n",
              "    <tr>\n",
              "      <th>11</th>\n",
              "      <td>it</td>\n",
              "      <td>2128</td>\n",
              "    </tr>\n",
              "    <tr>\n",
              "      <th>12</th>\n",
              "      <td>in</td>\n",
              "      <td>2118</td>\n",
              "    </tr>\n",
              "    <tr>\n",
              "      <th>13</th>\n",
              "      <td>not</td>\n",
              "      <td>2101</td>\n",
              "    </tr>\n",
              "    <tr>\n",
              "      <th>14</th>\n",
              "      <td>\"</td>\n",
              "      <td>2004</td>\n",
              "    </tr>\n",
              "    <tr>\n",
              "      <th>15</th>\n",
              "      <td>be</td>\n",
              "      <td>1970</td>\n",
              "    </tr>\n",
              "    <tr>\n",
              "      <th>16</th>\n",
              "      <td>she</td>\n",
              "      <td>1778</td>\n",
              "    </tr>\n",
              "    <tr>\n",
              "      <th>17</th>\n",
              "      <td>that</td>\n",
              "      <td>1730</td>\n",
              "    </tr>\n",
              "    <tr>\n",
              "      <th>18</th>\n",
              "      <td>you</td>\n",
              "      <td>1677</td>\n",
              "    </tr>\n",
              "    <tr>\n",
              "      <th>19</th>\n",
              "      <td>had</td>\n",
              "      <td>1606</td>\n",
              "    </tr>\n",
              "    <tr>\n",
              "      <th>20</th>\n",
              "      <td>as</td>\n",
              "      <td>1387</td>\n",
              "    </tr>\n",
              "    <tr>\n",
              "      <th>21</th>\n",
              "      <td>--</td>\n",
              "      <td>1382</td>\n",
              "    </tr>\n",
              "    <tr>\n",
              "      <th>22</th>\n",
              "      <td>he</td>\n",
              "      <td>1365</td>\n",
              "    </tr>\n",
              "    <tr>\n",
              "      <th>23</th>\n",
              "      <td>for</td>\n",
              "      <td>1321</td>\n",
              "    </tr>\n",
              "    <tr>\n",
              "      <th>24</th>\n",
              "      <td>have</td>\n",
              "      <td>1301</td>\n",
              "    </tr>\n",
              "    <tr>\n",
              "      <th>25</th>\n",
              "      <td>is</td>\n",
              "      <td>1220</td>\n",
              "    </tr>\n",
              "    <tr>\n",
              "      <th>26</th>\n",
              "      <td>with</td>\n",
              "      <td>1187</td>\n",
              "    </tr>\n",
              "    <tr>\n",
              "      <th>27</th>\n",
              "      <td>Mr</td>\n",
              "      <td>1153</td>\n",
              "    </tr>\n",
              "    <tr>\n",
              "      <th>28</th>\n",
              "      <td>very</td>\n",
              "      <td>1151</td>\n",
              "    </tr>\n",
              "    <tr>\n",
              "      <th>29</th>\n",
              "      <td>but</td>\n",
              "      <td>1148</td>\n",
              "    </tr>\n",
              "    <tr>\n",
              "      <th>30</th>\n",
              "      <td>.\"</td>\n",
              "      <td>1138</td>\n",
              "    </tr>\n",
              "    <tr>\n",
              "      <th>31</th>\n",
              "      <td>his</td>\n",
              "      <td>1088</td>\n",
              "    </tr>\n",
              "    <tr>\n",
              "      <th>32</th>\n",
              "      <td>'</td>\n",
              "      <td>1007</td>\n",
              "    </tr>\n",
              "    <tr>\n",
              "      <th>33</th>\n",
              "      <td>at</td>\n",
              "      <td>997</td>\n",
              "    </tr>\n",
              "    <tr>\n",
              "      <th>34</th>\n",
              "      <td>s</td>\n",
              "      <td>933</td>\n",
              "    </tr>\n",
              "    <tr>\n",
              "      <th>35</th>\n",
              "      <td>so</td>\n",
              "      <td>924</td>\n",
              "    </tr>\n",
              "    <tr>\n",
              "      <th>36</th>\n",
              "      <td>Emma</td>\n",
              "      <td>865</td>\n",
              "    </tr>\n",
              "    <tr>\n",
              "      <th>37</th>\n",
              "      <td>all</td>\n",
              "      <td>835</td>\n",
              "    </tr>\n",
              "    <tr>\n",
              "      <th>38</th>\n",
              "      <td>could</td>\n",
              "      <td>825</td>\n",
              "    </tr>\n",
              "    <tr>\n",
              "      <th>39</th>\n",
              "      <td>would</td>\n",
              "      <td>815</td>\n",
              "    </tr>\n",
              "    <tr>\n",
              "      <th>40</th>\n",
              "      <td>been</td>\n",
              "      <td>759</td>\n",
              "    </tr>\n",
              "    <tr>\n",
              "      <th>41</th>\n",
              "      <td>him</td>\n",
              "      <td>758</td>\n",
              "    </tr>\n",
              "    <tr>\n",
              "      <th>42</th>\n",
              "      <td>Mrs</td>\n",
              "      <td>699</td>\n",
              "    </tr>\n",
              "    <tr>\n",
              "      <th>43</th>\n",
              "      <td>.--</td>\n",
              "      <td>685</td>\n",
              "    </tr>\n",
              "    <tr>\n",
              "      <th>44</th>\n",
              "      <td>on</td>\n",
              "      <td>677</td>\n",
              "    </tr>\n",
              "    <tr>\n",
              "      <th>45</th>\n",
              "      <td>any</td>\n",
              "      <td>651</td>\n",
              "    </tr>\n",
              "    <tr>\n",
              "      <th>46</th>\n",
              "      <td>my</td>\n",
              "      <td>619</td>\n",
              "    </tr>\n",
              "    <tr>\n",
              "      <th>47</th>\n",
              "      <td>no</td>\n",
              "      <td>616</td>\n",
              "    </tr>\n",
              "    <tr>\n",
              "      <th>48</th>\n",
              "      <td>Miss</td>\n",
              "      <td>592</td>\n",
              "    </tr>\n",
              "    <tr>\n",
              "      <th>49</th>\n",
              "      <td>were</td>\n",
              "      <td>591</td>\n",
              "    </tr>\n",
              "  </tbody>\n",
              "</table>\n",
              "</div>\n",
              "      <button class=\"colab-df-convert\" onclick=\"convertToInteractive('df-c0e6ef70-e955-4b75-9d6d-495e6f17aaa3')\"\n",
              "              title=\"Convert this dataframe to an interactive table.\"\n",
              "              style=\"display:none;\">\n",
              "        \n",
              "  <svg xmlns=\"http://www.w3.org/2000/svg\" height=\"24px\"viewBox=\"0 0 24 24\"\n",
              "       width=\"24px\">\n",
              "    <path d=\"M0 0h24v24H0V0z\" fill=\"none\"/>\n",
              "    <path d=\"M18.56 5.44l.94 2.06.94-2.06 2.06-.94-2.06-.94-.94-2.06-.94 2.06-2.06.94zm-11 1L8.5 8.5l.94-2.06 2.06-.94-2.06-.94L8.5 2.5l-.94 2.06-2.06.94zm10 10l.94 2.06.94-2.06 2.06-.94-2.06-.94-.94-2.06-.94 2.06-2.06.94z\"/><path d=\"M17.41 7.96l-1.37-1.37c-.4-.4-.92-.59-1.43-.59-.52 0-1.04.2-1.43.59L10.3 9.45l-7.72 7.72c-.78.78-.78 2.05 0 2.83L4 21.41c.39.39.9.59 1.41.59.51 0 1.02-.2 1.41-.59l7.78-7.78 2.81-2.81c.8-.78.8-2.07 0-2.86zM5.41 20L4 18.59l7.72-7.72 1.47 1.35L5.41 20z\"/>\n",
              "  </svg>\n",
              "      </button>\n",
              "      \n",
              "  <style>\n",
              "    .colab-df-container {\n",
              "      display:flex;\n",
              "      flex-wrap:wrap;\n",
              "      gap: 12px;\n",
              "    }\n",
              "\n",
              "    .colab-df-convert {\n",
              "      background-color: #E8F0FE;\n",
              "      border: none;\n",
              "      border-radius: 50%;\n",
              "      cursor: pointer;\n",
              "      display: none;\n",
              "      fill: #1967D2;\n",
              "      height: 32px;\n",
              "      padding: 0 0 0 0;\n",
              "      width: 32px;\n",
              "    }\n",
              "\n",
              "    .colab-df-convert:hover {\n",
              "      background-color: #E2EBFA;\n",
              "      box-shadow: 0px 1px 2px rgba(60, 64, 67, 0.3), 0px 1px 3px 1px rgba(60, 64, 67, 0.15);\n",
              "      fill: #174EA6;\n",
              "    }\n",
              "\n",
              "    [theme=dark] .colab-df-convert {\n",
              "      background-color: #3B4455;\n",
              "      fill: #D2E3FC;\n",
              "    }\n",
              "\n",
              "    [theme=dark] .colab-df-convert:hover {\n",
              "      background-color: #434B5C;\n",
              "      box-shadow: 0px 1px 3px 1px rgba(0, 0, 0, 0.15);\n",
              "      filter: drop-shadow(0px 1px 2px rgba(0, 0, 0, 0.3));\n",
              "      fill: #FFFFFF;\n",
              "    }\n",
              "  </style>\n",
              "\n",
              "      <script>\n",
              "        const buttonEl =\n",
              "          document.querySelector('#df-c0e6ef70-e955-4b75-9d6d-495e6f17aaa3 button.colab-df-convert');\n",
              "        buttonEl.style.display =\n",
              "          google.colab.kernel.accessAllowed ? 'block' : 'none';\n",
              "\n",
              "        async function convertToInteractive(key) {\n",
              "          const element = document.querySelector('#df-c0e6ef70-e955-4b75-9d6d-495e6f17aaa3');\n",
              "          const dataTable =\n",
              "            await google.colab.kernel.invokeFunction('convertToInteractive',\n",
              "                                                     [key], {});\n",
              "          if (!dataTable) return;\n",
              "\n",
              "          const docLinkHtml = 'Like what you see? Visit the ' +\n",
              "            '<a target=\"_blank\" href=https://colab.research.google.com/notebooks/data_table.ipynb>data table notebook</a>'\n",
              "            + ' to learn more about interactive tables.';\n",
              "          element.innerHTML = '';\n",
              "          dataTable['output_type'] = 'display_data';\n",
              "          await google.colab.output.renderOutput(dataTable, element);\n",
              "          const docLink = document.createElement('div');\n",
              "          docLink.innerHTML = docLinkHtml;\n",
              "          element.appendChild(docLink);\n",
              "        }\n",
              "      </script>\n",
              "    </div>\n",
              "  </div>\n",
              "  "
            ]
          },
          "metadata": {},
          "execution_count": 16
        }
      ],
      "source": [
        "import pandas as pd\n",
        "df = pd.DataFrame(fdist1.most_common(50))\n",
        "df"
      ]
    },
    {
      "cell_type": "markdown",
      "metadata": {
        "id": "wZBLRoEENsaN"
      },
      "source": [
        "Plot the frequency distribution of words in a text<br>\n",
        "Pay attention to the curve of the graph. This curve is pretty consistent across texts.<br>\n",
        "For more info look into Ziph's law"
      ]
    },
    {
      "cell_type": "code",
      "execution_count": null,
      "metadata": {
        "colab": {
          "base_uri": "https://localhost:8080/",
          "height": 321
        },
        "id": "PbhCCLN-NsaN",
        "outputId": "247df9fa-58d3-49a2-a4df-9ee203248200"
      },
      "outputs": [
        {
          "output_type": "display_data",
          "data": {
            "text/plain": [
              "<Figure size 432x288 with 1 Axes>"
            ],
            "image/png": "[encoded data removed]"
          },
          "metadata": {
            "needs_background": "light"
          }
        },
        {
          "output_type": "stream",
          "name": "stdout",
          "text": [
            "None\n"
          ]
        }
      ],
      "source": [
        "print(fdist1.plot(50, cumulative=True))"
      ]
    },
    {
      "cell_type": "markdown",
      "metadata": {
        "id": "uGu6zlsvNsaO"
      },
      "source": [
        "Back to the textbook #"
      ]
    },
    {
      "cell_type": "markdown",
      "metadata": {
        "id": "G1pkC7KkNsaO"
      },
      "source": [
        "Let's get some basic information about the texts in the Gutenberg corpus<br>\n",
        "This program displays three statistics for each text:<br>\n",
        "average word length, average sentence length,<br>\n",
        "and the number of times each vocabulary item appears in the text on average (our lexical diversity score)."
      ]
    },
    {
      "cell_type": "code",
      "execution_count": null,
      "metadata": {
        "id": "V4Uir2coNsaO"
      },
      "outputs": [],
      "source": [
        "\n",
        "textInfo = []\n",
        "for fileid in gutenberg.fileids():\n",
        "    text = []\n",
        "    num_chars = len(gutenberg.raw(fileid))\n",
        "    num_words = len(gutenberg.words(fileid))\n",
        "    num_sents = len(gutenberg.sents(fileid))\n",
        "    num_vocab = len(set(w.lower() for w in gutenberg.words(fileid)))\n",
        "    text = [round(num_chars / num_words), round(num_words / num_sents), round(num_words / num_vocab), fileid]\n",
        "    textInfo.append(text)\n",
        "    "
      ]
    },
    {
      "cell_type": "markdown",
      "metadata": {
        "id": "2t8ySUTfNsaO"
      },
      "source": [
        "Let's get the program to print its output for us"
      ]
    },
    {
      "cell_type": "code",
      "execution_count": null,
      "metadata": {
        "colab": {
          "base_uri": "https://localhost:8080/",
          "height": 495
        },
        "id": "CZKZ4w3lNsaP",
        "outputId": "c342d6e1-2a63-49f0-c20a-b35710261e5e"
      },
      "outputs": [
        {
          "output_type": "execute_result",
          "data": {
            "text/plain": [
              "    0   1   2                        3\n",
              "0   5  25  26          austen-emma.txt\n",
              "1   5  26  17    austen-persuasion.txt\n",
              "2   5  28  22         austen-sense.txt\n",
              "3   4  34  79            bible-kjv.txt\n",
              "4   5  19   5          blake-poems.txt\n",
              "5   4  19  14       bryant-stories.txt\n",
              "6   4  18  12  burgess-busterbrown.txt\n",
              "7   4  20  13        carroll-alice.txt\n",
              "8   5  20  12      chesterton-ball.txt\n",
              "9   5  23  11     chesterton-brown.txt\n",
              "10  5  18  11  chesterton-thursday.txt\n",
              "11  4  21  25    edgeworth-parents.txt\n",
              "12  5  26  15   melville-moby_dick.txt\n",
              "13  5  52  11      milton-paradise.txt\n",
              "14  4  12   9   shakespeare-caesar.txt\n",
              "15  4  12   8   shakespeare-hamlet.txt\n",
              "16  4  12   7  shakespeare-macbeth.txt\n",
              "17  5  36  12       whitman-leaves.txt"
            ],
            "text/html": [
              "\n",
              "  <div id=\"df-25070869-ebc4-418b-8794-a2d57b3595d3\">\n",
              "    <div class=\"colab-df-container\">\n",
              "      <div>\n",
              "<style scoped>\n",
              "    .dataframe tbody tr th:only-of-type {\n",
              "        vertical-align: middle;\n",
              "    }\n",
              "\n",
              "    .dataframe tbody tr th {\n",
              "        vertical-align: top;\n",
              "    }\n",
              "\n",
              "    .dataframe thead th {\n",
              "        text-align: right;\n",
              "    }\n",
              "</style>\n",
              "<table border=\"1\" class=\"dataframe\">\n",
              "  <thead>\n",
              "    <tr style=\"text-align: right;\">\n",
              "      <th></th>\n",
              "      <th>0</th>\n",
              "      <th>1</th>\n",
              "      <th>2</th>\n",
              "      <th>3</th>\n",
              "    </tr>\n",
              "  </thead>\n",
              "  <tbody>\n",
              "    <tr>\n",
              "      <th>0</th>\n",
              "      <td>5</td>\n",
              "      <td>25</td>\n",
              "      <td>26</td>\n",
              "      <td>austen-emma.txt</td>\n",
              "    </tr>\n",
              "    <tr>\n",
              "      <th>1</th>\n",
              "      <td>5</td>\n",
              "      <td>26</td>\n",
              "      <td>17</td>\n",
              "      <td>austen-persuasion.txt</td>\n",
              "    </tr>\n",
              "    <tr>\n",
              "      <th>2</th>\n",
              "      <td>5</td>\n",
              "      <td>28</td>\n",
              "      <td>22</td>\n",
              "      <td>austen-sense.txt</td>\n",
              "    </tr>\n",
              "    <tr>\n",
              "      <th>3</th>\n",
              "      <td>4</td>\n",
              "      <td>34</td>\n",
              "      <td>79</td>\n",
              "      <td>bible-kjv.txt</td>\n",
              "    </tr>\n",
              "    <tr>\n",
              "      <th>4</th>\n",
              "      <td>5</td>\n",
              "      <td>19</td>\n",
              "      <td>5</td>\n",
              "      <td>blake-poems.txt</td>\n",
              "    </tr>\n",
              "    <tr>\n",
              "      <th>5</th>\n",
              "      <td>4</td>\n",
              "      <td>19</td>\n",
              "      <td>14</td>\n",
              "      <td>bryant-stories.txt</td>\n",
              "    </tr>\n",
              "    <tr>\n",
              "      <th>6</th>\n",
              "      <td>4</td>\n",
              "      <td>18</td>\n",
              "      <td>12</td>\n",
              "      <td>burgess-busterbrown.txt</td>\n",
              "    </tr>\n",
              "    <tr>\n",
              "      <th>7</th>\n",
              "      <td>4</td>\n",
              "      <td>20</td>\n",
              "      <td>13</td>\n",
              "      <td>carroll-alice.txt</td>\n",
              "    </tr>\n",
              "    <tr>\n",
              "      <th>8</th>\n",
              "      <td>5</td>\n",
              "      <td>20</td>\n",
              "      <td>12</td>\n",
              "      <td>chesterton-ball.txt</td>\n",
              "    </tr>\n",
              "    <tr>\n",
              "      <th>9</th>\n",
              "      <td>5</td>\n",
              "      <td>23</td>\n",
              "      <td>11</td>\n",
              "      <td>chesterton-brown.txt</td>\n",
              "    </tr>\n",
              "    <tr>\n",
              "      <th>10</th>\n",
              "      <td>5</td>\n",
              "      <td>18</td>\n",
              "      <td>11</td>\n",
              "      <td>chesterton-thursday.txt</td>\n",
              "    </tr>\n",
              "    <tr>\n",
              "      <th>11</th>\n",
              "      <td>4</td>\n",
              "      <td>21</td>\n",
              "      <td>25</td>\n",
              "      <td>edgeworth-parents.txt</td>\n",
              "    </tr>\n",
              "    <tr>\n",
              "      <th>12</th>\n",
              "      <td>5</td>\n",
              "      <td>26</td>\n",
              "      <td>15</td>\n",
              "      <td>melville-moby_dick.txt</td>\n",
              "    </tr>\n",
              "    <tr>\n",
              "      <th>13</th>\n",
              "      <td>5</td>\n",
              "      <td>52</td>\n",
              "      <td>11</td>\n",
              "      <td>milton-paradise.txt</td>\n",
              "    </tr>\n",
              "    <tr>\n",
              "      <th>14</th>\n",
              "      <td>4</td>\n",
              "      <td>12</td>\n",
              "      <td>9</td>\n",
              "      <td>shakespeare-caesar.txt</td>\n",
              "    </tr>\n",
              "    <tr>\n",
              "      <th>15</th>\n",
              "      <td>4</td>\n",
              "      <td>12</td>\n",
              "      <td>8</td>\n",
              "      <td>shakespeare-hamlet.txt</td>\n",
              "    </tr>\n",
              "    <tr>\n",
              "      <th>16</th>\n",
              "      <td>4</td>\n",
              "      <td>12</td>\n",
              "      <td>7</td>\n",
              "      <td>shakespeare-macbeth.txt</td>\n",
              "    </tr>\n",
              "    <tr>\n",
              "      <th>17</th>\n",
              "      <td>5</td>\n",
              "      <td>36</td>\n",
              "      <td>12</td>\n",
              "      <td>whitman-leaves.txt</td>\n",
              "    </tr>\n",
              "  </tbody>\n",
              "</table>\n",
              "</div>\n",
              "      <button class=\"colab-df-convert\" onclick=\"convertToInteractive('df-25070869-ebc4-418b-8794-a2d57b3595d3')\"\n",
              "              title=\"Convert this dataframe to an interactive table.\"\n",
              "              style=\"display:none;\">\n",
              "        \n",
              "  <svg xmlns=\"http://www.w3.org/2000/svg\" height=\"24px\"viewBox=\"0 0 24 24\"\n",
              "       width=\"24px\">\n",
              "    <path d=\"M0 0h24v24H0V0z\" fill=\"none\"/>\n",
              "    <path d=\"M18.56 5.44l.94 2.06.94-2.06 2.06-.94-2.06-.94-.94-2.06-.94 2.06-2.06.94zm-11 1L8.5 8.5l.94-2.06 2.06-.94-2.06-.94L8.5 2.5l-.94 2.06-2.06.94zm10 10l.94 2.06.94-2.06 2.06-.94-2.06-.94-.94-2.06-.94 2.06-2.06.94z\"/><path d=\"M17.41 7.96l-1.37-1.37c-.4-.4-.92-.59-1.43-.59-.52 0-1.04.2-1.43.59L10.3 9.45l-7.72 7.72c-.78.78-.78 2.05 0 2.83L4 21.41c.39.39.9.59 1.41.59.51 0 1.02-.2 1.41-.59l7.78-7.78 2.81-2.81c.8-.78.8-2.07 0-2.86zM5.41 20L4 18.59l7.72-7.72 1.47 1.35L5.41 20z\"/>\n",
              "  </svg>\n",
              "      </button>\n",
              "      \n",
              "  <style>\n",
              "    .colab-df-container {\n",
              "      display:flex;\n",
              "      flex-wrap:wrap;\n",
              "      gap: 12px;\n",
              "    }\n",
              "\n",
              "    .colab-df-convert {\n",
              "      background-color: #E8F0FE;\n",
              "      border: none;\n",
              "      border-radius: 50%;\n",
              "      cursor: pointer;\n",
              "      display: none;\n",
              "      fill: #1967D2;\n",
              "      height: 32px;\n",
              "      padding: 0 0 0 0;\n",
              "      width: 32px;\n",
              "    }\n",
              "\n",
              "    .colab-df-convert:hover {\n",
              "      background-color: #E2EBFA;\n",
              "      box-shadow: 0px 1px 2px rgba(60, 64, 67, 0.3), 0px 1px 3px 1px rgba(60, 64, 67, 0.15);\n",
              "      fill: #174EA6;\n",
              "    }\n",
              "\n",
              "    [theme=dark] .colab-df-convert {\n",
              "      background-color: #3B4455;\n",
              "      fill: #D2E3FC;\n",
              "    }\n",
              "\n",
              "    [theme=dark] .colab-df-convert:hover {\n",
              "      background-color: #434B5C;\n",
              "      box-shadow: 0px 1px 3px 1px rgba(0, 0, 0, 0.15);\n",
              "      filter: drop-shadow(0px 1px 2px rgba(0, 0, 0, 0.3));\n",
              "      fill: #FFFFFF;\n",
              "    }\n",
              "  </style>\n",
              "\n",
              "      <script>\n",
              "        const buttonEl =\n",
              "          document.querySelector('#df-25070869-ebc4-418b-8794-a2d57b3595d3 button.colab-df-convert');\n",
              "        buttonEl.style.display =\n",
              "          google.colab.kernel.accessAllowed ? 'block' : 'none';\n",
              "\n",
              "        async function convertToInteractive(key) {\n",
              "          const element = document.querySelector('#df-25070869-ebc4-418b-8794-a2d57b3595d3');\n",
              "          const dataTable =\n",
              "            await google.colab.kernel.invokeFunction('convertToInteractive',\n",
              "                                                     [key], {});\n",
              "          if (!dataTable) return;\n",
              "\n",
              "          const docLinkHtml = 'Like what you see? Visit the ' +\n",
              "            '<a target=\"_blank\" href=https://colab.research.google.com/notebooks/data_table.ipynb>data table notebook</a>'\n",
              "            + ' to learn more about interactive tables.';\n",
              "          element.innerHTML = '';\n",
              "          dataTable['output_type'] = 'display_data';\n",
              "          await google.colab.output.renderOutput(dataTable, element);\n",
              "          const docLink = document.createElement('div');\n",
              "          docLink.innerHTML = docLinkHtml;\n",
              "          element.appendChild(docLink);\n",
              "        }\n",
              "      </script>\n",
              "    </div>\n",
              "  </div>\n",
              "  "
            ]
          },
          "metadata": {},
          "execution_count": 34
        }
      ],
      "source": [
        "#print(textInfo)\n",
        "df2 = pd.DataFrame(textInfo)\n",
        "df2"
      ]
    },
    {
      "cell_type": "markdown",
      "metadata": {
        "id": "tUYbqBlZNsaP"
      },
      "source": [
        "Let's see the collocations in \"Alice's Adventures in Wonderland\"<br>\n",
        "This is more involved than just calling the 'collocations' function like we did in Lab #2 with NLTK.book"
      ]
    },
    {
      "cell_type": "markdown",
      "metadata": {
        "id": "Qjskp4GqNsaP"
      },
      "source": [
        "Step 1<br>\n",
        "Import the collocation functions from nltk. The * means that we want everything in the 'collocations' functions"
      ]
    },
    {
      "cell_type": "code",
      "execution_count": null,
      "metadata": {
        "id": "aRXAagtbNsaP"
      },
      "outputs": [],
      "source": [
        "from nltk.collocations import *"
      ]
    },
    {
      "cell_type": "markdown",
      "metadata": {
        "id": "mOxpVqqRNsaP"
      },
      "source": [
        "Import tools from NLTK to find bigrams and association measures between words"
      ]
    },
    {
      "cell_type": "code",
      "execution_count": null,
      "metadata": {
        "id": "SKsfBmU9NsaQ"
      },
      "outputs": [],
      "source": [
        "from nltk.collocations import BigramCollocationFinder\n",
        "from nltk.metrics import BigramAssocMeasures"
      ]
    },
    {
      "cell_type": "markdown",
      "metadata": {
        "id": "qblO5GUWNsaQ"
      },
      "source": [
        "Select a text to work with and convert all of the words to lowercase"
      ]
    },
    {
      "cell_type": "code",
      "execution_count": null,
      "metadata": {
        "id": "AbAUvn-1NsaQ"
      },
      "outputs": [],
      "source": [
        "alice = [w.lower() for w in gutenberg.words('carroll-alice.txt')]"
      ]
    },
    {
      "cell_type": "markdown",
      "metadata": {
        "id": "JQoPbmRHNsaQ"
      },
      "source": [
        "Step 2<br>\n",
        "Find collocations<br>\n",
        "Find bigrams, which are pairs of words, and ask for 10 collocations"
      ]
    },
    {
      "cell_type": "code",
      "execution_count": null,
      "metadata": {
        "colab": {
          "base_uri": "https://localhost:8080/",
          "height": 322
        },
        "id": "gjXNWQfONsaR",
        "outputId": "6885da87-981b-4f69-b6f8-b370c6dd2b45"
      },
      "outputs": [
        {
          "output_type": "execute_result",
          "data": {
            "text/plain": [
              "       0       1\n",
              "0      .       '\n",
              "1      ,     and\n",
              "2     ,'    said\n",
              "3      '       t\n",
              "4      '       s\n",
              "5   mock  turtle\n",
              "6      *       *\n",
              "7   said     the\n",
              "8   said   alice\n",
              "9  march    hare"
            ],
            "text/html": [
              "\n",
              "  <div id=\"df-e3e14844-fc05-492f-8bb4-b207ce1d3191\">\n",
              "    <div class=\"colab-df-container\">\n",
              "      <div>\n",
              "<style scoped>\n",
              "    .dataframe tbody tr th:only-of-type {\n",
              "        vertical-align: middle;\n",
              "    }\n",
              "\n",
              "    .dataframe tbody tr th {\n",
              "        vertical-align: top;\n",
              "    }\n",
              "\n",
              "    .dataframe thead th {\n",
              "        text-align: right;\n",
              "    }\n",
              "</style>\n",
              "<table border=\"1\" class=\"dataframe\">\n",
              "  <thead>\n",
              "    <tr style=\"text-align: right;\">\n",
              "      <th></th>\n",
              "      <th>0</th>\n",
              "      <th>1</th>\n",
              "    </tr>\n",
              "  </thead>\n",
              "  <tbody>\n",
              "    <tr>\n",
              "      <th>0</th>\n",
              "      <td>.</td>\n",
              "      <td>'</td>\n",
              "    </tr>\n",
              "    <tr>\n",
              "      <th>1</th>\n",
              "      <td>,</td>\n",
              "      <td>and</td>\n",
              "    </tr>\n",
              "    <tr>\n",
              "      <th>2</th>\n",
              "      <td>,'</td>\n",
              "      <td>said</td>\n",
              "    </tr>\n",
              "    <tr>\n",
              "      <th>3</th>\n",
              "      <td>'</td>\n",
              "      <td>t</td>\n",
              "    </tr>\n",
              "    <tr>\n",
              "      <th>4</th>\n",
              "      <td>'</td>\n",
              "      <td>s</td>\n",
              "    </tr>\n",
              "    <tr>\n",
              "      <th>5</th>\n",
              "      <td>mock</td>\n",
              "      <td>turtle</td>\n",
              "    </tr>\n",
              "    <tr>\n",
              "      <th>6</th>\n",
              "      <td>*</td>\n",
              "      <td>*</td>\n",
              "    </tr>\n",
              "    <tr>\n",
              "      <th>7</th>\n",
              "      <td>said</td>\n",
              "      <td>the</td>\n",
              "    </tr>\n",
              "    <tr>\n",
              "      <th>8</th>\n",
              "      <td>said</td>\n",
              "      <td>alice</td>\n",
              "    </tr>\n",
              "    <tr>\n",
              "      <th>9</th>\n",
              "      <td>march</td>\n",
              "      <td>hare</td>\n",
              "    </tr>\n",
              "  </tbody>\n",
              "</table>\n",
              "</div>\n",
              "      <button class=\"colab-df-convert\" onclick=\"convertToInteractive('df-e3e14844-fc05-492f-8bb4-b207ce1d3191')\"\n",
              "              title=\"Convert this dataframe to an interactive table.\"\n",
              "              style=\"display:none;\">\n",
              "        \n",
              "  <svg xmlns=\"http://www.w3.org/2000/svg\" height=\"24px\"viewBox=\"0 0 24 24\"\n",
              "       width=\"24px\">\n",
              "    <path d=\"M0 0h24v24H0V0z\" fill=\"none\"/>\n",
              "    <path d=\"M18.56 5.44l.94 2.06.94-2.06 2.06-.94-2.06-.94-.94-2.06-.94 2.06-2.06.94zm-11 1L8.5 8.5l.94-2.06 2.06-.94-2.06-.94L8.5 2.5l-.94 2.06-2.06.94zm10 10l.94 2.06.94-2.06 2.06-.94-2.06-.94-.94-2.06-.94 2.06-2.06.94z\"/><path d=\"M17.41 7.96l-1.37-1.37c-.4-.4-.92-.59-1.43-.59-.52 0-1.04.2-1.43.59L10.3 9.45l-7.72 7.72c-.78.78-.78 2.05 0 2.83L4 21.41c.39.39.9.59 1.41.59.51 0 1.02-.2 1.41-.59l7.78-7.78 2.81-2.81c.8-.78.8-2.07 0-2.86zM5.41 20L4 18.59l7.72-7.72 1.47 1.35L5.41 20z\"/>\n",
              "  </svg>\n",
              "      </button>\n",
              "      \n",
              "  <style>\n",
              "    .colab-df-container {\n",
              "      display:flex;\n",
              "      flex-wrap:wrap;\n",
              "      gap: 12px;\n",
              "    }\n",
              "\n",
              "    .colab-df-convert {\n",
              "      background-color: #E8F0FE;\n",
              "      border: none;\n",
              "      border-radius: 50%;\n",
              "      cursor: pointer;\n",
              "      display: none;\n",
              "      fill: #1967D2;\n",
              "      height: 32px;\n",
              "      padding: 0 0 0 0;\n",
              "      width: 32px;\n",
              "    }\n",
              "\n",
              "    .colab-df-convert:hover {\n",
              "      background-color: #E2EBFA;\n",
              "      box-shadow: 0px 1px 2px rgba(60, 64, 67, 0.3), 0px 1px 3px 1px rgba(60, 64, 67, 0.15);\n",
              "      fill: #174EA6;\n",
              "    }\n",
              "\n",
              "    [theme=dark] .colab-df-convert {\n",
              "      background-color: #3B4455;\n",
              "      fill: #D2E3FC;\n",
              "    }\n",
              "\n",
              "    [theme=dark] .colab-df-convert:hover {\n",
              "      background-color: #434B5C;\n",
              "      box-shadow: 0px 1px 3px 1px rgba(0, 0, 0, 0.15);\n",
              "      filter: drop-shadow(0px 1px 2px rgba(0, 0, 0, 0.3));\n",
              "      fill: #FFFFFF;\n",
              "    }\n",
              "  </style>\n",
              "\n",
              "      <script>\n",
              "        const buttonEl =\n",
              "          document.querySelector('#df-e3e14844-fc05-492f-8bb4-b207ce1d3191 button.colab-df-convert');\n",
              "        buttonEl.style.display =\n",
              "          google.colab.kernel.accessAllowed ? 'block' : 'none';\n",
              "\n",
              "        async function convertToInteractive(key) {\n",
              "          const element = document.querySelector('#df-e3e14844-fc05-492f-8bb4-b207ce1d3191');\n",
              "          const dataTable =\n",
              "            await google.colab.kernel.invokeFunction('convertToInteractive',\n",
              "                                                     [key], {});\n",
              "          if (!dataTable) return;\n",
              "\n",
              "          const docLinkHtml = 'Like what you see? Visit the ' +\n",
              "            '<a target=\"_blank\" href=https://colab.research.google.com/notebooks/data_table.ipynb>data table notebook</a>'\n",
              "            + ' to learn more about interactive tables.';\n",
              "          element.innerHTML = '';\n",
              "          dataTable['output_type'] = 'display_data';\n",
              "          await google.colab.output.renderOutput(dataTable, element);\n",
              "          const docLink = document.createElement('div');\n",
              "          docLink.innerHTML = docLinkHtml;\n",
              "          element.appendChild(docLink);\n",
              "        }\n",
              "      </script>\n",
              "    </div>\n",
              "  </div>\n",
              "  "
            ]
          },
          "metadata": {},
          "execution_count": 40
        }
      ],
      "source": [
        "finder = BigramCollocationFinder.from_words(alice)\n",
        "df3 = pd.DataFrame(finder.nbest(BigramAssocMeasures.likelihood_ratio, 10))\n",
        "df3"
      ]
    },
    {
      "cell_type": "markdown",
      "metadata": {
        "id": "bjSIWcp-NsaR"
      },
      "source": [
        "Step 3<br>\n",
        "Let's eliminate the stopwords<br>\n",
        "The output looks much better and the collocations seem much more probable"
      ]
    },
    {
      "cell_type": "code",
      "execution_count": null,
      "metadata": {
        "id": "3hMRp34SNsaR"
      },
      "outputs": [],
      "source": [
        "from nltk.corpus import stopwords"
      ]
    },
    {
      "cell_type": "code",
      "execution_count": null,
      "metadata": {
        "colab": {
          "base_uri": "https://localhost:8080/",
          "height": 322
        },
        "id": "N6Ykayu6NsaR",
        "outputId": "657b43d3-8989-4884-d8b2-d9526d78f215"
      },
      "outputs": [
        {
          "output_type": "execute_result",
          "data": {
            "text/plain": [
              "           0       1\n",
              "0       mock  turtle\n",
              "1       said   alice\n",
              "2      march    hare\n",
              "3      white  rabbit\n",
              "4    thought   alice\n",
              "5  beautiful    soup\n",
              "6     golden     key\n",
              "7       good    deal\n",
              "8        kid  gloves\n",
              "9       mary     ann"
            ],
            "text/html": [
              "\n",
              "  <div id=\"df-3aed41cb-fea1-4f9e-aa97-8fdc24d8c78f\">\n",
              "    <div class=\"colab-df-container\">\n",
              "      <div>\n",
              "<style scoped>\n",
              "    .dataframe tbody tr th:only-of-type {\n",
              "        vertical-align: middle;\n",
              "    }\n",
              "\n",
              "    .dataframe tbody tr th {\n",
              "        vertical-align: top;\n",
              "    }\n",
              "\n",
              "    .dataframe thead th {\n",
              "        text-align: right;\n",
              "    }\n",
              "</style>\n",
              "<table border=\"1\" class=\"dataframe\">\n",
              "  <thead>\n",
              "    <tr style=\"text-align: right;\">\n",
              "      <th></th>\n",
              "      <th>0</th>\n",
              "      <th>1</th>\n",
              "    </tr>\n",
              "  </thead>\n",
              "  <tbody>\n",
              "    <tr>\n",
              "      <th>0</th>\n",
              "      <td>mock</td>\n",
              "      <td>turtle</td>\n",
              "    </tr>\n",
              "    <tr>\n",
              "      <th>1</th>\n",
              "      <td>said</td>\n",
              "      <td>alice</td>\n",
              "    </tr>\n",
              "    <tr>\n",
              "      <th>2</th>\n",
              "      <td>march</td>\n",
              "      <td>hare</td>\n",
              "    </tr>\n",
              "    <tr>\n",
              "      <th>3</th>\n",
              "      <td>white</td>\n",
              "      <td>rabbit</td>\n",
              "    </tr>\n",
              "    <tr>\n",
              "      <th>4</th>\n",
              "      <td>thought</td>\n",
              "      <td>alice</td>\n",
              "    </tr>\n",
              "    <tr>\n",
              "      <th>5</th>\n",
              "      <td>beautiful</td>\n",
              "      <td>soup</td>\n",
              "    </tr>\n",
              "    <tr>\n",
              "      <th>6</th>\n",
              "      <td>golden</td>\n",
              "      <td>key</td>\n",
              "    </tr>\n",
              "    <tr>\n",
              "      <th>7</th>\n",
              "      <td>good</td>\n",
              "      <td>deal</td>\n",
              "    </tr>\n",
              "    <tr>\n",
              "      <th>8</th>\n",
              "      <td>kid</td>\n",
              "      <td>gloves</td>\n",
              "    </tr>\n",
              "    <tr>\n",
              "      <th>9</th>\n",
              "      <td>mary</td>\n",
              "      <td>ann</td>\n",
              "    </tr>\n",
              "  </tbody>\n",
              "</table>\n",
              "</div>\n",
              "      <button class=\"colab-df-convert\" onclick=\"convertToInteractive('df-3aed41cb-fea1-4f9e-aa97-8fdc24d8c78f')\"\n",
              "              title=\"Convert this dataframe to an interactive table.\"\n",
              "              style=\"display:none;\">\n",
              "        \n",
              "  <svg xmlns=\"http://www.w3.org/2000/svg\" height=\"24px\"viewBox=\"0 0 24 24\"\n",
              "       width=\"24px\">\n",
              "    <path d=\"M0 0h24v24H0V0z\" fill=\"none\"/>\n",
              "    <path d=\"M18.56 5.44l.94 2.06.94-2.06 2.06-.94-2.06-.94-.94-2.06-.94 2.06-2.06.94zm-11 1L8.5 8.5l.94-2.06 2.06-.94-2.06-.94L8.5 2.5l-.94 2.06-2.06.94zm10 10l.94 2.06.94-2.06 2.06-.94-2.06-.94-.94-2.06-.94 2.06-2.06.94z\"/><path d=\"M17.41 7.96l-1.37-1.37c-.4-.4-.92-.59-1.43-.59-.52 0-1.04.2-1.43.59L10.3 9.45l-7.72 7.72c-.78.78-.78 2.05 0 2.83L4 21.41c.39.39.9.59 1.41.59.51 0 1.02-.2 1.41-.59l7.78-7.78 2.81-2.81c.8-.78.8-2.07 0-2.86zM5.41 20L4 18.59l7.72-7.72 1.47 1.35L5.41 20z\"/>\n",
              "  </svg>\n",
              "      </button>\n",
              "      \n",
              "  <style>\n",
              "    .colab-df-container {\n",
              "      display:flex;\n",
              "      flex-wrap:wrap;\n",
              "      gap: 12px;\n",
              "    }\n",
              "\n",
              "    .colab-df-convert {\n",
              "      background-color: #E8F0FE;\n",
              "      border: none;\n",
              "      border-radius: 50%;\n",
              "      cursor: pointer;\n",
              "      display: none;\n",
              "      fill: #1967D2;\n",
              "      height: 32px;\n",
              "      padding: 0 0 0 0;\n",
              "      width: 32px;\n",
              "    }\n",
              "\n",
              "    .colab-df-convert:hover {\n",
              "      background-color: #E2EBFA;\n",
              "      box-shadow: 0px 1px 2px rgba(60, 64, 67, 0.3), 0px 1px 3px 1px rgba(60, 64, 67, 0.15);\n",
              "      fill: #174EA6;\n",
              "    }\n",
              "\n",
              "    [theme=dark] .colab-df-convert {\n",
              "      background-color: #3B4455;\n",
              "      fill: #D2E3FC;\n",
              "    }\n",
              "\n",
              "    [theme=dark] .colab-df-convert:hover {\n",
              "      background-color: #434B5C;\n",
              "      box-shadow: 0px 1px 3px 1px rgba(0, 0, 0, 0.15);\n",
              "      filter: drop-shadow(0px 1px 2px rgba(0, 0, 0, 0.3));\n",
              "      fill: #FFFFFF;\n",
              "    }\n",
              "  </style>\n",
              "\n",
              "      <script>\n",
              "        const buttonEl =\n",
              "          document.querySelector('#df-3aed41cb-fea1-4f9e-aa97-8fdc24d8c78f button.colab-df-convert');\n",
              "        buttonEl.style.display =\n",
              "          google.colab.kernel.accessAllowed ? 'block' : 'none';\n",
              "\n",
              "        async function convertToInteractive(key) {\n",
              "          const element = document.querySelector('#df-3aed41cb-fea1-4f9e-aa97-8fdc24d8c78f');\n",
              "          const dataTable =\n",
              "            await google.colab.kernel.invokeFunction('convertToInteractive',\n",
              "                                                     [key], {});\n",
              "          if (!dataTable) return;\n",
              "\n",
              "          const docLinkHtml = 'Like what you see? Visit the ' +\n",
              "            '<a target=\"_blank\" href=https://colab.research.google.com/notebooks/data_table.ipynb>data table notebook</a>'\n",
              "            + ' to learn more about interactive tables.';\n",
              "          element.innerHTML = '';\n",
              "          dataTable['output_type'] = 'display_data';\n",
              "          await google.colab.output.renderOutput(dataTable, element);\n",
              "          const docLink = document.createElement('div');\n",
              "          docLink.innerHTML = docLinkHtml;\n",
              "          element.appendChild(docLink);\n",
              "        }\n",
              "      </script>\n",
              "    </div>\n",
              "  </div>\n",
              "  "
            ]
          },
          "metadata": {},
          "execution_count": 46
        }
      ],
      "source": [
        "stopset = set(stopwords.words('english'))\n",
        "filter_stops = lambda w: len(w) < 3 or w in stopset\n",
        "finder.apply_word_filter(filter_stops)\n",
        "df4 = pd.DataFrame(finder.nbest(BigramAssocMeasures.likelihood_ratio, 10))\n",
        "df4"
      ]
    },
    {
      "cell_type": "markdown",
      "metadata": {
        "id": "iQUUlIlxNsaS"
      },
      "source": [
        "1.2 Web and chat text"
      ]
    },
    {
      "cell_type": "markdown",
      "metadata": {
        "id": "73JrqBoDNsaS"
      },
      "source": [
        "import the webtext corpus from nltk"
      ]
    },
    {
      "cell_type": "code",
      "execution_count": null,
      "metadata": {
        "id": "EJQkbavkNsaS"
      },
      "outputs": [],
      "source": [
        "from nltk.corpus import webtext"
      ]
    },
    {
      "cell_type": "markdown",
      "metadata": {
        "id": "ze6HUiNzNsaS"
      },
      "source": [
        "Get a list of file names or IDs in the webtext folder and some text from each file"
      ]
    },
    {
      "cell_type": "code",
      "execution_count": null,
      "metadata": {
        "colab": {
          "base_uri": "https://localhost:8080/",
          "height": 238
        },
        "id": "12uWXdXGNsaS",
        "outputId": "d7c46f3a-9e8c-4874-ce75-56e26b7183d5"
      },
      "outputs": [
        {
          "output_type": "execute_result",
          "data": {
            "text/plain": [
              "               0                                                  1\n",
              "0    firefox.txt  Cookie Manager: \"Don't allow sites that set re...\n",
              "1      grail.txt  SCENE 1: [wind] [clop clop clop] \\nKING ARTHUR...\n",
              "2  overheard.txt  White guy: So, do you have any plans for this ...\n",
              "3    pirates.txt  PIRATES OF THE CARRIBEAN: DEAD MAN'S CHEST, by...\n",
              "4    singles.txt  25 SEXY MALE, seeks attrac older single lady, ...\n",
              "5       wine.txt  Lovely delicate, fragrant Rhone wine. Polished..."
            ],
            "text/html": [
              "\n",
              "  <div id=\"df-8fed387e-f303-49e9-ab5a-fb5869b840f9\">\n",
              "    <div class=\"colab-df-container\">\n",
              "      <div>\n",
              "<style scoped>\n",
              "    .dataframe tbody tr th:only-of-type {\n",
              "        vertical-align: middle;\n",
              "    }\n",
              "\n",
              "    .dataframe tbody tr th {\n",
              "        vertical-align: top;\n",
              "    }\n",
              "\n",
              "    .dataframe thead th {\n",
              "        text-align: right;\n",
              "    }\n",
              "</style>\n",
              "<table border=\"1\" class=\"dataframe\">\n",
              "  <thead>\n",
              "    <tr style=\"text-align: right;\">\n",
              "      <th></th>\n",
              "      <th>0</th>\n",
              "      <th>1</th>\n",
              "    </tr>\n",
              "  </thead>\n",
              "  <tbody>\n",
              "    <tr>\n",
              "      <th>0</th>\n",
              "      <td>firefox.txt</td>\n",
              "      <td>Cookie Manager: \"Don't allow sites that set re...</td>\n",
              "    </tr>\n",
              "    <tr>\n",
              "      <th>1</th>\n",
              "      <td>grail.txt</td>\n",
              "      <td>SCENE 1: [wind] [clop clop clop] \\nKING ARTHUR...</td>\n",
              "    </tr>\n",
              "    <tr>\n",
              "      <th>2</th>\n",
              "      <td>overheard.txt</td>\n",
              "      <td>White guy: So, do you have any plans for this ...</td>\n",
              "    </tr>\n",
              "    <tr>\n",
              "      <th>3</th>\n",
              "      <td>pirates.txt</td>\n",
              "      <td>PIRATES OF THE CARRIBEAN: DEAD MAN'S CHEST, by...</td>\n",
              "    </tr>\n",
              "    <tr>\n",
              "      <th>4</th>\n",
              "      <td>singles.txt</td>\n",
              "      <td>25 SEXY MALE, seeks attrac older single lady, ...</td>\n",
              "    </tr>\n",
              "    <tr>\n",
              "      <th>5</th>\n",
              "      <td>wine.txt</td>\n",
              "      <td>Lovely delicate, fragrant Rhone wine. Polished...</td>\n",
              "    </tr>\n",
              "  </tbody>\n",
              "</table>\n",
              "</div>\n",
              "      <button class=\"colab-df-convert\" onclick=\"convertToInteractive('df-8fed387e-f303-49e9-ab5a-fb5869b840f9')\"\n",
              "              title=\"Convert this dataframe to an interactive table.\"\n",
              "              style=\"display:none;\">\n",
              "        \n",
              "  <svg xmlns=\"http://www.w3.org/2000/svg\" height=\"24px\"viewBox=\"0 0 24 24\"\n",
              "       width=\"24px\">\n",
              "    <path d=\"M0 0h24v24H0V0z\" fill=\"none\"/>\n",
              "    <path d=\"M18.56 5.44l.94 2.06.94-2.06 2.06-.94-2.06-.94-.94-2.06-.94 2.06-2.06.94zm-11 1L8.5 8.5l.94-2.06 2.06-.94-2.06-.94L8.5 2.5l-.94 2.06-2.06.94zm10 10l.94 2.06.94-2.06 2.06-.94-2.06-.94-.94-2.06-.94 2.06-2.06.94z\"/><path d=\"M17.41 7.96l-1.37-1.37c-.4-.4-.92-.59-1.43-.59-.52 0-1.04.2-1.43.59L10.3 9.45l-7.72 7.72c-.78.78-.78 2.05 0 2.83L4 21.41c.39.39.9.59 1.41.59.51 0 1.02-.2 1.41-.59l7.78-7.78 2.81-2.81c.8-.78.8-2.07 0-2.86zM5.41 20L4 18.59l7.72-7.72 1.47 1.35L5.41 20z\"/>\n",
              "  </svg>\n",
              "      </button>\n",
              "      \n",
              "  <style>\n",
              "    .colab-df-container {\n",
              "      display:flex;\n",
              "      flex-wrap:wrap;\n",
              "      gap: 12px;\n",
              "    }\n",
              "\n",
              "    .colab-df-convert {\n",
              "      background-color: #E8F0FE;\n",
              "      border: none;\n",
              "      border-radius: 50%;\n",
              "      cursor: pointer;\n",
              "      display: none;\n",
              "      fill: #1967D2;\n",
              "      height: 32px;\n",
              "      padding: 0 0 0 0;\n",
              "      width: 32px;\n",
              "    }\n",
              "\n",
              "    .colab-df-convert:hover {\n",
              "      background-color: #E2EBFA;\n",
              "      box-shadow: 0px 1px 2px rgba(60, 64, 67, 0.3), 0px 1px 3px 1px rgba(60, 64, 67, 0.15);\n",
              "      fill: #174EA6;\n",
              "    }\n",
              "\n",
              "    [theme=dark] .colab-df-convert {\n",
              "      background-color: #3B4455;\n",
              "      fill: #D2E3FC;\n",
              "    }\n",
              "\n",
              "    [theme=dark] .colab-df-convert:hover {\n",
              "      background-color: #434B5C;\n",
              "      box-shadow: 0px 1px 3px 1px rgba(0, 0, 0, 0.15);\n",
              "      filter: drop-shadow(0px 1px 2px rgba(0, 0, 0, 0.3));\n",
              "      fill: #FFFFFF;\n",
              "    }\n",
              "  </style>\n",
              "\n",
              "      <script>\n",
              "        const buttonEl =\n",
              "          document.querySelector('#df-8fed387e-f303-49e9-ab5a-fb5869b840f9 button.colab-df-convert');\n",
              "        buttonEl.style.display =\n",
              "          google.colab.kernel.accessAllowed ? 'block' : 'none';\n",
              "\n",
              "        async function convertToInteractive(key) {\n",
              "          const element = document.querySelector('#df-8fed387e-f303-49e9-ab5a-fb5869b840f9');\n",
              "          const dataTable =\n",
              "            await google.colab.kernel.invokeFunction('convertToInteractive',\n",
              "                                                     [key], {});\n",
              "          if (!dataTable) return;\n",
              "\n",
              "          const docLinkHtml = 'Like what you see? Visit the ' +\n",
              "            '<a target=\"_blank\" href=https://colab.research.google.com/notebooks/data_table.ipynb>data table notebook</a>'\n",
              "            + ' to learn more about interactive tables.';\n",
              "          element.innerHTML = '';\n",
              "          dataTable['output_type'] = 'display_data';\n",
              "          await google.colab.output.renderOutput(dataTable, element);\n",
              "          const docLink = document.createElement('div');\n",
              "          docLink.innerHTML = docLinkHtml;\n",
              "          element.appendChild(docLink);\n",
              "        }\n",
              "      </script>\n",
              "    </div>\n",
              "  </div>\n",
              "  "
            ]
          },
          "metadata": {},
          "execution_count": 60
        }
      ],
      "source": [
        "textInfo = []\n",
        "for fileid in webtext.fileids():\n",
        "  text = [fileid,webtext.raw(fileid)[:65]] \n",
        "  textInfo.append(text)\n",
        "\n",
        "df5 = pd.DataFrame(textInfo)\n",
        "df5"
      ]
    },
    {
      "cell_type": "markdown",
      "metadata": {
        "id": "lg-P29n2NsaT"
      },
      "source": [
        "Select a text to work with"
      ]
    },
    {
      "cell_type": "code",
      "execution_count": null,
      "metadata": {
        "id": "fr0zx280NsaT"
      },
      "outputs": [],
      "source": [
        "wine = webtext.words('wine.txt')"
      ]
    },
    {
      "cell_type": "markdown",
      "metadata": {
        "id": "pSC7yOVMNsaT"
      },
      "source": [
        "Check to see that your new object exists<br>\n",
        "This will print the text already separated into words"
      ]
    },
    {
      "cell_type": "code",
      "execution_count": null,
      "metadata": {
        "colab": {
          "base_uri": "https://localhost:8080/"
        },
        "id": "fx3pvAwCNsaT",
        "outputId": "372fe377-3b4f-4a8a-87af-c71687b525e0"
      },
      "outputs": [
        {
          "output_type": "stream",
          "name": "stdout",
          "text": [
            "['Lovely', 'delicate', ',', 'fragrant', 'Rhone', ...]\n"
          ]
        }
      ],
      "source": [
        "print(wine)"
      ]
    },
    {
      "cell_type": "markdown",
      "metadata": {
        "id": "qGp6FrWiNsaT"
      },
      "source": [
        "Try your lexical diversity function out on wine reviews in \"wine\""
      ]
    },
    {
      "cell_type": "code",
      "execution_count": null,
      "metadata": {
        "colab": {
          "base_uri": "https://localhost:8080/"
        },
        "id": "UKwlgyW3NsaT",
        "outputId": "7cc2e8ef-b69e-4c1e-fe87-b1ef047adfb9"
      },
      "outputs": [
        {
          "output_type": "stream",
          "name": "stdout",
          "text": [
            "9.182776801405975\n"
          ]
        }
      ],
      "source": [
        "print(lexical_diversity(wine))"
      ]
    },
    {
      "cell_type": "markdown",
      "metadata": {
        "id": "7D-b9NSnNsaU"
      },
      "source": [
        "Let's see the collocations in \"wine\""
      ]
    },
    {
      "cell_type": "markdown",
      "metadata": {
        "id": "-Qa5FCptNsaU"
      },
      "source": [
        "Step 1<br>\n",
        "Import the collocation functions from nltk. The * means that we want everything in the 'collocations' functions"
      ]
    },
    {
      "cell_type": "code",
      "execution_count": null,
      "metadata": {
        "id": "BHaUZ8q9NsaU"
      },
      "outputs": [],
      "source": [
        "from nltk.collocations import *"
      ]
    },
    {
      "cell_type": "markdown",
      "metadata": {
        "id": "1LqraJH_NsaU"
      },
      "source": [
        "Import tools from NLTK to find bigrams and association measures between words"
      ]
    },
    {
      "cell_type": "code",
      "execution_count": null,
      "metadata": {
        "id": "Or9gYYO9NsaU"
      },
      "outputs": [],
      "source": [
        "from nltk.collocations import BigramCollocationFinder\n",
        "from nltk.metrics import BigramAssocMeasures"
      ]
    },
    {
      "cell_type": "markdown",
      "metadata": {
        "id": "7HLWk8wfNsaU"
      },
      "source": [
        "Select a text to work with and convert all of the words to lowercase"
      ]
    },
    {
      "cell_type": "code",
      "execution_count": null,
      "metadata": {
        "id": "SELvCU4ANsaV"
      },
      "outputs": [],
      "source": [
        "wine = [w.lower() for w in webtext.words('wine.txt')]"
      ]
    },
    {
      "cell_type": "markdown",
      "metadata": {
        "id": "DTxNIxvBNsaX"
      },
      "source": [
        "Step 2<br>\n",
        "Find collocations<br>\n",
        "Find bigrams, which are pairs of words, and ask for 10 collocations"
      ]
    },
    {
      "cell_type": "code",
      "execution_count": null,
      "metadata": {
        "colab": {
          "base_uri": "https://localhost:8080/",
          "height": 322
        },
        "id": "iEF7VHwgNsaX",
        "outputId": "66ab8cd5-00c4-4be8-c97f-b9bc9595f50c"
      },
      "outputs": [
        {
          "output_type": "execute_result",
          "data": {
            "text/plain": [
              "     0      1\n",
              "0    a    bit\n",
              "1    '      t\n",
              "2  top    ***\n",
              "3    '      s\n",
              "4    a  touch\n",
              "5    .    top\n",
              "6    .   bare\n",
              "7   on    the\n",
              "8    .    ***\n",
              "9  not  rated"
            ],
            "text/html": [
              "\n",
              "  <div id=\"df-b40bcb27-0030-41d3-89d1-4c65eadcfa82\">\n",
              "    <div class=\"colab-df-container\">\n",
              "      <div>\n",
              "<style scoped>\n",
              "    .dataframe tbody tr th:only-of-type {\n",
              "        vertical-align: middle;\n",
              "    }\n",
              "\n",
              "    .dataframe tbody tr th {\n",
              "        vertical-align: top;\n",
              "    }\n",
              "\n",
              "    .dataframe thead th {\n",
              "        text-align: right;\n",
              "    }\n",
              "</style>\n",
              "<table border=\"1\" class=\"dataframe\">\n",
              "  <thead>\n",
              "    <tr style=\"text-align: right;\">\n",
              "      <th></th>\n",
              "      <th>0</th>\n",
              "      <th>1</th>\n",
              "    </tr>\n",
              "  </thead>\n",
              "  <tbody>\n",
              "    <tr>\n",
              "      <th>0</th>\n",
              "      <td>a</td>\n",
              "      <td>bit</td>\n",
              "    </tr>\n",
              "    <tr>\n",
              "      <th>1</th>\n",
              "      <td>'</td>\n",
              "      <td>t</td>\n",
              "    </tr>\n",
              "    <tr>\n",
              "      <th>2</th>\n",
              "      <td>top</td>\n",
              "      <td>***</td>\n",
              "    </tr>\n",
              "    <tr>\n",
              "      <th>3</th>\n",
              "      <td>'</td>\n",
              "      <td>s</td>\n",
              "    </tr>\n",
              "    <tr>\n",
              "      <th>4</th>\n",
              "      <td>a</td>\n",
              "      <td>touch</td>\n",
              "    </tr>\n",
              "    <tr>\n",
              "      <th>5</th>\n",
              "      <td>.</td>\n",
              "      <td>top</td>\n",
              "    </tr>\n",
              "    <tr>\n",
              "      <th>6</th>\n",
              "      <td>.</td>\n",
              "      <td>bare</td>\n",
              "    </tr>\n",
              "    <tr>\n",
              "      <th>7</th>\n",
              "      <td>on</td>\n",
              "      <td>the</td>\n",
              "    </tr>\n",
              "    <tr>\n",
              "      <th>8</th>\n",
              "      <td>.</td>\n",
              "      <td>***</td>\n",
              "    </tr>\n",
              "    <tr>\n",
              "      <th>9</th>\n",
              "      <td>not</td>\n",
              "      <td>rated</td>\n",
              "    </tr>\n",
              "  </tbody>\n",
              "</table>\n",
              "</div>\n",
              "      <button class=\"colab-df-convert\" onclick=\"convertToInteractive('df-b40bcb27-0030-41d3-89d1-4c65eadcfa82')\"\n",
              "              title=\"Convert this dataframe to an interactive table.\"\n",
              "              style=\"display:none;\">\n",
              "        \n",
              "  <svg xmlns=\"http://www.w3.org/2000/svg\" height=\"24px\"viewBox=\"0 0 24 24\"\n",
              "       width=\"24px\">\n",
              "    <path d=\"M0 0h24v24H0V0z\" fill=\"none\"/>\n",
              "    <path d=\"M18.56 5.44l.94 2.06.94-2.06 2.06-.94-2.06-.94-.94-2.06-.94 2.06-2.06.94zm-11 1L8.5 8.5l.94-2.06 2.06-.94-2.06-.94L8.5 2.5l-.94 2.06-2.06.94zm10 10l.94 2.06.94-2.06 2.06-.94-2.06-.94-.94-2.06-.94 2.06-2.06.94z\"/><path d=\"M17.41 7.96l-1.37-1.37c-.4-.4-.92-.59-1.43-.59-.52 0-1.04.2-1.43.59L10.3 9.45l-7.72 7.72c-.78.78-.78 2.05 0 2.83L4 21.41c.39.39.9.59 1.41.59.51 0 1.02-.2 1.41-.59l7.78-7.78 2.81-2.81c.8-.78.8-2.07 0-2.86zM5.41 20L4 18.59l7.72-7.72 1.47 1.35L5.41 20z\"/>\n",
              "  </svg>\n",
              "      </button>\n",
              "      \n",
              "  <style>\n",
              "    .colab-df-container {\n",
              "      display:flex;\n",
              "      flex-wrap:wrap;\n",
              "      gap: 12px;\n",
              "    }\n",
              "\n",
              "    .colab-df-convert {\n",
              "      background-color: #E8F0FE;\n",
              "      border: none;\n",
              "      border-radius: 50%;\n",
              "      cursor: pointer;\n",
              "      display: none;\n",
              "      fill: #1967D2;\n",
              "      height: 32px;\n",
              "      padding: 0 0 0 0;\n",
              "      width: 32px;\n",
              "    }\n",
              "\n",
              "    .colab-df-convert:hover {\n",
              "      background-color: #E2EBFA;\n",
              "      box-shadow: 0px 1px 2px rgba(60, 64, 67, 0.3), 0px 1px 3px 1px rgba(60, 64, 67, 0.15);\n",
              "      fill: #174EA6;\n",
              "    }\n",
              "\n",
              "    [theme=dark] .colab-df-convert {\n",
              "      background-color: #3B4455;\n",
              "      fill: #D2E3FC;\n",
              "    }\n",
              "\n",
              "    [theme=dark] .colab-df-convert:hover {\n",
              "      background-color: #434B5C;\n",
              "      box-shadow: 0px 1px 3px 1px rgba(0, 0, 0, 0.15);\n",
              "      filter: drop-shadow(0px 1px 2px rgba(0, 0, 0, 0.3));\n",
              "      fill: #FFFFFF;\n",
              "    }\n",
              "  </style>\n",
              "\n",
              "      <script>\n",
              "        const buttonEl =\n",
              "          document.querySelector('#df-b40bcb27-0030-41d3-89d1-4c65eadcfa82 button.colab-df-convert');\n",
              "        buttonEl.style.display =\n",
              "          google.colab.kernel.accessAllowed ? 'block' : 'none';\n",
              "\n",
              "        async function convertToInteractive(key) {\n",
              "          const element = document.querySelector('#df-b40bcb27-0030-41d3-89d1-4c65eadcfa82');\n",
              "          const dataTable =\n",
              "            await google.colab.kernel.invokeFunction('convertToInteractive',\n",
              "                                                     [key], {});\n",
              "          if (!dataTable) return;\n",
              "\n",
              "          const docLinkHtml = 'Like what you see? Visit the ' +\n",
              "            '<a target=\"_blank\" href=https://colab.research.google.com/notebooks/data_table.ipynb>data table notebook</a>'\n",
              "            + ' to learn more about interactive tables.';\n",
              "          element.innerHTML = '';\n",
              "          dataTable['output_type'] = 'display_data';\n",
              "          await google.colab.output.renderOutput(dataTable, element);\n",
              "          const docLink = document.createElement('div');\n",
              "          docLink.innerHTML = docLinkHtml;\n",
              "          element.appendChild(docLink);\n",
              "        }\n",
              "      </script>\n",
              "    </div>\n",
              "  </div>\n",
              "  "
            ]
          },
          "metadata": {},
          "execution_count": 70
        }
      ],
      "source": [
        "finder = BigramCollocationFinder.from_words(wine)\n",
        "df6 = pd.DataFrame(finder.nbest(BigramAssocMeasures.likelihood_ratio, 10))\n",
        "df6"
      ]
    },
    {
      "cell_type": "markdown",
      "metadata": {
        "id": "aRJoayGONsaZ"
      },
      "source": [
        "Step 3<br>\n",
        "Let's eliminate the stopwords<br>\n",
        "The output looks much better and the collocations seem much more probable"
      ]
    },
    {
      "cell_type": "code",
      "execution_count": null,
      "metadata": {
        "id": "o5I4LoHONsac"
      },
      "outputs": [],
      "source": [
        "from nltk.corpus import stopwords"
      ]
    },
    {
      "cell_type": "code",
      "execution_count": null,
      "metadata": {
        "colab": {
          "base_uri": "https://localhost:8080/",
          "height": 363
        },
        "id": "hep5mylnNsae",
        "outputId": "04b8bbd2-d246-422e-b2d7-6f6a6388a6ba"
      },
      "outputs": [
        {
          "output_type": "execute_result",
          "data": {
            "text/plain": [
              "        0        1\n",
              "0     top      ***\n",
              "1    bare     ****\n",
              "2    bare      ***\n",
              "3    good   length\n",
              "4    bare   ***(*)\n",
              "5  medium   weight\n",
              "6   needs     time\n",
              "7  pretty     good\n",
              "8  mature   claret\n",
              "9    nice  balance"
            ],
            "text/html": [
              "\n",
              "  <div id=\"df-39bdeaa4-b47b-4229-ae17-58a2445d288c\">\n",
              "    <div class=\"colab-df-container\">\n",
              "      <div>\n",
              "<style scoped>\n",
              "    .dataframe tbody tr th:only-of-type {\n",
              "        vertical-align: middle;\n",
              "    }\n",
              "\n",
              "    .dataframe tbody tr th {\n",
              "        vertical-align: top;\n",
              "    }\n",
              "\n",
              "    .dataframe thead th {\n",
              "        text-align: right;\n",
              "    }\n",
              "</style>\n",
              "<table border=\"1\" class=\"dataframe\">\n",
              "  <thead>\n",
              "    <tr style=\"text-align: right;\">\n",
              "      <th></th>\n",
              "      <th>0</th>\n",
              "      <th>1</th>\n",
              "    </tr>\n",
              "  </thead>\n",
              "  <tbody>\n",
              "    <tr>\n",
              "      <th>0</th>\n",
              "      <td>top</td>\n",
              "      <td>***</td>\n",
              "    </tr>\n",
              "    <tr>\n",
              "      <th>1</th>\n",
              "      <td>bare</td>\n",
              "      <td>****</td>\n",
              "    </tr>\n",
              "    <tr>\n",
              "      <th>2</th>\n",
              "      <td>bare</td>\n",
              "      <td>***</td>\n",
              "    </tr>\n",
              "    <tr>\n",
              "      <th>3</th>\n",
              "      <td>good</td>\n",
              "      <td>length</td>\n",
              "    </tr>\n",
              "    <tr>\n",
              "      <th>4</th>\n",
              "      <td>bare</td>\n",
              "      <td>***(*)</td>\n",
              "    </tr>\n",
              "    <tr>\n",
              "      <th>5</th>\n",
              "      <td>medium</td>\n",
              "      <td>weight</td>\n",
              "    </tr>\n",
              "    <tr>\n",
              "      <th>6</th>\n",
              "      <td>needs</td>\n",
              "      <td>time</td>\n",
              "    </tr>\n",
              "    <tr>\n",
              "      <th>7</th>\n",
              "      <td>pretty</td>\n",
              "      <td>good</td>\n",
              "    </tr>\n",
              "    <tr>\n",
              "      <th>8</th>\n",
              "      <td>mature</td>\n",
              "      <td>claret</td>\n",
              "    </tr>\n",
              "    <tr>\n",
              "      <th>9</th>\n",
              "      <td>nice</td>\n",
              "      <td>balance</td>\n",
              "    </tr>\n",
              "  </tbody>\n",
              "</table>\n",
              "</div>\n",
              "      <button class=\"colab-df-convert\" onclick=\"convertToInteractive('df-39bdeaa4-b47b-4229-ae17-58a2445d288c')\"\n",
              "              title=\"Convert this dataframe to an interactive table.\"\n",
              "              style=\"display:none;\">\n",
              "        \n",
              "  <svg xmlns=\"http://www.w3.org/2000/svg\" height=\"24px\"viewBox=\"0 0 24 24\"\n",
              "       width=\"24px\">\n",
              "    <path d=\"M0 0h24v24H0V0z\" fill=\"none\"/>\n",
              "    <path d=\"M18.56 5.44l.94 2.06.94-2.06 2.06-.94-2.06-.94-.94-2.06-.94 2.06-2.06.94zm-11 1L8.5 8.5l.94-2.06 2.06-.94-2.06-.94L8.5 2.5l-.94 2.06-2.06.94zm10 10l.94 2.06.94-2.06 2.06-.94-2.06-.94-.94-2.06-.94 2.06-2.06.94z\"/><path d=\"M17.41 7.96l-1.37-1.37c-.4-.4-.92-.59-1.43-.59-.52 0-1.04.2-1.43.59L10.3 9.45l-7.72 7.72c-.78.78-.78 2.05 0 2.83L4 21.41c.39.39.9.59 1.41.59.51 0 1.02-.2 1.41-.59l7.78-7.78 2.81-2.81c.8-.78.8-2.07 0-2.86zM5.41 20L4 18.59l7.72-7.72 1.47 1.35L5.41 20z\"/>\n",
              "  </svg>\n",
              "      </button>\n",
              "      \n",
              "  <style>\n",
              "    .colab-df-container {\n",
              "      display:flex;\n",
              "      flex-wrap:wrap;\n",
              "      gap: 12px;\n",
              "    }\n",
              "\n",
              "    .colab-df-convert {\n",
              "      background-color: #E8F0FE;\n",
              "      border: none;\n",
              "      border-radius: 50%;\n",
              "      cursor: pointer;\n",
              "      display: none;\n",
              "      fill: #1967D2;\n",
              "      height: 32px;\n",
              "      padding: 0 0 0 0;\n",
              "      width: 32px;\n",
              "    }\n",
              "\n",
              "    .colab-df-convert:hover {\n",
              "      background-color: #E2EBFA;\n",
              "      box-shadow: 0px 1px 2px rgba(60, 64, 67, 0.3), 0px 1px 3px 1px rgba(60, 64, 67, 0.15);\n",
              "      fill: #174EA6;\n",
              "    }\n",
              "\n",
              "    [theme=dark] .colab-df-convert {\n",
              "      background-color: #3B4455;\n",
              "      fill: #D2E3FC;\n",
              "    }\n",
              "\n",
              "    [theme=dark] .colab-df-convert:hover {\n",
              "      background-color: #434B5C;\n",
              "      box-shadow: 0px 1px 3px 1px rgba(0, 0, 0, 0.15);\n",
              "      filter: drop-shadow(0px 1px 2px rgba(0, 0, 0, 0.3));\n",
              "      fill: #FFFFFF;\n",
              "    }\n",
              "  </style>\n",
              "\n",
              "      <script>\n",
              "        const buttonEl =\n",
              "          document.querySelector('#df-39bdeaa4-b47b-4229-ae17-58a2445d288c button.colab-df-convert');\n",
              "        buttonEl.style.display =\n",
              "          google.colab.kernel.accessAllowed ? 'block' : 'none';\n",
              "\n",
              "        async function convertToInteractive(key) {\n",
              "          const element = document.querySelector('#df-39bdeaa4-b47b-4229-ae17-58a2445d288c');\n",
              "          const dataTable =\n",
              "            await google.colab.kernel.invokeFunction('convertToInteractive',\n",
              "                                                     [key], {});\n",
              "          if (!dataTable) return;\n",
              "\n",
              "          const docLinkHtml = 'Like what you see? Visit the ' +\n",
              "            '<a target=\"_blank\" href=https://colab.research.google.com/notebooks/data_table.ipynb>data table notebook</a>'\n",
              "            + ' to learn more about interactive tables.';\n",
              "          element.innerHTML = '';\n",
              "          dataTable['output_type'] = 'display_data';\n",
              "          await google.colab.output.renderOutput(dataTable, element);\n",
              "          const docLink = document.createElement('div');\n",
              "          docLink.innerHTML = docLinkHtml;\n",
              "          element.appendChild(docLink);\n",
              "        }\n",
              "      </script>\n",
              "    </div>\n",
              "  </div>\n",
              "  "
            ]
          },
          "metadata": {},
          "execution_count": 73
        }
      ],
      "source": [
        "stopset = set(stopwords.words('english'))\n",
        "filter_stops = lambda w: len(w) < 3 or w in stopset\n",
        "finder.apply_word_filter(filter_stops)\n",
        "df7 = pd.DataFrame(finder.nbest(BigramAssocMeasures.likelihood_ratio, 10))\n",
        "df7"
      ]
    },
    {
      "cell_type": "markdown",
      "metadata": {
        "id": "kPPuQ6NINsag"
      },
      "source": [
        "1.3 Brown corpus"
      ]
    },
    {
      "cell_type": "markdown",
      "metadata": {
        "id": "AfkPWs-QNsao"
      },
      "source": [
        "Import the Brown corpus from NLTK"
      ]
    },
    {
      "cell_type": "code",
      "execution_count": null,
      "metadata": {
        "id": "cOOZYy4aNsap"
      },
      "outputs": [],
      "source": [
        "from nltk.corpus import brown"
      ]
    },
    {
      "cell_type": "markdown",
      "metadata": {
        "id": "Nhqa2ThaNsaq"
      },
      "source": [
        "The Brown corpus is known for having multiple genres. This allows us to do research in<br>\n",
        "text stylistics. Let's see the categories they use."
      ]
    },
    {
      "cell_type": "code",
      "execution_count": null,
      "metadata": {
        "colab": {
          "base_uri": "https://localhost:8080/"
        },
        "id": "2ehZzEluNsar",
        "outputId": "8d16419d-caf9-47d1-e12c-f6729df5fb77"
      },
      "outputs": [
        {
          "output_type": "stream",
          "name": "stdout",
          "text": [
            "['adventure', 'belles_lettres', 'editorial', 'fiction', 'government', 'hobbies', 'humor', 'learned', 'lore', 'mystery', 'news', 'religion', 'reviews', 'romance', 'science_fiction']\n"
          ]
        }
      ],
      "source": [
        "print(brown.categories())"
      ]
    },
    {
      "cell_type": "markdown",
      "metadata": {
        "id": "tHZFl72ANsav"
      },
      "source": [
        "Let's compare genres in their usage of modal verbs like: can, could, may, might, must, will<br>\n",
        "The first step is to produce the counts for a particular genre.<br>\n",
        "Let's count modal verb usage in the genre 'news'<br>\n",
        "This will give us a raw count of specific modals in the genre 'news'"
      ]
    },
    {
      "cell_type": "code",
      "execution_count": null,
      "metadata": {
        "colab": {
          "base_uri": "https://localhost:8080/"
        },
        "id": "zxs0wRaINsaw",
        "outputId": "e1903d54-f2d8-417e-bd8b-bfff3c7e47d0"
      },
      "outputs": [
        {
          "output_type": "stream",
          "name": "stdout",
          "text": [
            "can: 94\n",
            "could: 87\n",
            "may: 93\n",
            "might: 38\n",
            "must: 53\n",
            "will: 389\n"
          ]
        }
      ],
      "source": [
        "news_text = brown.words(categories='news')\n",
        "fdist_news = nltk.FreqDist(w.lower() for w in news_text)\n",
        "modals = ['can', 'could', 'may', 'might', 'must', 'will']\n",
        "for m in modals:\n",
        "    print(m + ':', fdist_news[m], end='\\n')"
      ]
    },
    {
      "cell_type": "markdown",
      "metadata": {
        "id": "zgyJ_oZuNsax"
      },
      "source": [
        "Seeing the count for one genre is interesting, but we want to see the count for modals verbs in each genre<br>\n",
        "If we get the count for modals across genres, this is a conditional frequency distribution, the condition<br>\n",
        "in this case being 'genre'"
      ]
    },
    {
      "cell_type": "code",
      "execution_count": null,
      "metadata": {
        "colab": {
          "base_uri": "https://localhost:8080/"
        },
        "id": "L1ts3aoiNsay",
        "outputId": "3e338580-6693-4339-9fc2-963df4de885c"
      },
      "outputs": [
        {
          "output_type": "stream",
          "name": "stdout",
          "text": [
            "                  can could   may might  must  will \n",
            "           news    93    86    66    38    50   389 \n",
            "       religion    82    59    78    12    54    71 \n",
            "        hobbies   268    58   131    22    83   264 \n",
            "science_fiction    16    49     4    12     8    16 \n",
            "        romance    74   193    11    51    45    43 \n",
            "          humor    16    30     8     8     9    13 \n"
          ]
        }
      ],
      "source": [
        "cfd = nltk.ConditionalFreqDist(\n",
        "    (genre, word)\n",
        "    for genre in brown.categories()\n",
        "    for word in brown.words(categories=genre))\n",
        "genres = ['news', 'religion', 'hobbies', 'science_fiction', 'romance', 'humor']\n",
        "modals = ['can', 'could', 'may', 'might', 'must', 'will']\n",
        "cfd.tabulate(conditions=genres, samples=modals)"
      ]
    },
    {
      "cell_type": "markdown",
      "metadata": {
        "id": "uquY3JXYNsaz"
      },
      "source": [
        "1.4 Reuters corpus<br>\n",
        "<br>\n",
        "1.5 Inaugural address corpus"
      ]
    },
    {
      "cell_type": "markdown",
      "metadata": {
        "id": "kYmHHg3bNsa0"
      },
      "source": [
        "Import the inaugural addresses from each president<br>\n",
        "There are 55 inaugural addresses in this corpus"
      ]
    },
    {
      "cell_type": "code",
      "execution_count": null,
      "metadata": {
        "id": "9eQGpMT3Nsa1"
      },
      "outputs": [],
      "source": [
        "from nltk.corpus import inaugural"
      ]
    },
    {
      "cell_type": "markdown",
      "metadata": {
        "id": "nbwyrw1wNsa1"
      },
      "source": [
        "Print a list of the file names of each inaugural address"
      ]
    },
    {
      "cell_type": "code",
      "execution_count": null,
      "metadata": {
        "colab": {
          "base_uri": "https://localhost:8080/"
        },
        "id": "pZ2yXfgfNsa2",
        "outputId": "03444e70-6db6-47b0-c936-4ed2b6a0a22d"
      },
      "outputs": [
        {
          "output_type": "stream",
          "name": "stdout",
          "text": [
            "['1789-Washington.txt', '1793-Washington.txt', '1797-Adams.txt', '1801-Jefferson.txt', '1805-Jefferson.txt', '1809-Madison.txt', '1813-Madison.txt', '1817-Monroe.txt', '1821-Monroe.txt', '1825-Adams.txt', '1829-Jackson.txt', '1833-Jackson.txt', '1837-VanBuren.txt', '1841-Harrison.txt', '1845-Polk.txt', '1849-Taylor.txt', '1853-Pierce.txt', '1857-Buchanan.txt', '1861-Lincoln.txt', '1865-Lincoln.txt', '1869-Grant.txt', '1873-Grant.txt', '1877-Hayes.txt', '1881-Garfield.txt', '1885-Cleveland.txt', '1889-Harrison.txt', '1893-Cleveland.txt', '1897-McKinley.txt', '1901-McKinley.txt', '1905-Roosevelt.txt', '1909-Taft.txt', '1913-Wilson.txt', '1917-Wilson.txt', '1921-Harding.txt', '1925-Coolidge.txt', '1929-Hoover.txt', '1933-Roosevelt.txt', '1937-Roosevelt.txt', '1941-Roosevelt.txt', '1945-Roosevelt.txt', '1949-Truman.txt', '1953-Eisenhower.txt', '1957-Eisenhower.txt', '1961-Kennedy.txt', '1965-Johnson.txt', '1969-Nixon.txt', '1973-Nixon.txt', '1977-Carter.txt', '1981-Reagan.txt', '1985-Reagan.txt', '1989-Bush.txt', '1993-Clinton.txt', '1997-Clinton.txt', '2001-Bush.txt', '2005-Bush.txt', '2009-Obama.txt', '2013-Obama.txt', '2017-Trump.txt', '2021-Biden.txt']\n"
          ]
        }
      ],
      "source": [
        "print(inaugural.fileids())"
      ]
    },
    {
      "cell_type": "markdown",
      "metadata": {
        "id": "q2vCLe0CNsa3"
      },
      "source": [
        "Let's look at how the words \"America\" and \"citizen\" are used over time<br>\n",
        "The following code converts the words in the inaugural corpus to lowercase then<br>\n",
        "checks to see if the words start with either \"america\" or \"citizen\" using the function startswith()"
      ]
    },
    {
      "cell_type": "code",
      "execution_count": null,
      "metadata": {
        "colab": {
          "base_uri": "https://localhost:8080/",
          "height": 295
        },
        "id": "0sQKtcVLNsa5",
        "outputId": "ef5be2be-b8c2-46cc-8b00-ac4da7bd118b"
      },
      "outputs": [
        {
          "output_type": "display_data",
          "data": {
            "text/plain": [
              "<Figure size 432x288 with 1 Axes>"
            ],
            "image/png": "[encoded data removed]"
          },
          "metadata": {
            "needs_background": "light"
          }
        }
      ],
      "source": [
        "cfd = nltk.ConditionalFreqDist(\n",
        "    (target, fileid[:4])\n",
        "    for fileid in inaugural.fileids()\n",
        "    for w in inaugural.words(fileid)\n",
        "    for target in ['america', 'citizen']\n",
        "    if w.lower().startswith(target))\n",
        "cfd.plot()"
      ]
    },
    {
      "cell_type": "markdown",
      "metadata": {
        "id": "y4CmC7hbNsa5"
      },
      "source": [
        "Let's see the collocations in Obama's 2009 inaugural address<br>\n",
        "Do they identify Obama?"
      ]
    },
    {
      "cell_type": "markdown",
      "metadata": {
        "id": "STh_NzO9Nsa9"
      },
      "source": [
        "Select a text to work with and convert all of the words to lowercase"
      ]
    },
    {
      "cell_type": "code",
      "execution_count": null,
      "metadata": {
        "id": "G981prvbNsa9"
      },
      "outputs": [],
      "source": [
        "obama = [w.lower() for w in inaugural.words('2009-Obama.txt')]"
      ]
    },
    {
      "cell_type": "markdown",
      "metadata": {
        "id": "NNRelZdQNsa-"
      },
      "source": [
        "Step 2<br>\n",
        "Find collocations<br>\n",
        "Find bigrams, which are pairs of words, and ask for 10 collocations"
      ]
    },
    {
      "cell_type": "code",
      "execution_count": null,
      "metadata": {
        "colab": {
          "base_uri": "https://localhost:8080/",
          "height": 322
        },
        "id": "LT-KwumyNsa_",
        "outputId": "3083732b-5435-4d72-ea4b-bdece6e9aebf"
      },
      "outputs": [
        {
          "output_type": "execute_result",
          "data": {
            "text/plain": [
              "        0     1\n",
              "0       '     s\n",
              "1      we  will\n",
              "2      of   our\n",
              "3       a   new\n",
              "4       ,   but\n",
              "5      no  less\n",
              "6    once  more\n",
              "7      on   the\n",
              "8    have  been\n",
              "9  health  care"
            ],
            "text/html": [
              "\n",
              "  <div id=\"df-835e4c57-647a-443d-a80d-44e0f28e935a\">\n",
              "    <div class=\"colab-df-container\">\n",
              "      <div>\n",
              "<style scoped>\n",
              "    .dataframe tbody tr th:only-of-type {\n",
              "        vertical-align: middle;\n",
              "    }\n",
              "\n",
              "    .dataframe tbody tr th {\n",
              "        vertical-align: top;\n",
              "    }\n",
              "\n",
              "    .dataframe thead th {\n",
              "        text-align: right;\n",
              "    }\n",
              "</style>\n",
              "<table border=\"1\" class=\"dataframe\">\n",
              "  <thead>\n",
              "    <tr style=\"text-align: right;\">\n",
              "      <th></th>\n",
              "      <th>0</th>\n",
              "      <th>1</th>\n",
              "    </tr>\n",
              "  </thead>\n",
              "  <tbody>\n",
              "    <tr>\n",
              "      <th>0</th>\n",
              "      <td>'</td>\n",
              "      <td>s</td>\n",
              "    </tr>\n",
              "    <tr>\n",
              "      <th>1</th>\n",
              "      <td>we</td>\n",
              "      <td>will</td>\n",
              "    </tr>\n",
              "    <tr>\n",
              "      <th>2</th>\n",
              "      <td>of</td>\n",
              "      <td>our</td>\n",
              "    </tr>\n",
              "    <tr>\n",
              "      <th>3</th>\n",
              "      <td>a</td>\n",
              "      <td>new</td>\n",
              "    </tr>\n",
              "    <tr>\n",
              "      <th>4</th>\n",
              "      <td>,</td>\n",
              "      <td>but</td>\n",
              "    </tr>\n",
              "    <tr>\n",
              "      <th>5</th>\n",
              "      <td>no</td>\n",
              "      <td>less</td>\n",
              "    </tr>\n",
              "    <tr>\n",
              "      <th>6</th>\n",
              "      <td>once</td>\n",
              "      <td>more</td>\n",
              "    </tr>\n",
              "    <tr>\n",
              "      <th>7</th>\n",
              "      <td>on</td>\n",
              "      <td>the</td>\n",
              "    </tr>\n",
              "    <tr>\n",
              "      <th>8</th>\n",
              "      <td>have</td>\n",
              "      <td>been</td>\n",
              "    </tr>\n",
              "    <tr>\n",
              "      <th>9</th>\n",
              "      <td>health</td>\n",
              "      <td>care</td>\n",
              "    </tr>\n",
              "  </tbody>\n",
              "</table>\n",
              "</div>\n",
              "      <button class=\"colab-df-convert\" onclick=\"convertToInteractive('df-835e4c57-647a-443d-a80d-44e0f28e935a')\"\n",
              "              title=\"Convert this dataframe to an interactive table.\"\n",
              "              style=\"display:none;\">\n",
              "        \n",
              "  <svg xmlns=\"http://www.w3.org/2000/svg\" height=\"24px\"viewBox=\"0 0 24 24\"\n",
              "       width=\"24px\">\n",
              "    <path d=\"M0 0h24v24H0V0z\" fill=\"none\"/>\n",
              "    <path d=\"M18.56 5.44l.94 2.06.94-2.06 2.06-.94-2.06-.94-.94-2.06-.94 2.06-2.06.94zm-11 1L8.5 8.5l.94-2.06 2.06-.94-2.06-.94L8.5 2.5l-.94 2.06-2.06.94zm10 10l.94 2.06.94-2.06 2.06-.94-2.06-.94-.94-2.06-.94 2.06-2.06.94z\"/><path d=\"M17.41 7.96l-1.37-1.37c-.4-.4-.92-.59-1.43-.59-.52 0-1.04.2-1.43.59L10.3 9.45l-7.72 7.72c-.78.78-.78 2.05 0 2.83L4 21.41c.39.39.9.59 1.41.59.51 0 1.02-.2 1.41-.59l7.78-7.78 2.81-2.81c.8-.78.8-2.07 0-2.86zM5.41 20L4 18.59l7.72-7.72 1.47 1.35L5.41 20z\"/>\n",
              "  </svg>\n",
              "      </button>\n",
              "      \n",
              "  <style>\n",
              "    .colab-df-container {\n",
              "      display:flex;\n",
              "      flex-wrap:wrap;\n",
              "      gap: 12px;\n",
              "    }\n",
              "\n",
              "    .colab-df-convert {\n",
              "      background-color: #E8F0FE;\n",
              "      border: none;\n",
              "      border-radius: 50%;\n",
              "      cursor: pointer;\n",
              "      display: none;\n",
              "      fill: #1967D2;\n",
              "      height: 32px;\n",
              "      padding: 0 0 0 0;\n",
              "      width: 32px;\n",
              "    }\n",
              "\n",
              "    .colab-df-convert:hover {\n",
              "      background-color: #E2EBFA;\n",
              "      box-shadow: 0px 1px 2px rgba(60, 64, 67, 0.3), 0px 1px 3px 1px rgba(60, 64, 67, 0.15);\n",
              "      fill: #174EA6;\n",
              "    }\n",
              "\n",
              "    [theme=dark] .colab-df-convert {\n",
              "      background-color: #3B4455;\n",
              "      fill: #D2E3FC;\n",
              "    }\n",
              "\n",
              "    [theme=dark] .colab-df-convert:hover {\n",
              "      background-color: #434B5C;\n",
              "      box-shadow: 0px 1px 3px 1px rgba(0, 0, 0, 0.15);\n",
              "      filter: drop-shadow(0px 1px 2px rgba(0, 0, 0, 0.3));\n",
              "      fill: #FFFFFF;\n",
              "    }\n",
              "  </style>\n",
              "\n",
              "      <script>\n",
              "        const buttonEl =\n",
              "          document.querySelector('#df-835e4c57-647a-443d-a80d-44e0f28e935a button.colab-df-convert');\n",
              "        buttonEl.style.display =\n",
              "          google.colab.kernel.accessAllowed ? 'block' : 'none';\n",
              "\n",
              "        async function convertToInteractive(key) {\n",
              "          const element = document.querySelector('#df-835e4c57-647a-443d-a80d-44e0f28e935a');\n",
              "          const dataTable =\n",
              "            await google.colab.kernel.invokeFunction('convertToInteractive',\n",
              "                                                     [key], {});\n",
              "          if (!dataTable) return;\n",
              "\n",
              "          const docLinkHtml = 'Like what you see? Visit the ' +\n",
              "            '<a target=\"_blank\" href=https://colab.research.google.com/notebooks/data_table.ipynb>data table notebook</a>'\n",
              "            + ' to learn more about interactive tables.';\n",
              "          element.innerHTML = '';\n",
              "          dataTable['output_type'] = 'display_data';\n",
              "          await google.colab.output.renderOutput(dataTable, element);\n",
              "          const docLink = document.createElement('div');\n",
              "          docLink.innerHTML = docLinkHtml;\n",
              "          element.appendChild(docLink);\n",
              "        }\n",
              "      </script>\n",
              "    </div>\n",
              "  </div>\n",
              "  "
            ]
          },
          "metadata": {},
          "execution_count": 95
        }
      ],
      "source": [
        "finder = BigramCollocationFinder.from_words(obama)\n",
        "df7 = pd.DataFrame(finder.nbest(BigramAssocMeasures.likelihood_ratio, 10))\n",
        "df7"
      ]
    },
    {
      "cell_type": "markdown",
      "metadata": {
        "id": "8O-0sDE5NsbA"
      },
      "source": [
        "Step 3<br>\n",
        "Let's eliminate the stopwords<br>\n",
        "The output looks much better and the collocations seem much more probable"
      ]
    },
    {
      "cell_type": "code",
      "execution_count": null,
      "metadata": {
        "colab": {
          "base_uri": "https://localhost:8080/",
          "height": 322
        },
        "id": "dJ70n8LpNsbB",
        "outputId": "783ac13b-dfae-4409-da5e-007306a7d9fb"
      },
      "outputs": [
        {
          "output_type": "execute_result",
          "data": {
            "text/plain": [
              "           0          1\n",
              "0     health       care\n",
              "1       even    greater\n",
              "2        god      bless\n",
              "3        new        age\n",
              "4        new        era\n",
              "5     always   depended\n",
              "6     amidst  gathering\n",
              "7  arlington    whisper\n",
              "8      aside   childish\n",
              "9        bad     habits"
            ],
            "text/html": [
              "\n",
              "  <div id=\"df-df2117c4-c65c-4d35-a680-f143b5fdf907\">\n",
              "    <div class=\"colab-df-container\">\n",
              "      <div>\n",
              "<style scoped>\n",
              "    .dataframe tbody tr th:only-of-type {\n",
              "        vertical-align: middle;\n",
              "    }\n",
              "\n",
              "    .dataframe tbody tr th {\n",
              "        vertical-align: top;\n",
              "    }\n",
              "\n",
              "    .dataframe thead th {\n",
              "        text-align: right;\n",
              "    }\n",
              "</style>\n",
              "<table border=\"1\" class=\"dataframe\">\n",
              "  <thead>\n",
              "    <tr style=\"text-align: right;\">\n",
              "      <th></th>\n",
              "      <th>0</th>\n",
              "      <th>1</th>\n",
              "    </tr>\n",
              "  </thead>\n",
              "  <tbody>\n",
              "    <tr>\n",
              "      <th>0</th>\n",
              "      <td>health</td>\n",
              "      <td>care</td>\n",
              "    </tr>\n",
              "    <tr>\n",
              "      <th>1</th>\n",
              "      <td>even</td>\n",
              "      <td>greater</td>\n",
              "    </tr>\n",
              "    <tr>\n",
              "      <th>2</th>\n",
              "      <td>god</td>\n",
              "      <td>bless</td>\n",
              "    </tr>\n",
              "    <tr>\n",
              "      <th>3</th>\n",
              "      <td>new</td>\n",
              "      <td>age</td>\n",
              "    </tr>\n",
              "    <tr>\n",
              "      <th>4</th>\n",
              "      <td>new</td>\n",
              "      <td>era</td>\n",
              "    </tr>\n",
              "    <tr>\n",
              "      <th>5</th>\n",
              "      <td>always</td>\n",
              "      <td>depended</td>\n",
              "    </tr>\n",
              "    <tr>\n",
              "      <th>6</th>\n",
              "      <td>amidst</td>\n",
              "      <td>gathering</td>\n",
              "    </tr>\n",
              "    <tr>\n",
              "      <th>7</th>\n",
              "      <td>arlington</td>\n",
              "      <td>whisper</td>\n",
              "    </tr>\n",
              "    <tr>\n",
              "      <th>8</th>\n",
              "      <td>aside</td>\n",
              "      <td>childish</td>\n",
              "    </tr>\n",
              "    <tr>\n",
              "      <th>9</th>\n",
              "      <td>bad</td>\n",
              "      <td>habits</td>\n",
              "    </tr>\n",
              "  </tbody>\n",
              "</table>\n",
              "</div>\n",
              "      <button class=\"colab-df-convert\" onclick=\"convertToInteractive('df-df2117c4-c65c-4d35-a680-f143b5fdf907')\"\n",
              "              title=\"Convert this dataframe to an interactive table.\"\n",
              "              style=\"display:none;\">\n",
              "        \n",
              "  <svg xmlns=\"http://www.w3.org/2000/svg\" height=\"24px\"viewBox=\"0 0 24 24\"\n",
              "       width=\"24px\">\n",
              "    <path d=\"M0 0h24v24H0V0z\" fill=\"none\"/>\n",
              "    <path d=\"M18.56 5.44l.94 2.06.94-2.06 2.06-.94-2.06-.94-.94-2.06-.94 2.06-2.06.94zm-11 1L8.5 8.5l.94-2.06 2.06-.94-2.06-.94L8.5 2.5l-.94 2.06-2.06.94zm10 10l.94 2.06.94-2.06 2.06-.94-2.06-.94-.94-2.06-.94 2.06-2.06.94z\"/><path d=\"M17.41 7.96l-1.37-1.37c-.4-.4-.92-.59-1.43-.59-.52 0-1.04.2-1.43.59L10.3 9.45l-7.72 7.72c-.78.78-.78 2.05 0 2.83L4 21.41c.39.39.9.59 1.41.59.51 0 1.02-.2 1.41-.59l7.78-7.78 2.81-2.81c.8-.78.8-2.07 0-2.86zM5.41 20L4 18.59l7.72-7.72 1.47 1.35L5.41 20z\"/>\n",
              "  </svg>\n",
              "      </button>\n",
              "      \n",
              "  <style>\n",
              "    .colab-df-container {\n",
              "      display:flex;\n",
              "      flex-wrap:wrap;\n",
              "      gap: 12px;\n",
              "    }\n",
              "\n",
              "    .colab-df-convert {\n",
              "      background-color: #E8F0FE;\n",
              "      border: none;\n",
              "      border-radius: 50%;\n",
              "      cursor: pointer;\n",
              "      display: none;\n",
              "      fill: #1967D2;\n",
              "      height: 32px;\n",
              "      padding: 0 0 0 0;\n",
              "      width: 32px;\n",
              "    }\n",
              "\n",
              "    .colab-df-convert:hover {\n",
              "      background-color: #E2EBFA;\n",
              "      box-shadow: 0px 1px 2px rgba(60, 64, 67, 0.3), 0px 1px 3px 1px rgba(60, 64, 67, 0.15);\n",
              "      fill: #174EA6;\n",
              "    }\n",
              "\n",
              "    [theme=dark] .colab-df-convert {\n",
              "      background-color: #3B4455;\n",
              "      fill: #D2E3FC;\n",
              "    }\n",
              "\n",
              "    [theme=dark] .colab-df-convert:hover {\n",
              "      background-color: #434B5C;\n",
              "      box-shadow: 0px 1px 3px 1px rgba(0, 0, 0, 0.15);\n",
              "      filter: drop-shadow(0px 1px 2px rgba(0, 0, 0, 0.3));\n",
              "      fill: #FFFFFF;\n",
              "    }\n",
              "  </style>\n",
              "\n",
              "      <script>\n",
              "        const buttonEl =\n",
              "          document.querySelector('#df-df2117c4-c65c-4d35-a680-f143b5fdf907 button.colab-df-convert');\n",
              "        buttonEl.style.display =\n",
              "          google.colab.kernel.accessAllowed ? 'block' : 'none';\n",
              "\n",
              "        async function convertToInteractive(key) {\n",
              "          const element = document.querySelector('#df-df2117c4-c65c-4d35-a680-f143b5fdf907');\n",
              "          const dataTable =\n",
              "            await google.colab.kernel.invokeFunction('convertToInteractive',\n",
              "                                                     [key], {});\n",
              "          if (!dataTable) return;\n",
              "\n",
              "          const docLinkHtml = 'Like what you see? Visit the ' +\n",
              "            '<a target=\"_blank\" href=https://colab.research.google.com/notebooks/data_table.ipynb>data table notebook</a>'\n",
              "            + ' to learn more about interactive tables.';\n",
              "          element.innerHTML = '';\n",
              "          dataTable['output_type'] = 'display_data';\n",
              "          await google.colab.output.renderOutput(dataTable, element);\n",
              "          const docLink = document.createElement('div');\n",
              "          docLink.innerHTML = docLinkHtml;\n",
              "          element.appendChild(docLink);\n",
              "        }\n",
              "      </script>\n",
              "    </div>\n",
              "  </div>\n",
              "  "
            ]
          },
          "metadata": {},
          "execution_count": 97
        }
      ],
      "source": [
        "stopset = set(stopwords.words('english'))\n",
        "filter_stops = lambda w: len(w) < 3 or w in stopset\n",
        "finder.apply_word_filter(filter_stops)\n",
        "df7 = pd.DataFrame(finder.nbest(BigramAssocMeasures.likelihood_ratio, 10))\n",
        "df7"
      ]
    },
    {
      "cell_type": "markdown",
      "metadata": {
        "id": "8T5p8j2GNsbC"
      },
      "source": [
        "1.6 Annotated text corpora in NLTK<br>\n",
        "\tCheck out Table 1.2 for a list of available corpora"
      ]
    },
    {
      "cell_type": "markdown",
      "metadata": {
        "id": "7vhjN1B9NsbC"
      },
      "source": [
        "1.7 Corpora in other languages"
      ]
    },
    {
      "cell_type": "markdown",
      "metadata": {
        "id": "YkfzGNTiNsbD"
      },
      "source": [
        "Check out the corpora available in other languages in NLTK<br>\n",
        "We will look at the Universal Declaration of Human Rights (1948) translated in over 300 languages<br>\n",
        "This is a comparative or parallel corpus<br>\n",
        "Let's look at the languages available"
      ]
    },
    {
      "cell_type": "code",
      "execution_count": null,
      "metadata": {
        "colab": {
          "base_uri": "https://localhost:8080/"
        },
        "id": "NxYzkPSRNsbH",
        "outputId": "0aecf68d-3f96-4f04-b83e-2cc5350453a2"
      },
      "outputs": [
        {
          "output_type": "stream",
          "name": "stdout",
          "text": [
            "['Abkhaz-Cyrillic+Abkh', 'Abkhaz-UTF8', 'Achehnese-Latin1', 'Achuar-Shiwiar-Latin1', 'Adja-UTF8', 'Afaan_Oromo_Oromiffa-Latin1', 'Afrikaans-Latin1', 'Aguaruna-Latin1', 'Akuapem_Twi-UTF8', 'Albanian_Shqip-Latin1', 'Amahuaca', 'Amahuaca-Latin1', 'Amarakaeri-Latin1', 'Amuesha-Yanesha-UTF8', 'Arabela-Latin1', 'Arabic_Alarabia-Arabic', 'Asante-UTF8', 'Ashaninca-Latin1', 'Asheninca-Latin1', 'Asturian_Bable-Latin1', 'Aymara-Latin1', 'Balinese-Latin1', 'Bambara-UTF8', 'Baoule-UTF8', 'Basque_Euskara-Latin1', 'Batonu_Bariba-UTF8', 'Belorus_Belaruski-Cyrillic', 'Belorus_Belaruski-UTF8', 'Bemba-Latin1', 'Bengali-UTF8', 'Beti-UTF8', 'Bichelamar-Latin1', 'Bikol_Bicolano-Latin1', 'Bora-Latin1', 'Bosnian_Bosanski-Cyrillic', 'Bosnian_Bosanski-Latin2', 'Bosnian_Bosanski-UTF8', 'Breton-Latin1', 'Bugisnese-Latin1', 'Bulgarian_Balgarski-Cyrillic', 'Bulgarian_Balgarski-UTF8', 'Cakchiquel-Latin1', 'Campa_Pajonalino-Latin1', 'Candoshi-Shapra-Latin1', 'Caquinte-Latin1', 'Cashibo-Cacataibo-Latin1', 'Cashinahua-Latin1', 'Catalan-Latin1', 'Catalan_Catala-Latin1', 'Cebuano-Latin1', 'Chamorro-Latin1', 'Chayahuita-Latin1', 'Chechewa_Nyanja-Latin1', 'Chickasaw-Latin1', 'Chinanteco-Ajitlan-Latin1', 'Chinanteco-UTF8', 'Chinese_Mandarin-GB2312', 'Chuuk_Trukese-Latin1', 'Cokwe-Latin1', 'Corsican-Latin1', 'Croatian_Hrvatski-Latin2', 'Czech-Latin2', 'Czech-UTF8', 'Czech_Cesky-Latin2', 'Czech_Cesky-UTF8', 'Dagaare-UTF8', 'Dagbani-UTF8', 'Dangme-UTF8', 'Danish_Dansk-Latin1', 'Dendi-UTF8', 'Ditammari-UTF8', 'Dutch_Nederlands-Latin1', 'Edo-Latin1', 'English-Latin1', 'Esperanto-UTF8', 'Estonian_Eesti-Latin1', 'Ewe_Eve-UTF8', 'Fante-UTF8', 'Faroese-Latin1', 'Farsi_Persian-UTF8', 'Farsi_Persian-v2-UTF8', 'Fijian-Latin1', 'Filipino_Tagalog-Latin1', 'Finnish_Suomi-Latin1', 'Fon-UTF8', 'French_Francais-Latin1', 'Frisian-Latin1', 'Friulian_Friulano-Latin1', 'Ga-UTF8', 'Gagauz_Gagauzi-UTF8', 'Galician_Galego-Latin1', 'Garifuna_Garifuna-Latin1', 'German_Deutsch-Latin1', 'Gonja-UTF8', 'Greek_Ellinika-Greek', 'Greek_Ellinika-UTF8', 'Greenlandic_Inuktikut-Latin1', 'Guarani-Latin1', 'Guen_Mina-UTF8', 'HaitianCreole_Kreyol-Latin1', 'HaitianCreole_Popular-Latin1', 'Hani-Latin1', 'Hausa_Haoussa-Latin1', 'Hawaiian-UTF8', 'Hebrew_Ivrit-Hebrew', 'Hebrew_Ivrit-UTF8', 'Hiligaynon-Latin1', 'Hindi-UTF8', 'Hindi_web-UTF8', 'Hmong_Miao-Sichuan-Guizhou-Yunnan-Latin1', 'Hmong_Miao-SouthernEast-Guizhou-Latin1', 'Hmong_Miao_Northern-East-Guizhou-Latin1', 'Hrvatski_Croatian-Latin2', 'Huasteco-Latin1', 'Huitoto_Murui-Latin1', 'Hungarian_Magyar-Latin1', 'Hungarian_Magyar-Latin2', 'Hungarian_Magyar-UTF8', 'Ibibio_Efik-Latin1', 'Icelandic_Yslenska-Latin1', 'Ido-Latin1', 'Igbo-UTF8', 'Iloko_Ilocano-Latin1', 'Indonesian-Latin1', 'Interlingua-Latin1', 'Inuktikut_Greenlandic-Latin1', 'IrishGaelic_Gaeilge-Latin1', 'Italian-Latin1', 'Italian_Italiano-Latin1', 'Japanese_Nihongo-EUC', 'Japanese_Nihongo-SJIS', 'Japanese_Nihongo-UTF8', 'Javanese-Latin1', 'Jola-Fogny_Diola-UTF8', 'Kabye-UTF8', 'Kannada-UTF8', 'Kaonde-Latin1', 'Kapampangan-Latin1', 'Kasem-UTF8', 'Kazakh-Cyrillic', 'Kazakh-UTF8', 'Kiche_Quiche-Latin1', 'Kicongo-Latin1', 'Kimbundu_Mbundu-Latin1', 'Kinyamwezi_Nyamwezi-Latin1', 'Kinyarwanda-Latin1', 'Kituba-Latin1', 'Korean_Hankuko-UTF8', 'Kpelewo-UTF8', 'Krio-UTF8', 'Kurdish-UTF8', 'Lamnso_Lam-nso-UTF8', 'Latin_Latina-Latin1', 'Latin_Latina-v2-Latin1', 'Latvian-Latin1', 'Limba-UTF8', 'Lingala-Latin1', 'Lithuanian_Lietuviskai-Baltic', 'Lozi-Latin1', 'Luba-Kasai_Tshiluba-Latin1', 'Luganda_Ganda-Latin1', 'Lunda_Chokwe-lunda-Latin1', 'Luvale-Latin1', 'Luxembourgish_Letzebuergeusch-Latin1', 'Macedonian-UTF8', 'Madurese-Latin1', 'Makonde-Latin1', 'Malagasy-Latin1', 'Malay_BahasaMelayu-Latin1', 'Maltese-UTF8', 'Mam-Latin1', 'Maninka-UTF8', 'Maori-Latin1', 'Mapudungun_Mapuzgun-Latin1', 'Mapudungun_Mapuzgun-UTF8', 'Marshallese-Latin1', 'Matses-Latin1', 'Mayan_Yucateco-Latin1', 'Mazahua_Jnatrjo-UTF8', 'Mazateco-Latin1', 'Mende-UTF8', 'Mikmaq_Micmac-Mikmaq-Latin1', 'Minangkabau-Latin1', 'Miskito_Miskito-Latin1', 'Mixteco-Latin1', 'Mongolian_Khalkha-Cyrillic', 'Mongolian_Khalkha-UTF8', 'Moore_More-UTF8', 'Nahuatl-Latin1', 'Ndebele-Latin1', 'Nepali-UTF8', 'Ngangela_Nyemba-Latin1', 'NigerianPidginEnglish-Latin1', 'Nomatsiguenga-Latin1', 'NorthernSotho_Pedi-Sepedi-Latin1', 'Norwegian-Latin1', 'Norwegian_Norsk-Bokmal-Latin1', 'Norwegian_Norsk-Nynorsk-Latin1', 'Nyanja_Chechewa-Latin1', 'Nyanja_Chinyanja-Latin1', 'Nzema-UTF8', 'OccitanAuvergnat-Latin1', 'OccitanLanguedocien-Latin1', 'Oromiffa_AfaanOromo-Latin1', 'Osetin_Ossetian-UTF8', 'Oshiwambo_Ndonga-Latin1', 'Otomi_Nahnu-Latin1', 'Paez-Latin1', 'Palauan-Latin1', 'Peuhl-UTF8', 'Picard-Latin1', 'Pipil-Latin1', 'Polish-Latin2', 'Polish_Polski-Latin2', 'Ponapean-Latin1', 'Portuguese_Portugues-Latin1', 'Pulaar-UTF8', 'Punjabi_Panjabi-UTF8', 'Purhepecha-UTF8', 'Qechi_Kekchi-Latin1', 'Quechua-Latin1', 'Quichua-Latin1', 'Rarotongan_MaoriCookIslands-Latin1', 'Rhaeto-Romance_Rumantsch-Latin1', 'Romani-Latin1', 'Romani-UTF8', 'Romanian-Latin2', 'Romanian_Romana-Latin2', 'Rukonzo_Konjo-Latin1', 'Rundi_Kirundi-Latin1', 'Runyankore-rukiga_Nkore-kiga-Latin1', 'Russian-Cyrillic', 'Russian-UTF8', 'Russian_Russky-Cyrillic', 'Russian_Russky-UTF8', 'Sami_Lappish-UTF8', 'Sammarinese-Latin1', 'Samoan-Latin1', 'Sango_Sangho-Latin1', 'Sanskrit-UTF8', 'Saraiki-UTF8', 'Sardinian-Latin1', 'ScottishGaelic_GaidhligAlbanach-Latin1', 'Seereer-UTF8', 'Serbian_Srpski-Cyrillic', 'Serbian_Srpski-Latin2', 'Serbian_Srpski-UTF8', 'Sharanahua-Latin1', 'Shipibo-Conibo-Latin1', 'Shona-Latin1', 'Sinhala-UTF8', 'Siswati-Latin1', 'Slovak-Latin2', 'Slovak_Slovencina-Latin2', 'Slovenian_Slovenscina-Latin2', 'SolomonsPidgin_Pijin-Latin1', 'Somali-Latin1', 'Soninke_Soninkanxaane-UTF8', 'Sorbian-Latin2', 'SouthernSotho_Sotho-Sesotho-Sutu-Sesutu-Latin1', 'Spanish-Latin1', 'Spanish_Espanol-Latin1', 'Sukuma-Latin1', 'Sundanese-Latin1', 'Sussu_Soussou-Sosso-Soso-Susu-UTF8', 'Swaheli-Latin1', 'Swahili_Kiswahili-Latin1', 'Swedish_Svenska-Latin1', 'Tahitian-UTF8', 'Tenek_Huasteco-Latin1', 'Tetum-Latin1', 'Themne_Temne-UTF8', 'Tiv-Latin1', 'Toba-UTF8', 'Tojol-abal-Latin1', 'TokPisin-Latin1', 'Tonga-Latin1', 'Tongan_Tonga-Latin1', 'Totonaco-Latin1', 'Trukese_Chuuk-Latin1', 'Turkish_Turkce-Turkish', 'Turkish_Turkce-UTF8', 'Tzeltal-Latin1', 'Tzotzil-Latin1', 'Uighur_Uyghur-Latin1', 'Uighur_Uyghur-UTF8', 'Ukrainian-Cyrillic', 'Ukrainian-UTF8', 'Umbundu-Latin1', 'Urarina-Latin1', 'Uzbek-Latin1', 'Vietnamese-ALRN-UTF8', 'Vietnamese-UTF8', 'Vlach-Latin1', 'Walloon_Wallon-Latin1', 'Wama-UTF8', 'Waray-Latin1', 'Wayuu-Latin1', 'Welsh_Cymraeg-Latin1', 'WesternSotho_Tswana-Setswana-Latin1', 'Wolof-Latin1', 'Xhosa-Latin1', 'Yagua-Latin1', 'Yao-Latin1', 'Yapese-Latin1', 'Yoruba-UTF8', 'Zapoteco-Latin1', 'Zapoteco-SanLucasQuiavini-Latin1', 'Zhuang-Latin1', 'Zulu-Latin1']\n"
          ]
        }
      ],
      "source": [
        "print(nltk.corpus.udhr.fileids())"
      ]
    },
    {
      "cell_type": "markdown",
      "metadata": {
        "id": "dArsm7UvNsbH"
      },
      "source": [
        "Let's use a conditional frequency distribution to examine the differences<br>\n",
        "in word lengths for a selection of languages<br>\n",
        "You can change the name of the languages to plot the results for the languages of your choice<br>\n",
        "But heads up, depending on the languages we need to learn how to manipulate character encodings in Python<br>\n",
        "before using these corpora. This has to do with the endings like '-Latin1', '-UTF8', etc."
      ]
    },
    {
      "cell_type": "code",
      "execution_count": null,
      "metadata": {
        "id": "gW8BSYOqNsbH"
      },
      "outputs": [],
      "source": [
        "from nltk.corpus import udhr"
      ]
    },
    {
      "cell_type": "code",
      "execution_count": null,
      "metadata": {
        "colab": {
          "base_uri": "https://localhost:8080/",
          "height": 282
        },
        "id": "FxdGE991NsbM",
        "outputId": "da7376ed-8928-486e-e71f-dce4176de34f"
      },
      "outputs": [
        {
          "output_type": "display_data",
          "data": {
            "text/plain": [
              "<Figure size 432x288 with 1 Axes>"
            ],
            "image/png": "[encoded data removed]"
          },
          "metadata": {
            "needs_background": "light"
          }
        }
      ],
      "source": [
        "languages = ['English', 'German_Deutsch', 'Spanish', 'Zapoteco', 'Wolof']\n",
        "cfd = nltk.ConditionalFreqDist(\n",
        "    (lang, len(word))\n",
        "    for lang in languages\n",
        "    for word in udhr.words(lang + '-Latin1'))\n",
        "cfd.plot(cumulative=True)"
      ]
    },
    {
      "cell_type": "markdown",
      "metadata": {
        "id": "s33DMS90NsbN"
      },
      "source": [
        "EXERCISE 2<br>\n",
        "Plot a conditional frequency distribution using 'udhr' to examine the differences in word<br>\n",
        "lengths across a selection of languages that you choose"
      ]
    },
    {
      "cell_type": "code",
      "execution_count": null,
      "metadata": {
        "colab": {
          "base_uri": "https://localhost:8080/",
          "height": 282
        },
        "id": "C20LJpxFNsbO",
        "outputId": "801e8ba7-5ebe-4d35-ca2c-973064796bbe"
      },
      "outputs": [
        {
          "output_type": "display_data",
          "data": {
            "text/plain": [
              "<Figure size 432x288 with 1 Axes>"
            ],
            "image/png": "[encoded data removed]"
          },
          "metadata": {
            "needs_background": "light"
          }
        }
      ],
      "source": [
        "languages2 = ['Achehnese', 'Afrikaans', 'Danish_Dansk', 'Filipino_Tagalog', 'Galician_Galego']\n",
        "cfd2 = nltk.ConditionalFreqDist(\n",
        "    (lang, len(word))\n",
        "    for lang in languages2\n",
        "    for word in udhr.words(lang + '-Latin1'))\n",
        "cfd2.plot(cumulative=True)"
      ]
    },
    {
      "cell_type": "markdown",
      "metadata": {
        "id": "gr2GvQVrNsbO"
      },
      "source": [
        "We can tabulate the cumulative frequency data for the languages"
      ]
    },
    {
      "cell_type": "code",
      "execution_count": null,
      "metadata": {
        "colab": {
          "base_uri": "https://localhost:8080/"
        },
        "id": "jiOMWFQdNsbO",
        "outputId": "ba304ee5-a8b7-43ce-9cdf-ec5effb43ac1"
      },
      "outputs": [
        {
          "output_type": "stream",
          "name": "stdout",
          "text": [
            "                  0    1    2    3    4    5    6    7    8    9 \n",
            "       English    0  185  525  883  997 1166 1283 1440 1558 1638 \n",
            "German_Deutsch    0  171  263  614  717  894 1013 1110 1213 1275 \n",
            "       Spanish    0  356  721  871  972 1096 1173 1329 1487 1563 \n",
            "      Zapoteco    0  295  504  864 1529 1620 1644 1652 1660 1661 \n",
            "         Wolof    0  365 1083 1417 1793 1966 2084 2165 2265 2298 \n"
          ]
        }
      ],
      "source": [
        "cfd.tabulate(conditions=languages,samples=range(10), cumulative=True)"
      ]
    },
    {
      "cell_type": "code",
      "source": [
        "cfd2.tabulate(conditions=languages2,samples=range(10), cumulative=True)"
      ],
      "metadata": {
        "colab": {
          "base_uri": "https://localhost:8080/"
        },
        "id": "f84mhobDttmW",
        "outputId": "eaeab0d5-7189-4e1b-a362-f904f8a53c5b"
      },
      "execution_count": null,
      "outputs": [
        {
          "output_type": "stream",
          "name": "stdout",
          "text": [
            "                    0    1    2    3    4    5    6    7    8    9 \n",
            "       Achehnese    0  354  440  656  987 1265 1470 1639 1733 1802 \n",
            "       Afrikaans    0  209  495  960 1090 1205 1331 1476 1547 1630 \n",
            "    Danish_Dansk    0  229  517  809  948 1098 1222 1340 1404 1481 \n",
            "Filipino_Tagalog    0  300  734  963 1040 1173 1274 1359 1474 1581 \n",
            " Galician_Galego    0  499  725  910 1036 1144 1282 1436 1555 1635 \n"
          ]
        }
      ]
    },
    {
      "cell_type": "markdown",
      "metadata": {
        "id": "7AGVaaFGNsbP"
      },
      "source": [
        "1.8 Text corpus structure<br>\n",
        "\tCheck out Table 1.3 for a list of useful functions"
      ]
    },
    {
      "cell_type": "markdown",
      "metadata": {
        "id": "oREyD9MWNsbP"
      },
      "source": [
        "2 Conditional frequency distributions"
      ]
    },
    {
      "cell_type": "markdown",
      "metadata": {
        "id": "rfUXWgGXNsbP"
      },
      "source": [
        "A conditional frequency distribution is a collection of frequency distributions, each one<br>\n",
        "for a different \"condition\". The condition will often be the category of the text like 'news' or 'fiction'"
      ]
    },
    {
      "cell_type": "markdown",
      "metadata": {
        "id": "iV_gtBXDNsbQ"
      },
      "source": [
        "We were introduced to conditional frequency distributions earlier in this lab with the Brown Corpus where genre was<br>\n",
        "the condition and again when plotting the word lengths for languages, where language was the condition."
      ]
    },
    {
      "cell_type": "markdown",
      "metadata": {
        "id": "pdOX-FveNsbQ"
      },
      "source": [
        "2.1 Conditions and events"
      ]
    },
    {
      "cell_type": "markdown",
      "metadata": {
        "id": "-oKahjXENsbQ"
      },
      "source": [
        "2.2 Counting words by genre"
      ]
    },
    {
      "cell_type": "markdown",
      "metadata": {
        "id": "4XP7_l8nNsbQ"
      },
      "source": [
        "2.3 Plotting and tabulating distributions<br>\n",
        "\tCheck out Table 2.1 for a list of useful functions"
      ]
    },
    {
      "cell_type": "markdown",
      "metadata": {
        "id": "XeKDSPVMNsbR"
      },
      "source": [
        "4 Lexical Resources"
      ]
    },
    {
      "cell_type": "markdown",
      "metadata": {
        "id": "0Ly6TqyvNsbR"
      },
      "source": [
        "4.1 Wordlist corpora<br>\n",
        "\tstopwords<br>\n",
        "There is also a corpus of stopwords, that is, high-frequency words like the, to and also that we sometimes<br>\n",
        "want to filter out of a document before further processing. Stopwords usually have little lexical content,<br>\n",
        "and their presence in a text fails to distinguish it from other texts."
      ]
    },
    {
      "cell_type": "markdown",
      "metadata": {
        "id": "J9KpWCClNsbS"
      },
      "source": [
        "print the list of stopwords in English"
      ]
    },
    {
      "cell_type": "code",
      "execution_count": null,
      "metadata": {
        "colab": {
          "base_uri": "https://localhost:8080/"
        },
        "id": "ysPTnMmrNsbS",
        "outputId": "71bb90c7-36af-4f60-9fd1-baa1e91889dd"
      },
      "outputs": [
        {
          "output_type": "stream",
          "name": "stdout",
          "text": [
            "['i', 'me', 'my', 'myself', 'we', 'our', 'ours', 'ourselves', 'you', \"you're\", \"you've\", \"you'll\", \"you'd\", 'your', 'yours', 'yourself', 'yourselves', 'he', 'him', 'his', 'himself', 'she', \"she's\", 'her', 'hers', 'herself', 'it', \"it's\", 'its', 'itself', 'they', 'them', 'their', 'theirs', 'themselves', 'what', 'which', 'who', 'whom', 'this', 'that', \"that'll\", 'these', 'those', 'am', 'is', 'are', 'was', 'were', 'be', 'been', 'being', 'have', 'has', 'had', 'having', 'do', 'does', 'did', 'doing', 'a', 'an', 'the', 'and', 'but', 'if', 'or', 'because', 'as', 'until', 'while', 'of', 'at', 'by', 'for', 'with', 'about', 'against', 'between', 'into', 'through', 'during', 'before', 'after', 'above', 'below', 'to', 'from', 'up', 'down', 'in', 'out', 'on', 'off', 'over', 'under', 'again', 'further', 'then', 'once', 'here', 'there', 'when', 'where', 'why', 'how', 'all', 'any', 'both', 'each', 'few', 'more', 'most', 'other', 'some', 'such', 'no', 'nor', 'not', 'only', 'own', 'same', 'so', 'than', 'too', 'very', 's', 't', 'can', 'will', 'just', 'don', \"don't\", 'should', \"should've\", 'now', 'd', 'll', 'm', 'o', 're', 've', 'y', 'ain', 'aren', \"aren't\", 'couldn', \"couldn't\", 'didn', \"didn't\", 'doesn', \"doesn't\", 'hadn', \"hadn't\", 'hasn', \"hasn't\", 'haven', \"haven't\", 'isn', \"isn't\", 'ma', 'mightn', \"mightn't\", 'mustn', \"mustn't\", 'needn', \"needn't\", 'shan', \"shan't\", 'shouldn', \"shouldn't\", 'wasn', \"wasn't\", 'weren', \"weren't\", 'won', \"won't\", 'wouldn', \"wouldn't\"]\n"
          ]
        }
      ],
      "source": [
        "print(stopwords.words('english'))"
      ]
    },
    {
      "cell_type": "markdown",
      "metadata": {
        "id": "4t8l7VhvNsbS"
      },
      "source": [
        "Let's define a function to compute what fraction of words in a text are not in the stopwords list:"
      ]
    },
    {
      "cell_type": "code",
      "execution_count": null,
      "metadata": {
        "id": "F2DYzwsiNsbS"
      },
      "outputs": [],
      "source": [
        "def content_fraction(text):\n",
        "    stopwords = nltk.corpus.stopwords.words('english')\n",
        "    content = [w for w in text if w.lower() not in stopwords]\n",
        "    return len(content) / len(text)"
      ]
    },
    {
      "cell_type": "markdown",
      "metadata": {
        "id": "KtF5oNgzNsbS"
      },
      "source": [
        "Try the function out on the text \"Alice's Adventures in Wonderland\"<br>\n",
        "The result is the total percentage of words in the text after you removed stopwords"
      ]
    },
    {
      "cell_type": "code",
      "execution_count": null,
      "metadata": {
        "colab": {
          "base_uri": "https://localhost:8080/"
        },
        "id": "9xtTcQrtNsbS",
        "outputId": "379ef09f-eb1b-4137-d2e9-8a4a2bc36f02"
      },
      "outputs": [
        {
          "output_type": "stream",
          "name": "stdout",
          "text": [
            "0.5575197889182057\n"
          ]
        }
      ],
      "source": [
        "print(content_fraction((alice)))"
      ]
    },
    {
      "cell_type": "markdown",
      "metadata": {
        "id": "g1q7BmDeNsbT"
      },
      "source": [
        "Try the function out on the text \"wine\"<br>\n",
        "The result is the total percentage of words in the text after you removed stopwords"
      ]
    },
    {
      "cell_type": "code",
      "execution_count": null,
      "metadata": {
        "colab": {
          "base_uri": "https://localhost:8080/"
        },
        "id": "JMumO9DVNsbT",
        "outputId": "65007aa5-4545-4950-eed0-dbb1951152d6"
      },
      "outputs": [
        {
          "output_type": "stream",
          "name": "stdout",
          "text": [
            "0.6959170653907496\n"
          ]
        }
      ],
      "source": [
        "print(content_fraction((wine)))"
      ]
    },
    {
      "cell_type": "markdown",
      "metadata": {
        "id": "1EckvPIzNsbT"
      },
      "source": [
        "EXERCISE 3<br>\n",
        "Try the function out on the text of your choice by replacing 'wine' with another text<br>\n",
        "The result is the total percentage of words in the text after you removed stopwords<br>\n",
        "What does your search reveal about stopwords and a body of text to you?"
      ]
    },
    {
      "cell_type": "code",
      "execution_count": null,
      "metadata": {
        "colab": {
          "base_uri": "https://localhost:8080/"
        },
        "id": "tExu68HQNsbT",
        "outputId": "03d584f3-83f9-4e41-f395-2cd8a67e4157"
      },
      "outputs": [
        {
          "output_type": "stream",
          "name": "stdout",
          "text": [
            "0.631578947368421\n"
          ]
        }
      ],
      "source": [
        "print(content_fraction((\"1793-Washington.txt\")))"
      ]
    },
    {
      "cell_type": "markdown",
      "metadata": {
        "id": "HBkHyzKRNsbT"
      },
      "source": [
        "4.3 Comparative wordlists<br>\n",
        "Another example of a tabular lexicon is the comparative wordlist.<br>\n",
        "NLTK includes so-called Swadesh wordlists, lists of about 200 common words in several languages."
      ]
    },
    {
      "cell_type": "code",
      "execution_count": null,
      "metadata": {
        "id": "evav_IfmNsbU"
      },
      "outputs": [],
      "source": [
        "from nltk.corpus import swadesh"
      ]
    },
    {
      "cell_type": "markdown",
      "metadata": {
        "id": "oukyqY_nNsbU"
      },
      "source": [
        "Let's look at the languages available"
      ]
    },
    {
      "cell_type": "code",
      "execution_count": null,
      "metadata": {
        "colab": {
          "base_uri": "https://localhost:8080/"
        },
        "id": "3wWv6oc7NsbU",
        "outputId": "8f1316d9-5c03-4bcf-f0af-586754e236a7"
      },
      "outputs": [
        {
          "output_type": "stream",
          "name": "stdout",
          "text": [
            "['be', 'bg', 'bs', 'ca', 'cs', 'cu', 'de', 'en', 'es', 'fr', 'hr', 'it', 'la', 'mk', 'nl', 'pl', 'pt', 'ro', 'ru', 'sk', 'sl', 'sr', 'sw', 'uk']\n"
          ]
        }
      ],
      "source": [
        "print(swadesh.fileids())"
      ]
    },
    {
      "cell_type": "markdown",
      "metadata": {
        "id": "FJSu7gp5NsbU"
      },
      "source": [
        "Let's look at the swadesh list in English. The two letter code is 'en'"
      ]
    },
    {
      "cell_type": "code",
      "execution_count": null,
      "metadata": {
        "colab": {
          "base_uri": "https://localhost:8080/"
        },
        "id": "ms86bZZbNsbU",
        "outputId": "f0b00868-d4c6-4f9b-b923-da0de7c4f874"
      },
      "outputs": [
        {
          "output_type": "stream",
          "name": "stdout",
          "text": [
            "['I', 'you (singular), thou', 'he', 'we', 'you (plural)', 'they', 'this', 'that', 'here', 'there', 'who', 'what', 'where', 'when', 'how', 'not', 'all', 'many', 'some', 'few', 'other', 'one', 'two', 'three', 'four', 'five', 'big', 'long', 'wide', 'thick', 'heavy', 'small', 'short', 'narrow', 'thin', 'woman', 'man (adult male)', 'man (human being)', 'child', 'wife', 'husband', 'mother', 'father', 'animal', 'fish', 'bird', 'dog', 'louse', 'snake', 'worm', 'tree', 'forest', 'stick', 'fruit', 'seed', 'leaf', 'root', 'bark (from tree)', 'flower', 'grass', 'rope', 'skin', 'meat', 'blood', 'bone', 'fat (noun)', 'egg', 'horn', 'tail', 'feather', 'hair', 'head', 'ear', 'eye', 'nose', 'mouth', 'tooth', 'tongue', 'fingernail', 'foot', 'leg', 'knee', 'hand', 'wing', 'belly', 'guts', 'neck', 'back', 'breast', 'heart', 'liver', 'drink', 'eat', 'bite', 'suck', 'spit', 'vomit', 'blow', 'breathe', 'laugh', 'see', 'hear', 'know (a fact)', 'think', 'smell', 'fear', 'sleep', 'live', 'die', 'kill', 'fight', 'hunt', 'hit', 'cut', 'split', 'stab', 'scratch', 'dig', 'swim', 'fly (verb)', 'walk', 'come', 'lie', 'sit', 'stand', 'turn', 'fall', 'give', 'hold', 'squeeze', 'rub', 'wash', 'wipe', 'pull', 'push', 'throw', 'tie', 'sew', 'count', 'say', 'sing', 'play', 'float', 'flow', 'freeze', 'swell', 'sun', 'moon', 'star', 'water', 'rain', 'river', 'lake', 'sea', 'salt', 'stone', 'sand', 'dust', 'earth', 'cloud', 'fog', 'sky', 'wind', 'snow', 'ice', 'smoke', 'fire', 'ashes', 'burn', 'road', 'mountain', 'red', 'green', 'yellow', 'white', 'black', 'night', 'day', 'year', 'warm', 'cold', 'full', 'new', 'old', 'good', 'bad', 'rotten', 'dirty', 'straight', 'round', 'sharp', 'dull', 'smooth', 'wet', 'dry', 'correct', 'near', 'far', 'right', 'left', 'at', 'in', 'with', 'and', 'if', 'because', 'name']\n"
          ]
        }
      ],
      "source": [
        "print(swadesh.words('en'))"
      ]
    },
    {
      "cell_type": "markdown",
      "metadata": {
        "id": "ZT2j-Sn8NsbU"
      },
      "source": [
        "We can access cognate words from multiple languages using the entries() method,<br>\n",
        "specifying a list of languages. With one further step we can convert this into a simple dictionary<br>\n",
        "Let's do this for English and French"
      ]
    },
    {
      "cell_type": "code",
      "execution_count": null,
      "metadata": {
        "colab": {
          "base_uri": "https://localhost:8080/"
        },
        "id": "qGu1XKReNsbV",
        "outputId": "e7163c42-b759-4b87-9cf9-ac9d005cc0d4"
      },
      "outputs": [
        {
          "output_type": "stream",
          "name": "stdout",
          "text": [
            "[('je', 'I'), ('tu, vous', 'you (singular), thou'), ('il', 'he'), ('nous', 'we'), ('vous', 'you (plural)'), ('ils, elles', 'they'), ('ceci', 'this'), ('cela', 'that'), ('ici', 'here'), ('là', 'there'), ('qui', 'who'), ('quoi', 'what'), ('où', 'where'), ('quand', 'when'), ('comment', 'how'), ('ne...pas', 'not'), ('tout', 'all'), ('plusieurs', 'many'), ('quelques', 'some'), ('peu', 'few'), ('autre', 'other'), ('un', 'one'), ('deux', 'two'), ('trois', 'three'), ('quatre', 'four'), ('cinq', 'five'), ('grand', 'big'), ('long', 'long'), ('large', 'wide'), ('épais', 'thick'), ('lourd', 'heavy'), ('petit', 'small'), ('court', 'short'), ('étroit', 'narrow'), ('mince', 'thin'), ('femme', 'woman'), ('homme', 'man (adult male)'), ('homme', 'man (human being)'), ('enfant', 'child'), ('femme, épouse', 'wife'), ('mari, époux', 'husband'), ('mère', 'mother'), ('père', 'father'), ('animal', 'animal'), ('poisson', 'fish'), ('oiseau', 'bird'), ('chien', 'dog'), ('pou', 'louse'), ('serpent', 'snake'), ('ver', 'worm'), ('arbre', 'tree'), ('forêt', 'forest'), ('bâton', 'stick'), ('fruit', 'fruit'), ('graine', 'seed'), ('feuille', 'leaf'), ('racine', 'root'), ('écorce', 'bark (from tree)'), ('fleur', 'flower'), ('herbe', 'grass'), ('corde', 'rope'), ('peau', 'skin'), ('viande', 'meat'), ('sang', 'blood'), ('os', 'bone'), ('graisse', 'fat (noun)'), ('œuf', 'egg'), ('corne', 'horn'), ('queue', 'tail'), ('plume', 'feather'), ('cheveu', 'hair'), ('tête', 'head'), ('oreille', 'ear'), ('œil', 'eye'), ('nez', 'nose'), ('bouche', 'mouth'), ('dent', 'tooth'), ('langue', 'tongue'), ('ongle', 'fingernail'), ('pied', 'foot'), ('jambe', 'leg'), ('genou', 'knee'), ('main', 'hand'), ('aile', 'wing'), ('ventre', 'belly'), ('entrailles', 'guts'), ('cou', 'neck'), ('dos', 'back'), ('sein, poitrine', 'breast'), ('cœur', 'heart'), ('foie', 'liver'), ('boire', 'drink'), ('manger', 'eat'), ('mordre', 'bite'), ('sucer', 'suck'), ('cracher', 'spit'), ('vomir', 'vomit'), ('souffler', 'blow'), ('respirer', 'breathe'), ('rire', 'laugh'), ('voir', 'see'), ('entendre', 'hear'), ('savoir', 'know (a fact)'), ('penser', 'think'), ('sentir', 'smell'), ('craindre, avoir peur', 'fear'), ('dormir', 'sleep'), ('vivre', 'live'), ('mourir', 'die'), ('tuer', 'kill'), ('se battre', 'fight'), ('chasser', 'hunt'), ('frapper', 'hit'), ('couper', 'cut'), ('fendre', 'split'), ('poignarder', 'stab'), ('gratter', 'scratch'), ('creuser', 'dig'), ('nager', 'swim'), ('voler', 'fly (verb)'), ('marcher', 'walk'), ('venir', 'come'), (\"s'étendre\", 'lie'), (\"s'asseoir\", 'sit'), ('se lever', 'stand'), ('tourner', 'turn'), ('tomber', 'fall'), ('donner', 'give'), ('tenir', 'hold'), ('serrer', 'squeeze'), ('frotter', 'rub'), ('laver', 'wash'), ('essuyer', 'wipe'), ('tirer', 'pull'), ('pousser', 'push'), ('jeter', 'throw'), ('lier', 'tie'), ('coudre', 'sew'), ('compter', 'count'), ('dire', 'say'), ('chanter', 'sing'), ('jouer', 'play'), ('flotter', 'float'), ('couler', 'flow'), ('geler', 'freeze'), ('gonfler', 'swell'), ('soleil', 'sun'), ('lune', 'moon'), ('étoile', 'star'), ('eau', 'water'), ('pluie', 'rain'), ('rivière', 'river'), ('lac', 'lake'), ('mer', 'sea'), ('sel', 'salt'), ('pierre', 'stone'), ('sable', 'sand'), ('poussière', 'dust'), ('terre', 'earth'), ('nuage', 'cloud'), ('brouillard', 'fog'), ('ciel', 'sky'), ('vent', 'wind'), ('neige', 'snow'), ('glace', 'ice'), ('fumée', 'smoke'), ('feu', 'fire'), ('cendres', 'ashes'), ('brûler', 'burn'), ('route', 'road'), ('montagne', 'mountain'), ('rouge', 'red'), ('vert', 'green'), ('jaune', 'yellow'), ('blanc', 'white'), ('noir', 'black'), ('nuit', 'night'), ('jour', 'day'), ('an, année', 'year'), ('chaud', 'warm'), ('froid', 'cold'), ('plein', 'full'), ('nouveau', 'new'), ('vieux', 'old'), ('bon', 'good'), ('mauvais', 'bad'), ('pourri', 'rotten'), ('sale', 'dirty'), ('droit', 'straight'), ('rond', 'round'), ('tranchant, pointu, aigu', 'sharp'), ('émoussé', 'dull'), ('lisse', 'smooth'), ('mouillé', 'wet'), ('sec', 'dry'), ('juste, correct', 'correct'), ('proche', 'near'), ('loin', 'far'), ('à droite', 'right'), ('à gauche', 'left'), ('à', 'at'), ('dans', 'in'), ('avec', 'with'), ('et', 'and'), ('si', 'if'), ('parce que', 'because'), ('nom', 'name')]\n"
          ]
        }
      ],
      "source": [
        "fr2en = swadesh.entries(['fr', 'en'])\n",
        "print(fr2en)"
      ]
    },
    {
      "cell_type": "markdown",
      "metadata": {
        "id": "dP4ypG5qNsbV"
      },
      "source": [
        "Let's get our program to translate for us"
      ]
    },
    {
      "cell_type": "code",
      "execution_count": null,
      "metadata": {
        "colab": {
          "base_uri": "https://localhost:8080/"
        },
        "id": "kk_VarEkNsbV",
        "outputId": "b89765de-6d4c-438e-964e-2a1ba9897d29"
      },
      "outputs": [
        {
          "output_type": "stream",
          "name": "stdout",
          "text": [
            "dog\n",
            "throw\n"
          ]
        }
      ],
      "source": [
        "translate = dict(fr2en)\n",
        "print(translate['chien'])\n",
        "print(translate['jeter'])"
      ]
    },
    {
      "cell_type": "markdown",
      "metadata": {
        "id": "aQ824WAENsbV"
      },
      "source": [
        "We can compare words in various Germanic and Romance languages:"
      ]
    },
    {
      "cell_type": "code",
      "execution_count": null,
      "metadata": {
        "colab": {
          "base_uri": "https://localhost:8080/"
        },
        "id": "J0VHhezQNsbV",
        "outputId": "52913b9d-00de-4551-cb68-d5ec1d8c8204"
      },
      "outputs": [
        {
          "output_type": "stream",
          "name": "stdout",
          "text": [
            "('say', 'sagen', 'zeggen', 'decir', 'dire', 'dizer', 'dicere')\n",
            "('sing', 'singen', 'zingen', 'cantar', 'chanter', 'cantar', 'canere')\n",
            "('play', 'spielen', 'spelen', 'jugar', 'jouer', 'jogar, brincar', 'ludere')\n",
            "('float', 'schweben', 'zweven', 'flotar', 'flotter', 'flutuar, boiar', 'fluctuare')\n"
          ]
        }
      ],
      "source": [
        "languages = ['en', 'de', 'nl', 'es', 'fr', 'pt', 'la']\n",
        "for i in [139, 140, 141, 142]:\n",
        "    print(swadesh.entries(languages)[i])"
      ]
    },
    {
      "cell_type": "markdown",
      "metadata": {
        "id": "DtgOwYXiNsbW"
      },
      "source": [
        "EXERCISE 4<br>\n",
        "Look for cognates in Germanic and Romance languages"
      ]
    },
    {
      "cell_type": "code",
      "execution_count": null,
      "metadata": {
        "colab": {
          "base_uri": "https://localhost:8080/"
        },
        "id": "tJFkvHjuNsbW",
        "outputId": "d0f20497-5dc8-41e6-f726-078321879e4a"
      },
      "outputs": [
        {
          "output_type": "stream",
          "name": "stdout",
          "text": [
            "('count', 'zählen', 'tellen', 'contar', 'compter', 'contar', 'numerare')\n",
            "('star', 'Stern', 'ster', 'estrella', 'étoile', 'estrela', 'stella')\n",
            "('swell', 'schwellen', 'zwellen', 'hincharse', 'gonfler', 'inchar, intumescer', 'inflare')\n",
            "('sew', 'nähen', 'naaien', 'coser', 'coudre', 'costurar', 'suere')\n"
          ]
        }
      ],
      "source": [
        "    # To do so, edit the two letter names for the languages\n",
        "    # You can find the language that the two letter code represents by looking\n",
        "    # at the swadesh list text using a text viewing program on your computer\n",
        "    # You can also change the words that you are looking for by changing the\n",
        "    # numbers in the code.\n",
        "    # The text file should have a legend to show word to number correspondence\n",
        "# We can compare words in various Germanic and Romance languages:\n",
        "languages = ['en', 'de', 'nl', 'es', 'fr', 'pt', 'la']\n",
        "for i in [138, 148, 145, 137]:\n",
        "  print(swadesh.entries(languages)[i])"
      ]
    },
    {
      "cell_type": "markdown",
      "metadata": {
        "id": "G1tUaXthNsbW"
      },
      "source": [
        "4.4 Shoebox and Toolbox Lexicons"
      ]
    },
    {
      "cell_type": "markdown",
      "metadata": {
        "id": "GhDyASkmNsbY"
      },
      "source": [
        "5 WordNet<br>\n",
        "WordNet is a semantically-oriented dictionary of English, similar to a traditional thesaurus but<br>\n",
        "with a richer structure. NLTK includes the English WordNet, with 155,287 words and 117,659 synonym sets.<br>\n",
        "We'll begin by looking at synonyms and how they are accessed in WordNet.<br>\n",
        "For more info on WordNet check out: https://wordnet.princeton.edu/"
      ]
    },
    {
      "cell_type": "markdown",
      "metadata": {
        "id": "85pZWW7yNsbZ"
      },
      "source": [
        "5.1 Sense and synonyms"
      ]
    },
    {
      "cell_type": "markdown",
      "metadata": {
        "id": "96ZnPt4XNsbZ"
      },
      "source": [
        "Consider the sentence in (1a). If we replace the word 'motorcar' in (1a) by 'automobile', to get (1b),<br>\n",
        "the meaning of the sentence stays pretty much the same:"
      ]
    },
    {
      "cell_type": "markdown",
      "metadata": {
        "id": "URD_PmP6NsbZ"
      },
      "source": [
        "(1)<br>\n",
        "1a.\t\tBenz is credited with the invention of the motorcar."
      ]
    },
    {
      "cell_type": "markdown",
      "metadata": {
        "id": "dF8GAmBMNsbZ"
      },
      "source": [
        "1b.\t\tBenz is credited with the invention of the automobile."
      ]
    },
    {
      "cell_type": "markdown",
      "metadata": {
        "id": "_vAlcUlnNsbb"
      },
      "source": [
        "Since everything else in the sentence has remained unchanged, we can conclude that the words motorcar<br>\n",
        "and automobile have the same meaning, i.e. they are synonyms. We can explore these words with the help of WordNet:"
      ]
    },
    {
      "cell_type": "markdown",
      "metadata": {
        "id": "BNhu6fnCNsbc"
      },
      "source": [
        "Import wordnet from the NLTK corpus"
      ]
    },
    {
      "cell_type": "code",
      "execution_count": null,
      "metadata": {
        "id": "JyByKUycNsbc"
      },
      "outputs": [],
      "source": [
        "from nltk.corpus import wordnet as wn"
      ]
    },
    {
      "cell_type": "markdown",
      "metadata": {
        "id": "q51dfI1_Nsbc"
      },
      "source": [
        "Print the set of synonyms of a word"
      ]
    },
    {
      "cell_type": "code",
      "execution_count": null,
      "metadata": {
        "colab": {
          "base_uri": "https://localhost:8080/"
        },
        "id": "_1RwQXqoNsbd",
        "outputId": "b28a8bef-7dab-431a-cf4a-35ce01a23696"
      },
      "outputs": [
        {
          "output_type": "stream",
          "name": "stdout",
          "text": [
            "[Synset('car.n.01')]\n"
          ]
        }
      ],
      "source": [
        "print(wn.synsets('motorcar'))"
      ]
    },
    {
      "cell_type": "markdown",
      "metadata": {
        "id": "F1kjKyhxNsbd"
      },
      "source": [
        "Thus, motorcar has just one possible meaning and it is identified as car.n.01, the first noun sense of car.<br>\n",
        "The entity car.n.01 is called a synset, or \"synonym set\", a collection of synonymous words (or \"lemmas\"):"
      ]
    },
    {
      "cell_type": "markdown",
      "metadata": {
        "id": "9roJFc2JNsbf"
      },
      "source": [
        "Although definitions help humans to understand the intended meaning of a synset,<br>\n",
        "the words of the synset are often more useful for our programs. To eliminate<br>\n",
        "ambiguity, we will identify these words as car.n.01.automobile, car.n.01.motorcar,<br>\n",
        "and so on. This pairing of a synset with a word is called a lemma."
      ]
    },
    {
      "cell_type": "markdown",
      "metadata": {
        "id": "pRaGav90Nsbf"
      },
      "source": [
        "Let's get the set of words or lemmas that are associated with 'car.n.01'"
      ]
    },
    {
      "cell_type": "code",
      "execution_count": null,
      "metadata": {
        "colab": {
          "base_uri": "https://localhost:8080/"
        },
        "id": "pz_jtoxsNsbg",
        "outputId": "79778f03-1aba-48bc-ea17-b95f7e9c3d47"
      },
      "outputs": [
        {
          "output_type": "stream",
          "name": "stdout",
          "text": [
            "['car', 'auto', 'automobile', 'machine', 'motorcar']\n"
          ]
        }
      ],
      "source": [
        "print(wn.synset('car.n.01').lemma_names())"
      ]
    },
    {
      "cell_type": "markdown",
      "metadata": {
        "id": "94LNHfHlNsbg"
      },
      "source": [
        "Each word of a synset can have several meanings, e.g., car can also signify a train carriage, a gondola,<br>\n",
        "or an elevator car. However, we are only interested in the single meaning that is common to all words of<br>\n",
        "the above synset. Synsets also come with a prose definition and some example sentences:"
      ]
    },
    {
      "cell_type": "markdown",
      "metadata": {
        "id": "wk8WuQG3Nsbg"
      },
      "source": [
        "Print the definition of a word meaning"
      ]
    },
    {
      "cell_type": "code",
      "execution_count": null,
      "metadata": {
        "colab": {
          "base_uri": "https://localhost:8080/"
        },
        "id": "sM4DcfaDNsbh",
        "outputId": "918a17e3-2992-4f25-cf3c-c325cf085978"
      },
      "outputs": [
        {
          "output_type": "stream",
          "name": "stdout",
          "text": [
            "a motor vehicle with four wheels; usually propelled by an internal combustion engine\n"
          ]
        }
      ],
      "source": [
        "print(wn.synset('car.n.01').definition())"
      ]
    },
    {
      "cell_type": "markdown",
      "metadata": {
        "id": "FOwTbAFbNsbj"
      },
      "source": [
        "Print example sentences of the word meaning"
      ]
    },
    {
      "cell_type": "code",
      "execution_count": null,
      "metadata": {
        "colab": {
          "base_uri": "https://localhost:8080/"
        },
        "id": "ZF-gZUu3Nsbk",
        "outputId": "3d375814-d5cf-4a57-c664-be3f37f4b9f1"
      },
      "outputs": [
        {
          "output_type": "stream",
          "name": "stdout",
          "text": [
            "['he needs a car to get to work']\n"
          ]
        }
      ],
      "source": [
        "print(wn.synset('car.n.01').examples())"
      ]
    },
    {
      "cell_type": "markdown",
      "metadata": {
        "id": "aJlvNkuqNsbn"
      },
      "source": [
        "5.2 The WordNet Hierarchy"
      ]
    },
    {
      "cell_type": "markdown",
      "metadata": {
        "id": "p9ik_26pNsbq"
      },
      "source": [
        "Let's look at the semantic relations of hyponyms and hypernyms<br>\n",
        "For example, given a concept like 'motorcar', we can look at the concepts that are more specific;<br>\n",
        "the (immediate) hyponyms."
      ]
    },
    {
      "cell_type": "code",
      "execution_count": null,
      "metadata": {
        "colab": {
          "base_uri": "https://localhost:8080/"
        },
        "id": "xUHboBFPNsbr",
        "outputId": "9b66a3f1-ab15-4ce4-85ac-4b1d18b96e11"
      },
      "outputs": [
        {
          "output_type": "stream",
          "name": "stdout",
          "text": [
            "Synset('ambulance.n.01')\n"
          ]
        }
      ],
      "source": [
        "motorcar = wn.synset('car.n.01')\n",
        "types_of_motorcar = motorcar.hyponyms()\n",
        "# Print the first motorcar in the list. Computers start counting at 0 instead of 1.\n",
        "print(types_of_motorcar[0])"
      ]
    },
    {
      "cell_type": "markdown",
      "metadata": {
        "id": "12hAZAJ5Nsbs"
      },
      "source": [
        "Let's get the set of hyponyms for the word 'motorcar'"
      ]
    },
    {
      "cell_type": "code",
      "execution_count": null,
      "metadata": {
        "colab": {
          "base_uri": "https://localhost:8080/"
        },
        "id": "beVFV3w8Nsb0",
        "outputId": "736c9ffa-1837-44f1-a6f9-cff6dbcfd4e2"
      },
      "outputs": [
        {
          "output_type": "stream",
          "name": "stdout",
          "text": [
            "['Model_T', 'S.U.V.', 'SUV', 'Stanley_Steamer', 'ambulance', 'beach_waggon', 'beach_wagon', 'bus', 'cab', 'compact', 'compact_car', 'convertible', 'coupe', 'cruiser', 'electric', 'electric_automobile', 'electric_car', 'estate_car', 'gas_guzzler', 'hack', 'hardtop', 'hatchback', 'heap', 'horseless_carriage', 'hot-rod', 'hot_rod', 'jalopy', 'jeep', 'landrover', 'limo', 'limousine', 'loaner', 'minicar', 'minivan', 'pace_car', 'patrol_car', 'phaeton', 'police_car', 'police_cruiser', 'prowl_car', 'race_car', 'racer', 'racing_car', 'roadster', 'runabout', 'saloon', 'secondhand_car', 'sedan', 'sport_car', 'sport_utility', 'sport_utility_vehicle', 'sports_car', 'squad_car', 'station_waggon', 'station_wagon', 'stock_car', 'subcompact', 'subcompact_car', 'taxi', 'taxicab', 'tourer', 'touring_car', 'two-seater', 'used-car', 'waggon', 'wagon']\n"
          ]
        }
      ],
      "source": [
        "print(sorted(lemma.name() for synset in types_of_motorcar for lemma in synset.lemmas()))"
      ]
    },
    {
      "cell_type": "markdown",
      "metadata": {
        "id": "fEELmGktNsb1"
      },
      "source": [
        "EXERCISE 5"
      ]
    },
    {
      "cell_type": "code",
      "execution_count": null,
      "metadata": {
        "colab": {
          "base_uri": "https://localhost:8080/"
        },
        "id": "nlUMmEBuNsb2",
        "outputId": "d95d14cb-0802-4353-898f-c3d1c9e0782e"
      },
      "outputs": [
        {
          "output_type": "stream",
          "name": "stdout",
          "text": [
            "['Federal_Reserve_Board', 'advisory_board', 'appeal_board', 'appeals_board', 'board_of_appeals', 'board_of_directors', 'board_of_education', 'board_of_selectmen', 'directorate', 'draft_board', 'governing_board', 'planning_board', 'school_board', 'zoning_board']\n"
          ]
        }
      ],
      "source": [
        "board = wn.synset('board.n.01')\n",
        "typeBoard = board.hyponyms()\n",
        "print(sorted(lemma.name() for synset in typeBoard for lemma in synset.lemmas()))"
      ]
    },
    {
      "cell_type": "markdown",
      "metadata": {
        "id": "u2owNi-KNsb3"
      },
      "source": [
        "Here I look up the hyponyms for the word 'bike' but you can input your own word<br>\n",
        "Let's first get a list of the synonyms to the word 'bike'<br>\n",
        "This will help us so we select the meaning of 'bike' that we want. I want bicycle"
      ]
    },
    {
      "cell_type": "code",
      "execution_count": null,
      "metadata": {
        "colab": {
          "base_uri": "https://localhost:8080/"
        },
        "id": "yfspn5gtNsb4",
        "outputId": "c0b8e863-29fa-47e5-9dc2-b7d8698b1cf3"
      },
      "outputs": [
        {
          "output_type": "stream",
          "name": "stdout",
          "text": [
            "[Synset('motorcycle.n.01'), Synset('bicycle.n.01'), Synset('bicycle.v.01')]\n"
          ]
        }
      ],
      "source": [
        "print(wn.synsets('bike'))"
      ]
    },
    {
      "cell_type": "markdown",
      "metadata": {
        "id": "F9qCLmVjNsb4"
      },
      "source": [
        "Now let's get Python to print the list of lemmas associated with 'bike'"
      ]
    },
    {
      "cell_type": "code",
      "execution_count": null,
      "metadata": {
        "colab": {
          "base_uri": "https://localhost:8080/"
        },
        "id": "fbaAGpCuNsb5",
        "outputId": "b056bb22-1ca0-4648-89ed-31ff3fec2f1e"
      },
      "outputs": [
        {
          "output_type": "stream",
          "name": "stdout",
          "text": [
            "['motorcycle', 'bike']\n",
            "['bicycle', 'bike', 'wheel', 'cycle']\n",
            "['bicycle', 'cycle', 'bike', 'pedal', 'wheel']\n"
          ]
        }
      ],
      "source": [
        "for synset in wn.synsets('bike'):\n",
        "    print(synset.lemma_names())"
      ]
    },
    {
      "cell_type": "markdown",
      "metadata": {
        "id": "7PFw8917Nsb6"
      },
      "source": [
        "By printing the synsets to 'bike' and the lemma names for each synset, we should<br>\n",
        "be able to select the meaning that we want<br>\n",
        "We then take that meaning and create two objects like we did before with motorcar"
      ]
    },
    {
      "cell_type": "code",
      "execution_count": null,
      "metadata": {
        "id": "x9eRlDNaNsb7"
      },
      "outputs": [],
      "source": [
        "bike = wn.synset('bicycle.n.01')\n",
        "types_of_bikes = bike.hyponyms()"
      ]
    },
    {
      "cell_type": "markdown",
      "metadata": {
        "id": "e_jYPofJNsb7"
      },
      "source": [
        "Let's get the set of hyponyms for the word 'bike'<br>\n",
        "This is the output that we want"
      ]
    },
    {
      "cell_type": "code",
      "execution_count": null,
      "metadata": {
        "colab": {
          "base_uri": "https://localhost:8080/"
        },
        "id": "XbERAks-Nsb8",
        "outputId": "35776697-777a-4367-bb0e-6b5d188e100e"
      },
      "outputs": [
        {
          "output_type": "stream",
          "name": "stdout",
          "text": [
            "['all-terrain_bike', 'bicycle-built-for-two', 'mountain_bike', 'off-roader', 'ordinary', 'ordinary_bicycle', 'push-bike', 'safety_bicycle', 'safety_bike', 'tandem', 'tandem_bicycle', 'velocipede']\n"
          ]
        }
      ],
      "source": [
        "print(sorted(lemma.name() for synset in types_of_bikes for lemma in synset.lemmas()))"
      ]
    },
    {
      "cell_type": "markdown",
      "metadata": {
        "id": "lS_080oMNsb8"
      },
      "source": [
        "Hypernyms<br>\n",
        "We can also navigate up the hierarchy by visiting hypernyms. Some words have multiple paths, because they<br>\n",
        "can be classified in more than one way. There are two paths between car.n.01 and entity.n.01 because<br>\n",
        "wheeled_vehicle.n.01 can be classified as both a vehicle and a container."
      ]
    },
    {
      "cell_type": "code",
      "execution_count": null,
      "metadata": {
        "colab": {
          "base_uri": "https://localhost:8080/"
        },
        "id": "yzYtcZxpNsb9",
        "outputId": "d54c3c51-f315-4e54-8c58-fa2a1ddf9d6e"
      },
      "outputs": [
        {
          "output_type": "stream",
          "name": "stdout",
          "text": [
            "[Synset('motor_vehicle.n.01')]\n"
          ]
        }
      ],
      "source": [
        "print(motorcar.hypernyms())"
      ]
    },
    {
      "cell_type": "markdown",
      "metadata": {
        "id": "DmiUvwRgNsb9"
      },
      "source": [
        "Find out how many paths a word has"
      ]
    },
    {
      "cell_type": "code",
      "execution_count": null,
      "metadata": {
        "colab": {
          "base_uri": "https://localhost:8080/"
        },
        "id": "euiyDlQ4Nsb-",
        "outputId": "e1543360-b855-4a3e-8838-ecf45c44db8a"
      },
      "outputs": [
        {
          "output_type": "stream",
          "name": "stdout",
          "text": [
            "2\n"
          ]
        }
      ],
      "source": [
        "paths = motorcar.hypernym_paths()\n",
        "print(len(paths))"
      ]
    },
    {
      "cell_type": "markdown",
      "metadata": {
        "id": "44nZNqdCNsb-"
      },
      "source": [
        "Let's get the hypernyms for path 0 between car.n.01 and entity.n.01"
      ]
    },
    {
      "cell_type": "code",
      "execution_count": null,
      "metadata": {
        "colab": {
          "base_uri": "https://localhost:8080/"
        },
        "id": "Doykd5yJNsb_",
        "outputId": "5def1315-1b78-472f-ca52-b6cf1b4ff1b5"
      },
      "outputs": [
        {
          "output_type": "stream",
          "name": "stdout",
          "text": [
            "['entity.n.01', 'physical_entity.n.01', 'object.n.01', 'whole.n.02', 'artifact.n.01', 'instrumentality.n.03', 'container.n.01', 'wheeled_vehicle.n.01', 'self-propelled_vehicle.n.01', 'motor_vehicle.n.01', 'car.n.01']\n"
          ]
        }
      ],
      "source": [
        "print([synset.name() for synset in paths[0]])"
      ]
    },
    {
      "cell_type": "markdown",
      "metadata": {
        "id": "ChlLJ3uONsb_"
      },
      "source": [
        "And now let's get the hypernyms for path 1 between car.n.01 and entity.n.01"
      ]
    },
    {
      "cell_type": "code",
      "execution_count": null,
      "metadata": {
        "colab": {
          "base_uri": "https://localhost:8080/"
        },
        "id": "NP0tltIqNscA",
        "outputId": "bd9edf91-3cde-471d-c25f-5492db75c072"
      },
      "outputs": [
        {
          "output_type": "stream",
          "name": "stdout",
          "text": [
            "['entity.n.01', 'physical_entity.n.01', 'object.n.01', 'whole.n.02', 'artifact.n.01', 'instrumentality.n.03', 'conveyance.n.03', 'vehicle.n.01', 'wheeled_vehicle.n.01', 'self-propelled_vehicle.n.01', 'motor_vehicle.n.01', 'car.n.01']\n"
          ]
        }
      ],
      "source": [
        "print([synset.name() for synset in paths[1]])"
      ]
    },
    {
      "cell_type": "markdown",
      "metadata": {
        "id": "YcyMTZT3NscA"
      },
      "source": [
        "You can get the most general hypernyms (or root hypernyms) of a synset as follows"
      ]
    },
    {
      "cell_type": "code",
      "execution_count": null,
      "metadata": {
        "colab": {
          "base_uri": "https://localhost:8080/"
        },
        "id": "_BmzZ4dUNscB",
        "outputId": "eb9b3f24-0acd-4f1f-de86-3e12eeff1647"
      },
      "outputs": [
        {
          "output_type": "stream",
          "name": "stdout",
          "text": [
            "[Synset('entity.n.01')]\n"
          ]
        }
      ],
      "source": [
        "print(motorcar.root_hypernyms())"
      ]
    },
    {
      "cell_type": "markdown",
      "metadata": {
        "id": "27fQ2-29NscC"
      },
      "source": [
        "EXERCISE 6"
      ]
    },
    {
      "cell_type": "code",
      "execution_count": null,
      "metadata": {
        "colab": {
          "base_uri": "https://localhost:8080/"
        },
        "id": "dCDzaa-JNscC",
        "outputId": "19a00af3-5aa6-4510-c229-570f67fd89a6"
      },
      "outputs": [
        {
          "output_type": "stream",
          "name": "stdout",
          "text": [
            "1\n",
            "['entity.n.01', 'abstraction.n.06', 'group.n.01', 'social_group.n.01', 'organization.n.01', 'unit.n.03', 'administrative_unit.n.01', 'committee.n.01', 'board.n.01']\n",
            "[Synset('entity.n.01')]\n"
          ]
        }
      ],
      "source": [
        "paths = board.hypernym_paths()\n",
        "print(len(paths))\n",
        "print([synset.name() for synset in paths[0]])\n",
        "print(board.root_hypernyms())"
      ]
    },
    {
      "cell_type": "code",
      "execution_count": null,
      "metadata": {
        "colab": {
          "base_uri": "https://localhost:8080/"
        },
        "id": "j8EsVFszNscC",
        "outputId": "40368546-cafc-4022-c998-9988134b3d12"
      },
      "outputs": [
        {
          "output_type": "stream",
          "name": "stdout",
          "text": [
            "[Synset('wheeled_vehicle.n.01')]\n"
          ]
        }
      ],
      "source": [
        "print(bike.hypernyms())"
      ]
    },
    {
      "cell_type": "markdown",
      "metadata": {
        "id": "za_MuuYzNscD"
      },
      "source": [
        "Find out how many paths your word has"
      ]
    },
    {
      "cell_type": "code",
      "execution_count": null,
      "metadata": {
        "colab": {
          "base_uri": "https://localhost:8080/"
        },
        "id": "ZcA_CPVNNscD",
        "outputId": "e4e0285d-0a02-4bc0-aab9-f4857eea7722"
      },
      "outputs": [
        {
          "output_type": "stream",
          "name": "stdout",
          "text": [
            "2\n",
            "['entity.n.01', 'physical_entity.n.01', 'object.n.01', 'whole.n.02', 'artifact.n.01', 'instrumentality.n.03', 'container.n.01', 'wheeled_vehicle.n.01', 'bicycle.n.01']\n"
          ]
        }
      ],
      "source": [
        "paths = bike.hypernym_paths()\n",
        "print(len(paths))\n",
        "# Let's get the hypernyms for path 0 between bicycle.n.01 and entity.n.01\n",
        "print([synset.name() for synset in paths[0]])"
      ]
    },
    {
      "cell_type": "markdown",
      "metadata": {
        "id": "XeEya_DZNscD"
      },
      "source": [
        "Let's get the hypernyms for path 1 between bicycle.n.01 and entity.n.01"
      ]
    },
    {
      "cell_type": "code",
      "execution_count": null,
      "metadata": {
        "colab": {
          "base_uri": "https://localhost:8080/"
        },
        "id": "wv0F8weINscD",
        "outputId": "d20d6b2a-f3d4-4949-b5a1-bd8e53ae5036"
      },
      "outputs": [
        {
          "output_type": "stream",
          "name": "stdout",
          "text": [
            "['entity.n.01', 'physical_entity.n.01', 'object.n.01', 'whole.n.02', 'artifact.n.01', 'instrumentality.n.03', 'conveyance.n.03', 'vehicle.n.01', 'wheeled_vehicle.n.01', 'bicycle.n.01']\n"
          ]
        }
      ],
      "source": [
        "print([synset.name() for synset in paths[1]])"
      ]
    },
    {
      "cell_type": "markdown",
      "metadata": {
        "id": "BTSLA3CINscE"
      },
      "source": [
        "Get the most general hypernym"
      ]
    },
    {
      "cell_type": "code",
      "execution_count": null,
      "metadata": {
        "colab": {
          "base_uri": "https://localhost:8080/"
        },
        "id": "RBgmDUHVNscH",
        "outputId": "830d0e3e-983d-4dcf-c5db-c1f3710fad93"
      },
      "outputs": [
        {
          "output_type": "stream",
          "name": "stdout",
          "text": [
            "[Synset('entity.n.01')]\n"
          ]
        }
      ],
      "source": [
        "print(bike.root_hypernyms())"
      ]
    },
    {
      "cell_type": "markdown",
      "metadata": {
        "id": "69U0ByV1NscH"
      },
      "source": [
        "5.3 More Lexical Relations"
      ]
    },
    {
      "cell_type": "markdown",
      "metadata": {
        "id": "QcnzFlEoNscH"
      },
      "source": [
        "Hypernyms and hyponyms are called lexical relations because they relate<br>\n",
        "one synset to another. These two relations navigate up and down the<br>\n",
        "\"is-a\" hierarchy. Another important way to navigate the WordNet network<br>\n",
        "is from items to their components (meronyms) or to the things they are<br>\n",
        "contained in (holonyms). For example, the parts of a tree are its trunk,<br>\n",
        "crown, and so on; the part_meronyms(). The substance a tree is made of<br>\n",
        "includes heartwood and sapwood; the substance_meronyms(). A collection<br>\n",
        "of trees forms a forest; the member_holonyms():"
      ]
    },
    {
      "cell_type": "markdown",
      "metadata": {
        "id": "j2lNUsBJNscI"
      },
      "source": [
        "Let's use WordNet to get examples of meronyms and holonyms<br>\n",
        "First, we'll ask for the synset of the parts of a tree, the parts meronyms"
      ]
    },
    {
      "cell_type": "code",
      "execution_count": null,
      "metadata": {
        "colab": {
          "base_uri": "https://localhost:8080/"
        },
        "id": "7QIa_k0jNscI",
        "outputId": "2e04337b-a4e6-4dd0-b12f-b082bdf069ee"
      },
      "outputs": [
        {
          "output_type": "stream",
          "name": "stdout",
          "text": [
            "[Synset('burl.n.02'), Synset('crown.n.07'), Synset('limb.n.02'), Synset('stump.n.01'), Synset('trunk.n.01')]\n"
          ]
        }
      ],
      "source": [
        "print(wn.synset('tree.n.01').part_meronyms())"
      ]
    },
    {
      "cell_type": "markdown",
      "metadata": {
        "id": "mxtKoB5GNscJ"
      },
      "source": [
        "Now let's get the substances contained in a tree, the substance meronyms"
      ]
    },
    {
      "cell_type": "code",
      "execution_count": null,
      "metadata": {
        "colab": {
          "base_uri": "https://localhost:8080/"
        },
        "id": "mVQzP0huNscJ",
        "outputId": "87a9e6e2-7fca-404d-ae56-0488f70b2199"
      },
      "outputs": [
        {
          "output_type": "stream",
          "name": "stdout",
          "text": [
            "[Synset('heartwood.n.01'), Synset('sapwood.n.01')]\n"
          ]
        }
      ],
      "source": [
        "print(wn.synset('tree.n.01').substance_meronyms())"
      ]
    },
    {
      "cell_type": "markdown",
      "metadata": {
        "id": "Nuz6nGfANscJ"
      },
      "source": [
        "And finally let's get the semantic groups that 'tree' is a member of"
      ]
    },
    {
      "cell_type": "code",
      "execution_count": null,
      "metadata": {
        "colab": {
          "base_uri": "https://localhost:8080/"
        },
        "id": "ygW-N_u8NscK",
        "outputId": "f805d250-9b8e-4009-e2f5-df8cd7c6fddc"
      },
      "outputs": [
        {
          "output_type": "stream",
          "name": "stdout",
          "text": [
            "[Synset('forest.n.01')]\n"
          ]
        }
      ],
      "source": [
        "print(wn.synset('tree.n.01').member_holonyms())"
      ]
    },
    {
      "cell_type": "markdown",
      "metadata": {
        "id": "ORSzFgYsNscK"
      },
      "source": [
        "To see just how intricate things can get, consider the word mint,<br>\n",
        "which has several closely-related senses. We can see that mint.n.04 is<br>\n",
        "part of mint.n.02 and the substance from which mint.n.05 is made."
      ]
    },
    {
      "cell_type": "code",
      "execution_count": null,
      "metadata": {
        "colab": {
          "base_uri": "https://localhost:8080/"
        },
        "id": "sWv8sbHtNscK",
        "outputId": "476aabb7-58f5-482e-9b22-f6cd48878b0d"
      },
      "outputs": [
        {
          "output_type": "stream",
          "name": "stdout",
          "text": [
            "batch.n.02: (often followed by `of') a large number or amount or extent\n",
            "mint.n.02: any north temperate plant of the genus Mentha with aromatic leaves and small mauve flowers\n",
            "mint.n.03: any member of the mint family of plants\n",
            "mint.n.04: the leaves of a mint plant used fresh or candied\n",
            "mint.n.05: a candy that is flavored with a mint oil\n",
            "mint.n.06: a plant where money is coined by authority of the government\n"
          ]
        }
      ],
      "source": [
        "for synset in wn.synsets('mint', wn.NOUN):\n",
        "    print(synset.name() + ':', synset.definition())"
      ]
    },
    {
      "cell_type": "markdown",
      "metadata": {
        "id": "TXAhC0pwNscL"
      },
      "source": [
        "There are also relationships between verbs. For example, the act of walking<br>\n",
        "involves the act of stepping, so walking entails stepping. Some verbs<br>\n",
        "have multiple entailments:"
      ]
    },
    {
      "cell_type": "markdown",
      "metadata": {
        "id": "oyr6BLZANscL"
      },
      "source": [
        "Let's look at a few entailments. If this term sounds familiar, we find it<br>\n",
        "in pragmatics and semantics"
      ]
    },
    {
      "cell_type": "markdown",
      "metadata": {
        "id": "xTTQCkWfNscL"
      },
      "source": [
        "Ask for the entailments of the verb 'walk'"
      ]
    },
    {
      "cell_type": "code",
      "execution_count": null,
      "metadata": {
        "colab": {
          "base_uri": "https://localhost:8080/"
        },
        "id": "If4WPIICNscL",
        "outputId": "516b5589-66ab-4118-af4f-f3ca885891ef"
      },
      "outputs": [
        {
          "output_type": "stream",
          "name": "stdout",
          "text": [
            "[Synset('step.v.01')]\n"
          ]
        }
      ],
      "source": [
        "print(wn.synset('walk.v.01').entailments())"
      ]
    },
    {
      "cell_type": "markdown",
      "metadata": {
        "id": "1nzW_AoANscM"
      },
      "source": [
        "Ask for the entailments of the verb 'eat'"
      ]
    },
    {
      "cell_type": "code",
      "execution_count": null,
      "metadata": {
        "colab": {
          "base_uri": "https://localhost:8080/"
        },
        "id": "GAPoykDPNscM",
        "outputId": "c92efc16-2a6e-49c4-8252-f0a71b44b515"
      },
      "outputs": [
        {
          "output_type": "execute_result",
          "data": {
            "text/plain": [
              "[Synset('chew.v.01'), Synset('swallow.v.01')]"
            ]
          },
          "metadata": {},
          "execution_count": 171
        }
      ],
      "source": [
        "wn.synset('eat.v.01').entailments()"
      ]
    },
    {
      "cell_type": "markdown",
      "metadata": {
        "id": "-9r1TpqvNscM"
      },
      "source": [
        "Ask for the entailments of the verb 'tease'"
      ]
    },
    {
      "cell_type": "code",
      "execution_count": null,
      "metadata": {
        "colab": {
          "base_uri": "https://localhost:8080/"
        },
        "id": "6TMwTnUvNscM",
        "outputId": "fa91a7ef-0ed9-4060-f353-74a1f6a57d91"
      },
      "outputs": [
        {
          "output_type": "execute_result",
          "data": {
            "text/plain": [
              "[Synset('arouse.v.07'), Synset('disappoint.v.01')]"
            ]
          },
          "metadata": {},
          "execution_count": 172
        }
      ],
      "source": [
        "wn.synset('tease.v.03').entailments()"
      ]
    },
    {
      "cell_type": "markdown",
      "metadata": {
        "id": "4c70mt7WNscM"
      },
      "source": [
        "Some lexical relationships hold between lemmas, e.g., antonymy:"
      ]
    },
    {
      "cell_type": "markdown",
      "metadata": {
        "id": "Q6Kupr2oNscN"
      },
      "source": [
        "This function let's us look for the antonyms of a word"
      ]
    },
    {
      "cell_type": "markdown",
      "metadata": {
        "id": "0HIkdcWhNscN"
      },
      "source": [
        "Look for antonyms for the word 'supply'"
      ]
    },
    {
      "cell_type": "code",
      "execution_count": null,
      "metadata": {
        "colab": {
          "base_uri": "https://localhost:8080/"
        },
        "id": "hHyMylAjNscN",
        "outputId": "bf26d0be-6151-4473-c6f0-885030395438"
      },
      "outputs": [
        {
          "output_type": "execute_result",
          "data": {
            "text/plain": [
              "[Lemma('demand.n.02.demand')]"
            ]
          },
          "metadata": {},
          "execution_count": 173
        }
      ],
      "source": [
        "wn.lemma('supply.n.02.supply').antonyms()"
      ]
    },
    {
      "cell_type": "markdown",
      "metadata": {
        "id": "AoR2h_w3NscN"
      },
      "source": [
        "Look for antonyms for the word 'rush'"
      ]
    },
    {
      "cell_type": "code",
      "execution_count": null,
      "metadata": {
        "colab": {
          "base_uri": "https://localhost:8080/"
        },
        "id": "4Ul9QJ-3NscN",
        "outputId": "7b28fd45-03bb-48d5-a448-38eb210f0fd3"
      },
      "outputs": [
        {
          "output_type": "execute_result",
          "data": {
            "text/plain": [
              "[Lemma('linger.v.04.linger')]"
            ]
          },
          "metadata": {},
          "execution_count": 174
        }
      ],
      "source": [
        "wn.lemma('rush.v.01.rush').antonyms()"
      ]
    },
    {
      "cell_type": "markdown",
      "metadata": {
        "id": "JHZtCQesNscN"
      },
      "source": [
        "5.4 Semantic similarity<br>\n",
        "This is cool as hell<br>\n",
        "We can calculate the semantic similarity between words"
      ]
    },
    {
      "cell_type": "markdown",
      "metadata": {
        "id": "00yjO32LNscN"
      },
      "source": [
        "Recall that each synset has one or more hypernym paths that link it<br>\n",
        "to a root hypernym such as entity.n.01. Two synsets linked to the same<br>\n",
        "root may have several hypernyms in common (cf 5.1). If two synsets share<br>\n",
        "a very specific hypernym — one that is low down in the hypernym<br>\n",
        "hierarchy — they must be closely related."
      ]
    },
    {
      "cell_type": "markdown",
      "metadata": {
        "id": "aP1rQazHNscO"
      },
      "source": [
        "Let's compare different words<br>\n",
        "First we need to create objects so that Python can compare them"
      ]
    },
    {
      "cell_type": "code",
      "execution_count": null,
      "metadata": {
        "id": "ZUvafyy3NscO"
      },
      "outputs": [],
      "source": [
        "right = wn.synset('right_whale.n.01')\n",
        "orca = wn.synset('orca.n.01')\n",
        "minke = wn.synset('minke_whale.n.01')\n",
        "tortoise = wn.synset('tortoise.n.01')\n",
        "novel = wn.synset('novel.n.01')"
      ]
    },
    {
      "cell_type": "markdown",
      "metadata": {
        "id": "ao_JRExMNscO"
      },
      "source": [
        "Now we can ask Python to give us the lowest hypernym for a set of words.<br>\n",
        "This will give us the most general semantic connection that these two words have."
      ]
    },
    {
      "cell_type": "markdown",
      "metadata": {
        "id": "TPXaZLpvNscO"
      },
      "source": [
        "What is the lowest hypernym that connects a 'right whale' to a 'minke whale'?"
      ]
    },
    {
      "cell_type": "code",
      "execution_count": null,
      "metadata": {
        "colab": {
          "base_uri": "https://localhost:8080/"
        },
        "id": "ymJ86J5xNscO",
        "outputId": "1732c98f-581d-4ade-f42f-6d9e70f02a0d"
      },
      "outputs": [
        {
          "output_type": "stream",
          "name": "stdout",
          "text": [
            "[Synset('baleen_whale.n.01')]\n"
          ]
        }
      ],
      "source": [
        "print(right.lowest_common_hypernyms(minke))"
      ]
    },
    {
      "cell_type": "markdown",
      "metadata": {
        "id": "L3MW2lsTNscP"
      },
      "source": [
        "What is the lowest hypernym that connects a 'right whale' to an 'orca'?"
      ]
    },
    {
      "cell_type": "code",
      "execution_count": null,
      "metadata": {
        "colab": {
          "base_uri": "https://localhost:8080/"
        },
        "id": "WsH_srbwNscP",
        "outputId": "881e6e71-e4b6-4f49-ed60-432fca35821f"
      },
      "outputs": [
        {
          "output_type": "stream",
          "name": "stdout",
          "text": [
            "[Synset('whale.n.02')]\n"
          ]
        }
      ],
      "source": [
        "print(right.lowest_common_hypernyms(orca))"
      ]
    },
    {
      "cell_type": "markdown",
      "metadata": {
        "id": "ON_oOn-gNscP"
      },
      "source": [
        "What is the lowest hypernym that connects a 'right whale' to a 'tortoise'?"
      ]
    },
    {
      "cell_type": "code",
      "execution_count": null,
      "metadata": {
        "colab": {
          "base_uri": "https://localhost:8080/"
        },
        "id": "_K_dFeK5NscP",
        "outputId": "0c678edd-9262-44aa-b4f4-9a9b96467ec1"
      },
      "outputs": [
        {
          "output_type": "stream",
          "name": "stdout",
          "text": [
            "[Synset('vertebrate.n.01')]\n"
          ]
        }
      ],
      "source": [
        "print(right.lowest_common_hypernyms(tortoise))"
      ]
    },
    {
      "cell_type": "markdown",
      "metadata": {
        "id": "qscK-LuyNscP"
      },
      "source": [
        "What is the lowest hypernym that connects a 'right whale' to a 'tortoise'?"
      ]
    },
    {
      "cell_type": "code",
      "execution_count": null,
      "metadata": {
        "colab": {
          "base_uri": "https://localhost:8080/"
        },
        "id": "DyqqSiBLNscP",
        "outputId": "7ccdf691-1b95-48cc-cdce-bc84a4f8bc65"
      },
      "outputs": [
        {
          "output_type": "stream",
          "name": "stdout",
          "text": [
            "[Synset('entity.n.01')]\n"
          ]
        }
      ],
      "source": [
        "print(right.lowest_common_hypernyms(novel))"
      ]
    },
    {
      "cell_type": "markdown",
      "metadata": {
        "id": "0N-1I0seNscP"
      },
      "source": [
        "Of course we know that whale is very specific (and baleen whale even more so),<br>\n",
        "while vertebrate is more general and entity is completely general."
      ]
    },
    {
      "cell_type": "markdown",
      "metadata": {
        "id": "O0dd5D6xNscQ"
      },
      "source": [
        "We can quantify this concept of generality by looking up the depth of each synset:"
      ]
    },
    {
      "cell_type": "code",
      "execution_count": null,
      "metadata": {
        "colab": {
          "base_uri": "https://localhost:8080/"
        },
        "id": "IwwL39jTNscQ",
        "outputId": "eea95ef5-90f7-4c9a-e2c1-5f86e3907547"
      },
      "outputs": [
        {
          "output_type": "stream",
          "name": "stdout",
          "text": [
            "14\n"
          ]
        }
      ],
      "source": [
        "print(wn.synset('baleen_whale.n.01').min_depth())"
      ]
    },
    {
      "cell_type": "code",
      "execution_count": null,
      "metadata": {
        "colab": {
          "base_uri": "https://localhost:8080/"
        },
        "id": "xwWAeSEwNscQ",
        "outputId": "32dc17f6-084f-43e9-92ed-fd52d90ffed1"
      },
      "outputs": [
        {
          "output_type": "stream",
          "name": "stdout",
          "text": [
            "13\n"
          ]
        }
      ],
      "source": [
        "print(wn.synset('whale.n.02').min_depth())"
      ]
    },
    {
      "cell_type": "code",
      "execution_count": null,
      "metadata": {
        "colab": {
          "base_uri": "https://localhost:8080/"
        },
        "id": "x8i0eGHqNscQ",
        "outputId": "9de6674e-3160-4f3c-a992-5c87243a90e7"
      },
      "outputs": [
        {
          "output_type": "stream",
          "name": "stdout",
          "text": [
            "8\n"
          ]
        }
      ],
      "source": [
        "print(wn.synset('vertebrate.n.01').min_depth())"
      ]
    },
    {
      "cell_type": "code",
      "execution_count": null,
      "metadata": {
        "colab": {
          "base_uri": "https://localhost:8080/"
        },
        "id": "FPK1NJIjNscR",
        "outputId": "596500be-b2d9-4b30-f667-61181e50cd9a"
      },
      "outputs": [
        {
          "output_type": "stream",
          "name": "stdout",
          "text": [
            "0\n"
          ]
        }
      ],
      "source": [
        "print(wn.synset('entity.n.01').min_depth())"
      ]
    },
    {
      "cell_type": "markdown",
      "metadata": {
        "id": "WYFs_JrCNscR"
      },
      "source": [
        "Similarity measures have been defined over the collection of WordNet synsets<br>\n",
        "which incorporate the above insight. For example, path_similarity assigns<br>\n",
        "a score in the range 0–1 based on the shortest path that connects<br>\n",
        "the concepts in the hypernym hierarchy (-1 is returned in those<br>\n",
        "cases where a path cannot be found). Comparing a synset with itself<br>\n",
        "will return 1."
      ]
    },
    {
      "cell_type": "markdown",
      "metadata": {
        "id": "YGsNXAW2NscR"
      },
      "source": [
        "Consider the following similarity scores, relating right whale to minke whale,<br>\n",
        "orca, tortoise, and novel. Although the numbers won't mean much,<br>\n",
        "they decrease as we move away from the semantic space of sea creatures<br>\n",
        "to inanimate objects."
      ]
    },
    {
      "cell_type": "markdown",
      "metadata": {
        "id": "tLLqw99WNscR"
      },
      "source": [
        "This is how to test for semantic similarity between words"
      ]
    },
    {
      "cell_type": "markdown",
      "metadata": {
        "id": "OM7bjkaQNscS"
      },
      "source": [
        "Here we compare the semantic similarity of 'right whale' to 'minke whale'"
      ]
    },
    {
      "cell_type": "code",
      "execution_count": null,
      "metadata": {
        "colab": {
          "base_uri": "https://localhost:8080/"
        },
        "id": "OVXzorAbNscS",
        "outputId": "15517f46-82c1-47de-8ee8-9ce583660570"
      },
      "outputs": [
        {
          "output_type": "stream",
          "name": "stdout",
          "text": [
            "0.25\n"
          ]
        }
      ],
      "source": [
        "print(right.path_similarity(minke))"
      ]
    },
    {
      "cell_type": "markdown",
      "metadata": {
        "id": "tK90-7pnNscS"
      },
      "source": [
        "Now we compare 'right whale' to 'orca'"
      ]
    },
    {
      "cell_type": "code",
      "execution_count": null,
      "metadata": {
        "colab": {
          "base_uri": "https://localhost:8080/"
        },
        "id": "uNPTmabkNscS",
        "outputId": "f9301a1d-82fa-4d20-abc1-1292a3c5d06f"
      },
      "outputs": [
        {
          "output_type": "stream",
          "name": "stdout",
          "text": [
            "0.16666666666666666\n"
          ]
        }
      ],
      "source": [
        "print(right.path_similarity(orca))"
      ]
    },
    {
      "cell_type": "markdown",
      "metadata": {
        "id": "3LcmIsBxNscS"
      },
      "source": [
        "Now we compare 'right whale' to 'tortoise'"
      ]
    },
    {
      "cell_type": "code",
      "execution_count": null,
      "metadata": {
        "colab": {
          "base_uri": "https://localhost:8080/"
        },
        "id": "ltgiYVjoNscU",
        "outputId": "4684f9cd-2156-4110-ecdd-6c9c3b5636ec"
      },
      "outputs": [
        {
          "output_type": "stream",
          "name": "stdout",
          "text": [
            "0.07692307692307693\n"
          ]
        }
      ],
      "source": [
        "print(right.path_similarity(tortoise))"
      ]
    },
    {
      "cell_type": "markdown",
      "metadata": {
        "id": "bkRK3ZBENscV"
      },
      "source": [
        "Now we compare 'right whale' to 'novel'"
      ]
    },
    {
      "cell_type": "code",
      "execution_count": null,
      "metadata": {
        "colab": {
          "base_uri": "https://localhost:8080/"
        },
        "id": "fF95QwzgNscV",
        "outputId": "dccba73a-ba6f-47b4-c9b8-b9f4ea9ed636"
      },
      "outputs": [
        {
          "output_type": "stream",
          "name": "stdout",
          "text": [
            "0.043478260869565216\n"
          ]
        }
      ],
      "source": [
        "print(right.path_similarity(novel))"
      ]
    },
    {
      "cell_type": "markdown",
      "metadata": {
        "id": "sYurGoj1NscV"
      },
      "source": [
        "EXERCISE 7<br>\n",
        "Compare the similarity between two words<br>\n",
        "Repeat the same process for two more words"
      ]
    },
    {
      "cell_type": "markdown",
      "metadata": {
        "id": "5NmuGG82NscV"
      },
      "source": [
        "I want to know the similarity between 'coffee' and 'tea' so:<br>\n",
        "First I need to create an object for 'coffee' and another object for 'tea'"
      ]
    },
    {
      "cell_type": "code",
      "execution_count": null,
      "metadata": {
        "colab": {
          "base_uri": "https://localhost:8080/"
        },
        "id": "QK2liAa6NscV",
        "outputId": "5d7547b9-8bcb-443c-da4c-bfedf7360288"
      },
      "outputs": [
        {
          "output_type": "stream",
          "name": "stdout",
          "text": [
            "[Synset('tobacco.n.01'), Synset('tobacco.n.02')]\n",
            "['tobacco', 'baccy']\n",
            "['tobacco', 'tobacco_plant']\n"
          ]
        }
      ],
      "source": [
        "print(wn.synsets('tobacco'))\n",
        "for synset in wn.synsets('tobacco'):\n",
        "    print(synset.lemma_names())"
      ]
    },
    {
      "cell_type": "code",
      "source": [
        "print(wn.synsets('marijuana'))\n",
        "for synset in wn.synsets('marijuana'):\n",
        "    print(synset.lemma_names())"
      ],
      "metadata": {
        "colab": {
          "base_uri": "https://localhost:8080/"
        },
        "id": "ZUwwkFMc1Hi9",
        "outputId": "b92b29ad-1a0d-473d-9b14-d8adc4268761"
      },
      "execution_count": null,
      "outputs": [
        {
          "output_type": "stream",
          "name": "stdout",
          "text": [
            "[Synset('hemp.n.01'), Synset('cannabis.n.01'), Synset('hangman's_rope.n.01')]\n",
            "['hemp']\n",
            "['cannabis', 'hemp']\n",
            "[\"hangman's_rope\", \"hangman's_halter\", 'halter', 'hemp', 'hempen_necktie']\n"
          ]
        }
      ]
    },
    {
      "cell_type": "code",
      "source": [
        "marijuana = wn.synset('marijuana.n.01')\n",
        "tobacco = wn.synset('tobacco.n.01')\n",
        "print(marijuana.path_similarity(tobacco))"
      ],
      "metadata": {
        "colab": {
          "base_uri": "https://localhost:8080/"
        },
        "id": "xbBD5r_81ple",
        "outputId": "f2c7a8c1-5982-47d4-9df8-e897484d229a"
      },
      "execution_count": null,
      "outputs": [
        {
          "output_type": "stream",
          "name": "stdout",
          "text": [
            "0.0625\n"
          ]
        }
      ]
    },
    {
      "cell_type": "markdown",
      "metadata": {
        "id": "cD2YG2f1NscV"
      },
      "source": [
        "Let's first get a list of the synonyms to the word 'coffee'<br>\n",
        "This will help us so we select the meaning of 'coffee' that we want."
      ]
    },
    {
      "cell_type": "code",
      "execution_count": null,
      "metadata": {
        "colab": {
          "base_uri": "https://localhost:8080/"
        },
        "id": "6Y2-EfPLNscW",
        "outputId": "6f14c322-b2dc-4037-c13b-8492a7da1037"
      },
      "outputs": [
        {
          "output_type": "stream",
          "name": "stdout",
          "text": [
            "[Synset('coffee.n.01'), Synset('coffee.n.02'), Synset('coffee_bean.n.01'), Synset('chocolate.n.03')]\n"
          ]
        }
      ],
      "source": [
        "print(wn.synsets('coffee'))"
      ]
    },
    {
      "cell_type": "markdown",
      "metadata": {
        "id": "bjii1pdXNscW"
      },
      "source": [
        "Now let's get Python to print the list of lemmas associated with 'coffee'"
      ]
    },
    {
      "cell_type": "code",
      "execution_count": null,
      "metadata": {
        "colab": {
          "base_uri": "https://localhost:8080/"
        },
        "id": "M9ywPIYGNscW",
        "outputId": "b1ac1f55-5021-4fa4-9825-64978a419b61"
      },
      "outputs": [
        {
          "output_type": "stream",
          "name": "stdout",
          "text": [
            "['coffee', 'java']\n",
            "['coffee', 'coffee_tree']\n",
            "['coffee_bean', 'coffee_berry', 'coffee']\n",
            "['chocolate', 'coffee', 'deep_brown', 'umber', 'burnt_umber']\n"
          ]
        }
      ],
      "source": [
        "for synset in wn.synsets('coffee'):\n",
        "    print(synset.lemma_names())"
      ]
    },
    {
      "cell_type": "markdown",
      "metadata": {
        "id": "CTflgw2CNscW"
      },
      "source": [
        "By printing the synsets to 'coffee' and the lemma names for each synset, we should<br>\n",
        "be able to select the meaning that we want<br>\n",
        "We then take the meaning we want and create our 'coffee' object"
      ]
    },
    {
      "cell_type": "code",
      "execution_count": null,
      "metadata": {
        "id": "wQeIB9wLNscW"
      },
      "outputs": [],
      "source": [
        "coffee = wn.synset('coffee.n.01')"
      ]
    },
    {
      "cell_type": "markdown",
      "metadata": {
        "id": "DRXDzUaSNscW"
      },
      "source": [
        "Now we do the same for 'tea'"
      ]
    },
    {
      "cell_type": "code",
      "execution_count": null,
      "metadata": {
        "colab": {
          "base_uri": "https://localhost:8080/"
        },
        "id": "c81aR-UDNscW",
        "outputId": "38ad4bea-22c5-4296-e02c-96209e349a69"
      },
      "outputs": [
        {
          "output_type": "stream",
          "name": "stdout",
          "text": [
            "[Synset('tea.n.01'), Synset('tea.n.02'), Synset('tea.n.03'), Synset('tea.n.04'), Synset('tea.n.05')]\n"
          ]
        }
      ],
      "source": [
        "print(wn.synsets('tea'))"
      ]
    },
    {
      "cell_type": "markdown",
      "metadata": {
        "id": "NXK3cO1_NscX"
      },
      "source": [
        "Now let's get Python to print the list of lemmas associated with 'tea'"
      ]
    },
    {
      "cell_type": "code",
      "execution_count": null,
      "metadata": {
        "colab": {
          "base_uri": "https://localhost:8080/"
        },
        "id": "0wddpTUlNscX",
        "outputId": "7749b810-b6c2-4511-c0ee-9fa7aaefc931"
      },
      "outputs": [
        {
          "output_type": "stream",
          "name": "stdout",
          "text": [
            "['tea']\n",
            "['tea', 'afternoon_tea', 'teatime']\n",
            "['tea', 'Camellia_sinensis']\n",
            "['tea']\n",
            "['tea', 'tea_leaf']\n"
          ]
        }
      ],
      "source": [
        "for synset in wn.synsets('tea'):\n",
        "    print(synset.lemma_names())"
      ]
    },
    {
      "cell_type": "markdown",
      "metadata": {
        "id": "Fl0ZR7jWNscX"
      },
      "source": [
        "We then take the meaning we want and create our 'tea' object"
      ]
    },
    {
      "cell_type": "code",
      "execution_count": null,
      "metadata": {
        "id": "TG0mHix3NscX"
      },
      "outputs": [],
      "source": [
        "tea = wn.synset('tea.n.01')"
      ]
    },
    {
      "cell_type": "markdown",
      "metadata": {
        "id": "Rt0rUwSPNscX"
      },
      "source": [
        "Now we compare 'coffee' to 'tea'"
      ]
    },
    {
      "cell_type": "code",
      "execution_count": null,
      "metadata": {
        "colab": {
          "base_uri": "https://localhost:8080/"
        },
        "id": "07sBIc3BNscX",
        "outputId": "37b7f232-e990-48d9-dacb-44f256681cd5"
      },
      "outputs": [
        {
          "output_type": "stream",
          "name": "stdout",
          "text": [
            "0.3333333333333333\n"
          ]
        }
      ],
      "source": [
        "print(coffee.path_similarity(tea))"
      ]
    },
    {
      "cell_type": "markdown",
      "metadata": {
        "id": "za1gFAdINscX"
      },
      "source": [
        "Let's compare the semantic similarity of 'coffee' to a different word like 'novel'"
      ]
    },
    {
      "cell_type": "code",
      "execution_count": null,
      "metadata": {
        "colab": {
          "base_uri": "https://localhost:8080/"
        },
        "id": "FvurTdQlNscX",
        "outputId": "ceda89ea-ce75-420a-afd3-45fc778428d4"
      },
      "outputs": [
        {
          "output_type": "stream",
          "name": "stdout",
          "text": [
            "0.07142857142857142\n"
          ]
        }
      ],
      "source": [
        "print(coffee.path_similarity(novel))"
      ]
    },
    {
      "cell_type": "markdown",
      "metadata": {
        "id": "caZjIpKGNscY"
      },
      "source": [
        "And let's compare 'coffee' again to 'tortoise'"
      ]
    },
    {
      "cell_type": "code",
      "execution_count": null,
      "metadata": {
        "colab": {
          "base_uri": "https://localhost:8080/"
        },
        "id": "iGJvHdFkNscY",
        "outputId": "cd99bc65-ee60-4cbd-c42d-742adb15c580"
      },
      "outputs": [
        {
          "output_type": "stream",
          "name": "stdout",
          "text": [
            "0.05555555555555555\n"
          ]
        }
      ],
      "source": [
        "print(coffee.path_similarity(tortoise))"
      ]
    },
    {
      "cell_type": "markdown",
      "metadata": {
        "id": "K1mTJSUNNscY"
      },
      "source": [
        "Summary of chapter 2 from Textbook #"
      ]
    },
    {
      "cell_type": "markdown",
      "metadata": {
        "id": "KO70tT7INscY"
      },
      "source": [
        "A text corpus is a large, structured collection of texts.<br>\n",
        "NLTK comes with many corpora, e.g., the Brown Corpus, nltk.corpus.brown.<br>\n",
        "Some text corpora are categorized, e.g., by genre or topic; sometimes<br>\n",
        "the categories of a corpus overlap each other.<br>\n",
        "A conditional frequency distribution is a collection of frequency distributions,<br>\n",
        "each one for a different condition. They can be used for counting word frequencies,<br>\n",
        "given a context or a genre.<br>\n",
        "WordNet is a semantically-oriented dictionary of English, consisting of<br>\n",
        "synonym sets — or synsets — and organized into a network."
      ]
    },
    {
      "cell_type": "markdown",
      "metadata": {
        "id": "vK7paNJUNscY"
      },
      "source": [
        "End of Lab #3"
      ]
    }
  ],
  "metadata": {
    "kernelspec": {
      "display_name": "Python 3",
      "language": "python",
      "name": "python3"
    },
    "language_info": {
      "codemirror_mode": {
        "name": "ipython",
        "version": 3
      },
      "file_extension": ".py",
      "mimetype": "text/x-python",
      "name": "python",
      "nbconvert_exporter": "python",
      "pygments_lexer": "ipython3",
      "version": "3.8.10"
    },
    "colab": {
      "name": "LING_490_Lab_3.ipynb",
      "provenance": [],
      "collapsed_sections": [],
      "include_colab_link": true
    }
  },
  "nbformat": 4,
  "nbformat_minor": 0
}